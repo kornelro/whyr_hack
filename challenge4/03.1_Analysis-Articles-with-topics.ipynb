{
 "cells": [
  {
   "cell_type": "code",
   "execution_count": 1,
   "metadata": {},
   "outputs": [],
   "source": [
    "import warnings\n",
    "warnings.filterwarnings('ignore')\n",
    "\n",
    "import matplotlib.pyplot as plt\n",
    "import pandas as pd\n",
    "import plotly.express as px\n",
    "import plotly.graph_objects as go"
   ]
  },
  {
   "cell_type": "code",
   "execution_count": 2,
   "metadata": {},
   "outputs": [],
   "source": [
    "articles = pd.read_csv('../data/articles.csv')\n",
    "df = pd.read_csv('../data/articles-with-topics.csv')"
   ]
  },
  {
   "cell_type": "code",
   "execution_count": 3,
   "metadata": {},
   "outputs": [],
   "source": [
    "articles['time'] = pd.to_datetime(articles['time'])\n",
    "df['time'] = pd.to_datetime(df['time'])"
   ]
  },
  {
   "cell_type": "code",
   "execution_count": 4,
   "metadata": {},
   "outputs": [
    {
     "data": {
      "text/html": [
       "<div>\n",
       "<style scoped>\n",
       "    .dataframe tbody tr th:only-of-type {\n",
       "        vertical-align: middle;\n",
       "    }\n",
       "\n",
       "    .dataframe tbody tr th {\n",
       "        vertical-align: top;\n",
       "    }\n",
       "\n",
       "    .dataframe thead th {\n",
       "        text-align: right;\n",
       "    }\n",
       "</style>\n",
       "<table border=\"1\" class=\"dataframe\">\n",
       "  <thead>\n",
       "    <tr style=\"text-align: right;\">\n",
       "      <th></th>\n",
       "      <th>by</th>\n",
       "      <th>descendants</th>\n",
       "      <th>id</th>\n",
       "      <th>kids</th>\n",
       "      <th>score</th>\n",
       "      <th>time</th>\n",
       "      <th>title</th>\n",
       "      <th>type</th>\n",
       "      <th>url</th>\n",
       "      <th>topic</th>\n",
       "    </tr>\n",
       "  </thead>\n",
       "  <tbody>\n",
       "    <tr>\n",
       "      <td>0</td>\n",
       "      <td>todsacerdoti</td>\n",
       "      <td>607</td>\n",
       "      <td>24563698</td>\n",
       "      <td>24563821 24563987 24565829 24564488 24563843 2...</td>\n",
       "      <td>711</td>\n",
       "      <td>2020-09-23 08:38:33</td>\n",
       "      <td>Firefox usage is down 85% despite Mozilla's to...</td>\n",
       "      <td>story</td>\n",
       "      <td>http://calpaterson.com/mozilla.html</td>\n",
       "      <td>People words</td>\n",
       "    </tr>\n",
       "    <tr>\n",
       "      <td>1</td>\n",
       "      <td>themodelplumber</td>\n",
       "      <td>126</td>\n",
       "      <td>24562850</td>\n",
       "      <td>24563705 24563838 24563276 24563478 24565992 2...</td>\n",
       "      <td>310</td>\n",
       "      <td>2020-09-23 06:04:45</td>\n",
       "      <td>How to say no, for the people pleaser who alwa...</td>\n",
       "      <td>story</td>\n",
       "      <td>https://www.npr.org/2020/09/15/913207918/how-t...</td>\n",
       "      <td>Linux</td>\n",
       "    </tr>\n",
       "    <tr>\n",
       "      <td>2</td>\n",
       "      <td>luu</td>\n",
       "      <td>27</td>\n",
       "      <td>24553085</td>\n",
       "      <td>24563230 24562887 24562049 24564895 24562235 2...</td>\n",
       "      <td>227</td>\n",
       "      <td>2020-09-22 13:04:22</td>\n",
       "      <td>Small Tech</td>\n",
       "      <td>story</td>\n",
       "      <td>https://scattered-thoughts.net/writing/small-t...</td>\n",
       "      <td>People and ideas</td>\n",
       "    </tr>\n",
       "    <tr>\n",
       "      <td>3</td>\n",
       "      <td>pseudolus</td>\n",
       "      <td>56</td>\n",
       "      <td>24553369</td>\n",
       "      <td>24563122 24565813 24562283 24562375 24563752 2...</td>\n",
       "      <td>94</td>\n",
       "      <td>2020-09-22 13:47:02</td>\n",
       "      <td>You Talkin’ to Me? The Unruly History of New Y...</td>\n",
       "      <td>story</td>\n",
       "      <td>https://literaryreview.co.uk/tawk-of-the-town</td>\n",
       "      <td>Literature, culture, philosophy</td>\n",
       "    </tr>\n",
       "    <tr>\n",
       "      <td>4</td>\n",
       "      <td>jeanyang</td>\n",
       "      <td>24</td>\n",
       "      <td>24561119</td>\n",
       "      <td>24561495 24562538 24565366 24564334 24561573 2...</td>\n",
       "      <td>87</td>\n",
       "      <td>2020-09-23 01:13:58</td>\n",
       "      <td>Catch Breaking Changes by Diffing API Traffic</td>\n",
       "      <td>story</td>\n",
       "      <td>https://www.akitasoftware.com/blog/2020/9/22/f...</td>\n",
       "      <td>People and ideas</td>\n",
       "    </tr>\n",
       "  </tbody>\n",
       "</table>\n",
       "</div>"
      ],
      "text/plain": [
       "                by  descendants        id  \\\n",
       "0     todsacerdoti          607  24563698   \n",
       "1  themodelplumber          126  24562850   \n",
       "2              luu           27  24553085   \n",
       "3        pseudolus           56  24553369   \n",
       "4         jeanyang           24  24561119   \n",
       "\n",
       "                                                kids  score  \\\n",
       "0  24563821 24563987 24565829 24564488 24563843 2...    711   \n",
       "1  24563705 24563838 24563276 24563478 24565992 2...    310   \n",
       "2  24563230 24562887 24562049 24564895 24562235 2...    227   \n",
       "3  24563122 24565813 24562283 24562375 24563752 2...     94   \n",
       "4  24561495 24562538 24565366 24564334 24561573 2...     87   \n",
       "\n",
       "                 time                                              title  \\\n",
       "0 2020-09-23 08:38:33  Firefox usage is down 85% despite Mozilla's to...   \n",
       "1 2020-09-23 06:04:45  How to say no, for the people pleaser who alwa...   \n",
       "2 2020-09-22 13:04:22                                         Small Tech   \n",
       "3 2020-09-22 13:47:02  You Talkin’ to Me? The Unruly History of New Y...   \n",
       "4 2020-09-23 01:13:58      Catch Breaking Changes by Diffing API Traffic   \n",
       "\n",
       "    type                                                url  \\\n",
       "0  story                http://calpaterson.com/mozilla.html   \n",
       "1  story  https://www.npr.org/2020/09/15/913207918/how-t...   \n",
       "2  story  https://scattered-thoughts.net/writing/small-t...   \n",
       "3  story      https://literaryreview.co.uk/tawk-of-the-town   \n",
       "4  story  https://www.akitasoftware.com/blog/2020/9/22/f...   \n",
       "\n",
       "                             topic  \n",
       "0                     People words  \n",
       "1                            Linux  \n",
       "2                 People and ideas  \n",
       "3  Literature, culture, philosophy  \n",
       "4                 People and ideas  "
      ]
     },
     "execution_count": 4,
     "metadata": {},
     "output_type": "execute_result"
    }
   ],
   "source": [
    "df.head()"
   ]
  },
  {
   "cell_type": "markdown",
   "metadata": {},
   "source": [
    "# Number of articles in time"
   ]
  },
  {
   "cell_type": "code",
   "execution_count": 57,
   "metadata": {},
   "outputs": [],
   "source": [
    "plot_data_articles = articles.groupby([pd.Grouper(key = 'time', freq = 'M')])['score'].count().reset_index()\n",
    "plot_data_articles_topic = df.groupby([pd.Grouper(key = 'time', freq = 'M')])['score'].count().reset_index()\n",
    "\n",
    "fig = go.Figure()\n",
    "\n",
    "fig.add_trace(\n",
    "    go.Scatter(\n",
    "        x = plot_data_articles['time'],\n",
    "        y = plot_data_articles['score'],\n",
    "        name = 'Articles'\n",
    "    )\n",
    ")\n",
    "\n",
    "fig.add_trace(\n",
    "    go.Scatter(\n",
    "        x = plot_data_articles_topic['time'],\n",
    "        y = plot_data_articles_topic['score'],\n",
    "        name = 'Articles with content'\n",
    "    )\n",
    ")\n",
    "\n",
    "fig.update_layout(\n",
    "    title = 'Number of articles in time'\n",
    ")\n",
    "\n",
    "fig.write_image('results/plots-articles-with-topics/articles-in-time.png')"
   ]
  },
  {
   "cell_type": "markdown",
   "metadata": {},
   "source": [
    "# Number of articles per topic"
   ]
  },
  {
   "cell_type": "code",
   "execution_count": 56,
   "metadata": {},
   "outputs": [],
   "source": [
    "plot_data = df['topic'].value_counts().reset_index()\n",
    "\n",
    "fig = px.bar(\n",
    "    plot_data,\n",
    "    x = 'index',\n",
    "    y = 'topic',\n",
    "    title = 'Number of articles per topic'\n",
    ")\n",
    "\n",
    "fig.update_layout(\n",
    "    xaxis = {\n",
    "        'title': 'Topic',\n",
    "        'categoryorder': 'total descending'\n",
    "    },\n",
    "    yaxis = {\n",
    "        'title': 'Number of articles'\n",
    "    }\n",
    ")\n",
    "\n",
    "fig.write_image('results/plots-articles-with-topics/article-number-topic.png')"
   ]
  },
  {
   "cell_type": "markdown",
   "metadata": {},
   "source": [
    "# Avg. number of upvotes by topic"
   ]
  },
  {
   "cell_type": "code",
   "execution_count": 37,
   "metadata": {},
   "outputs": [],
   "source": [
    "plot_data = df.groupby(['topic'])['score'].mean().reset_index()\n",
    "\n",
    "fig = px.bar(\n",
    "    plot_data,\n",
    "    x = 'topic',\n",
    "    y = 'score',\n",
    "    title = 'Average number of upvotes by topic'\n",
    ")\n",
    "\n",
    "fig.update_layout(\n",
    "    xaxis = {\n",
    "        'title': 'Topic',\n",
    "        'categoryorder': 'total descending'\n",
    "    },\n",
    "    yaxis = {\n",
    "        'title': 'Average number of upvotes'\n",
    "    }\n",
    ")\n",
    "\n",
    "fig.write_image('results/plots-articles-with-topics/avg-upvotes.png')"
   ]
  },
  {
   "cell_type": "markdown",
   "metadata": {},
   "source": [
    "# Avg. number of comments by topic"
   ]
  },
  {
   "cell_type": "code",
   "execution_count": 38,
   "metadata": {},
   "outputs": [],
   "source": [
    "plot_data = df.groupby(['topic'])['descendants'].mean().reset_index()\n",
    "\n",
    "fig = px.bar(\n",
    "    plot_data,\n",
    "    x = 'topic',\n",
    "    y = 'descendants',\n",
    "    title = 'Average number of comments by topic'\n",
    ")\n",
    "\n",
    "fig.update_layout(\n",
    "    xaxis = {\n",
    "        'title': 'Topic',\n",
    "        'categoryorder': 'total descending'\n",
    "    },\n",
    "    yaxis = {\n",
    "        'title': 'Average number of comments'\n",
    "    }\n",
    ")\n",
    "\n",
    "fig.write_image('results/plots-articles-with-topics/avg-comments.png')"
   ]
  },
  {
   "cell_type": "code",
   "execution_count": 68,
   "metadata": {},
   "outputs": [
    {
     "data": {
      "text/plain": [
       "todsacerdoti    82\n",
       "pseudolus       79\n",
       "luu             57\n",
       "rbanffy         54\n",
       "ingve           49\n",
       "tosh            47\n",
       "bookofjoe       45\n",
       "hhs             43\n",
       "lelf            37\n",
       "dnetesn         34\n",
       "zdw             31\n",
       "prostoalex      31\n",
       "apsec112        27\n",
       "caution         27\n",
       "pcr910303       26\n",
       "polm23          26\n",
       "samizdis        24\n",
       "doener          23\n",
       "Hooke           22\n",
       "fortran77       21\n",
       "Name: by, dtype: int64"
      ]
     },
     "execution_count": 68,
     "metadata": {},
     "output_type": "execute_result"
    }
   ],
   "source": [
    "df['by'].value_counts().head(20)"
   ]
  },
  {
   "cell_type": "code",
   "execution_count": 85,
   "metadata": {},
   "outputs": [
    {
     "data": {
      "text/plain": [
       "1     2619\n",
       "2      338\n",
       "3      117\n",
       "4       52\n",
       "5       25\n",
       "6       19\n",
       "7       18\n",
       "9       10\n",
       "8        9\n",
       "12       5\n",
       "10       5\n",
       "13       4\n",
       "11       4\n",
       "15       1\n",
       "16       1\n",
       "14       1\n",
       "17       1\n",
       "Name: topic, dtype: int64"
      ]
     },
     "execution_count": 85,
     "metadata": {},
     "output_type": "execute_result"
    }
   ],
   "source": [
    "df.groupby(['by'])['topic'].nunique().reset_index()['topic'].value_counts()"
   ]
  },
  {
   "cell_type": "code",
   "execution_count": 86,
   "metadata": {},
   "outputs": [
    {
     "data": {
      "text/html": [
       "<div>\n",
       "<style scoped>\n",
       "    .dataframe tbody tr th:only-of-type {\n",
       "        vertical-align: middle;\n",
       "    }\n",
       "\n",
       "    .dataframe tbody tr th {\n",
       "        vertical-align: top;\n",
       "    }\n",
       "\n",
       "    .dataframe thead th {\n",
       "        text-align: right;\n",
       "    }\n",
       "</style>\n",
       "<table border=\"1\" class=\"dataframe\">\n",
       "  <thead>\n",
       "    <tr style=\"text-align: right;\">\n",
       "      <th></th>\n",
       "      <th>by</th>\n",
       "      <th>descendants</th>\n",
       "      <th>id</th>\n",
       "      <th>kids</th>\n",
       "      <th>score</th>\n",
       "      <th>time</th>\n",
       "      <th>title</th>\n",
       "      <th>type</th>\n",
       "      <th>url</th>\n",
       "      <th>topic</th>\n",
       "    </tr>\n",
       "  </thead>\n",
       "  <tbody>\n",
       "    <tr>\n",
       "      <td>0</td>\n",
       "      <td>todsacerdoti</td>\n",
       "      <td>607</td>\n",
       "      <td>24563698</td>\n",
       "      <td>24563821 24563987 24565829 24564488 24563843 2...</td>\n",
       "      <td>711</td>\n",
       "      <td>2020-09-23 08:38:33</td>\n",
       "      <td>Firefox usage is down 85% despite Mozilla's to...</td>\n",
       "      <td>story</td>\n",
       "      <td>http://calpaterson.com/mozilla.html</td>\n",
       "      <td>People words</td>\n",
       "    </tr>\n",
       "    <tr>\n",
       "      <td>1</td>\n",
       "      <td>themodelplumber</td>\n",
       "      <td>126</td>\n",
       "      <td>24562850</td>\n",
       "      <td>24563705 24563838 24563276 24563478 24565992 2...</td>\n",
       "      <td>310</td>\n",
       "      <td>2020-09-23 06:04:45</td>\n",
       "      <td>How to say no, for the people pleaser who alwa...</td>\n",
       "      <td>story</td>\n",
       "      <td>https://www.npr.org/2020/09/15/913207918/how-t...</td>\n",
       "      <td>Linux</td>\n",
       "    </tr>\n",
       "    <tr>\n",
       "      <td>2</td>\n",
       "      <td>luu</td>\n",
       "      <td>27</td>\n",
       "      <td>24553085</td>\n",
       "      <td>24563230 24562887 24562049 24564895 24562235 2...</td>\n",
       "      <td>227</td>\n",
       "      <td>2020-09-22 13:04:22</td>\n",
       "      <td>Small Tech</td>\n",
       "      <td>story</td>\n",
       "      <td>https://scattered-thoughts.net/writing/small-t...</td>\n",
       "      <td>People and ideas</td>\n",
       "    </tr>\n",
       "    <tr>\n",
       "      <td>3</td>\n",
       "      <td>pseudolus</td>\n",
       "      <td>56</td>\n",
       "      <td>24553369</td>\n",
       "      <td>24563122 24565813 24562283 24562375 24563752 2...</td>\n",
       "      <td>94</td>\n",
       "      <td>2020-09-22 13:47:02</td>\n",
       "      <td>You Talkin’ to Me? The Unruly History of New Y...</td>\n",
       "      <td>story</td>\n",
       "      <td>https://literaryreview.co.uk/tawk-of-the-town</td>\n",
       "      <td>Literature, culture, philosophy</td>\n",
       "    </tr>\n",
       "    <tr>\n",
       "      <td>4</td>\n",
       "      <td>jeanyang</td>\n",
       "      <td>24</td>\n",
       "      <td>24561119</td>\n",
       "      <td>24561495 24562538 24565366 24564334 24561573 2...</td>\n",
       "      <td>87</td>\n",
       "      <td>2020-09-23 01:13:58</td>\n",
       "      <td>Catch Breaking Changes by Diffing API Traffic</td>\n",
       "      <td>story</td>\n",
       "      <td>https://www.akitasoftware.com/blog/2020/9/22/f...</td>\n",
       "      <td>People and ideas</td>\n",
       "    </tr>\n",
       "    <tr>\n",
       "      <td>...</td>\n",
       "      <td>...</td>\n",
       "      <td>...</td>\n",
       "      <td>...</td>\n",
       "      <td>...</td>\n",
       "      <td>...</td>\n",
       "      <td>...</td>\n",
       "      <td>...</td>\n",
       "      <td>...</td>\n",
       "      <td>...</td>\n",
       "      <td>...</td>\n",
       "    </tr>\n",
       "    <tr>\n",
       "      <td>5907</td>\n",
       "      <td>laurex</td>\n",
       "      <td>7</td>\n",
       "      <td>24529486</td>\n",
       "      <td>24529930 24529758 24534269</td>\n",
       "      <td>19</td>\n",
       "      <td>2020-09-19 20:29:33</td>\n",
       "      <td>PalanThiel: The Uncola</td>\n",
       "      <td>story</td>\n",
       "      <td>https://www.profgalloway.com/palanthiel-the-un...</td>\n",
       "      <td>Software</td>\n",
       "    </tr>\n",
       "    <tr>\n",
       "      <td>5908</td>\n",
       "      <td>anarbadalov</td>\n",
       "      <td>11</td>\n",
       "      <td>24486664</td>\n",
       "      <td>24488089 24487725 24489507 24489373 24488362</td>\n",
       "      <td>49</td>\n",
       "      <td>2020-09-15 23:01:01</td>\n",
       "      <td>The Magical Art of Selling Soap</td>\n",
       "      <td>story</td>\n",
       "      <td>https://www.laphamsquarterly.org/roundtable/ma...</td>\n",
       "      <td>Literature, culture, philosophy</td>\n",
       "    </tr>\n",
       "    <tr>\n",
       "      <td>5909</td>\n",
       "      <td>herval</td>\n",
       "      <td>171</td>\n",
       "      <td>23543043</td>\n",
       "      <td>23545567 23545267 23545039 23543552 23544350 2...</td>\n",
       "      <td>804</td>\n",
       "      <td>2020-06-16 21:26:47</td>\n",
       "      <td>Drive through cities in the browser while list...</td>\n",
       "      <td>story</td>\n",
       "      <td>https://driveandlisten.herokuapp.com/</td>\n",
       "      <td>JavaScript</td>\n",
       "    </tr>\n",
       "    <tr>\n",
       "      <td>5910</td>\n",
       "      <td>mmastrac</td>\n",
       "      <td>21</td>\n",
       "      <td>23466431</td>\n",
       "      <td>23466816 23467054 23468305 23467350 23471899 2...</td>\n",
       "      <td>111</td>\n",
       "      <td>2020-06-09 15:23:35</td>\n",
       "      <td>Microship.com: The Library of Technomadics</td>\n",
       "      <td>story</td>\n",
       "      <td>https://microship.com/</td>\n",
       "      <td>Wordpress</td>\n",
       "    </tr>\n",
       "    <tr>\n",
       "      <td>5911</td>\n",
       "      <td>sheharyarn</td>\n",
       "      <td>42</td>\n",
       "      <td>23454472</td>\n",
       "      <td>23454778 23454784 23454742 23454503 23454797</td>\n",
       "      <td>55</td>\n",
       "      <td>2020-06-08 09:44:46</td>\n",
       "      <td>Reflections on the color of my skin</td>\n",
       "      <td>story</td>\n",
       "      <td>https://www.haydenplanetarium.org/tyson/commen...</td>\n",
       "      <td>Literature, culture, philosophy</td>\n",
       "    </tr>\n",
       "  </tbody>\n",
       "</table>\n",
       "<p>5912 rows × 10 columns</p>\n",
       "</div>"
      ],
      "text/plain": [
       "                   by  descendants        id  \\\n",
       "0        todsacerdoti          607  24563698   \n",
       "1     themodelplumber          126  24562850   \n",
       "2                 luu           27  24553085   \n",
       "3           pseudolus           56  24553369   \n",
       "4            jeanyang           24  24561119   \n",
       "...               ...          ...       ...   \n",
       "5907           laurex            7  24529486   \n",
       "5908      anarbadalov           11  24486664   \n",
       "5909           herval          171  23543043   \n",
       "5910         mmastrac           21  23466431   \n",
       "5911       sheharyarn           42  23454472   \n",
       "\n",
       "                                                   kids  score  \\\n",
       "0     24563821 24563987 24565829 24564488 24563843 2...    711   \n",
       "1     24563705 24563838 24563276 24563478 24565992 2...    310   \n",
       "2     24563230 24562887 24562049 24564895 24562235 2...    227   \n",
       "3     24563122 24565813 24562283 24562375 24563752 2...     94   \n",
       "4     24561495 24562538 24565366 24564334 24561573 2...     87   \n",
       "...                                                 ...    ...   \n",
       "5907                         24529930 24529758 24534269     19   \n",
       "5908       24488089 24487725 24489507 24489373 24488362     49   \n",
       "5909  23545567 23545267 23545039 23543552 23544350 2...    804   \n",
       "5910  23466816 23467054 23468305 23467350 23471899 2...    111   \n",
       "5911       23454778 23454784 23454742 23454503 23454797     55   \n",
       "\n",
       "                    time                                              title  \\\n",
       "0    2020-09-23 08:38:33  Firefox usage is down 85% despite Mozilla's to...   \n",
       "1    2020-09-23 06:04:45  How to say no, for the people pleaser who alwa...   \n",
       "2    2020-09-22 13:04:22                                         Small Tech   \n",
       "3    2020-09-22 13:47:02  You Talkin’ to Me? The Unruly History of New Y...   \n",
       "4    2020-09-23 01:13:58      Catch Breaking Changes by Diffing API Traffic   \n",
       "...                  ...                                                ...   \n",
       "5907 2020-09-19 20:29:33                             PalanThiel: The Uncola   \n",
       "5908 2020-09-15 23:01:01                    The Magical Art of Selling Soap   \n",
       "5909 2020-06-16 21:26:47  Drive through cities in the browser while list...   \n",
       "5910 2020-06-09 15:23:35         Microship.com: The Library of Technomadics   \n",
       "5911 2020-06-08 09:44:46                Reflections on the color of my skin   \n",
       "\n",
       "       type                                                url  \\\n",
       "0     story                http://calpaterson.com/mozilla.html   \n",
       "1     story  https://www.npr.org/2020/09/15/913207918/how-t...   \n",
       "2     story  https://scattered-thoughts.net/writing/small-t...   \n",
       "3     story      https://literaryreview.co.uk/tawk-of-the-town   \n",
       "4     story  https://www.akitasoftware.com/blog/2020/9/22/f...   \n",
       "...     ...                                                ...   \n",
       "5907  story  https://www.profgalloway.com/palanthiel-the-un...   \n",
       "5908  story  https://www.laphamsquarterly.org/roundtable/ma...   \n",
       "5909  story              https://driveandlisten.herokuapp.com/   \n",
       "5910  story                             https://microship.com/   \n",
       "5911  story  https://www.haydenplanetarium.org/tyson/commen...   \n",
       "\n",
       "                                topic  \n",
       "0                        People words  \n",
       "1                               Linux  \n",
       "2                    People and ideas  \n",
       "3     Literature, culture, philosophy  \n",
       "4                    People and ideas  \n",
       "...                               ...  \n",
       "5907                         Software  \n",
       "5908  Literature, culture, philosophy  \n",
       "5909                       JavaScript  \n",
       "5910                        Wordpress  \n",
       "5911  Literature, culture, philosophy  \n",
       "\n",
       "[5912 rows x 10 columns]"
      ]
     },
     "execution_count": 86,
     "metadata": {},
     "output_type": "execute_result"
    }
   ],
   "source": [
    "df"
   ]
  },
  {
   "cell_type": "code",
   "execution_count": 147,
   "metadata": {},
   "outputs": [],
   "source": [
    "unique_authors_topics = df[['by', 'topic']].drop_duplicates()"
   ]
  },
  {
   "cell_type": "code",
   "execution_count": 148,
   "metadata": {},
   "outputs": [
    {
     "data": {
      "text/html": [
       "<div>\n",
       "<style scoped>\n",
       "    .dataframe tbody tr th:only-of-type {\n",
       "        vertical-align: middle;\n",
       "    }\n",
       "\n",
       "    .dataframe tbody tr th {\n",
       "        vertical-align: top;\n",
       "    }\n",
       "\n",
       "    .dataframe thead th {\n",
       "        text-align: right;\n",
       "    }\n",
       "</style>\n",
       "<table border=\"1\" class=\"dataframe\">\n",
       "  <thead>\n",
       "    <tr style=\"text-align: right;\">\n",
       "      <th></th>\n",
       "      <th>by</th>\n",
       "      <th>topic</th>\n",
       "    </tr>\n",
       "  </thead>\n",
       "  <tbody>\n",
       "    <tr>\n",
       "      <td>0</td>\n",
       "      <td>todsacerdoti</td>\n",
       "      <td>People words</td>\n",
       "    </tr>\n",
       "    <tr>\n",
       "      <td>1</td>\n",
       "      <td>themodelplumber</td>\n",
       "      <td>Linux</td>\n",
       "    </tr>\n",
       "    <tr>\n",
       "      <td>2</td>\n",
       "      <td>luu</td>\n",
       "      <td>People and ideas</td>\n",
       "    </tr>\n",
       "    <tr>\n",
       "      <td>3</td>\n",
       "      <td>pseudolus</td>\n",
       "      <td>Literature, culture, philosophy</td>\n",
       "    </tr>\n",
       "    <tr>\n",
       "      <td>4</td>\n",
       "      <td>jeanyang</td>\n",
       "      <td>People and ideas</td>\n",
       "    </tr>\n",
       "    <tr>\n",
       "      <td>...</td>\n",
       "      <td>...</td>\n",
       "      <td>...</td>\n",
       "    </tr>\n",
       "    <tr>\n",
       "      <td>5904</td>\n",
       "      <td>palo3</td>\n",
       "      <td>Linux</td>\n",
       "    </tr>\n",
       "    <tr>\n",
       "      <td>5905</td>\n",
       "      <td>cube00</td>\n",
       "      <td>Compilers</td>\n",
       "    </tr>\n",
       "    <tr>\n",
       "      <td>5907</td>\n",
       "      <td>laurex</td>\n",
       "      <td>Software</td>\n",
       "    </tr>\n",
       "    <tr>\n",
       "      <td>5909</td>\n",
       "      <td>herval</td>\n",
       "      <td>JavaScript</td>\n",
       "    </tr>\n",
       "    <tr>\n",
       "      <td>5911</td>\n",
       "      <td>sheharyarn</td>\n",
       "      <td>Literature, culture, philosophy</td>\n",
       "    </tr>\n",
       "  </tbody>\n",
       "</table>\n",
       "<p>4649 rows × 2 columns</p>\n",
       "</div>"
      ],
      "text/plain": [
       "                   by                            topic\n",
       "0        todsacerdoti                     People words\n",
       "1     themodelplumber                            Linux\n",
       "2                 luu                 People and ideas\n",
       "3           pseudolus  Literature, culture, philosophy\n",
       "4            jeanyang                 People and ideas\n",
       "...               ...                              ...\n",
       "5904            palo3                            Linux\n",
       "5905           cube00                        Compilers\n",
       "5907           laurex                         Software\n",
       "5909           herval                       JavaScript\n",
       "5911       sheharyarn  Literature, culture, philosophy\n",
       "\n",
       "[4649 rows x 2 columns]"
      ]
     },
     "execution_count": 148,
     "metadata": {},
     "output_type": "execute_result"
    }
   ],
   "source": [
    "unique_authors_topics"
   ]
  },
  {
   "cell_type": "code",
   "execution_count": 151,
   "metadata": {},
   "outputs": [],
   "source": [
    "authors_number_different_topics = unique_authors_topics.groupby(['by'])['topic'].nunique().reset_index()"
   ]
  },
  {
   "cell_type": "code",
   "execution_count": 155,
   "metadata": {},
   "outputs": [],
   "source": [
    "authors_with_one_topic = authors_number_different_topics[authors_number_different_topics['topic'] == 1]['by']\n",
    "authors_with_more_topics = authors_number_different_topics[authors_number_different_topics['topic'] > 1]['by']"
   ]
  },
  {
   "cell_type": "markdown",
   "metadata": {},
   "source": [
    "# Number of people with one / one + topics"
   ]
  },
  {
   "cell_type": "code",
   "execution_count": 167,
   "metadata": {},
   "outputs": [
    {
     "data": {
      "text/plain": [
       "(2619,)"
      ]
     },
     "execution_count": 167,
     "metadata": {},
     "output_type": "execute_result"
    }
   ],
   "source": [
    "authors_with_one_topic.shape"
   ]
  },
  {
   "cell_type": "code",
   "execution_count": 168,
   "metadata": {},
   "outputs": [
    {
     "data": {
      "text/plain": [
       "(610,)"
      ]
     },
     "execution_count": 168,
     "metadata": {},
     "output_type": "execute_result"
    }
   ],
   "source": [
    "authors_with_more_topics.shape"
   ]
  },
  {
   "cell_type": "markdown",
   "metadata": {},
   "source": [
    "# Most popular single topic"
   ]
  },
  {
   "cell_type": "code",
   "execution_count": 164,
   "metadata": {},
   "outputs": [
    {
     "data": {
      "text/plain": [
       "People and ideas                   282\n",
       "Github repositories                230\n",
       "Deployments and databases          207\n",
       "Compilers                          202\n",
       "US Politics and administration     149\n",
       "Wordpress                          147\n",
       "Weird letters                      143\n",
       "Literature, culture, philosophy    143\n",
       "Linux                              127\n",
       "Software                           125\n",
       "JavaScript                         122\n",
       "People words                       112\n",
       "Machine Learning                   102\n",
       "Weird words                         98\n",
       "Hardware                            89\n",
       "Medicine                            81\n",
       "Government committees               70\n",
       "Renewable energy                    69\n",
       "Texts with codes                    66\n",
       "Programming words                   55\n",
       "Name: topic, dtype: int64"
      ]
     },
     "execution_count": 164,
     "metadata": {},
     "output_type": "execute_result"
    }
   ],
   "source": [
    "unique_authors_topics[unique_authors_topics['by'].isin(authors_with_one_topic)]['topic'].value_counts()"
   ]
  },
  {
   "cell_type": "markdown",
   "metadata": {},
   "source": [
    "# Most popular combination topic"
   ]
  },
  {
   "cell_type": "code",
   "execution_count": 166,
   "metadata": {},
   "outputs": [
    {
     "data": {
      "text/plain": [
       "array(['People words', 'Linux', 'People and ideas',\n",
       "       'Literature, culture, philosophy', 'Compilers',\n",
       "       'US Politics and administration', 'Wordpress', 'Texts with codes',\n",
       "       'Software', 'Renewable energy', 'JavaScript', 'Machine Learning',\n",
       "       'Deployments and databases', 'Medicine', 'Weird words',\n",
       "       'Government committees', 'Github repositories',\n",
       "       'Programming words', 'Hardware', 'Weird letters'], dtype=object)"
      ]
     },
     "execution_count": 166,
     "metadata": {},
     "output_type": "execute_result"
    }
   ],
   "source": [
    "a = pd.crosstab(unique_authors_topics['by'], unique_authors_topics['topic'])"
   ]
  },
  {
   "cell_type": "code",
   "execution_count": 211,
   "metadata": {},
   "outputs": [
    {
     "name": "stdout",
     "output_type": "stream",
     "text": [
      "Compilers Deployments and databases\n",
      "Compilers Github repositories\n",
      "Compilers Government committees\n",
      "Compilers Hardware\n",
      "Compilers JavaScript\n",
      "Compilers Linux\n",
      "Compilers Literature, culture, philosophy\n",
      "Compilers Machine Learning\n",
      "Compilers Medicine\n",
      "Compilers People and ideas\n",
      "Compilers People words\n",
      "Compilers Programming words\n",
      "Compilers Renewable energy\n",
      "Compilers Software\n",
      "Compilers Texts with codes\n",
      "Compilers US Politics and administration\n",
      "Compilers Weird letters\n",
      "Compilers Weird words\n",
      "Compilers Wordpress\n",
      "Deployments and databases Github repositories\n",
      "Deployments and databases Government committees\n",
      "Deployments and databases Hardware\n",
      "Deployments and databases JavaScript\n",
      "Deployments and databases Linux\n",
      "Deployments and databases Literature, culture, philosophy\n",
      "Deployments and databases Machine Learning\n",
      "Deployments and databases Medicine\n",
      "Deployments and databases People and ideas\n",
      "Deployments and databases People words\n",
      "Deployments and databases Programming words\n",
      "Deployments and databases Renewable energy\n",
      "Deployments and databases Software\n",
      "Deployments and databases Texts with codes\n",
      "Deployments and databases US Politics and administration\n",
      "Deployments and databases Weird letters\n",
      "Deployments and databases Weird words\n",
      "Deployments and databases Wordpress\n",
      "Github repositories Government committees\n",
      "Github repositories Hardware\n",
      "Github repositories JavaScript\n",
      "Github repositories Linux\n",
      "Github repositories Literature, culture, philosophy\n",
      "Github repositories Machine Learning\n",
      "Github repositories Medicine\n",
      "Github repositories People and ideas\n",
      "Github repositories People words\n",
      "Github repositories Programming words\n",
      "Github repositories Renewable energy\n",
      "Github repositories Software\n",
      "Github repositories Texts with codes\n",
      "Github repositories US Politics and administration\n",
      "Github repositories Weird letters\n",
      "Github repositories Weird words\n",
      "Github repositories Wordpress\n",
      "Government committees Hardware\n",
      "Government committees JavaScript\n",
      "Government committees Linux\n",
      "Government committees Literature, culture, philosophy\n",
      "Government committees Machine Learning\n",
      "Government committees Medicine\n",
      "Government committees People and ideas\n",
      "Government committees People words\n",
      "Government committees Programming words\n",
      "Government committees Renewable energy\n",
      "Government committees Software\n",
      "Government committees Texts with codes\n",
      "Government committees US Politics and administration\n",
      "Government committees Weird letters\n",
      "Government committees Weird words\n",
      "Government committees Wordpress\n",
      "Hardware JavaScript\n",
      "Hardware Linux\n",
      "Hardware Literature, culture, philosophy\n",
      "Hardware Machine Learning\n",
      "Hardware Medicine\n",
      "Hardware People and ideas\n",
      "Hardware People words\n",
      "Hardware Programming words\n",
      "Hardware Renewable energy\n",
      "Hardware Software\n",
      "Hardware Texts with codes\n",
      "Hardware US Politics and administration\n",
      "Hardware Weird letters\n",
      "Hardware Weird words\n",
      "Hardware Wordpress\n",
      "JavaScript Linux\n",
      "JavaScript Literature, culture, philosophy\n",
      "JavaScript Machine Learning\n",
      "JavaScript Medicine\n",
      "JavaScript People and ideas\n",
      "JavaScript People words\n",
      "JavaScript Programming words\n",
      "JavaScript Renewable energy\n",
      "JavaScript Software\n",
      "JavaScript Texts with codes\n",
      "JavaScript US Politics and administration\n",
      "JavaScript Weird letters\n",
      "JavaScript Weird words\n",
      "JavaScript Wordpress\n",
      "Linux Literature, culture, philosophy\n",
      "Linux Machine Learning\n",
      "Linux Medicine\n",
      "Linux People and ideas\n",
      "Linux People words\n",
      "Linux Programming words\n",
      "Linux Renewable energy\n",
      "Linux Software\n",
      "Linux Texts with codes\n",
      "Linux US Politics and administration\n",
      "Linux Weird letters\n",
      "Linux Weird words\n",
      "Linux Wordpress\n",
      "Literature, culture, philosophy Machine Learning\n",
      "Literature, culture, philosophy Medicine\n",
      "Literature, culture, philosophy People and ideas\n",
      "Literature, culture, philosophy People words\n",
      "Literature, culture, philosophy Programming words\n",
      "Literature, culture, philosophy Renewable energy\n",
      "Literature, culture, philosophy Software\n",
      "Literature, culture, philosophy Texts with codes\n",
      "Literature, culture, philosophy US Politics and administration\n",
      "Literature, culture, philosophy Weird letters\n",
      "Literature, culture, philosophy Weird words\n",
      "Literature, culture, philosophy Wordpress\n",
      "Machine Learning Medicine\n",
      "Machine Learning People and ideas\n",
      "Machine Learning People words\n",
      "Machine Learning Programming words\n",
      "Machine Learning Renewable energy\n",
      "Machine Learning Software\n",
      "Machine Learning Texts with codes\n",
      "Machine Learning US Politics and administration\n",
      "Machine Learning Weird letters\n",
      "Machine Learning Weird words\n",
      "Machine Learning Wordpress\n",
      "Medicine People and ideas\n",
      "Medicine People words\n",
      "Medicine Programming words\n",
      "Medicine Renewable energy\n",
      "Medicine Software\n",
      "Medicine Texts with codes\n",
      "Medicine US Politics and administration\n",
      "Medicine Weird letters\n",
      "Medicine Weird words\n",
      "Medicine Wordpress\n",
      "People and ideas People words\n",
      "People and ideas Programming words\n",
      "People and ideas Renewable energy\n",
      "People and ideas Software\n",
      "People and ideas Texts with codes\n",
      "People and ideas US Politics and administration\n",
      "People and ideas Weird letters\n",
      "People and ideas Weird words\n",
      "People and ideas Wordpress\n",
      "People words Programming words\n",
      "People words Renewable energy\n",
      "People words Software\n",
      "People words Texts with codes\n",
      "People words US Politics and administration\n",
      "People words Weird letters\n",
      "People words Weird words\n",
      "People words Wordpress\n",
      "Programming words Renewable energy\n",
      "Programming words Software\n",
      "Programming words Texts with codes\n",
      "Programming words US Politics and administration\n",
      "Programming words Weird letters\n",
      "Programming words Weird words\n",
      "Programming words Wordpress\n",
      "Renewable energy Software\n",
      "Renewable energy Texts with codes\n",
      "Renewable energy US Politics and administration\n",
      "Renewable energy Weird letters\n",
      "Renewable energy Weird words\n",
      "Renewable energy Wordpress\n",
      "Software Texts with codes\n",
      "Software US Politics and administration\n",
      "Software Weird letters\n",
      "Software Weird words\n",
      "Software Wordpress\n",
      "Texts with codes US Politics and administration\n",
      "Texts with codes Weird letters\n",
      "Texts with codes Weird words\n",
      "Texts with codes Wordpress\n",
      "US Politics and administration Weird letters\n",
      "US Politics and administration Weird words\n",
      "US Politics and administration Wordpress\n",
      "Weird letters Weird words\n",
      "Weird letters Wordpress\n",
      "Weird words Wordpress\n"
     ]
    }
   ],
   "source": [
    "for col_1, col_2 in combinations(a.columns, 2):\n",
    "    print(col_1, col_2)"
   ]
  },
  {
   "cell_type": "markdown",
   "metadata": {},
   "source": [
    "# Recommendations"
   ]
  },
  {
   "cell_type": "code",
   "execution_count": 182,
   "metadata": {},
   "outputs": [],
   "source": []
  },
  {
   "cell_type": "code",
   "execution_count": 209,
   "metadata": {},
   "outputs": [
    {
     "name": "stdout",
     "output_type": "stream",
     "text": [
      "Compilers - People and ideas\n",
      "Deployments and databases - People and ideas\n",
      "Github repositories - People and ideas\n",
      "Government committees - Wordpress\n",
      "Hardware - Compilers\n",
      "JavaScript - Wordpress\n",
      "Linux - Wordpress\n",
      "Literature, culture, philosophy - US Politics and administration\n",
      "Machine Learning - People and ideas\n",
      "Medicine - Literature, culture, philosophy\n",
      "People and ideas - Compilers\n",
      "People words - People and ideas\n",
      "Programming words - US Politics and administration\n",
      "Renewable energy - US Politics and administration\n",
      "Software - US Politics and administration\n",
      "Texts with codes - US Politics and administration\n",
      "US Politics and administration - Literature, culture, philosophy\n",
      "Weird letters - US Politics and administration\n",
      "Weird words - US Politics and administration\n",
      "Wordpress - People and ideas\n"
     ]
    }
   ],
   "source": [
    "for column in a.columns:\n",
    "    res = a[a[column] == 1].drop([column], axis = 1).sum().sort_values().index[-1]\n",
    "    print(f'{column} - {res}')"
   ]
  },
  {
   "cell_type": "code",
   "execution_count": 179,
   "metadata": {},
   "outputs": [
    {
     "data": {
      "text/html": [
       "<div>\n",
       "<style scoped>\n",
       "    .dataframe tbody tr th:only-of-type {\n",
       "        vertical-align: middle;\n",
       "    }\n",
       "\n",
       "    .dataframe tbody tr th {\n",
       "        vertical-align: top;\n",
       "    }\n",
       "\n",
       "    .dataframe thead th {\n",
       "        text-align: right;\n",
       "    }\n",
       "</style>\n",
       "<table border=\"1\" class=\"dataframe\">\n",
       "  <thead>\n",
       "    <tr style=\"text-align: right;\">\n",
       "      <th></th>\n",
       "      <th>by</th>\n",
       "      <th>topic</th>\n",
       "    </tr>\n",
       "  </thead>\n",
       "  <tbody>\n",
       "    <tr>\n",
       "      <td>0</td>\n",
       "      <td>todsacerdoti</td>\n",
       "      <td>People words</td>\n",
       "    </tr>\n",
       "    <tr>\n",
       "      <td>2</td>\n",
       "      <td>luu</td>\n",
       "      <td>People and ideas</td>\n",
       "    </tr>\n",
       "    <tr>\n",
       "      <td>3</td>\n",
       "      <td>pseudolus</td>\n",
       "      <td>Literature, culture, philosophy</td>\n",
       "    </tr>\n",
       "    <tr>\n",
       "      <td>5</td>\n",
       "      <td>beagle3</td>\n",
       "      <td>Compilers</td>\n",
       "    </tr>\n",
       "    <tr>\n",
       "      <td>6</td>\n",
       "      <td>sohkamyung</td>\n",
       "      <td>US Politics and administration</td>\n",
       "    </tr>\n",
       "    <tr>\n",
       "      <td>...</td>\n",
       "      <td>...</td>\n",
       "      <td>...</td>\n",
       "    </tr>\n",
       "    <tr>\n",
       "      <td>5889</td>\n",
       "      <td>seigando</td>\n",
       "      <td>Programming words</td>\n",
       "    </tr>\n",
       "    <tr>\n",
       "      <td>5893</td>\n",
       "      <td>Vigier</td>\n",
       "      <td>JavaScript</td>\n",
       "    </tr>\n",
       "    <tr>\n",
       "      <td>5899</td>\n",
       "      <td>ZnZirconium</td>\n",
       "      <td>Linux</td>\n",
       "    </tr>\n",
       "    <tr>\n",
       "      <td>5900</td>\n",
       "      <td>apsec112</td>\n",
       "      <td>Renewable energy</td>\n",
       "    </tr>\n",
       "    <tr>\n",
       "      <td>5907</td>\n",
       "      <td>laurex</td>\n",
       "      <td>Software</td>\n",
       "    </tr>\n",
       "  </tbody>\n",
       "</table>\n",
       "<p>2030 rows × 2 columns</p>\n",
       "</div>"
      ],
      "text/plain": [
       "                by                            topic\n",
       "0     todsacerdoti                     People words\n",
       "2              luu                 People and ideas\n",
       "3        pseudolus  Literature, culture, philosophy\n",
       "5          beagle3                        Compilers\n",
       "6       sohkamyung   US Politics and administration\n",
       "...            ...                              ...\n",
       "5889      seigando                Programming words\n",
       "5893        Vigier                       JavaScript\n",
       "5899   ZnZirconium                            Linux\n",
       "5900      apsec112                 Renewable energy\n",
       "5907        laurex                         Software\n",
       "\n",
       "[2030 rows x 2 columns]"
      ]
     },
     "execution_count": 179,
     "metadata": {},
     "output_type": "execute_result"
    }
   ],
   "source": [
    "unique_authors_topics[unique_authors_topics['by'].isin(authors_with_more_topics)]"
   ]
  },
  {
   "cell_type": "code",
   "execution_count": null,
   "metadata": {},
   "outputs": [],
   "source": [
    "unique_authors_topics[unique_authors_topics['by'].isin(authors_with_more_topics)]['topic'].value_counts()"
   ]
  },
  {
   "cell_type": "code",
   "execution_count": 129,
   "metadata": {},
   "outputs": [],
   "source": [
    "special_df = df.drop_duplicates(['topic', 'by'])\n",
    "\n",
    "df_temp = special_df.groupby(['by'])['topic'].nunique()\n",
    "authors_with_more_than_two_topics = (df_temp[df_temp > 1]).index.values\n",
    "articles_with_authors_with_two_topics = special_df[special_df['by'].isin(authors_with_more_than_two_topics)]"
   ]
  },
  {
   "cell_type": "code",
   "execution_count": 130,
   "metadata": {},
   "outputs": [],
   "source": [
    "from itertools import combinations"
   ]
  },
  {
   "cell_type": "code",
   "execution_count": 131,
   "metadata": {},
   "outputs": [],
   "source": [
    "results = articles_with_authors_with_two_topics.groupby(['by'])['topic'].apply(lambda x: list(combinations(x, 2)))"
   ]
  },
  {
   "cell_type": "code",
   "execution_count": 132,
   "metadata": {},
   "outputs": [],
   "source": [
    "all_bigrams_of_topics = [', '.join(el) for author in results.values for el in author]"
   ]
  },
  {
   "cell_type": "code",
   "execution_count": 138,
   "metadata": {},
   "outputs": [],
   "source": [
    "plot_data = pd.Series(all_bigrams_of_topics).value_counts().head(10).reset_index()"
   ]
  },
  {
   "cell_type": "code",
   "execution_count": 139,
   "metadata": {},
   "outputs": [
    {
     "data": {
      "text/html": [
       "<div>\n",
       "<style scoped>\n",
       "    .dataframe tbody tr th:only-of-type {\n",
       "        vertical-align: middle;\n",
       "    }\n",
       "\n",
       "    .dataframe tbody tr th {\n",
       "        vertical-align: top;\n",
       "    }\n",
       "\n",
       "    .dataframe thead th {\n",
       "        text-align: right;\n",
       "    }\n",
       "</style>\n",
       "<table border=\"1\" class=\"dataframe\">\n",
       "  <thead>\n",
       "    <tr style=\"text-align: right;\">\n",
       "      <th></th>\n",
       "      <th>index</th>\n",
       "      <th>0</th>\n",
       "    </tr>\n",
       "  </thead>\n",
       "  <tbody>\n",
       "    <tr>\n",
       "      <td>0</td>\n",
       "      <td>Compilers, People and ideas</td>\n",
       "      <td>29</td>\n",
       "    </tr>\n",
       "    <tr>\n",
       "      <td>1</td>\n",
       "      <td>US Politics and administration, Weird letters</td>\n",
       "      <td>26</td>\n",
       "    </tr>\n",
       "    <tr>\n",
       "      <td>2</td>\n",
       "      <td>People and ideas, Wordpress</td>\n",
       "      <td>26</td>\n",
       "    </tr>\n",
       "    <tr>\n",
       "      <td>3</td>\n",
       "      <td>US Politics and administration, Literature, cu...</td>\n",
       "      <td>26</td>\n",
       "    </tr>\n",
       "    <tr>\n",
       "      <td>4</td>\n",
       "      <td>Literature, culture, philosophy, Wordpress</td>\n",
       "      <td>25</td>\n",
       "    </tr>\n",
       "    <tr>\n",
       "      <td>5</td>\n",
       "      <td>US Politics and administration, Software</td>\n",
       "      <td>23</td>\n",
       "    </tr>\n",
       "    <tr>\n",
       "      <td>6</td>\n",
       "      <td>US Politics and administration, Wordpress</td>\n",
       "      <td>23</td>\n",
       "    </tr>\n",
       "    <tr>\n",
       "      <td>7</td>\n",
       "      <td>US Politics and administration, People and ideas</td>\n",
       "      <td>22</td>\n",
       "    </tr>\n",
       "    <tr>\n",
       "      <td>8</td>\n",
       "      <td>US Politics and administration, Medicine</td>\n",
       "      <td>22</td>\n",
       "    </tr>\n",
       "    <tr>\n",
       "      <td>9</td>\n",
       "      <td>Linux, Wordpress</td>\n",
       "      <td>21</td>\n",
       "    </tr>\n",
       "  </tbody>\n",
       "</table>\n",
       "</div>"
      ],
      "text/plain": [
       "                                               index   0\n",
       "0                        Compilers, People and ideas  29\n",
       "1      US Politics and administration, Weird letters  26\n",
       "2                        People and ideas, Wordpress  26\n",
       "3  US Politics and administration, Literature, cu...  26\n",
       "4         Literature, culture, philosophy, Wordpress  25\n",
       "5           US Politics and administration, Software  23\n",
       "6          US Politics and administration, Wordpress  23\n",
       "7   US Politics and administration, People and ideas  22\n",
       "8           US Politics and administration, Medicine  22\n",
       "9                                   Linux, Wordpress  21"
      ]
     },
     "execution_count": 139,
     "metadata": {},
     "output_type": "execute_result"
    }
   ],
   "source": [
    "plot_data"
   ]
  },
  {
   "cell_type": "code",
   "execution_count": 143,
   "metadata": {},
   "outputs": [
    {
     "data": {
      "application/vnd.plotly.v1+json": {
       "config": {
        "plotlyServerURL": "https://plot.ly"
       },
       "data": [
        {
         "alignmentgroup": "True",
         "hovertemplate": "0=%{x}<br>index=%{y}<extra></extra>",
         "legendgroup": "",
         "marker": {
          "color": "#636efa"
         },
         "name": "",
         "offsetgroup": "",
         "orientation": "h",
         "showlegend": false,
         "textposition": "auto",
         "type": "bar",
         "x": [
          29,
          26,
          26,
          26,
          25,
          23,
          23,
          22,
          22,
          21
         ],
         "xaxis": "x",
         "y": [
          "Compilers, People and ideas",
          "US Politics and administration, Weird letters",
          "People and ideas, Wordpress",
          "US Politics and administration, Literature, culture, philosophy",
          "Literature, culture, philosophy, Wordpress",
          "US Politics and administration, Software",
          "US Politics and administration, Wordpress",
          "US Politics and administration, People and ideas",
          "US Politics and administration, Medicine",
          "Linux, Wordpress"
         ],
         "yaxis": "y"
        }
       ],
       "layout": {
        "barmode": "relative",
        "legend": {
         "tracegroupgap": 0
        },
        "margin": {
         "t": 60
        },
        "template": {
         "data": {
          "bar": [
           {
            "error_x": {
             "color": "#2a3f5f"
            },
            "error_y": {
             "color": "#2a3f5f"
            },
            "marker": {
             "line": {
              "color": "#E5ECF6",
              "width": 0.5
             }
            },
            "type": "bar"
           }
          ],
          "barpolar": [
           {
            "marker": {
             "line": {
              "color": "#E5ECF6",
              "width": 0.5
             }
            },
            "type": "barpolar"
           }
          ],
          "carpet": [
           {
            "aaxis": {
             "endlinecolor": "#2a3f5f",
             "gridcolor": "white",
             "linecolor": "white",
             "minorgridcolor": "white",
             "startlinecolor": "#2a3f5f"
            },
            "baxis": {
             "endlinecolor": "#2a3f5f",
             "gridcolor": "white",
             "linecolor": "white",
             "minorgridcolor": "white",
             "startlinecolor": "#2a3f5f"
            },
            "type": "carpet"
           }
          ],
          "choropleth": [
           {
            "colorbar": {
             "outlinewidth": 0,
             "ticks": ""
            },
            "type": "choropleth"
           }
          ],
          "contour": [
           {
            "colorbar": {
             "outlinewidth": 0,
             "ticks": ""
            },
            "colorscale": [
             [
              0,
              "#0d0887"
             ],
             [
              0.1111111111111111,
              "#46039f"
             ],
             [
              0.2222222222222222,
              "#7201a8"
             ],
             [
              0.3333333333333333,
              "#9c179e"
             ],
             [
              0.4444444444444444,
              "#bd3786"
             ],
             [
              0.5555555555555556,
              "#d8576b"
             ],
             [
              0.6666666666666666,
              "#ed7953"
             ],
             [
              0.7777777777777778,
              "#fb9f3a"
             ],
             [
              0.8888888888888888,
              "#fdca26"
             ],
             [
              1,
              "#f0f921"
             ]
            ],
            "type": "contour"
           }
          ],
          "contourcarpet": [
           {
            "colorbar": {
             "outlinewidth": 0,
             "ticks": ""
            },
            "type": "contourcarpet"
           }
          ],
          "heatmap": [
           {
            "colorbar": {
             "outlinewidth": 0,
             "ticks": ""
            },
            "colorscale": [
             [
              0,
              "#0d0887"
             ],
             [
              0.1111111111111111,
              "#46039f"
             ],
             [
              0.2222222222222222,
              "#7201a8"
             ],
             [
              0.3333333333333333,
              "#9c179e"
             ],
             [
              0.4444444444444444,
              "#bd3786"
             ],
             [
              0.5555555555555556,
              "#d8576b"
             ],
             [
              0.6666666666666666,
              "#ed7953"
             ],
             [
              0.7777777777777778,
              "#fb9f3a"
             ],
             [
              0.8888888888888888,
              "#fdca26"
             ],
             [
              1,
              "#f0f921"
             ]
            ],
            "type": "heatmap"
           }
          ],
          "heatmapgl": [
           {
            "colorbar": {
             "outlinewidth": 0,
             "ticks": ""
            },
            "colorscale": [
             [
              0,
              "#0d0887"
             ],
             [
              0.1111111111111111,
              "#46039f"
             ],
             [
              0.2222222222222222,
              "#7201a8"
             ],
             [
              0.3333333333333333,
              "#9c179e"
             ],
             [
              0.4444444444444444,
              "#bd3786"
             ],
             [
              0.5555555555555556,
              "#d8576b"
             ],
             [
              0.6666666666666666,
              "#ed7953"
             ],
             [
              0.7777777777777778,
              "#fb9f3a"
             ],
             [
              0.8888888888888888,
              "#fdca26"
             ],
             [
              1,
              "#f0f921"
             ]
            ],
            "type": "heatmapgl"
           }
          ],
          "histogram": [
           {
            "marker": {
             "colorbar": {
              "outlinewidth": 0,
              "ticks": ""
             }
            },
            "type": "histogram"
           }
          ],
          "histogram2d": [
           {
            "colorbar": {
             "outlinewidth": 0,
             "ticks": ""
            },
            "colorscale": [
             [
              0,
              "#0d0887"
             ],
             [
              0.1111111111111111,
              "#46039f"
             ],
             [
              0.2222222222222222,
              "#7201a8"
             ],
             [
              0.3333333333333333,
              "#9c179e"
             ],
             [
              0.4444444444444444,
              "#bd3786"
             ],
             [
              0.5555555555555556,
              "#d8576b"
             ],
             [
              0.6666666666666666,
              "#ed7953"
             ],
             [
              0.7777777777777778,
              "#fb9f3a"
             ],
             [
              0.8888888888888888,
              "#fdca26"
             ],
             [
              1,
              "#f0f921"
             ]
            ],
            "type": "histogram2d"
           }
          ],
          "histogram2dcontour": [
           {
            "colorbar": {
             "outlinewidth": 0,
             "ticks": ""
            },
            "colorscale": [
             [
              0,
              "#0d0887"
             ],
             [
              0.1111111111111111,
              "#46039f"
             ],
             [
              0.2222222222222222,
              "#7201a8"
             ],
             [
              0.3333333333333333,
              "#9c179e"
             ],
             [
              0.4444444444444444,
              "#bd3786"
             ],
             [
              0.5555555555555556,
              "#d8576b"
             ],
             [
              0.6666666666666666,
              "#ed7953"
             ],
             [
              0.7777777777777778,
              "#fb9f3a"
             ],
             [
              0.8888888888888888,
              "#fdca26"
             ],
             [
              1,
              "#f0f921"
             ]
            ],
            "type": "histogram2dcontour"
           }
          ],
          "mesh3d": [
           {
            "colorbar": {
             "outlinewidth": 0,
             "ticks": ""
            },
            "type": "mesh3d"
           }
          ],
          "parcoords": [
           {
            "line": {
             "colorbar": {
              "outlinewidth": 0,
              "ticks": ""
             }
            },
            "type": "parcoords"
           }
          ],
          "pie": [
           {
            "automargin": true,
            "type": "pie"
           }
          ],
          "scatter": [
           {
            "marker": {
             "colorbar": {
              "outlinewidth": 0,
              "ticks": ""
             }
            },
            "type": "scatter"
           }
          ],
          "scatter3d": [
           {
            "line": {
             "colorbar": {
              "outlinewidth": 0,
              "ticks": ""
             }
            },
            "marker": {
             "colorbar": {
              "outlinewidth": 0,
              "ticks": ""
             }
            },
            "type": "scatter3d"
           }
          ],
          "scattercarpet": [
           {
            "marker": {
             "colorbar": {
              "outlinewidth": 0,
              "ticks": ""
             }
            },
            "type": "scattercarpet"
           }
          ],
          "scattergeo": [
           {
            "marker": {
             "colorbar": {
              "outlinewidth": 0,
              "ticks": ""
             }
            },
            "type": "scattergeo"
           }
          ],
          "scattergl": [
           {
            "marker": {
             "colorbar": {
              "outlinewidth": 0,
              "ticks": ""
             }
            },
            "type": "scattergl"
           }
          ],
          "scattermapbox": [
           {
            "marker": {
             "colorbar": {
              "outlinewidth": 0,
              "ticks": ""
             }
            },
            "type": "scattermapbox"
           }
          ],
          "scatterpolar": [
           {
            "marker": {
             "colorbar": {
              "outlinewidth": 0,
              "ticks": ""
             }
            },
            "type": "scatterpolar"
           }
          ],
          "scatterpolargl": [
           {
            "marker": {
             "colorbar": {
              "outlinewidth": 0,
              "ticks": ""
             }
            },
            "type": "scatterpolargl"
           }
          ],
          "scatterternary": [
           {
            "marker": {
             "colorbar": {
              "outlinewidth": 0,
              "ticks": ""
             }
            },
            "type": "scatterternary"
           }
          ],
          "surface": [
           {
            "colorbar": {
             "outlinewidth": 0,
             "ticks": ""
            },
            "colorscale": [
             [
              0,
              "#0d0887"
             ],
             [
              0.1111111111111111,
              "#46039f"
             ],
             [
              0.2222222222222222,
              "#7201a8"
             ],
             [
              0.3333333333333333,
              "#9c179e"
             ],
             [
              0.4444444444444444,
              "#bd3786"
             ],
             [
              0.5555555555555556,
              "#d8576b"
             ],
             [
              0.6666666666666666,
              "#ed7953"
             ],
             [
              0.7777777777777778,
              "#fb9f3a"
             ],
             [
              0.8888888888888888,
              "#fdca26"
             ],
             [
              1,
              "#f0f921"
             ]
            ],
            "type": "surface"
           }
          ],
          "table": [
           {
            "cells": {
             "fill": {
              "color": "#EBF0F8"
             },
             "line": {
              "color": "white"
             }
            },
            "header": {
             "fill": {
              "color": "#C8D4E3"
             },
             "line": {
              "color": "white"
             }
            },
            "type": "table"
           }
          ]
         },
         "layout": {
          "annotationdefaults": {
           "arrowcolor": "#2a3f5f",
           "arrowhead": 0,
           "arrowwidth": 1
          },
          "coloraxis": {
           "colorbar": {
            "outlinewidth": 0,
            "ticks": ""
           }
          },
          "colorscale": {
           "diverging": [
            [
             0,
             "#8e0152"
            ],
            [
             0.1,
             "#c51b7d"
            ],
            [
             0.2,
             "#de77ae"
            ],
            [
             0.3,
             "#f1b6da"
            ],
            [
             0.4,
             "#fde0ef"
            ],
            [
             0.5,
             "#f7f7f7"
            ],
            [
             0.6,
             "#e6f5d0"
            ],
            [
             0.7,
             "#b8e186"
            ],
            [
             0.8,
             "#7fbc41"
            ],
            [
             0.9,
             "#4d9221"
            ],
            [
             1,
             "#276419"
            ]
           ],
           "sequential": [
            [
             0,
             "#0d0887"
            ],
            [
             0.1111111111111111,
             "#46039f"
            ],
            [
             0.2222222222222222,
             "#7201a8"
            ],
            [
             0.3333333333333333,
             "#9c179e"
            ],
            [
             0.4444444444444444,
             "#bd3786"
            ],
            [
             0.5555555555555556,
             "#d8576b"
            ],
            [
             0.6666666666666666,
             "#ed7953"
            ],
            [
             0.7777777777777778,
             "#fb9f3a"
            ],
            [
             0.8888888888888888,
             "#fdca26"
            ],
            [
             1,
             "#f0f921"
            ]
           ],
           "sequentialminus": [
            [
             0,
             "#0d0887"
            ],
            [
             0.1111111111111111,
             "#46039f"
            ],
            [
             0.2222222222222222,
             "#7201a8"
            ],
            [
             0.3333333333333333,
             "#9c179e"
            ],
            [
             0.4444444444444444,
             "#bd3786"
            ],
            [
             0.5555555555555556,
             "#d8576b"
            ],
            [
             0.6666666666666666,
             "#ed7953"
            ],
            [
             0.7777777777777778,
             "#fb9f3a"
            ],
            [
             0.8888888888888888,
             "#fdca26"
            ],
            [
             1,
             "#f0f921"
            ]
           ]
          },
          "colorway": [
           "#636efa",
           "#EF553B",
           "#00cc96",
           "#ab63fa",
           "#FFA15A",
           "#19d3f3",
           "#FF6692",
           "#B6E880",
           "#FF97FF",
           "#FECB52"
          ],
          "font": {
           "color": "#2a3f5f"
          },
          "geo": {
           "bgcolor": "white",
           "lakecolor": "white",
           "landcolor": "#E5ECF6",
           "showlakes": true,
           "showland": true,
           "subunitcolor": "white"
          },
          "hoverlabel": {
           "align": "left"
          },
          "hovermode": "closest",
          "mapbox": {
           "style": "light"
          },
          "paper_bgcolor": "white",
          "plot_bgcolor": "#E5ECF6",
          "polar": {
           "angularaxis": {
            "gridcolor": "white",
            "linecolor": "white",
            "ticks": ""
           },
           "bgcolor": "#E5ECF6",
           "radialaxis": {
            "gridcolor": "white",
            "linecolor": "white",
            "ticks": ""
           }
          },
          "scene": {
           "xaxis": {
            "backgroundcolor": "#E5ECF6",
            "gridcolor": "white",
            "gridwidth": 2,
            "linecolor": "white",
            "showbackground": true,
            "ticks": "",
            "zerolinecolor": "white"
           },
           "yaxis": {
            "backgroundcolor": "#E5ECF6",
            "gridcolor": "white",
            "gridwidth": 2,
            "linecolor": "white",
            "showbackground": true,
            "ticks": "",
            "zerolinecolor": "white"
           },
           "zaxis": {
            "backgroundcolor": "#E5ECF6",
            "gridcolor": "white",
            "gridwidth": 2,
            "linecolor": "white",
            "showbackground": true,
            "ticks": "",
            "zerolinecolor": "white"
           }
          },
          "shapedefaults": {
           "line": {
            "color": "#2a3f5f"
           }
          },
          "ternary": {
           "aaxis": {
            "gridcolor": "white",
            "linecolor": "white",
            "ticks": ""
           },
           "baxis": {
            "gridcolor": "white",
            "linecolor": "white",
            "ticks": ""
           },
           "bgcolor": "#E5ECF6",
           "caxis": {
            "gridcolor": "white",
            "linecolor": "white",
            "ticks": ""
           }
          },
          "title": {
           "x": 0.05
          },
          "xaxis": {
           "automargin": true,
           "gridcolor": "white",
           "linecolor": "white",
           "ticks": "",
           "title": {
            "standoff": 15
           },
           "zerolinecolor": "white",
           "zerolinewidth": 2
          },
          "yaxis": {
           "automargin": true,
           "gridcolor": "white",
           "linecolor": "white",
           "ticks": "",
           "title": {
            "standoff": 15
           },
           "zerolinecolor": "white",
           "zerolinewidth": 2
          }
         }
        },
        "xaxis": {
         "anchor": "y",
         "domain": [
          0,
          1
         ],
         "title": {
          "text": "0"
         }
        },
        "yaxis": {
         "anchor": "x",
         "domain": [
          0,
          1
         ],
         "title": {
          "text": "index"
         }
        }
       }
      },
      "text/html": [
       "<div>\n",
       "        \n",
       "        \n",
       "            <div id=\"953136bf-4066-47ce-adde-deca6b61ac8f\" class=\"plotly-graph-div\" style=\"height:525px; width:100%;\"></div>\n",
       "            <script type=\"text/javascript\">\n",
       "                require([\"plotly\"], function(Plotly) {\n",
       "                    window.PLOTLYENV=window.PLOTLYENV || {};\n",
       "                    \n",
       "                if (document.getElementById(\"953136bf-4066-47ce-adde-deca6b61ac8f\")) {\n",
       "                    Plotly.newPlot(\n",
       "                        '953136bf-4066-47ce-adde-deca6b61ac8f',\n",
       "                        [{\"alignmentgroup\": \"True\", \"hovertemplate\": \"0=%{x}<br>index=%{y}<extra></extra>\", \"legendgroup\": \"\", \"marker\": {\"color\": \"#636efa\"}, \"name\": \"\", \"offsetgroup\": \"\", \"orientation\": \"h\", \"showlegend\": false, \"textposition\": \"auto\", \"type\": \"bar\", \"x\": [29, 26, 26, 26, 25, 23, 23, 22, 22, 21], \"xaxis\": \"x\", \"y\": [\"Compilers, People and ideas\", \"US Politics and administration, Weird letters\", \"People and ideas, Wordpress\", \"US Politics and administration, Literature, culture, philosophy\", \"Literature, culture, philosophy, Wordpress\", \"US Politics and administration, Software\", \"US Politics and administration, Wordpress\", \"US Politics and administration, People and ideas\", \"US Politics and administration, Medicine\", \"Linux, Wordpress\"], \"yaxis\": \"y\"}],\n",
       "                        {\"barmode\": \"relative\", \"legend\": {\"tracegroupgap\": 0}, \"margin\": {\"t\": 60}, \"template\": {\"data\": {\"bar\": [{\"error_x\": {\"color\": \"#2a3f5f\"}, \"error_y\": {\"color\": \"#2a3f5f\"}, \"marker\": {\"line\": {\"color\": \"#E5ECF6\", \"width\": 0.5}}, \"type\": \"bar\"}], \"barpolar\": [{\"marker\": {\"line\": {\"color\": \"#E5ECF6\", \"width\": 0.5}}, \"type\": \"barpolar\"}], \"carpet\": [{\"aaxis\": {\"endlinecolor\": \"#2a3f5f\", \"gridcolor\": \"white\", \"linecolor\": \"white\", \"minorgridcolor\": \"white\", \"startlinecolor\": \"#2a3f5f\"}, \"baxis\": {\"endlinecolor\": \"#2a3f5f\", \"gridcolor\": \"white\", \"linecolor\": \"white\", \"minorgridcolor\": \"white\", \"startlinecolor\": \"#2a3f5f\"}, \"type\": \"carpet\"}], \"choropleth\": [{\"colorbar\": {\"outlinewidth\": 0, \"ticks\": \"\"}, \"type\": \"choropleth\"}], \"contour\": [{\"colorbar\": {\"outlinewidth\": 0, \"ticks\": \"\"}, \"colorscale\": [[0.0, \"#0d0887\"], [0.1111111111111111, \"#46039f\"], [0.2222222222222222, \"#7201a8\"], [0.3333333333333333, \"#9c179e\"], [0.4444444444444444, \"#bd3786\"], [0.5555555555555556, \"#d8576b\"], [0.6666666666666666, \"#ed7953\"], [0.7777777777777778, \"#fb9f3a\"], [0.8888888888888888, \"#fdca26\"], [1.0, \"#f0f921\"]], \"type\": \"contour\"}], \"contourcarpet\": [{\"colorbar\": {\"outlinewidth\": 0, \"ticks\": \"\"}, \"type\": \"contourcarpet\"}], \"heatmap\": [{\"colorbar\": {\"outlinewidth\": 0, \"ticks\": \"\"}, \"colorscale\": [[0.0, \"#0d0887\"], [0.1111111111111111, \"#46039f\"], [0.2222222222222222, \"#7201a8\"], [0.3333333333333333, \"#9c179e\"], [0.4444444444444444, \"#bd3786\"], [0.5555555555555556, \"#d8576b\"], [0.6666666666666666, \"#ed7953\"], [0.7777777777777778, \"#fb9f3a\"], [0.8888888888888888, \"#fdca26\"], [1.0, \"#f0f921\"]], \"type\": \"heatmap\"}], \"heatmapgl\": [{\"colorbar\": {\"outlinewidth\": 0, \"ticks\": \"\"}, \"colorscale\": [[0.0, \"#0d0887\"], [0.1111111111111111, \"#46039f\"], [0.2222222222222222, \"#7201a8\"], [0.3333333333333333, \"#9c179e\"], [0.4444444444444444, \"#bd3786\"], [0.5555555555555556, \"#d8576b\"], [0.6666666666666666, \"#ed7953\"], [0.7777777777777778, \"#fb9f3a\"], [0.8888888888888888, \"#fdca26\"], [1.0, \"#f0f921\"]], \"type\": \"heatmapgl\"}], \"histogram\": [{\"marker\": {\"colorbar\": {\"outlinewidth\": 0, \"ticks\": \"\"}}, \"type\": \"histogram\"}], \"histogram2d\": [{\"colorbar\": {\"outlinewidth\": 0, \"ticks\": \"\"}, \"colorscale\": [[0.0, \"#0d0887\"], [0.1111111111111111, \"#46039f\"], [0.2222222222222222, \"#7201a8\"], [0.3333333333333333, \"#9c179e\"], [0.4444444444444444, \"#bd3786\"], [0.5555555555555556, \"#d8576b\"], [0.6666666666666666, \"#ed7953\"], [0.7777777777777778, \"#fb9f3a\"], [0.8888888888888888, \"#fdca26\"], [1.0, \"#f0f921\"]], \"type\": \"histogram2d\"}], \"histogram2dcontour\": [{\"colorbar\": {\"outlinewidth\": 0, \"ticks\": \"\"}, \"colorscale\": [[0.0, \"#0d0887\"], [0.1111111111111111, \"#46039f\"], [0.2222222222222222, \"#7201a8\"], [0.3333333333333333, \"#9c179e\"], [0.4444444444444444, \"#bd3786\"], [0.5555555555555556, \"#d8576b\"], [0.6666666666666666, \"#ed7953\"], [0.7777777777777778, \"#fb9f3a\"], [0.8888888888888888, \"#fdca26\"], [1.0, \"#f0f921\"]], \"type\": \"histogram2dcontour\"}], \"mesh3d\": [{\"colorbar\": {\"outlinewidth\": 0, \"ticks\": \"\"}, \"type\": \"mesh3d\"}], \"parcoords\": [{\"line\": {\"colorbar\": {\"outlinewidth\": 0, \"ticks\": \"\"}}, \"type\": \"parcoords\"}], \"pie\": [{\"automargin\": true, \"type\": \"pie\"}], \"scatter\": [{\"marker\": {\"colorbar\": {\"outlinewidth\": 0, \"ticks\": \"\"}}, \"type\": \"scatter\"}], \"scatter3d\": [{\"line\": {\"colorbar\": {\"outlinewidth\": 0, \"ticks\": \"\"}}, \"marker\": {\"colorbar\": {\"outlinewidth\": 0, \"ticks\": \"\"}}, \"type\": \"scatter3d\"}], \"scattercarpet\": [{\"marker\": {\"colorbar\": {\"outlinewidth\": 0, \"ticks\": \"\"}}, \"type\": \"scattercarpet\"}], \"scattergeo\": [{\"marker\": {\"colorbar\": {\"outlinewidth\": 0, \"ticks\": \"\"}}, \"type\": \"scattergeo\"}], \"scattergl\": [{\"marker\": {\"colorbar\": {\"outlinewidth\": 0, \"ticks\": \"\"}}, \"type\": \"scattergl\"}], \"scattermapbox\": [{\"marker\": {\"colorbar\": {\"outlinewidth\": 0, \"ticks\": \"\"}}, \"type\": \"scattermapbox\"}], \"scatterpolar\": [{\"marker\": {\"colorbar\": {\"outlinewidth\": 0, \"ticks\": \"\"}}, \"type\": \"scatterpolar\"}], \"scatterpolargl\": [{\"marker\": {\"colorbar\": {\"outlinewidth\": 0, \"ticks\": \"\"}}, \"type\": \"scatterpolargl\"}], \"scatterternary\": [{\"marker\": {\"colorbar\": {\"outlinewidth\": 0, \"ticks\": \"\"}}, \"type\": \"scatterternary\"}], \"surface\": [{\"colorbar\": {\"outlinewidth\": 0, \"ticks\": \"\"}, \"colorscale\": [[0.0, \"#0d0887\"], [0.1111111111111111, \"#46039f\"], [0.2222222222222222, \"#7201a8\"], [0.3333333333333333, \"#9c179e\"], [0.4444444444444444, \"#bd3786\"], [0.5555555555555556, \"#d8576b\"], [0.6666666666666666, \"#ed7953\"], [0.7777777777777778, \"#fb9f3a\"], [0.8888888888888888, \"#fdca26\"], [1.0, \"#f0f921\"]], \"type\": \"surface\"}], \"table\": [{\"cells\": {\"fill\": {\"color\": \"#EBF0F8\"}, \"line\": {\"color\": \"white\"}}, \"header\": {\"fill\": {\"color\": \"#C8D4E3\"}, \"line\": {\"color\": \"white\"}}, \"type\": \"table\"}]}, \"layout\": {\"annotationdefaults\": {\"arrowcolor\": \"#2a3f5f\", \"arrowhead\": 0, \"arrowwidth\": 1}, \"coloraxis\": {\"colorbar\": {\"outlinewidth\": 0, \"ticks\": \"\"}}, \"colorscale\": {\"diverging\": [[0, \"#8e0152\"], [0.1, \"#c51b7d\"], [0.2, \"#de77ae\"], [0.3, \"#f1b6da\"], [0.4, \"#fde0ef\"], [0.5, \"#f7f7f7\"], [0.6, \"#e6f5d0\"], [0.7, \"#b8e186\"], [0.8, \"#7fbc41\"], [0.9, \"#4d9221\"], [1, \"#276419\"]], \"sequential\": [[0.0, \"#0d0887\"], [0.1111111111111111, \"#46039f\"], [0.2222222222222222, \"#7201a8\"], [0.3333333333333333, \"#9c179e\"], [0.4444444444444444, \"#bd3786\"], [0.5555555555555556, \"#d8576b\"], [0.6666666666666666, \"#ed7953\"], [0.7777777777777778, \"#fb9f3a\"], [0.8888888888888888, \"#fdca26\"], [1.0, \"#f0f921\"]], \"sequentialminus\": [[0.0, \"#0d0887\"], [0.1111111111111111, \"#46039f\"], [0.2222222222222222, \"#7201a8\"], [0.3333333333333333, \"#9c179e\"], [0.4444444444444444, \"#bd3786\"], [0.5555555555555556, \"#d8576b\"], [0.6666666666666666, \"#ed7953\"], [0.7777777777777778, \"#fb9f3a\"], [0.8888888888888888, \"#fdca26\"], [1.0, \"#f0f921\"]]}, \"colorway\": [\"#636efa\", \"#EF553B\", \"#00cc96\", \"#ab63fa\", \"#FFA15A\", \"#19d3f3\", \"#FF6692\", \"#B6E880\", \"#FF97FF\", \"#FECB52\"], \"font\": {\"color\": \"#2a3f5f\"}, \"geo\": {\"bgcolor\": \"white\", \"lakecolor\": \"white\", \"landcolor\": \"#E5ECF6\", \"showlakes\": true, \"showland\": true, \"subunitcolor\": \"white\"}, \"hoverlabel\": {\"align\": \"left\"}, \"hovermode\": \"closest\", \"mapbox\": {\"style\": \"light\"}, \"paper_bgcolor\": \"white\", \"plot_bgcolor\": \"#E5ECF6\", \"polar\": {\"angularaxis\": {\"gridcolor\": \"white\", \"linecolor\": \"white\", \"ticks\": \"\"}, \"bgcolor\": \"#E5ECF6\", \"radialaxis\": {\"gridcolor\": \"white\", \"linecolor\": \"white\", \"ticks\": \"\"}}, \"scene\": {\"xaxis\": {\"backgroundcolor\": \"#E5ECF6\", \"gridcolor\": \"white\", \"gridwidth\": 2, \"linecolor\": \"white\", \"showbackground\": true, \"ticks\": \"\", \"zerolinecolor\": \"white\"}, \"yaxis\": {\"backgroundcolor\": \"#E5ECF6\", \"gridcolor\": \"white\", \"gridwidth\": 2, \"linecolor\": \"white\", \"showbackground\": true, \"ticks\": \"\", \"zerolinecolor\": \"white\"}, \"zaxis\": {\"backgroundcolor\": \"#E5ECF6\", \"gridcolor\": \"white\", \"gridwidth\": 2, \"linecolor\": \"white\", \"showbackground\": true, \"ticks\": \"\", \"zerolinecolor\": \"white\"}}, \"shapedefaults\": {\"line\": {\"color\": \"#2a3f5f\"}}, \"ternary\": {\"aaxis\": {\"gridcolor\": \"white\", \"linecolor\": \"white\", \"ticks\": \"\"}, \"baxis\": {\"gridcolor\": \"white\", \"linecolor\": \"white\", \"ticks\": \"\"}, \"bgcolor\": \"#E5ECF6\", \"caxis\": {\"gridcolor\": \"white\", \"linecolor\": \"white\", \"ticks\": \"\"}}, \"title\": {\"x\": 0.05}, \"xaxis\": {\"automargin\": true, \"gridcolor\": \"white\", \"linecolor\": \"white\", \"ticks\": \"\", \"title\": {\"standoff\": 15}, \"zerolinecolor\": \"white\", \"zerolinewidth\": 2}, \"yaxis\": {\"automargin\": true, \"gridcolor\": \"white\", \"linecolor\": \"white\", \"ticks\": \"\", \"title\": {\"standoff\": 15}, \"zerolinecolor\": \"white\", \"zerolinewidth\": 2}}}, \"xaxis\": {\"anchor\": \"y\", \"domain\": [0.0, 1.0], \"title\": {\"text\": \"0\"}}, \"yaxis\": {\"anchor\": \"x\", \"domain\": [0.0, 1.0], \"title\": {\"text\": \"index\"}}},\n",
       "                        {\"responsive\": true}\n",
       "                    ).then(function(){\n",
       "                            \n",
       "var gd = document.getElementById('953136bf-4066-47ce-adde-deca6b61ac8f');\n",
       "var x = new MutationObserver(function (mutations, observer) {{\n",
       "        var display = window.getComputedStyle(gd).display;\n",
       "        if (!display || display === 'none') {{\n",
       "            console.log([gd, 'removed!']);\n",
       "            Plotly.purge(gd);\n",
       "            observer.disconnect();\n",
       "        }}\n",
       "}});\n",
       "\n",
       "// Listen for the removal of the full notebook cells\n",
       "var notebookContainer = gd.closest('#notebook-container');\n",
       "if (notebookContainer) {{\n",
       "    x.observe(notebookContainer, {childList: true});\n",
       "}}\n",
       "\n",
       "// Listen for the clearing of the current output cell\n",
       "var outputEl = gd.closest('.output');\n",
       "if (outputEl) {{\n",
       "    x.observe(outputEl, {childList: true});\n",
       "}}\n",
       "\n",
       "                        })\n",
       "                };\n",
       "                });\n",
       "            </script>\n",
       "        </div>"
      ]
     },
     "metadata": {},
     "output_type": "display_data"
    }
   ],
   "source": [
    "fig = px.bar(\n",
    "    plot_data,\n",
    "    x = 0,\n",
    "    y = 'index',\n",
    "    orientation='h'\n",
    ")\n",
    "\n",
    "fig.show()"
   ]
  },
  {
   "cell_type": "code",
   "execution_count": 44,
   "metadata": {},
   "outputs": [
    {
     "data": {
      "application/vnd.plotly.v1+json": {
       "config": {
        "plotlyServerURL": "https://plot.ly"
       },
       "data": [
        {
         "hovertemplate": "color=People and ideas<br>x=%{x}<br>y=%{y}<extra></extra>",
         "legendgroup": "People and ideas",
         "line": {
          "color": "#636efa",
          "dash": "solid"
         },
         "mode": "lines",
         "name": "People and ideas",
         "showlegend": true,
         "type": "scatter",
         "x": [
          "2020-01-31T00:00:00",
          "2020-04-30T00:00:00",
          "2020-05-31T00:00:00",
          "2020-06-30T00:00:00",
          "2020-08-31T00:00:00",
          "2020-09-30T00:00:00"
         ],
         "xaxis": "x",
         "y": [
          52,
          19981,
          45921,
          5037,
          11374,
          14675
         ],
         "yaxis": "y"
        },
        {
         "hovertemplate": "color=Deployments and databases<br>x=%{x}<br>y=%{y}<extra></extra>",
         "legendgroup": "Deployments and databases",
         "line": {
          "color": "#EF553B",
          "dash": "solid"
         },
         "mode": "lines",
         "name": "Deployments and databases",
         "showlegend": true,
         "type": "scatter",
         "x": [
          "2020-03-31T00:00:00",
          "2020-04-30T00:00:00",
          "2020-05-31T00:00:00",
          "2020-06-30T00:00:00",
          "2020-08-31T00:00:00",
          "2020-09-30T00:00:00"
         ],
         "xaxis": "x",
         "y": [
          190,
          8402,
          31543,
          1967,
          3376,
          8909
         ],
         "yaxis": "y"
        },
        {
         "hovertemplate": "color=Compilers<br>x=%{x}<br>y=%{y}<extra></extra>",
         "legendgroup": "Compilers",
         "line": {
          "color": "#00cc96",
          "dash": "solid"
         },
         "mode": "lines",
         "name": "Compilers",
         "showlegend": true,
         "type": "scatter",
         "x": [
          "2020-04-30T00:00:00",
          "2020-05-31T00:00:00",
          "2020-06-30T00:00:00",
          "2020-08-31T00:00:00",
          "2020-09-30T00:00:00"
         ],
         "xaxis": "x",
         "y": [
          13540,
          37919,
          2084,
          10483,
          11071
         ],
         "yaxis": "y"
        },
        {
         "hovertemplate": "color=Github repositories<br>x=%{x}<br>y=%{y}<extra></extra>",
         "legendgroup": "Github repositories",
         "line": {
          "color": "#ab63fa",
          "dash": "solid"
         },
         "mode": "lines",
         "name": "Github repositories",
         "showlegend": true,
         "type": "scatter",
         "x": [
          "2020-04-30T00:00:00",
          "2020-05-31T00:00:00",
          "2020-06-30T00:00:00",
          "2020-08-31T00:00:00",
          "2020-09-30T00:00:00"
         ],
         "xaxis": "x",
         "y": [
          10343,
          26460,
          3068,
          5958,
          9819
         ],
         "yaxis": "y"
        },
        {
         "hovertemplate": "color=Government committees<br>x=%{x}<br>y=%{y}<extra></extra>",
         "legendgroup": "Government committees",
         "line": {
          "color": "#FFA15A",
          "dash": "solid"
         },
         "mode": "lines",
         "name": "Government committees",
         "showlegend": true,
         "type": "scatter",
         "x": [
          "2020-04-30T00:00:00",
          "2020-05-31T00:00:00",
          "2020-06-30T00:00:00",
          "2020-08-31T00:00:00",
          "2020-09-30T00:00:00"
         ],
         "xaxis": "x",
         "y": [
          2405,
          11940,
          4028,
          4615,
          5966
         ],
         "yaxis": "y"
        },
        {
         "hovertemplate": "color=Hardware<br>x=%{x}<br>y=%{y}<extra></extra>",
         "legendgroup": "Hardware",
         "line": {
          "color": "#19d3f3",
          "dash": "solid"
         },
         "mode": "lines",
         "name": "Hardware",
         "showlegend": true,
         "type": "scatter",
         "x": [
          "2020-04-30T00:00:00",
          "2020-05-31T00:00:00",
          "2020-06-30T00:00:00",
          "2020-08-31T00:00:00",
          "2020-09-30T00:00:00"
         ],
         "xaxis": "x",
         "y": [
          5618,
          12901,
          2229,
          3864,
          8965
         ],
         "yaxis": "y"
        },
        {
         "hovertemplate": "color=JavaScript<br>x=%{x}<br>y=%{y}<extra></extra>",
         "legendgroup": "JavaScript",
         "line": {
          "color": "#FF6692",
          "dash": "solid"
         },
         "mode": "lines",
         "name": "JavaScript",
         "showlegend": true,
         "type": "scatter",
         "x": [
          "2020-04-30T00:00:00",
          "2020-05-31T00:00:00",
          "2020-06-30T00:00:00",
          "2020-08-31T00:00:00",
          "2020-09-30T00:00:00"
         ],
         "xaxis": "x",
         "y": [
          4342,
          15218,
          1900,
          4215,
          9571
         ],
         "yaxis": "y"
        },
        {
         "hovertemplate": "color=Linux<br>x=%{x}<br>y=%{y}<extra></extra>",
         "legendgroup": "Linux",
         "line": {
          "color": "#B6E880",
          "dash": "solid"
         },
         "mode": "lines",
         "name": "Linux",
         "showlegend": true,
         "type": "scatter",
         "x": [
          "2020-04-30T00:00:00",
          "2020-05-31T00:00:00",
          "2020-06-30T00:00:00",
          "2020-08-31T00:00:00",
          "2020-09-30T00:00:00"
         ],
         "xaxis": "x",
         "y": [
          13115,
          25749,
          2415,
          5145,
          9263
         ],
         "yaxis": "y"
        },
        {
         "hovertemplate": "color=Literature, culture, philosophy<br>x=%{x}<br>y=%{y}<extra></extra>",
         "legendgroup": "Literature, culture, philosophy",
         "line": {
          "color": "#FF97FF",
          "dash": "solid"
         },
         "mode": "lines",
         "name": "Literature, culture, philosophy",
         "showlegend": true,
         "type": "scatter",
         "x": [
          "2020-04-30T00:00:00",
          "2020-05-31T00:00:00",
          "2020-06-30T00:00:00",
          "2020-08-31T00:00:00",
          "2020-09-30T00:00:00"
         ],
         "xaxis": "x",
         "y": [
          7516,
          16532,
          3134,
          5143,
          8804
         ],
         "yaxis": "y"
        },
        {
         "hovertemplate": "color=Machine Learning<br>x=%{x}<br>y=%{y}<extra></extra>",
         "legendgroup": "Machine Learning",
         "line": {
          "color": "#FECB52",
          "dash": "solid"
         },
         "mode": "lines",
         "name": "Machine Learning",
         "showlegend": true,
         "type": "scatter",
         "x": [
          "2020-04-30T00:00:00",
          "2020-05-31T00:00:00",
          "2020-06-30T00:00:00",
          "2020-08-31T00:00:00",
          "2020-09-30T00:00:00"
         ],
         "xaxis": "x",
         "y": [
          4159,
          16929,
          2525,
          5381,
          4845
         ],
         "yaxis": "y"
        },
        {
         "hovertemplate": "color=Medicine<br>x=%{x}<br>y=%{y}<extra></extra>",
         "legendgroup": "Medicine",
         "line": {
          "color": "#636efa",
          "dash": "solid"
         },
         "mode": "lines",
         "name": "Medicine",
         "showlegend": true,
         "type": "scatter",
         "x": [
          "2020-04-30T00:00:00",
          "2020-05-31T00:00:00",
          "2020-06-30T00:00:00",
          "2020-08-31T00:00:00",
          "2020-09-30T00:00:00"
         ],
         "xaxis": "x",
         "y": [
          4930,
          10965,
          1054,
          2078,
          4263
         ],
         "yaxis": "y"
        },
        {
         "hovertemplate": "color=People words<br>x=%{x}<br>y=%{y}<extra></extra>",
         "legendgroup": "People words",
         "line": {
          "color": "#EF553B",
          "dash": "solid"
         },
         "mode": "lines",
         "name": "People words",
         "showlegend": true,
         "type": "scatter",
         "x": [
          "2020-04-30T00:00:00",
          "2020-05-31T00:00:00",
          "2020-06-30T00:00:00",
          "2020-08-31T00:00:00",
          "2020-09-30T00:00:00"
         ],
         "xaxis": "x",
         "y": [
          4977,
          29190,
          2812,
          7490,
          13796
         ],
         "yaxis": "y"
        },
        {
         "hovertemplate": "color=Programming words<br>x=%{x}<br>y=%{y}<extra></extra>",
         "legendgroup": "Programming words",
         "line": {
          "color": "#00cc96",
          "dash": "solid"
         },
         "mode": "lines",
         "name": "Programming words",
         "showlegend": true,
         "type": "scatter",
         "x": [
          "2020-04-30T00:00:00",
          "2020-05-31T00:00:00",
          "2020-06-30T00:00:00",
          "2020-08-31T00:00:00",
          "2020-09-30T00:00:00"
         ],
         "xaxis": "x",
         "y": [
          3671,
          8805,
          1215,
          3139,
          3396
         ],
         "yaxis": "y"
        },
        {
         "hovertemplate": "color=Renewable energy<br>x=%{x}<br>y=%{y}<extra></extra>",
         "legendgroup": "Renewable energy",
         "line": {
          "color": "#ab63fa",
          "dash": "solid"
         },
         "mode": "lines",
         "name": "Renewable energy",
         "showlegend": true,
         "type": "scatter",
         "x": [
          "2020-04-30T00:00:00",
          "2020-05-31T00:00:00",
          "2020-06-30T00:00:00",
          "2020-08-31T00:00:00",
          "2020-09-30T00:00:00"
         ],
         "xaxis": "x",
         "y": [
          2998,
          14434,
          2507,
          4802,
          4957
         ],
         "yaxis": "y"
        },
        {
         "hovertemplate": "color=Software<br>x=%{x}<br>y=%{y}<extra></extra>",
         "legendgroup": "Software",
         "line": {
          "color": "#FFA15A",
          "dash": "solid"
         },
         "mode": "lines",
         "name": "Software",
         "showlegend": true,
         "type": "scatter",
         "x": [
          "2020-04-30T00:00:00",
          "2020-05-31T00:00:00",
          "2020-06-30T00:00:00",
          "2020-08-31T00:00:00",
          "2020-09-30T00:00:00"
         ],
         "xaxis": "x",
         "y": [
          7589,
          24978,
          2682,
          6483,
          10090
         ],
         "yaxis": "y"
        },
        {
         "hovertemplate": "color=Texts with codes<br>x=%{x}<br>y=%{y}<extra></extra>",
         "legendgroup": "Texts with codes",
         "line": {
          "color": "#19d3f3",
          "dash": "solid"
         },
         "mode": "lines",
         "name": "Texts with codes",
         "showlegend": true,
         "type": "scatter",
         "x": [
          "2020-04-30T00:00:00",
          "2020-05-31T00:00:00",
          "2020-06-30T00:00:00",
          "2020-08-31T00:00:00",
          "2020-09-30T00:00:00"
         ],
         "xaxis": "x",
         "y": [
          5409,
          9963,
          1570,
          2649,
          7028
         ],
         "yaxis": "y"
        },
        {
         "hovertemplate": "color=US Politics and administration<br>x=%{x}<br>y=%{y}<extra></extra>",
         "legendgroup": "US Politics and administration",
         "line": {
          "color": "#FF6692",
          "dash": "solid"
         },
         "mode": "lines",
         "name": "US Politics and administration",
         "showlegend": true,
         "type": "scatter",
         "x": [
          "2020-04-30T00:00:00",
          "2020-05-31T00:00:00",
          "2020-06-30T00:00:00",
          "2020-08-31T00:00:00",
          "2020-09-30T00:00:00"
         ],
         "xaxis": "x",
         "y": [
          12163,
          26553,
          6630,
          7353,
          14612
         ],
         "yaxis": "y"
        },
        {
         "hovertemplate": "color=Weird letters<br>x=%{x}<br>y=%{y}<extra></extra>",
         "legendgroup": "Weird letters",
         "line": {
          "color": "#B6E880",
          "dash": "solid"
         },
         "mode": "lines",
         "name": "Weird letters",
         "showlegend": true,
         "type": "scatter",
         "x": [
          "2020-04-30T00:00:00",
          "2020-05-31T00:00:00",
          "2020-06-30T00:00:00",
          "2020-08-31T00:00:00",
          "2020-09-30T00:00:00"
         ],
         "xaxis": "x",
         "y": [
          8472,
          30456,
          3659,
          7126,
          7484
         ],
         "yaxis": "y"
        },
        {
         "hovertemplate": "color=Weird words<br>x=%{x}<br>y=%{y}<extra></extra>",
         "legendgroup": "Weird words",
         "line": {
          "color": "#FF97FF",
          "dash": "solid"
         },
         "mode": "lines",
         "name": "Weird words",
         "showlegend": true,
         "type": "scatter",
         "x": [
          "2020-04-30T00:00:00",
          "2020-05-31T00:00:00",
          "2020-06-30T00:00:00",
          "2020-08-31T00:00:00",
          "2020-09-30T00:00:00"
         ],
         "xaxis": "x",
         "y": [
          6573,
          17725,
          2536,
          1874,
          6274
         ],
         "yaxis": "y"
        },
        {
         "hovertemplate": "color=Wordpress<br>x=%{x}<br>y=%{y}<extra></extra>",
         "legendgroup": "Wordpress",
         "line": {
          "color": "#FECB52",
          "dash": "solid"
         },
         "mode": "lines",
         "name": "Wordpress",
         "showlegend": true,
         "type": "scatter",
         "x": [
          "2020-04-30T00:00:00",
          "2020-05-31T00:00:00",
          "2020-06-30T00:00:00",
          "2020-08-31T00:00:00",
          "2020-09-30T00:00:00"
         ],
         "xaxis": "x",
         "y": [
          8995,
          17966,
          3614,
          7897,
          9878
         ],
         "yaxis": "y"
        }
       ],
       "layout": {
        "legend": {
         "title": {
          "text": "color"
         },
         "tracegroupgap": 0
        },
        "template": {
         "data": {
          "bar": [
           {
            "error_x": {
             "color": "#2a3f5f"
            },
            "error_y": {
             "color": "#2a3f5f"
            },
            "marker": {
             "line": {
              "color": "#E5ECF6",
              "width": 0.5
             }
            },
            "type": "bar"
           }
          ],
          "barpolar": [
           {
            "marker": {
             "line": {
              "color": "#E5ECF6",
              "width": 0.5
             }
            },
            "type": "barpolar"
           }
          ],
          "carpet": [
           {
            "aaxis": {
             "endlinecolor": "#2a3f5f",
             "gridcolor": "white",
             "linecolor": "white",
             "minorgridcolor": "white",
             "startlinecolor": "#2a3f5f"
            },
            "baxis": {
             "endlinecolor": "#2a3f5f",
             "gridcolor": "white",
             "linecolor": "white",
             "minorgridcolor": "white",
             "startlinecolor": "#2a3f5f"
            },
            "type": "carpet"
           }
          ],
          "choropleth": [
           {
            "colorbar": {
             "outlinewidth": 0,
             "ticks": ""
            },
            "type": "choropleth"
           }
          ],
          "contour": [
           {
            "colorbar": {
             "outlinewidth": 0,
             "ticks": ""
            },
            "colorscale": [
             [
              0,
              "#0d0887"
             ],
             [
              0.1111111111111111,
              "#46039f"
             ],
             [
              0.2222222222222222,
              "#7201a8"
             ],
             [
              0.3333333333333333,
              "#9c179e"
             ],
             [
              0.4444444444444444,
              "#bd3786"
             ],
             [
              0.5555555555555556,
              "#d8576b"
             ],
             [
              0.6666666666666666,
              "#ed7953"
             ],
             [
              0.7777777777777778,
              "#fb9f3a"
             ],
             [
              0.8888888888888888,
              "#fdca26"
             ],
             [
              1,
              "#f0f921"
             ]
            ],
            "type": "contour"
           }
          ],
          "contourcarpet": [
           {
            "colorbar": {
             "outlinewidth": 0,
             "ticks": ""
            },
            "type": "contourcarpet"
           }
          ],
          "heatmap": [
           {
            "colorbar": {
             "outlinewidth": 0,
             "ticks": ""
            },
            "colorscale": [
             [
              0,
              "#0d0887"
             ],
             [
              0.1111111111111111,
              "#46039f"
             ],
             [
              0.2222222222222222,
              "#7201a8"
             ],
             [
              0.3333333333333333,
              "#9c179e"
             ],
             [
              0.4444444444444444,
              "#bd3786"
             ],
             [
              0.5555555555555556,
              "#d8576b"
             ],
             [
              0.6666666666666666,
              "#ed7953"
             ],
             [
              0.7777777777777778,
              "#fb9f3a"
             ],
             [
              0.8888888888888888,
              "#fdca26"
             ],
             [
              1,
              "#f0f921"
             ]
            ],
            "type": "heatmap"
           }
          ],
          "heatmapgl": [
           {
            "colorbar": {
             "outlinewidth": 0,
             "ticks": ""
            },
            "colorscale": [
             [
              0,
              "#0d0887"
             ],
             [
              0.1111111111111111,
              "#46039f"
             ],
             [
              0.2222222222222222,
              "#7201a8"
             ],
             [
              0.3333333333333333,
              "#9c179e"
             ],
             [
              0.4444444444444444,
              "#bd3786"
             ],
             [
              0.5555555555555556,
              "#d8576b"
             ],
             [
              0.6666666666666666,
              "#ed7953"
             ],
             [
              0.7777777777777778,
              "#fb9f3a"
             ],
             [
              0.8888888888888888,
              "#fdca26"
             ],
             [
              1,
              "#f0f921"
             ]
            ],
            "type": "heatmapgl"
           }
          ],
          "histogram": [
           {
            "marker": {
             "colorbar": {
              "outlinewidth": 0,
              "ticks": ""
             }
            },
            "type": "histogram"
           }
          ],
          "histogram2d": [
           {
            "colorbar": {
             "outlinewidth": 0,
             "ticks": ""
            },
            "colorscale": [
             [
              0,
              "#0d0887"
             ],
             [
              0.1111111111111111,
              "#46039f"
             ],
             [
              0.2222222222222222,
              "#7201a8"
             ],
             [
              0.3333333333333333,
              "#9c179e"
             ],
             [
              0.4444444444444444,
              "#bd3786"
             ],
             [
              0.5555555555555556,
              "#d8576b"
             ],
             [
              0.6666666666666666,
              "#ed7953"
             ],
             [
              0.7777777777777778,
              "#fb9f3a"
             ],
             [
              0.8888888888888888,
              "#fdca26"
             ],
             [
              1,
              "#f0f921"
             ]
            ],
            "type": "histogram2d"
           }
          ],
          "histogram2dcontour": [
           {
            "colorbar": {
             "outlinewidth": 0,
             "ticks": ""
            },
            "colorscale": [
             [
              0,
              "#0d0887"
             ],
             [
              0.1111111111111111,
              "#46039f"
             ],
             [
              0.2222222222222222,
              "#7201a8"
             ],
             [
              0.3333333333333333,
              "#9c179e"
             ],
             [
              0.4444444444444444,
              "#bd3786"
             ],
             [
              0.5555555555555556,
              "#d8576b"
             ],
             [
              0.6666666666666666,
              "#ed7953"
             ],
             [
              0.7777777777777778,
              "#fb9f3a"
             ],
             [
              0.8888888888888888,
              "#fdca26"
             ],
             [
              1,
              "#f0f921"
             ]
            ],
            "type": "histogram2dcontour"
           }
          ],
          "mesh3d": [
           {
            "colorbar": {
             "outlinewidth": 0,
             "ticks": ""
            },
            "type": "mesh3d"
           }
          ],
          "parcoords": [
           {
            "line": {
             "colorbar": {
              "outlinewidth": 0,
              "ticks": ""
             }
            },
            "type": "parcoords"
           }
          ],
          "pie": [
           {
            "automargin": true,
            "type": "pie"
           }
          ],
          "scatter": [
           {
            "marker": {
             "colorbar": {
              "outlinewidth": 0,
              "ticks": ""
             }
            },
            "type": "scatter"
           }
          ],
          "scatter3d": [
           {
            "line": {
             "colorbar": {
              "outlinewidth": 0,
              "ticks": ""
             }
            },
            "marker": {
             "colorbar": {
              "outlinewidth": 0,
              "ticks": ""
             }
            },
            "type": "scatter3d"
           }
          ],
          "scattercarpet": [
           {
            "marker": {
             "colorbar": {
              "outlinewidth": 0,
              "ticks": ""
             }
            },
            "type": "scattercarpet"
           }
          ],
          "scattergeo": [
           {
            "marker": {
             "colorbar": {
              "outlinewidth": 0,
              "ticks": ""
             }
            },
            "type": "scattergeo"
           }
          ],
          "scattergl": [
           {
            "marker": {
             "colorbar": {
              "outlinewidth": 0,
              "ticks": ""
             }
            },
            "type": "scattergl"
           }
          ],
          "scattermapbox": [
           {
            "marker": {
             "colorbar": {
              "outlinewidth": 0,
              "ticks": ""
             }
            },
            "type": "scattermapbox"
           }
          ],
          "scatterpolar": [
           {
            "marker": {
             "colorbar": {
              "outlinewidth": 0,
              "ticks": ""
             }
            },
            "type": "scatterpolar"
           }
          ],
          "scatterpolargl": [
           {
            "marker": {
             "colorbar": {
              "outlinewidth": 0,
              "ticks": ""
             }
            },
            "type": "scatterpolargl"
           }
          ],
          "scatterternary": [
           {
            "marker": {
             "colorbar": {
              "outlinewidth": 0,
              "ticks": ""
             }
            },
            "type": "scatterternary"
           }
          ],
          "surface": [
           {
            "colorbar": {
             "outlinewidth": 0,
             "ticks": ""
            },
            "colorscale": [
             [
              0,
              "#0d0887"
             ],
             [
              0.1111111111111111,
              "#46039f"
             ],
             [
              0.2222222222222222,
              "#7201a8"
             ],
             [
              0.3333333333333333,
              "#9c179e"
             ],
             [
              0.4444444444444444,
              "#bd3786"
             ],
             [
              0.5555555555555556,
              "#d8576b"
             ],
             [
              0.6666666666666666,
              "#ed7953"
             ],
             [
              0.7777777777777778,
              "#fb9f3a"
             ],
             [
              0.8888888888888888,
              "#fdca26"
             ],
             [
              1,
              "#f0f921"
             ]
            ],
            "type": "surface"
           }
          ],
          "table": [
           {
            "cells": {
             "fill": {
              "color": "#EBF0F8"
             },
             "line": {
              "color": "white"
             }
            },
            "header": {
             "fill": {
              "color": "#C8D4E3"
             },
             "line": {
              "color": "white"
             }
            },
            "type": "table"
           }
          ]
         },
         "layout": {
          "annotationdefaults": {
           "arrowcolor": "#2a3f5f",
           "arrowhead": 0,
           "arrowwidth": 1
          },
          "coloraxis": {
           "colorbar": {
            "outlinewidth": 0,
            "ticks": ""
           }
          },
          "colorscale": {
           "diverging": [
            [
             0,
             "#8e0152"
            ],
            [
             0.1,
             "#c51b7d"
            ],
            [
             0.2,
             "#de77ae"
            ],
            [
             0.3,
             "#f1b6da"
            ],
            [
             0.4,
             "#fde0ef"
            ],
            [
             0.5,
             "#f7f7f7"
            ],
            [
             0.6,
             "#e6f5d0"
            ],
            [
             0.7,
             "#b8e186"
            ],
            [
             0.8,
             "#7fbc41"
            ],
            [
             0.9,
             "#4d9221"
            ],
            [
             1,
             "#276419"
            ]
           ],
           "sequential": [
            [
             0,
             "#0d0887"
            ],
            [
             0.1111111111111111,
             "#46039f"
            ],
            [
             0.2222222222222222,
             "#7201a8"
            ],
            [
             0.3333333333333333,
             "#9c179e"
            ],
            [
             0.4444444444444444,
             "#bd3786"
            ],
            [
             0.5555555555555556,
             "#d8576b"
            ],
            [
             0.6666666666666666,
             "#ed7953"
            ],
            [
             0.7777777777777778,
             "#fb9f3a"
            ],
            [
             0.8888888888888888,
             "#fdca26"
            ],
            [
             1,
             "#f0f921"
            ]
           ],
           "sequentialminus": [
            [
             0,
             "#0d0887"
            ],
            [
             0.1111111111111111,
             "#46039f"
            ],
            [
             0.2222222222222222,
             "#7201a8"
            ],
            [
             0.3333333333333333,
             "#9c179e"
            ],
            [
             0.4444444444444444,
             "#bd3786"
            ],
            [
             0.5555555555555556,
             "#d8576b"
            ],
            [
             0.6666666666666666,
             "#ed7953"
            ],
            [
             0.7777777777777778,
             "#fb9f3a"
            ],
            [
             0.8888888888888888,
             "#fdca26"
            ],
            [
             1,
             "#f0f921"
            ]
           ]
          },
          "colorway": [
           "#636efa",
           "#EF553B",
           "#00cc96",
           "#ab63fa",
           "#FFA15A",
           "#19d3f3",
           "#FF6692",
           "#B6E880",
           "#FF97FF",
           "#FECB52"
          ],
          "font": {
           "color": "#2a3f5f"
          },
          "geo": {
           "bgcolor": "white",
           "lakecolor": "white",
           "landcolor": "#E5ECF6",
           "showlakes": true,
           "showland": true,
           "subunitcolor": "white"
          },
          "hoverlabel": {
           "align": "left"
          },
          "hovermode": "closest",
          "mapbox": {
           "style": "light"
          },
          "paper_bgcolor": "white",
          "plot_bgcolor": "#E5ECF6",
          "polar": {
           "angularaxis": {
            "gridcolor": "white",
            "linecolor": "white",
            "ticks": ""
           },
           "bgcolor": "#E5ECF6",
           "radialaxis": {
            "gridcolor": "white",
            "linecolor": "white",
            "ticks": ""
           }
          },
          "scene": {
           "xaxis": {
            "backgroundcolor": "#E5ECF6",
            "gridcolor": "white",
            "gridwidth": 2,
            "linecolor": "white",
            "showbackground": true,
            "ticks": "",
            "zerolinecolor": "white"
           },
           "yaxis": {
            "backgroundcolor": "#E5ECF6",
            "gridcolor": "white",
            "gridwidth": 2,
            "linecolor": "white",
            "showbackground": true,
            "ticks": "",
            "zerolinecolor": "white"
           },
           "zaxis": {
            "backgroundcolor": "#E5ECF6",
            "gridcolor": "white",
            "gridwidth": 2,
            "linecolor": "white",
            "showbackground": true,
            "ticks": "",
            "zerolinecolor": "white"
           }
          },
          "shapedefaults": {
           "line": {
            "color": "#2a3f5f"
           }
          },
          "ternary": {
           "aaxis": {
            "gridcolor": "white",
            "linecolor": "white",
            "ticks": ""
           },
           "baxis": {
            "gridcolor": "white",
            "linecolor": "white",
            "ticks": ""
           },
           "bgcolor": "#E5ECF6",
           "caxis": {
            "gridcolor": "white",
            "linecolor": "white",
            "ticks": ""
           }
          },
          "title": {
           "x": 0.05
          },
          "xaxis": {
           "automargin": true,
           "gridcolor": "white",
           "linecolor": "white",
           "ticks": "",
           "title": {
            "standoff": 15
           },
           "zerolinecolor": "white",
           "zerolinewidth": 2
          },
          "yaxis": {
           "automargin": true,
           "gridcolor": "white",
           "linecolor": "white",
           "ticks": "",
           "title": {
            "standoff": 15
           },
           "zerolinecolor": "white",
           "zerolinewidth": 2
          }
         }
        },
        "title": {
         "text": "Overall number of upvotes in time"
        },
        "xaxis": {
         "anchor": "y",
         "domain": [
          0,
          1
         ],
         "title": {
          "text": "x"
         }
        },
        "yaxis": {
         "anchor": "x",
         "domain": [
          0,
          1
         ],
         "title": {
          "text": "y"
         }
        }
       }
      },
      "text/html": [
       "<div>\n",
       "        \n",
       "        \n",
       "            <div id=\"fd1bddf6-376c-4c69-912a-a8436be0fedc\" class=\"plotly-graph-div\" style=\"height:525px; width:100%;\"></div>\n",
       "            <script type=\"text/javascript\">\n",
       "                require([\"plotly\"], function(Plotly) {\n",
       "                    window.PLOTLYENV=window.PLOTLYENV || {};\n",
       "                    \n",
       "                if (document.getElementById(\"fd1bddf6-376c-4c69-912a-a8436be0fedc\")) {\n",
       "                    Plotly.newPlot(\n",
       "                        'fd1bddf6-376c-4c69-912a-a8436be0fedc',\n",
       "                        [{\"hovertemplate\": \"color=People and ideas<br>x=%{x}<br>y=%{y}<extra></extra>\", \"legendgroup\": \"People and ideas\", \"line\": {\"color\": \"#636efa\", \"dash\": \"solid\"}, \"mode\": \"lines\", \"name\": \"People and ideas\", \"showlegend\": true, \"type\": \"scatter\", \"x\": [\"2020-01-31T00:00:00\", \"2020-04-30T00:00:00\", \"2020-05-31T00:00:00\", \"2020-06-30T00:00:00\", \"2020-08-31T00:00:00\", \"2020-09-30T00:00:00\"], \"xaxis\": \"x\", \"y\": [52, 19981, 45921, 5037, 11374, 14675], \"yaxis\": \"y\"}, {\"hovertemplate\": \"color=Deployments and databases<br>x=%{x}<br>y=%{y}<extra></extra>\", \"legendgroup\": \"Deployments and databases\", \"line\": {\"color\": \"#EF553B\", \"dash\": \"solid\"}, \"mode\": \"lines\", \"name\": \"Deployments and databases\", \"showlegend\": true, \"type\": \"scatter\", \"x\": [\"2020-03-31T00:00:00\", \"2020-04-30T00:00:00\", \"2020-05-31T00:00:00\", \"2020-06-30T00:00:00\", \"2020-08-31T00:00:00\", \"2020-09-30T00:00:00\"], \"xaxis\": \"x\", \"y\": [190, 8402, 31543, 1967, 3376, 8909], \"yaxis\": \"y\"}, {\"hovertemplate\": \"color=Compilers<br>x=%{x}<br>y=%{y}<extra></extra>\", \"legendgroup\": \"Compilers\", \"line\": {\"color\": \"#00cc96\", \"dash\": \"solid\"}, \"mode\": \"lines\", \"name\": \"Compilers\", \"showlegend\": true, \"type\": \"scatter\", \"x\": [\"2020-04-30T00:00:00\", \"2020-05-31T00:00:00\", \"2020-06-30T00:00:00\", \"2020-08-31T00:00:00\", \"2020-09-30T00:00:00\"], \"xaxis\": \"x\", \"y\": [13540, 37919, 2084, 10483, 11071], \"yaxis\": \"y\"}, {\"hovertemplate\": \"color=Github repositories<br>x=%{x}<br>y=%{y}<extra></extra>\", \"legendgroup\": \"Github repositories\", \"line\": {\"color\": \"#ab63fa\", \"dash\": \"solid\"}, \"mode\": \"lines\", \"name\": \"Github repositories\", \"showlegend\": true, \"type\": \"scatter\", \"x\": [\"2020-04-30T00:00:00\", \"2020-05-31T00:00:00\", \"2020-06-30T00:00:00\", \"2020-08-31T00:00:00\", \"2020-09-30T00:00:00\"], \"xaxis\": \"x\", \"y\": [10343, 26460, 3068, 5958, 9819], \"yaxis\": \"y\"}, {\"hovertemplate\": \"color=Government committees<br>x=%{x}<br>y=%{y}<extra></extra>\", \"legendgroup\": \"Government committees\", \"line\": {\"color\": \"#FFA15A\", \"dash\": \"solid\"}, \"mode\": \"lines\", \"name\": \"Government committees\", \"showlegend\": true, \"type\": \"scatter\", \"x\": [\"2020-04-30T00:00:00\", \"2020-05-31T00:00:00\", \"2020-06-30T00:00:00\", \"2020-08-31T00:00:00\", \"2020-09-30T00:00:00\"], \"xaxis\": \"x\", \"y\": [2405, 11940, 4028, 4615, 5966], \"yaxis\": \"y\"}, {\"hovertemplate\": \"color=Hardware<br>x=%{x}<br>y=%{y}<extra></extra>\", \"legendgroup\": \"Hardware\", \"line\": {\"color\": \"#19d3f3\", \"dash\": \"solid\"}, \"mode\": \"lines\", \"name\": \"Hardware\", \"showlegend\": true, \"type\": \"scatter\", \"x\": [\"2020-04-30T00:00:00\", \"2020-05-31T00:00:00\", \"2020-06-30T00:00:00\", \"2020-08-31T00:00:00\", \"2020-09-30T00:00:00\"], \"xaxis\": \"x\", \"y\": [5618, 12901, 2229, 3864, 8965], \"yaxis\": \"y\"}, {\"hovertemplate\": \"color=JavaScript<br>x=%{x}<br>y=%{y}<extra></extra>\", \"legendgroup\": \"JavaScript\", \"line\": {\"color\": \"#FF6692\", \"dash\": \"solid\"}, \"mode\": \"lines\", \"name\": \"JavaScript\", \"showlegend\": true, \"type\": \"scatter\", \"x\": [\"2020-04-30T00:00:00\", \"2020-05-31T00:00:00\", \"2020-06-30T00:00:00\", \"2020-08-31T00:00:00\", \"2020-09-30T00:00:00\"], \"xaxis\": \"x\", \"y\": [4342, 15218, 1900, 4215, 9571], \"yaxis\": \"y\"}, {\"hovertemplate\": \"color=Linux<br>x=%{x}<br>y=%{y}<extra></extra>\", \"legendgroup\": \"Linux\", \"line\": {\"color\": \"#B6E880\", \"dash\": \"solid\"}, \"mode\": \"lines\", \"name\": \"Linux\", \"showlegend\": true, \"type\": \"scatter\", \"x\": [\"2020-04-30T00:00:00\", \"2020-05-31T00:00:00\", \"2020-06-30T00:00:00\", \"2020-08-31T00:00:00\", \"2020-09-30T00:00:00\"], \"xaxis\": \"x\", \"y\": [13115, 25749, 2415, 5145, 9263], \"yaxis\": \"y\"}, {\"hovertemplate\": \"color=Literature, culture, philosophy<br>x=%{x}<br>y=%{y}<extra></extra>\", \"legendgroup\": \"Literature, culture, philosophy\", \"line\": {\"color\": \"#FF97FF\", \"dash\": \"solid\"}, \"mode\": \"lines\", \"name\": \"Literature, culture, philosophy\", \"showlegend\": true, \"type\": \"scatter\", \"x\": [\"2020-04-30T00:00:00\", \"2020-05-31T00:00:00\", \"2020-06-30T00:00:00\", \"2020-08-31T00:00:00\", \"2020-09-30T00:00:00\"], \"xaxis\": \"x\", \"y\": [7516, 16532, 3134, 5143, 8804], \"yaxis\": \"y\"}, {\"hovertemplate\": \"color=Machine Learning<br>x=%{x}<br>y=%{y}<extra></extra>\", \"legendgroup\": \"Machine Learning\", \"line\": {\"color\": \"#FECB52\", \"dash\": \"solid\"}, \"mode\": \"lines\", \"name\": \"Machine Learning\", \"showlegend\": true, \"type\": \"scatter\", \"x\": [\"2020-04-30T00:00:00\", \"2020-05-31T00:00:00\", \"2020-06-30T00:00:00\", \"2020-08-31T00:00:00\", \"2020-09-30T00:00:00\"], \"xaxis\": \"x\", \"y\": [4159, 16929, 2525, 5381, 4845], \"yaxis\": \"y\"}, {\"hovertemplate\": \"color=Medicine<br>x=%{x}<br>y=%{y}<extra></extra>\", \"legendgroup\": \"Medicine\", \"line\": {\"color\": \"#636efa\", \"dash\": \"solid\"}, \"mode\": \"lines\", \"name\": \"Medicine\", \"showlegend\": true, \"type\": \"scatter\", \"x\": [\"2020-04-30T00:00:00\", \"2020-05-31T00:00:00\", \"2020-06-30T00:00:00\", \"2020-08-31T00:00:00\", \"2020-09-30T00:00:00\"], \"xaxis\": \"x\", \"y\": [4930, 10965, 1054, 2078, 4263], \"yaxis\": \"y\"}, {\"hovertemplate\": \"color=People words<br>x=%{x}<br>y=%{y}<extra></extra>\", \"legendgroup\": \"People words\", \"line\": {\"color\": \"#EF553B\", \"dash\": \"solid\"}, \"mode\": \"lines\", \"name\": \"People words\", \"showlegend\": true, \"type\": \"scatter\", \"x\": [\"2020-04-30T00:00:00\", \"2020-05-31T00:00:00\", \"2020-06-30T00:00:00\", \"2020-08-31T00:00:00\", \"2020-09-30T00:00:00\"], \"xaxis\": \"x\", \"y\": [4977, 29190, 2812, 7490, 13796], \"yaxis\": \"y\"}, {\"hovertemplate\": \"color=Programming words<br>x=%{x}<br>y=%{y}<extra></extra>\", \"legendgroup\": \"Programming words\", \"line\": {\"color\": \"#00cc96\", \"dash\": \"solid\"}, \"mode\": \"lines\", \"name\": \"Programming words\", \"showlegend\": true, \"type\": \"scatter\", \"x\": [\"2020-04-30T00:00:00\", \"2020-05-31T00:00:00\", \"2020-06-30T00:00:00\", \"2020-08-31T00:00:00\", \"2020-09-30T00:00:00\"], \"xaxis\": \"x\", \"y\": [3671, 8805, 1215, 3139, 3396], \"yaxis\": \"y\"}, {\"hovertemplate\": \"color=Renewable energy<br>x=%{x}<br>y=%{y}<extra></extra>\", \"legendgroup\": \"Renewable energy\", \"line\": {\"color\": \"#ab63fa\", \"dash\": \"solid\"}, \"mode\": \"lines\", \"name\": \"Renewable energy\", \"showlegend\": true, \"type\": \"scatter\", \"x\": [\"2020-04-30T00:00:00\", \"2020-05-31T00:00:00\", \"2020-06-30T00:00:00\", \"2020-08-31T00:00:00\", \"2020-09-30T00:00:00\"], \"xaxis\": \"x\", \"y\": [2998, 14434, 2507, 4802, 4957], \"yaxis\": \"y\"}, {\"hovertemplate\": \"color=Software<br>x=%{x}<br>y=%{y}<extra></extra>\", \"legendgroup\": \"Software\", \"line\": {\"color\": \"#FFA15A\", \"dash\": \"solid\"}, \"mode\": \"lines\", \"name\": \"Software\", \"showlegend\": true, \"type\": \"scatter\", \"x\": [\"2020-04-30T00:00:00\", \"2020-05-31T00:00:00\", \"2020-06-30T00:00:00\", \"2020-08-31T00:00:00\", \"2020-09-30T00:00:00\"], \"xaxis\": \"x\", \"y\": [7589, 24978, 2682, 6483, 10090], \"yaxis\": \"y\"}, {\"hovertemplate\": \"color=Texts with codes<br>x=%{x}<br>y=%{y}<extra></extra>\", \"legendgroup\": \"Texts with codes\", \"line\": {\"color\": \"#19d3f3\", \"dash\": \"solid\"}, \"mode\": \"lines\", \"name\": \"Texts with codes\", \"showlegend\": true, \"type\": \"scatter\", \"x\": [\"2020-04-30T00:00:00\", \"2020-05-31T00:00:00\", \"2020-06-30T00:00:00\", \"2020-08-31T00:00:00\", \"2020-09-30T00:00:00\"], \"xaxis\": \"x\", \"y\": [5409, 9963, 1570, 2649, 7028], \"yaxis\": \"y\"}, {\"hovertemplate\": \"color=US Politics and administration<br>x=%{x}<br>y=%{y}<extra></extra>\", \"legendgroup\": \"US Politics and administration\", \"line\": {\"color\": \"#FF6692\", \"dash\": \"solid\"}, \"mode\": \"lines\", \"name\": \"US Politics and administration\", \"showlegend\": true, \"type\": \"scatter\", \"x\": [\"2020-04-30T00:00:00\", \"2020-05-31T00:00:00\", \"2020-06-30T00:00:00\", \"2020-08-31T00:00:00\", \"2020-09-30T00:00:00\"], \"xaxis\": \"x\", \"y\": [12163, 26553, 6630, 7353, 14612], \"yaxis\": \"y\"}, {\"hovertemplate\": \"color=Weird letters<br>x=%{x}<br>y=%{y}<extra></extra>\", \"legendgroup\": \"Weird letters\", \"line\": {\"color\": \"#B6E880\", \"dash\": \"solid\"}, \"mode\": \"lines\", \"name\": \"Weird letters\", \"showlegend\": true, \"type\": \"scatter\", \"x\": [\"2020-04-30T00:00:00\", \"2020-05-31T00:00:00\", \"2020-06-30T00:00:00\", \"2020-08-31T00:00:00\", \"2020-09-30T00:00:00\"], \"xaxis\": \"x\", \"y\": [8472, 30456, 3659, 7126, 7484], \"yaxis\": \"y\"}, {\"hovertemplate\": \"color=Weird words<br>x=%{x}<br>y=%{y}<extra></extra>\", \"legendgroup\": \"Weird words\", \"line\": {\"color\": \"#FF97FF\", \"dash\": \"solid\"}, \"mode\": \"lines\", \"name\": \"Weird words\", \"showlegend\": true, \"type\": \"scatter\", \"x\": [\"2020-04-30T00:00:00\", \"2020-05-31T00:00:00\", \"2020-06-30T00:00:00\", \"2020-08-31T00:00:00\", \"2020-09-30T00:00:00\"], \"xaxis\": \"x\", \"y\": [6573, 17725, 2536, 1874, 6274], \"yaxis\": \"y\"}, {\"hovertemplate\": \"color=Wordpress<br>x=%{x}<br>y=%{y}<extra></extra>\", \"legendgroup\": \"Wordpress\", \"line\": {\"color\": \"#FECB52\", \"dash\": \"solid\"}, \"mode\": \"lines\", \"name\": \"Wordpress\", \"showlegend\": true, \"type\": \"scatter\", \"x\": [\"2020-04-30T00:00:00\", \"2020-05-31T00:00:00\", \"2020-06-30T00:00:00\", \"2020-08-31T00:00:00\", \"2020-09-30T00:00:00\"], \"xaxis\": \"x\", \"y\": [8995, 17966, 3614, 7897, 9878], \"yaxis\": \"y\"}],\n",
       "                        {\"legend\": {\"title\": {\"text\": \"color\"}, \"tracegroupgap\": 0}, \"template\": {\"data\": {\"bar\": [{\"error_x\": {\"color\": \"#2a3f5f\"}, \"error_y\": {\"color\": \"#2a3f5f\"}, \"marker\": {\"line\": {\"color\": \"#E5ECF6\", \"width\": 0.5}}, \"type\": \"bar\"}], \"barpolar\": [{\"marker\": {\"line\": {\"color\": \"#E5ECF6\", \"width\": 0.5}}, \"type\": \"barpolar\"}], \"carpet\": [{\"aaxis\": {\"endlinecolor\": \"#2a3f5f\", \"gridcolor\": \"white\", \"linecolor\": \"white\", \"minorgridcolor\": \"white\", \"startlinecolor\": \"#2a3f5f\"}, \"baxis\": {\"endlinecolor\": \"#2a3f5f\", \"gridcolor\": \"white\", \"linecolor\": \"white\", \"minorgridcolor\": \"white\", \"startlinecolor\": \"#2a3f5f\"}, \"type\": \"carpet\"}], \"choropleth\": [{\"colorbar\": {\"outlinewidth\": 0, \"ticks\": \"\"}, \"type\": \"choropleth\"}], \"contour\": [{\"colorbar\": {\"outlinewidth\": 0, \"ticks\": \"\"}, \"colorscale\": [[0.0, \"#0d0887\"], [0.1111111111111111, \"#46039f\"], [0.2222222222222222, \"#7201a8\"], [0.3333333333333333, \"#9c179e\"], [0.4444444444444444, \"#bd3786\"], [0.5555555555555556, \"#d8576b\"], [0.6666666666666666, \"#ed7953\"], [0.7777777777777778, \"#fb9f3a\"], [0.8888888888888888, \"#fdca26\"], [1.0, \"#f0f921\"]], \"type\": \"contour\"}], \"contourcarpet\": [{\"colorbar\": {\"outlinewidth\": 0, \"ticks\": \"\"}, \"type\": \"contourcarpet\"}], \"heatmap\": [{\"colorbar\": {\"outlinewidth\": 0, \"ticks\": \"\"}, \"colorscale\": [[0.0, \"#0d0887\"], [0.1111111111111111, \"#46039f\"], [0.2222222222222222, \"#7201a8\"], [0.3333333333333333, \"#9c179e\"], [0.4444444444444444, \"#bd3786\"], [0.5555555555555556, \"#d8576b\"], [0.6666666666666666, \"#ed7953\"], [0.7777777777777778, \"#fb9f3a\"], [0.8888888888888888, \"#fdca26\"], [1.0, \"#f0f921\"]], \"type\": \"heatmap\"}], \"heatmapgl\": [{\"colorbar\": {\"outlinewidth\": 0, \"ticks\": \"\"}, \"colorscale\": [[0.0, \"#0d0887\"], [0.1111111111111111, \"#46039f\"], [0.2222222222222222, \"#7201a8\"], [0.3333333333333333, \"#9c179e\"], [0.4444444444444444, \"#bd3786\"], [0.5555555555555556, \"#d8576b\"], [0.6666666666666666, \"#ed7953\"], [0.7777777777777778, \"#fb9f3a\"], [0.8888888888888888, \"#fdca26\"], [1.0, \"#f0f921\"]], \"type\": \"heatmapgl\"}], \"histogram\": [{\"marker\": {\"colorbar\": {\"outlinewidth\": 0, \"ticks\": \"\"}}, \"type\": \"histogram\"}], \"histogram2d\": [{\"colorbar\": {\"outlinewidth\": 0, \"ticks\": \"\"}, \"colorscale\": [[0.0, \"#0d0887\"], [0.1111111111111111, \"#46039f\"], [0.2222222222222222, \"#7201a8\"], [0.3333333333333333, \"#9c179e\"], [0.4444444444444444, \"#bd3786\"], [0.5555555555555556, \"#d8576b\"], [0.6666666666666666, \"#ed7953\"], [0.7777777777777778, \"#fb9f3a\"], [0.8888888888888888, \"#fdca26\"], [1.0, \"#f0f921\"]], \"type\": \"histogram2d\"}], \"histogram2dcontour\": [{\"colorbar\": {\"outlinewidth\": 0, \"ticks\": \"\"}, \"colorscale\": [[0.0, \"#0d0887\"], [0.1111111111111111, \"#46039f\"], [0.2222222222222222, \"#7201a8\"], [0.3333333333333333, \"#9c179e\"], [0.4444444444444444, \"#bd3786\"], [0.5555555555555556, \"#d8576b\"], [0.6666666666666666, \"#ed7953\"], [0.7777777777777778, \"#fb9f3a\"], [0.8888888888888888, \"#fdca26\"], [1.0, \"#f0f921\"]], \"type\": \"histogram2dcontour\"}], \"mesh3d\": [{\"colorbar\": {\"outlinewidth\": 0, \"ticks\": \"\"}, \"type\": \"mesh3d\"}], \"parcoords\": [{\"line\": {\"colorbar\": {\"outlinewidth\": 0, \"ticks\": \"\"}}, \"type\": \"parcoords\"}], \"pie\": [{\"automargin\": true, \"type\": \"pie\"}], \"scatter\": [{\"marker\": {\"colorbar\": {\"outlinewidth\": 0, \"ticks\": \"\"}}, \"type\": \"scatter\"}], \"scatter3d\": [{\"line\": {\"colorbar\": {\"outlinewidth\": 0, \"ticks\": \"\"}}, \"marker\": {\"colorbar\": {\"outlinewidth\": 0, \"ticks\": \"\"}}, \"type\": \"scatter3d\"}], \"scattercarpet\": [{\"marker\": {\"colorbar\": {\"outlinewidth\": 0, \"ticks\": \"\"}}, \"type\": \"scattercarpet\"}], \"scattergeo\": [{\"marker\": {\"colorbar\": {\"outlinewidth\": 0, \"ticks\": \"\"}}, \"type\": \"scattergeo\"}], \"scattergl\": [{\"marker\": {\"colorbar\": {\"outlinewidth\": 0, \"ticks\": \"\"}}, \"type\": \"scattergl\"}], \"scattermapbox\": [{\"marker\": {\"colorbar\": {\"outlinewidth\": 0, \"ticks\": \"\"}}, \"type\": \"scattermapbox\"}], \"scatterpolar\": [{\"marker\": {\"colorbar\": {\"outlinewidth\": 0, \"ticks\": \"\"}}, \"type\": \"scatterpolar\"}], \"scatterpolargl\": [{\"marker\": {\"colorbar\": {\"outlinewidth\": 0, \"ticks\": \"\"}}, \"type\": \"scatterpolargl\"}], \"scatterternary\": [{\"marker\": {\"colorbar\": {\"outlinewidth\": 0, \"ticks\": \"\"}}, \"type\": \"scatterternary\"}], \"surface\": [{\"colorbar\": {\"outlinewidth\": 0, \"ticks\": \"\"}, \"colorscale\": [[0.0, \"#0d0887\"], [0.1111111111111111, \"#46039f\"], [0.2222222222222222, \"#7201a8\"], [0.3333333333333333, \"#9c179e\"], [0.4444444444444444, \"#bd3786\"], [0.5555555555555556, \"#d8576b\"], [0.6666666666666666, \"#ed7953\"], [0.7777777777777778, \"#fb9f3a\"], [0.8888888888888888, \"#fdca26\"], [1.0, \"#f0f921\"]], \"type\": \"surface\"}], \"table\": [{\"cells\": {\"fill\": {\"color\": \"#EBF0F8\"}, \"line\": {\"color\": \"white\"}}, \"header\": {\"fill\": {\"color\": \"#C8D4E3\"}, \"line\": {\"color\": \"white\"}}, \"type\": \"table\"}]}, \"layout\": {\"annotationdefaults\": {\"arrowcolor\": \"#2a3f5f\", \"arrowhead\": 0, \"arrowwidth\": 1}, \"coloraxis\": {\"colorbar\": {\"outlinewidth\": 0, \"ticks\": \"\"}}, \"colorscale\": {\"diverging\": [[0, \"#8e0152\"], [0.1, \"#c51b7d\"], [0.2, \"#de77ae\"], [0.3, \"#f1b6da\"], [0.4, \"#fde0ef\"], [0.5, \"#f7f7f7\"], [0.6, \"#e6f5d0\"], [0.7, \"#b8e186\"], [0.8, \"#7fbc41\"], [0.9, \"#4d9221\"], [1, \"#276419\"]], \"sequential\": [[0.0, \"#0d0887\"], [0.1111111111111111, \"#46039f\"], [0.2222222222222222, \"#7201a8\"], [0.3333333333333333, \"#9c179e\"], [0.4444444444444444, \"#bd3786\"], [0.5555555555555556, \"#d8576b\"], [0.6666666666666666, \"#ed7953\"], [0.7777777777777778, \"#fb9f3a\"], [0.8888888888888888, \"#fdca26\"], [1.0, \"#f0f921\"]], \"sequentialminus\": [[0.0, \"#0d0887\"], [0.1111111111111111, \"#46039f\"], [0.2222222222222222, \"#7201a8\"], [0.3333333333333333, \"#9c179e\"], [0.4444444444444444, \"#bd3786\"], [0.5555555555555556, \"#d8576b\"], [0.6666666666666666, \"#ed7953\"], [0.7777777777777778, \"#fb9f3a\"], [0.8888888888888888, \"#fdca26\"], [1.0, \"#f0f921\"]]}, \"colorway\": [\"#636efa\", \"#EF553B\", \"#00cc96\", \"#ab63fa\", \"#FFA15A\", \"#19d3f3\", \"#FF6692\", \"#B6E880\", \"#FF97FF\", \"#FECB52\"], \"font\": {\"color\": \"#2a3f5f\"}, \"geo\": {\"bgcolor\": \"white\", \"lakecolor\": \"white\", \"landcolor\": \"#E5ECF6\", \"showlakes\": true, \"showland\": true, \"subunitcolor\": \"white\"}, \"hoverlabel\": {\"align\": \"left\"}, \"hovermode\": \"closest\", \"mapbox\": {\"style\": \"light\"}, \"paper_bgcolor\": \"white\", \"plot_bgcolor\": \"#E5ECF6\", \"polar\": {\"angularaxis\": {\"gridcolor\": \"white\", \"linecolor\": \"white\", \"ticks\": \"\"}, \"bgcolor\": \"#E5ECF6\", \"radialaxis\": {\"gridcolor\": \"white\", \"linecolor\": \"white\", \"ticks\": \"\"}}, \"scene\": {\"xaxis\": {\"backgroundcolor\": \"#E5ECF6\", \"gridcolor\": \"white\", \"gridwidth\": 2, \"linecolor\": \"white\", \"showbackground\": true, \"ticks\": \"\", \"zerolinecolor\": \"white\"}, \"yaxis\": {\"backgroundcolor\": \"#E5ECF6\", \"gridcolor\": \"white\", \"gridwidth\": 2, \"linecolor\": \"white\", \"showbackground\": true, \"ticks\": \"\", \"zerolinecolor\": \"white\"}, \"zaxis\": {\"backgroundcolor\": \"#E5ECF6\", \"gridcolor\": \"white\", \"gridwidth\": 2, \"linecolor\": \"white\", \"showbackground\": true, \"ticks\": \"\", \"zerolinecolor\": \"white\"}}, \"shapedefaults\": {\"line\": {\"color\": \"#2a3f5f\"}}, \"ternary\": {\"aaxis\": {\"gridcolor\": \"white\", \"linecolor\": \"white\", \"ticks\": \"\"}, \"baxis\": {\"gridcolor\": \"white\", \"linecolor\": \"white\", \"ticks\": \"\"}, \"bgcolor\": \"#E5ECF6\", \"caxis\": {\"gridcolor\": \"white\", \"linecolor\": \"white\", \"ticks\": \"\"}}, \"title\": {\"x\": 0.05}, \"xaxis\": {\"automargin\": true, \"gridcolor\": \"white\", \"linecolor\": \"white\", \"ticks\": \"\", \"title\": {\"standoff\": 15}, \"zerolinecolor\": \"white\", \"zerolinewidth\": 2}, \"yaxis\": {\"automargin\": true, \"gridcolor\": \"white\", \"linecolor\": \"white\", \"ticks\": \"\", \"title\": {\"standoff\": 15}, \"zerolinecolor\": \"white\", \"zerolinewidth\": 2}}}, \"title\": {\"text\": \"Overall number of upvotes in time\"}, \"xaxis\": {\"anchor\": \"y\", \"domain\": [0.0, 1.0], \"title\": {\"text\": \"x\"}}, \"yaxis\": {\"anchor\": \"x\", \"domain\": [0.0, 1.0], \"title\": {\"text\": \"y\"}}},\n",
       "                        {\"responsive\": true}\n",
       "                    ).then(function(){\n",
       "                            \n",
       "var gd = document.getElementById('fd1bddf6-376c-4c69-912a-a8436be0fedc');\n",
       "var x = new MutationObserver(function (mutations, observer) {{\n",
       "        var display = window.getComputedStyle(gd).display;\n",
       "        if (!display || display === 'none') {{\n",
       "            console.log([gd, 'removed!']);\n",
       "            Plotly.purge(gd);\n",
       "            observer.disconnect();\n",
       "        }}\n",
       "}});\n",
       "\n",
       "// Listen for the removal of the full notebook cells\n",
       "var notebookContainer = gd.closest('#notebook-container');\n",
       "if (notebookContainer) {{\n",
       "    x.observe(notebookContainer, {childList: true});\n",
       "}}\n",
       "\n",
       "// Listen for the clearing of the current output cell\n",
       "var outputEl = gd.closest('.output');\n",
       "if (outputEl) {{\n",
       "    x.observe(outputEl, {childList: true});\n",
       "}}\n",
       "\n",
       "                        })\n",
       "                };\n",
       "                });\n",
       "            </script>\n",
       "        </div>"
      ]
     },
     "metadata": {},
     "output_type": "display_data"
    }
   ],
   "source": [
    "plot_data = df.groupby([pd.Grouper(key = 'time', freq = 'M'), 'topic'])['score'].sum().reset_index()\n",
    "\n",
    "fig = px.line(\n",
    "    x = plot_data['time'],\n",
    "    y = plot_data['score'],\n",
    "    color = plot_data['topic'],\n",
    "    title = 'Overall number of upvotes in time'\n",
    ")\n",
    "\n",
    "fig.show()"
   ]
  },
  {
   "cell_type": "code",
   "execution_count": 45,
   "metadata": {},
   "outputs": [
    {
     "data": {
      "application/vnd.plotly.v1+json": {
       "config": {
        "plotlyServerURL": "https://plot.ly"
       },
       "data": [
        {
         "hovertemplate": "color=People and ideas<br>x=%{x}<br>y=%{y}<extra></extra>",
         "legendgroup": "People and ideas",
         "line": {
          "color": "#636efa",
          "dash": "solid"
         },
         "mode": "lines",
         "name": "People and ideas",
         "showlegend": true,
         "type": "scatter",
         "x": [
          "2020-01-31T00:00:00",
          "2020-04-30T00:00:00",
          "2020-05-31T00:00:00",
          "2020-06-30T00:00:00",
          "2020-08-31T00:00:00",
          "2020-09-30T00:00:00"
         ],
         "xaxis": "x",
         "y": [
          52,
          219.57142857142858,
          190.5435684647303,
          186.55555555555554,
          155.8082191780822,
          137.14953271028037
         ],
         "yaxis": "y"
        },
        {
         "hovertemplate": "color=Deployments and databases<br>x=%{x}<br>y=%{y}<extra></extra>",
         "legendgroup": "Deployments and databases",
         "line": {
          "color": "#EF553B",
          "dash": "solid"
         },
         "mode": "lines",
         "name": "Deployments and databases",
         "showlegend": true,
         "type": "scatter",
         "x": [
          "2020-03-31T00:00:00",
          "2020-04-30T00:00:00",
          "2020-05-31T00:00:00",
          "2020-06-30T00:00:00",
          "2020-08-31T00:00:00",
          "2020-09-30T00:00:00"
         ],
         "xaxis": "x",
         "y": [
          190,
          158.52830188679246,
          207.51973684210526,
          163.91666666666666,
          112.53333333333333,
          139.203125
         ],
         "yaxis": "y"
        },
        {
         "hovertemplate": "color=Compilers<br>x=%{x}<br>y=%{y}<extra></extra>",
         "legendgroup": "Compilers",
         "line": {
          "color": "#00cc96",
          "dash": "solid"
         },
         "mode": "lines",
         "name": "Compilers",
         "showlegend": true,
         "type": "scatter",
         "x": [
          "2020-04-30T00:00:00",
          "2020-05-31T00:00:00",
          "2020-06-30T00:00:00",
          "2020-08-31T00:00:00",
          "2020-09-30T00:00:00"
         ],
         "xaxis": "x",
         "y": [
          180.53333333333333,
          173.1461187214612,
          104.2,
          174.71666666666667,
          103.46728971962617
         ],
         "yaxis": "y"
        },
        {
         "hovertemplate": "color=Github repositories<br>x=%{x}<br>y=%{y}<extra></extra>",
         "legendgroup": "Github repositories",
         "line": {
          "color": "#ab63fa",
          "dash": "solid"
         },
         "mode": "lines",
         "name": "Github repositories",
         "showlegend": true,
         "type": "scatter",
         "x": [
          "2020-04-30T00:00:00",
          "2020-05-31T00:00:00",
          "2020-06-30T00:00:00",
          "2020-08-31T00:00:00",
          "2020-09-30T00:00:00"
         ],
         "xaxis": "x",
         "y": [
          188.05454545454546,
          166.41509433962264,
          191.75,
          152.76923076923077,
          151.06153846153848
         ],
         "yaxis": "y"
        },
        {
         "hovertemplate": "color=Government committees<br>x=%{x}<br>y=%{y}<extra></extra>",
         "legendgroup": "Government committees",
         "line": {
          "color": "#FFA15A",
          "dash": "solid"
         },
         "mode": "lines",
         "name": "Government committees",
         "showlegend": true,
         "type": "scatter",
         "x": [
          "2020-04-30T00:00:00",
          "2020-05-31T00:00:00",
          "2020-06-30T00:00:00",
          "2020-08-31T00:00:00",
          "2020-09-30T00:00:00"
         ],
         "xaxis": "x",
         "y": [
          100.20833333333333,
          178.2089552238806,
          191.8095238095238,
          170.92592592592592,
          132.57777777777778
         ],
         "yaxis": "y"
        },
        {
         "hovertemplate": "color=Hardware<br>x=%{x}<br>y=%{y}<extra></extra>",
         "legendgroup": "Hardware",
         "line": {
          "color": "#19d3f3",
          "dash": "solid"
         },
         "mode": "lines",
         "name": "Hardware",
         "showlegend": true,
         "type": "scatter",
         "x": [
          "2020-04-30T00:00:00",
          "2020-05-31T00:00:00",
          "2020-06-30T00:00:00",
          "2020-08-31T00:00:00",
          "2020-09-30T00:00:00"
         ],
         "xaxis": "x",
         "y": [
          147.8421052631579,
          148.28735632183907,
          247.66666666666666,
          120.75,
          175.7843137254902
         ],
         "yaxis": "y"
        },
        {
         "hovertemplate": "color=JavaScript<br>x=%{x}<br>y=%{y}<extra></extra>",
         "legendgroup": "JavaScript",
         "line": {
          "color": "#FF6692",
          "dash": "solid"
         },
         "mode": "lines",
         "name": "JavaScript",
         "showlegend": true,
         "type": "scatter",
         "x": [
          "2020-04-30T00:00:00",
          "2020-05-31T00:00:00",
          "2020-06-30T00:00:00",
          "2020-08-31T00:00:00",
          "2020-09-30T00:00:00"
         ],
         "xaxis": "x",
         "y": [
          111.33333333333333,
          147.74757281553397,
          172.72727272727272,
          131.71875,
          140.75
         ],
         "yaxis": "y"
        },
        {
         "hovertemplate": "color=Linux<br>x=%{x}<br>y=%{y}<extra></extra>",
         "legendgroup": "Linux",
         "line": {
          "color": "#B6E880",
          "dash": "solid"
         },
         "mode": "lines",
         "name": "Linux",
         "showlegend": true,
         "type": "scatter",
         "x": [
          "2020-04-30T00:00:00",
          "2020-05-31T00:00:00",
          "2020-06-30T00:00:00",
          "2020-08-31T00:00:00",
          "2020-09-30T00:00:00"
         ],
         "xaxis": "x",
         "y": [
          215,
          199.6046511627907,
          134.16666666666666,
          147,
          159.70689655172413
         ],
         "yaxis": "y"
        },
        {
         "hovertemplate": "color=Literature, culture, philosophy<br>x=%{x}<br>y=%{y}<extra></extra>",
         "legendgroup": "Literature, culture, philosophy",
         "line": {
          "color": "#FF97FF",
          "dash": "solid"
         },
         "mode": "lines",
         "name": "Literature, culture, philosophy",
         "showlegend": true,
         "type": "scatter",
         "x": [
          "2020-04-30T00:00:00",
          "2020-05-31T00:00:00",
          "2020-06-30T00:00:00",
          "2020-08-31T00:00:00",
          "2020-09-30T00:00:00"
         ],
         "xaxis": "x",
         "y": [
          107.37142857142857,
          108.05228758169935,
          108.06896551724138,
          107.14583333333333,
          90.76288659793815
         ],
         "yaxis": "y"
        },
        {
         "hovertemplate": "color=Machine Learning<br>x=%{x}<br>y=%{y}<extra></extra>",
         "legendgroup": "Machine Learning",
         "line": {
          "color": "#FECB52",
          "dash": "solid"
         },
         "mode": "lines",
         "name": "Machine Learning",
         "showlegend": true,
         "type": "scatter",
         "x": [
          "2020-04-30T00:00:00",
          "2020-05-31T00:00:00",
          "2020-06-30T00:00:00",
          "2020-08-31T00:00:00",
          "2020-09-30T00:00:00"
         ],
         "xaxis": "x",
         "y": [
          126.03030303030303,
          172.74489795918367,
          140.27777777777777,
          149.47222222222223,
          98.87755102040816
         ],
         "yaxis": "y"
        },
        {
         "hovertemplate": "color=Medicine<br>x=%{x}<br>y=%{y}<extra></extra>",
         "legendgroup": "Medicine",
         "line": {
          "color": "#636efa",
          "dash": "solid"
         },
         "mode": "lines",
         "name": "Medicine",
         "showlegend": true,
         "type": "scatter",
         "x": [
          "2020-04-30T00:00:00",
          "2020-05-31T00:00:00",
          "2020-06-30T00:00:00",
          "2020-08-31T00:00:00",
          "2020-09-30T00:00:00"
         ],
         "xaxis": "x",
         "y": [
          129.73684210526315,
          119.18478260869566,
          117.11111111111111,
          109.36842105263158,
          94.73333333333333
         ],
         "yaxis": "y"
        },
        {
         "hovertemplate": "color=People words<br>x=%{x}<br>y=%{y}<extra></extra>",
         "legendgroup": "People words",
         "line": {
          "color": "#EF553B",
          "dash": "solid"
         },
         "mode": "lines",
         "name": "People words",
         "showlegend": true,
         "type": "scatter",
         "x": [
          "2020-04-30T00:00:00",
          "2020-05-31T00:00:00",
          "2020-06-30T00:00:00",
          "2020-08-31T00:00:00",
          "2020-09-30T00:00:00"
         ],
         "xaxis": "x",
         "y": [
          191.42307692307693,
          286.1764705882353,
          156.22222222222223,
          187.25,
          222.51612903225808
         ],
         "yaxis": "y"
        },
        {
         "hovertemplate": "color=Programming words<br>x=%{x}<br>y=%{y}<extra></extra>",
         "legendgroup": "Programming words",
         "line": {
          "color": "#00cc96",
          "dash": "solid"
         },
         "mode": "lines",
         "name": "Programming words",
         "showlegend": true,
         "type": "scatter",
         "x": [
          "2020-04-30T00:00:00",
          "2020-05-31T00:00:00",
          "2020-06-30T00:00:00",
          "2020-08-31T00:00:00",
          "2020-09-30T00:00:00"
         ],
         "xaxis": "x",
         "y": [
          111.24242424242425,
          120.61643835616438,
          135,
          125.56,
          99.88235294117646
         ],
         "yaxis": "y"
        },
        {
         "hovertemplate": "color=Renewable energy<br>x=%{x}<br>y=%{y}<extra></extra>",
         "legendgroup": "Renewable energy",
         "line": {
          "color": "#ab63fa",
          "dash": "solid"
         },
         "mode": "lines",
         "name": "Renewable energy",
         "showlegend": true,
         "type": "scatter",
         "x": [
          "2020-04-30T00:00:00",
          "2020-05-31T00:00:00",
          "2020-06-30T00:00:00",
          "2020-08-31T00:00:00",
          "2020-09-30T00:00:00"
         ],
         "xaxis": "x",
         "y": [
          93.6875,
          147.28571428571428,
          125.35,
          133.38888888888889,
          99.14
         ],
         "yaxis": "y"
        },
        {
         "hovertemplate": "color=Software<br>x=%{x}<br>y=%{y}<extra></extra>",
         "legendgroup": "Software",
         "line": {
          "color": "#FFA15A",
          "dash": "solid"
         },
         "mode": "lines",
         "name": "Software",
         "showlegend": true,
         "type": "scatter",
         "x": [
          "2020-04-30T00:00:00",
          "2020-05-31T00:00:00",
          "2020-06-30T00:00:00",
          "2020-08-31T00:00:00",
          "2020-09-30T00:00:00"
         ],
         "xaxis": "x",
         "y": [
          189.725,
          265.72340425531917,
          121.9090909090909,
          175.21621621621622,
          177.01754385964912
         ],
         "yaxis": "y"
        },
        {
         "hovertemplate": "color=Texts with codes<br>x=%{x}<br>y=%{y}<extra></extra>",
         "legendgroup": "Texts with codes",
         "line": {
          "color": "#19d3f3",
          "dash": "solid"
         },
         "mode": "lines",
         "name": "Texts with codes",
         "showlegend": true,
         "type": "scatter",
         "x": [
          "2020-04-30T00:00:00",
          "2020-05-31T00:00:00",
          "2020-06-30T00:00:00",
          "2020-08-31T00:00:00",
          "2020-09-30T00:00:00"
         ],
         "xaxis": "x",
         "y": [
          154.54285714285714,
          142.32857142857142,
          98.125,
          147.16666666666666,
          156.17777777777778
         ],
         "yaxis": "y"
        },
        {
         "hovertemplate": "color=US Politics and administration<br>x=%{x}<br>y=%{y}<extra></extra>",
         "legendgroup": "US Politics and administration",
         "line": {
          "color": "#FF6692",
          "dash": "solid"
         },
         "mode": "lines",
         "name": "US Politics and administration",
         "showlegend": true,
         "type": "scatter",
         "x": [
          "2020-04-30T00:00:00",
          "2020-05-31T00:00:00",
          "2020-06-30T00:00:00",
          "2020-08-31T00:00:00",
          "2020-09-30T00:00:00"
         ],
         "xaxis": "x",
         "y": [
          136.6629213483146,
          136.16923076923078,
          154.1860465116279,
          150.0612244897959,
          169.90697674418604
         ],
         "yaxis": "y"
        },
        {
         "hovertemplate": "color=Weird letters<br>x=%{x}<br>y=%{y}<extra></extra>",
         "legendgroup": "Weird letters",
         "line": {
          "color": "#B6E880",
          "dash": "solid"
         },
         "mode": "lines",
         "name": "Weird letters",
         "showlegend": true,
         "type": "scatter",
         "x": [
          "2020-04-30T00:00:00",
          "2020-05-31T00:00:00",
          "2020-06-30T00:00:00",
          "2020-08-31T00:00:00",
          "2020-09-30T00:00:00"
         ],
         "xaxis": "x",
         "y": [
          151.28571428571428,
          199.05882352941177,
          130.67857142857142,
          215.93939393939394,
          113.39393939393939
         ],
         "yaxis": "y"
        },
        {
         "hovertemplate": "color=Weird words<br>x=%{x}<br>y=%{y}<extra></extra>",
         "legendgroup": "Weird words",
         "line": {
          "color": "#FF97FF",
          "dash": "solid"
         },
         "mode": "lines",
         "name": "Weird words",
         "showlegend": true,
         "type": "scatter",
         "x": [
          "2020-04-30T00:00:00",
          "2020-05-31T00:00:00",
          "2020-06-30T00:00:00",
          "2020-08-31T00:00:00",
          "2020-09-30T00:00:00"
         ],
         "xaxis": "x",
         "y": [
          152.86046511627907,
          182.7319587628866,
          181.14285714285714,
          89.23809523809524,
          145.90697674418604
         ],
         "yaxis": "y"
        },
        {
         "hovertemplate": "color=Wordpress<br>x=%{x}<br>y=%{y}<extra></extra>",
         "legendgroup": "Wordpress",
         "line": {
          "color": "#FECB52",
          "dash": "solid"
         },
         "mode": "lines",
         "name": "Wordpress",
         "showlegend": true,
         "type": "scatter",
         "x": [
          "2020-04-30T00:00:00",
          "2020-05-31T00:00:00",
          "2020-06-30T00:00:00",
          "2020-08-31T00:00:00",
          "2020-09-30T00:00:00"
         ],
         "xaxis": "x",
         "y": [
          152.45762711864407,
          129.25179856115108,
          200.77777777777777,
          136.1551724137931,
          133.48648648648648
         ],
         "yaxis": "y"
        }
       ],
       "layout": {
        "legend": {
         "title": {
          "text": "color"
         },
         "tracegroupgap": 0
        },
        "template": {
         "data": {
          "bar": [
           {
            "error_x": {
             "color": "#2a3f5f"
            },
            "error_y": {
             "color": "#2a3f5f"
            },
            "marker": {
             "line": {
              "color": "#E5ECF6",
              "width": 0.5
             }
            },
            "type": "bar"
           }
          ],
          "barpolar": [
           {
            "marker": {
             "line": {
              "color": "#E5ECF6",
              "width": 0.5
             }
            },
            "type": "barpolar"
           }
          ],
          "carpet": [
           {
            "aaxis": {
             "endlinecolor": "#2a3f5f",
             "gridcolor": "white",
             "linecolor": "white",
             "minorgridcolor": "white",
             "startlinecolor": "#2a3f5f"
            },
            "baxis": {
             "endlinecolor": "#2a3f5f",
             "gridcolor": "white",
             "linecolor": "white",
             "minorgridcolor": "white",
             "startlinecolor": "#2a3f5f"
            },
            "type": "carpet"
           }
          ],
          "choropleth": [
           {
            "colorbar": {
             "outlinewidth": 0,
             "ticks": ""
            },
            "type": "choropleth"
           }
          ],
          "contour": [
           {
            "colorbar": {
             "outlinewidth": 0,
             "ticks": ""
            },
            "colorscale": [
             [
              0,
              "#0d0887"
             ],
             [
              0.1111111111111111,
              "#46039f"
             ],
             [
              0.2222222222222222,
              "#7201a8"
             ],
             [
              0.3333333333333333,
              "#9c179e"
             ],
             [
              0.4444444444444444,
              "#bd3786"
             ],
             [
              0.5555555555555556,
              "#d8576b"
             ],
             [
              0.6666666666666666,
              "#ed7953"
             ],
             [
              0.7777777777777778,
              "#fb9f3a"
             ],
             [
              0.8888888888888888,
              "#fdca26"
             ],
             [
              1,
              "#f0f921"
             ]
            ],
            "type": "contour"
           }
          ],
          "contourcarpet": [
           {
            "colorbar": {
             "outlinewidth": 0,
             "ticks": ""
            },
            "type": "contourcarpet"
           }
          ],
          "heatmap": [
           {
            "colorbar": {
             "outlinewidth": 0,
             "ticks": ""
            },
            "colorscale": [
             [
              0,
              "#0d0887"
             ],
             [
              0.1111111111111111,
              "#46039f"
             ],
             [
              0.2222222222222222,
              "#7201a8"
             ],
             [
              0.3333333333333333,
              "#9c179e"
             ],
             [
              0.4444444444444444,
              "#bd3786"
             ],
             [
              0.5555555555555556,
              "#d8576b"
             ],
             [
              0.6666666666666666,
              "#ed7953"
             ],
             [
              0.7777777777777778,
              "#fb9f3a"
             ],
             [
              0.8888888888888888,
              "#fdca26"
             ],
             [
              1,
              "#f0f921"
             ]
            ],
            "type": "heatmap"
           }
          ],
          "heatmapgl": [
           {
            "colorbar": {
             "outlinewidth": 0,
             "ticks": ""
            },
            "colorscale": [
             [
              0,
              "#0d0887"
             ],
             [
              0.1111111111111111,
              "#46039f"
             ],
             [
              0.2222222222222222,
              "#7201a8"
             ],
             [
              0.3333333333333333,
              "#9c179e"
             ],
             [
              0.4444444444444444,
              "#bd3786"
             ],
             [
              0.5555555555555556,
              "#d8576b"
             ],
             [
              0.6666666666666666,
              "#ed7953"
             ],
             [
              0.7777777777777778,
              "#fb9f3a"
             ],
             [
              0.8888888888888888,
              "#fdca26"
             ],
             [
              1,
              "#f0f921"
             ]
            ],
            "type": "heatmapgl"
           }
          ],
          "histogram": [
           {
            "marker": {
             "colorbar": {
              "outlinewidth": 0,
              "ticks": ""
             }
            },
            "type": "histogram"
           }
          ],
          "histogram2d": [
           {
            "colorbar": {
             "outlinewidth": 0,
             "ticks": ""
            },
            "colorscale": [
             [
              0,
              "#0d0887"
             ],
             [
              0.1111111111111111,
              "#46039f"
             ],
             [
              0.2222222222222222,
              "#7201a8"
             ],
             [
              0.3333333333333333,
              "#9c179e"
             ],
             [
              0.4444444444444444,
              "#bd3786"
             ],
             [
              0.5555555555555556,
              "#d8576b"
             ],
             [
              0.6666666666666666,
              "#ed7953"
             ],
             [
              0.7777777777777778,
              "#fb9f3a"
             ],
             [
              0.8888888888888888,
              "#fdca26"
             ],
             [
              1,
              "#f0f921"
             ]
            ],
            "type": "histogram2d"
           }
          ],
          "histogram2dcontour": [
           {
            "colorbar": {
             "outlinewidth": 0,
             "ticks": ""
            },
            "colorscale": [
             [
              0,
              "#0d0887"
             ],
             [
              0.1111111111111111,
              "#46039f"
             ],
             [
              0.2222222222222222,
              "#7201a8"
             ],
             [
              0.3333333333333333,
              "#9c179e"
             ],
             [
              0.4444444444444444,
              "#bd3786"
             ],
             [
              0.5555555555555556,
              "#d8576b"
             ],
             [
              0.6666666666666666,
              "#ed7953"
             ],
             [
              0.7777777777777778,
              "#fb9f3a"
             ],
             [
              0.8888888888888888,
              "#fdca26"
             ],
             [
              1,
              "#f0f921"
             ]
            ],
            "type": "histogram2dcontour"
           }
          ],
          "mesh3d": [
           {
            "colorbar": {
             "outlinewidth": 0,
             "ticks": ""
            },
            "type": "mesh3d"
           }
          ],
          "parcoords": [
           {
            "line": {
             "colorbar": {
              "outlinewidth": 0,
              "ticks": ""
             }
            },
            "type": "parcoords"
           }
          ],
          "pie": [
           {
            "automargin": true,
            "type": "pie"
           }
          ],
          "scatter": [
           {
            "marker": {
             "colorbar": {
              "outlinewidth": 0,
              "ticks": ""
             }
            },
            "type": "scatter"
           }
          ],
          "scatter3d": [
           {
            "line": {
             "colorbar": {
              "outlinewidth": 0,
              "ticks": ""
             }
            },
            "marker": {
             "colorbar": {
              "outlinewidth": 0,
              "ticks": ""
             }
            },
            "type": "scatter3d"
           }
          ],
          "scattercarpet": [
           {
            "marker": {
             "colorbar": {
              "outlinewidth": 0,
              "ticks": ""
             }
            },
            "type": "scattercarpet"
           }
          ],
          "scattergeo": [
           {
            "marker": {
             "colorbar": {
              "outlinewidth": 0,
              "ticks": ""
             }
            },
            "type": "scattergeo"
           }
          ],
          "scattergl": [
           {
            "marker": {
             "colorbar": {
              "outlinewidth": 0,
              "ticks": ""
             }
            },
            "type": "scattergl"
           }
          ],
          "scattermapbox": [
           {
            "marker": {
             "colorbar": {
              "outlinewidth": 0,
              "ticks": ""
             }
            },
            "type": "scattermapbox"
           }
          ],
          "scatterpolar": [
           {
            "marker": {
             "colorbar": {
              "outlinewidth": 0,
              "ticks": ""
             }
            },
            "type": "scatterpolar"
           }
          ],
          "scatterpolargl": [
           {
            "marker": {
             "colorbar": {
              "outlinewidth": 0,
              "ticks": ""
             }
            },
            "type": "scatterpolargl"
           }
          ],
          "scatterternary": [
           {
            "marker": {
             "colorbar": {
              "outlinewidth": 0,
              "ticks": ""
             }
            },
            "type": "scatterternary"
           }
          ],
          "surface": [
           {
            "colorbar": {
             "outlinewidth": 0,
             "ticks": ""
            },
            "colorscale": [
             [
              0,
              "#0d0887"
             ],
             [
              0.1111111111111111,
              "#46039f"
             ],
             [
              0.2222222222222222,
              "#7201a8"
             ],
             [
              0.3333333333333333,
              "#9c179e"
             ],
             [
              0.4444444444444444,
              "#bd3786"
             ],
             [
              0.5555555555555556,
              "#d8576b"
             ],
             [
              0.6666666666666666,
              "#ed7953"
             ],
             [
              0.7777777777777778,
              "#fb9f3a"
             ],
             [
              0.8888888888888888,
              "#fdca26"
             ],
             [
              1,
              "#f0f921"
             ]
            ],
            "type": "surface"
           }
          ],
          "table": [
           {
            "cells": {
             "fill": {
              "color": "#EBF0F8"
             },
             "line": {
              "color": "white"
             }
            },
            "header": {
             "fill": {
              "color": "#C8D4E3"
             },
             "line": {
              "color": "white"
             }
            },
            "type": "table"
           }
          ]
         },
         "layout": {
          "annotationdefaults": {
           "arrowcolor": "#2a3f5f",
           "arrowhead": 0,
           "arrowwidth": 1
          },
          "coloraxis": {
           "colorbar": {
            "outlinewidth": 0,
            "ticks": ""
           }
          },
          "colorscale": {
           "diverging": [
            [
             0,
             "#8e0152"
            ],
            [
             0.1,
             "#c51b7d"
            ],
            [
             0.2,
             "#de77ae"
            ],
            [
             0.3,
             "#f1b6da"
            ],
            [
             0.4,
             "#fde0ef"
            ],
            [
             0.5,
             "#f7f7f7"
            ],
            [
             0.6,
             "#e6f5d0"
            ],
            [
             0.7,
             "#b8e186"
            ],
            [
             0.8,
             "#7fbc41"
            ],
            [
             0.9,
             "#4d9221"
            ],
            [
             1,
             "#276419"
            ]
           ],
           "sequential": [
            [
             0,
             "#0d0887"
            ],
            [
             0.1111111111111111,
             "#46039f"
            ],
            [
             0.2222222222222222,
             "#7201a8"
            ],
            [
             0.3333333333333333,
             "#9c179e"
            ],
            [
             0.4444444444444444,
             "#bd3786"
            ],
            [
             0.5555555555555556,
             "#d8576b"
            ],
            [
             0.6666666666666666,
             "#ed7953"
            ],
            [
             0.7777777777777778,
             "#fb9f3a"
            ],
            [
             0.8888888888888888,
             "#fdca26"
            ],
            [
             1,
             "#f0f921"
            ]
           ],
           "sequentialminus": [
            [
             0,
             "#0d0887"
            ],
            [
             0.1111111111111111,
             "#46039f"
            ],
            [
             0.2222222222222222,
             "#7201a8"
            ],
            [
             0.3333333333333333,
             "#9c179e"
            ],
            [
             0.4444444444444444,
             "#bd3786"
            ],
            [
             0.5555555555555556,
             "#d8576b"
            ],
            [
             0.6666666666666666,
             "#ed7953"
            ],
            [
             0.7777777777777778,
             "#fb9f3a"
            ],
            [
             0.8888888888888888,
             "#fdca26"
            ],
            [
             1,
             "#f0f921"
            ]
           ]
          },
          "colorway": [
           "#636efa",
           "#EF553B",
           "#00cc96",
           "#ab63fa",
           "#FFA15A",
           "#19d3f3",
           "#FF6692",
           "#B6E880",
           "#FF97FF",
           "#FECB52"
          ],
          "font": {
           "color": "#2a3f5f"
          },
          "geo": {
           "bgcolor": "white",
           "lakecolor": "white",
           "landcolor": "#E5ECF6",
           "showlakes": true,
           "showland": true,
           "subunitcolor": "white"
          },
          "hoverlabel": {
           "align": "left"
          },
          "hovermode": "closest",
          "mapbox": {
           "style": "light"
          },
          "paper_bgcolor": "white",
          "plot_bgcolor": "#E5ECF6",
          "polar": {
           "angularaxis": {
            "gridcolor": "white",
            "linecolor": "white",
            "ticks": ""
           },
           "bgcolor": "#E5ECF6",
           "radialaxis": {
            "gridcolor": "white",
            "linecolor": "white",
            "ticks": ""
           }
          },
          "scene": {
           "xaxis": {
            "backgroundcolor": "#E5ECF6",
            "gridcolor": "white",
            "gridwidth": 2,
            "linecolor": "white",
            "showbackground": true,
            "ticks": "",
            "zerolinecolor": "white"
           },
           "yaxis": {
            "backgroundcolor": "#E5ECF6",
            "gridcolor": "white",
            "gridwidth": 2,
            "linecolor": "white",
            "showbackground": true,
            "ticks": "",
            "zerolinecolor": "white"
           },
           "zaxis": {
            "backgroundcolor": "#E5ECF6",
            "gridcolor": "white",
            "gridwidth": 2,
            "linecolor": "white",
            "showbackground": true,
            "ticks": "",
            "zerolinecolor": "white"
           }
          },
          "shapedefaults": {
           "line": {
            "color": "#2a3f5f"
           }
          },
          "ternary": {
           "aaxis": {
            "gridcolor": "white",
            "linecolor": "white",
            "ticks": ""
           },
           "baxis": {
            "gridcolor": "white",
            "linecolor": "white",
            "ticks": ""
           },
           "bgcolor": "#E5ECF6",
           "caxis": {
            "gridcolor": "white",
            "linecolor": "white",
            "ticks": ""
           }
          },
          "title": {
           "x": 0.05
          },
          "xaxis": {
           "automargin": true,
           "gridcolor": "white",
           "linecolor": "white",
           "ticks": "",
           "title": {
            "standoff": 15
           },
           "zerolinecolor": "white",
           "zerolinewidth": 2
          },
          "yaxis": {
           "automargin": true,
           "gridcolor": "white",
           "linecolor": "white",
           "ticks": "",
           "title": {
            "standoff": 15
           },
           "zerolinecolor": "white",
           "zerolinewidth": 2
          }
         }
        },
        "title": {
         "text": "Average number of upvotes in time"
        },
        "xaxis": {
         "anchor": "y",
         "domain": [
          0,
          1
         ],
         "title": {
          "text": "x"
         }
        },
        "yaxis": {
         "anchor": "x",
         "domain": [
          0,
          1
         ],
         "title": {
          "text": "y"
         }
        }
       }
      },
      "text/html": [
       "<div>\n",
       "        \n",
       "        \n",
       "            <div id=\"d4a4f44c-d6d3-4aff-9c00-965c3db25278\" class=\"plotly-graph-div\" style=\"height:525px; width:100%;\"></div>\n",
       "            <script type=\"text/javascript\">\n",
       "                require([\"plotly\"], function(Plotly) {\n",
       "                    window.PLOTLYENV=window.PLOTLYENV || {};\n",
       "                    \n",
       "                if (document.getElementById(\"d4a4f44c-d6d3-4aff-9c00-965c3db25278\")) {\n",
       "                    Plotly.newPlot(\n",
       "                        'd4a4f44c-d6d3-4aff-9c00-965c3db25278',\n",
       "                        [{\"hovertemplate\": \"color=People and ideas<br>x=%{x}<br>y=%{y}<extra></extra>\", \"legendgroup\": \"People and ideas\", \"line\": {\"color\": \"#636efa\", \"dash\": \"solid\"}, \"mode\": \"lines\", \"name\": \"People and ideas\", \"showlegend\": true, \"type\": \"scatter\", \"x\": [\"2020-01-31T00:00:00\", \"2020-04-30T00:00:00\", \"2020-05-31T00:00:00\", \"2020-06-30T00:00:00\", \"2020-08-31T00:00:00\", \"2020-09-30T00:00:00\"], \"xaxis\": \"x\", \"y\": [52.0, 219.57142857142858, 190.5435684647303, 186.55555555555554, 155.8082191780822, 137.14953271028037], \"yaxis\": \"y\"}, {\"hovertemplate\": \"color=Deployments and databases<br>x=%{x}<br>y=%{y}<extra></extra>\", \"legendgroup\": \"Deployments and databases\", \"line\": {\"color\": \"#EF553B\", \"dash\": \"solid\"}, \"mode\": \"lines\", \"name\": \"Deployments and databases\", \"showlegend\": true, \"type\": \"scatter\", \"x\": [\"2020-03-31T00:00:00\", \"2020-04-30T00:00:00\", \"2020-05-31T00:00:00\", \"2020-06-30T00:00:00\", \"2020-08-31T00:00:00\", \"2020-09-30T00:00:00\"], \"xaxis\": \"x\", \"y\": [190.0, 158.52830188679246, 207.51973684210526, 163.91666666666666, 112.53333333333333, 139.203125], \"yaxis\": \"y\"}, {\"hovertemplate\": \"color=Compilers<br>x=%{x}<br>y=%{y}<extra></extra>\", \"legendgroup\": \"Compilers\", \"line\": {\"color\": \"#00cc96\", \"dash\": \"solid\"}, \"mode\": \"lines\", \"name\": \"Compilers\", \"showlegend\": true, \"type\": \"scatter\", \"x\": [\"2020-04-30T00:00:00\", \"2020-05-31T00:00:00\", \"2020-06-30T00:00:00\", \"2020-08-31T00:00:00\", \"2020-09-30T00:00:00\"], \"xaxis\": \"x\", \"y\": [180.53333333333333, 173.1461187214612, 104.2, 174.71666666666667, 103.46728971962617], \"yaxis\": \"y\"}, {\"hovertemplate\": \"color=Github repositories<br>x=%{x}<br>y=%{y}<extra></extra>\", \"legendgroup\": \"Github repositories\", \"line\": {\"color\": \"#ab63fa\", \"dash\": \"solid\"}, \"mode\": \"lines\", \"name\": \"Github repositories\", \"showlegend\": true, \"type\": \"scatter\", \"x\": [\"2020-04-30T00:00:00\", \"2020-05-31T00:00:00\", \"2020-06-30T00:00:00\", \"2020-08-31T00:00:00\", \"2020-09-30T00:00:00\"], \"xaxis\": \"x\", \"y\": [188.05454545454546, 166.41509433962264, 191.75, 152.76923076923077, 151.06153846153848], \"yaxis\": \"y\"}, {\"hovertemplate\": \"color=Government committees<br>x=%{x}<br>y=%{y}<extra></extra>\", \"legendgroup\": \"Government committees\", \"line\": {\"color\": \"#FFA15A\", \"dash\": \"solid\"}, \"mode\": \"lines\", \"name\": \"Government committees\", \"showlegend\": true, \"type\": \"scatter\", \"x\": [\"2020-04-30T00:00:00\", \"2020-05-31T00:00:00\", \"2020-06-30T00:00:00\", \"2020-08-31T00:00:00\", \"2020-09-30T00:00:00\"], \"xaxis\": \"x\", \"y\": [100.20833333333333, 178.2089552238806, 191.8095238095238, 170.92592592592592, 132.57777777777778], \"yaxis\": \"y\"}, {\"hovertemplate\": \"color=Hardware<br>x=%{x}<br>y=%{y}<extra></extra>\", \"legendgroup\": \"Hardware\", \"line\": {\"color\": \"#19d3f3\", \"dash\": \"solid\"}, \"mode\": \"lines\", \"name\": \"Hardware\", \"showlegend\": true, \"type\": \"scatter\", \"x\": [\"2020-04-30T00:00:00\", \"2020-05-31T00:00:00\", \"2020-06-30T00:00:00\", \"2020-08-31T00:00:00\", \"2020-09-30T00:00:00\"], \"xaxis\": \"x\", \"y\": [147.8421052631579, 148.28735632183907, 247.66666666666666, 120.75, 175.7843137254902], \"yaxis\": \"y\"}, {\"hovertemplate\": \"color=JavaScript<br>x=%{x}<br>y=%{y}<extra></extra>\", \"legendgroup\": \"JavaScript\", \"line\": {\"color\": \"#FF6692\", \"dash\": \"solid\"}, \"mode\": \"lines\", \"name\": \"JavaScript\", \"showlegend\": true, \"type\": \"scatter\", \"x\": [\"2020-04-30T00:00:00\", \"2020-05-31T00:00:00\", \"2020-06-30T00:00:00\", \"2020-08-31T00:00:00\", \"2020-09-30T00:00:00\"], \"xaxis\": \"x\", \"y\": [111.33333333333333, 147.74757281553397, 172.72727272727272, 131.71875, 140.75], \"yaxis\": \"y\"}, {\"hovertemplate\": \"color=Linux<br>x=%{x}<br>y=%{y}<extra></extra>\", \"legendgroup\": \"Linux\", \"line\": {\"color\": \"#B6E880\", \"dash\": \"solid\"}, \"mode\": \"lines\", \"name\": \"Linux\", \"showlegend\": true, \"type\": \"scatter\", \"x\": [\"2020-04-30T00:00:00\", \"2020-05-31T00:00:00\", \"2020-06-30T00:00:00\", \"2020-08-31T00:00:00\", \"2020-09-30T00:00:00\"], \"xaxis\": \"x\", \"y\": [215.0, 199.6046511627907, 134.16666666666666, 147.0, 159.70689655172413], \"yaxis\": \"y\"}, {\"hovertemplate\": \"color=Literature, culture, philosophy<br>x=%{x}<br>y=%{y}<extra></extra>\", \"legendgroup\": \"Literature, culture, philosophy\", \"line\": {\"color\": \"#FF97FF\", \"dash\": \"solid\"}, \"mode\": \"lines\", \"name\": \"Literature, culture, philosophy\", \"showlegend\": true, \"type\": \"scatter\", \"x\": [\"2020-04-30T00:00:00\", \"2020-05-31T00:00:00\", \"2020-06-30T00:00:00\", \"2020-08-31T00:00:00\", \"2020-09-30T00:00:00\"], \"xaxis\": \"x\", \"y\": [107.37142857142857, 108.05228758169935, 108.06896551724138, 107.14583333333333, 90.76288659793815], \"yaxis\": \"y\"}, {\"hovertemplate\": \"color=Machine Learning<br>x=%{x}<br>y=%{y}<extra></extra>\", \"legendgroup\": \"Machine Learning\", \"line\": {\"color\": \"#FECB52\", \"dash\": \"solid\"}, \"mode\": \"lines\", \"name\": \"Machine Learning\", \"showlegend\": true, \"type\": \"scatter\", \"x\": [\"2020-04-30T00:00:00\", \"2020-05-31T00:00:00\", \"2020-06-30T00:00:00\", \"2020-08-31T00:00:00\", \"2020-09-30T00:00:00\"], \"xaxis\": \"x\", \"y\": [126.03030303030303, 172.74489795918367, 140.27777777777777, 149.47222222222223, 98.87755102040816], \"yaxis\": \"y\"}, {\"hovertemplate\": \"color=Medicine<br>x=%{x}<br>y=%{y}<extra></extra>\", \"legendgroup\": \"Medicine\", \"line\": {\"color\": \"#636efa\", \"dash\": \"solid\"}, \"mode\": \"lines\", \"name\": \"Medicine\", \"showlegend\": true, \"type\": \"scatter\", \"x\": [\"2020-04-30T00:00:00\", \"2020-05-31T00:00:00\", \"2020-06-30T00:00:00\", \"2020-08-31T00:00:00\", \"2020-09-30T00:00:00\"], \"xaxis\": \"x\", \"y\": [129.73684210526315, 119.18478260869566, 117.11111111111111, 109.36842105263158, 94.73333333333333], \"yaxis\": \"y\"}, {\"hovertemplate\": \"color=People words<br>x=%{x}<br>y=%{y}<extra></extra>\", \"legendgroup\": \"People words\", \"line\": {\"color\": \"#EF553B\", \"dash\": \"solid\"}, \"mode\": \"lines\", \"name\": \"People words\", \"showlegend\": true, \"type\": \"scatter\", \"x\": [\"2020-04-30T00:00:00\", \"2020-05-31T00:00:00\", \"2020-06-30T00:00:00\", \"2020-08-31T00:00:00\", \"2020-09-30T00:00:00\"], \"xaxis\": \"x\", \"y\": [191.42307692307693, 286.1764705882353, 156.22222222222223, 187.25, 222.51612903225808], \"yaxis\": \"y\"}, {\"hovertemplate\": \"color=Programming words<br>x=%{x}<br>y=%{y}<extra></extra>\", \"legendgroup\": \"Programming words\", \"line\": {\"color\": \"#00cc96\", \"dash\": \"solid\"}, \"mode\": \"lines\", \"name\": \"Programming words\", \"showlegend\": true, \"type\": \"scatter\", \"x\": [\"2020-04-30T00:00:00\", \"2020-05-31T00:00:00\", \"2020-06-30T00:00:00\", \"2020-08-31T00:00:00\", \"2020-09-30T00:00:00\"], \"xaxis\": \"x\", \"y\": [111.24242424242425, 120.61643835616438, 135.0, 125.56, 99.88235294117646], \"yaxis\": \"y\"}, {\"hovertemplate\": \"color=Renewable energy<br>x=%{x}<br>y=%{y}<extra></extra>\", \"legendgroup\": \"Renewable energy\", \"line\": {\"color\": \"#ab63fa\", \"dash\": \"solid\"}, \"mode\": \"lines\", \"name\": \"Renewable energy\", \"showlegend\": true, \"type\": \"scatter\", \"x\": [\"2020-04-30T00:00:00\", \"2020-05-31T00:00:00\", \"2020-06-30T00:00:00\", \"2020-08-31T00:00:00\", \"2020-09-30T00:00:00\"], \"xaxis\": \"x\", \"y\": [93.6875, 147.28571428571428, 125.35, 133.38888888888889, 99.14], \"yaxis\": \"y\"}, {\"hovertemplate\": \"color=Software<br>x=%{x}<br>y=%{y}<extra></extra>\", \"legendgroup\": \"Software\", \"line\": {\"color\": \"#FFA15A\", \"dash\": \"solid\"}, \"mode\": \"lines\", \"name\": \"Software\", \"showlegend\": true, \"type\": \"scatter\", \"x\": [\"2020-04-30T00:00:00\", \"2020-05-31T00:00:00\", \"2020-06-30T00:00:00\", \"2020-08-31T00:00:00\", \"2020-09-30T00:00:00\"], \"xaxis\": \"x\", \"y\": [189.725, 265.72340425531917, 121.9090909090909, 175.21621621621622, 177.01754385964912], \"yaxis\": \"y\"}, {\"hovertemplate\": \"color=Texts with codes<br>x=%{x}<br>y=%{y}<extra></extra>\", \"legendgroup\": \"Texts with codes\", \"line\": {\"color\": \"#19d3f3\", \"dash\": \"solid\"}, \"mode\": \"lines\", \"name\": \"Texts with codes\", \"showlegend\": true, \"type\": \"scatter\", \"x\": [\"2020-04-30T00:00:00\", \"2020-05-31T00:00:00\", \"2020-06-30T00:00:00\", \"2020-08-31T00:00:00\", \"2020-09-30T00:00:00\"], \"xaxis\": \"x\", \"y\": [154.54285714285714, 142.32857142857142, 98.125, 147.16666666666666, 156.17777777777778], \"yaxis\": \"y\"}, {\"hovertemplate\": \"color=US Politics and administration<br>x=%{x}<br>y=%{y}<extra></extra>\", \"legendgroup\": \"US Politics and administration\", \"line\": {\"color\": \"#FF6692\", \"dash\": \"solid\"}, \"mode\": \"lines\", \"name\": \"US Politics and administration\", \"showlegend\": true, \"type\": \"scatter\", \"x\": [\"2020-04-30T00:00:00\", \"2020-05-31T00:00:00\", \"2020-06-30T00:00:00\", \"2020-08-31T00:00:00\", \"2020-09-30T00:00:00\"], \"xaxis\": \"x\", \"y\": [136.6629213483146, 136.16923076923078, 154.1860465116279, 150.0612244897959, 169.90697674418604], \"yaxis\": \"y\"}, {\"hovertemplate\": \"color=Weird letters<br>x=%{x}<br>y=%{y}<extra></extra>\", \"legendgroup\": \"Weird letters\", \"line\": {\"color\": \"#B6E880\", \"dash\": \"solid\"}, \"mode\": \"lines\", \"name\": \"Weird letters\", \"showlegend\": true, \"type\": \"scatter\", \"x\": [\"2020-04-30T00:00:00\", \"2020-05-31T00:00:00\", \"2020-06-30T00:00:00\", \"2020-08-31T00:00:00\", \"2020-09-30T00:00:00\"], \"xaxis\": \"x\", \"y\": [151.28571428571428, 199.05882352941177, 130.67857142857142, 215.93939393939394, 113.39393939393939], \"yaxis\": \"y\"}, {\"hovertemplate\": \"color=Weird words<br>x=%{x}<br>y=%{y}<extra></extra>\", \"legendgroup\": \"Weird words\", \"line\": {\"color\": \"#FF97FF\", \"dash\": \"solid\"}, \"mode\": \"lines\", \"name\": \"Weird words\", \"showlegend\": true, \"type\": \"scatter\", \"x\": [\"2020-04-30T00:00:00\", \"2020-05-31T00:00:00\", \"2020-06-30T00:00:00\", \"2020-08-31T00:00:00\", \"2020-09-30T00:00:00\"], \"xaxis\": \"x\", \"y\": [152.86046511627907, 182.7319587628866, 181.14285714285714, 89.23809523809524, 145.90697674418604], \"yaxis\": \"y\"}, {\"hovertemplate\": \"color=Wordpress<br>x=%{x}<br>y=%{y}<extra></extra>\", \"legendgroup\": \"Wordpress\", \"line\": {\"color\": \"#FECB52\", \"dash\": \"solid\"}, \"mode\": \"lines\", \"name\": \"Wordpress\", \"showlegend\": true, \"type\": \"scatter\", \"x\": [\"2020-04-30T00:00:00\", \"2020-05-31T00:00:00\", \"2020-06-30T00:00:00\", \"2020-08-31T00:00:00\", \"2020-09-30T00:00:00\"], \"xaxis\": \"x\", \"y\": [152.45762711864407, 129.25179856115108, 200.77777777777777, 136.1551724137931, 133.48648648648648], \"yaxis\": \"y\"}],\n",
       "                        {\"legend\": {\"title\": {\"text\": \"color\"}, \"tracegroupgap\": 0}, \"template\": {\"data\": {\"bar\": [{\"error_x\": {\"color\": \"#2a3f5f\"}, \"error_y\": {\"color\": \"#2a3f5f\"}, \"marker\": {\"line\": {\"color\": \"#E5ECF6\", \"width\": 0.5}}, \"type\": \"bar\"}], \"barpolar\": [{\"marker\": {\"line\": {\"color\": \"#E5ECF6\", \"width\": 0.5}}, \"type\": \"barpolar\"}], \"carpet\": [{\"aaxis\": {\"endlinecolor\": \"#2a3f5f\", \"gridcolor\": \"white\", \"linecolor\": \"white\", \"minorgridcolor\": \"white\", \"startlinecolor\": \"#2a3f5f\"}, \"baxis\": {\"endlinecolor\": \"#2a3f5f\", \"gridcolor\": \"white\", \"linecolor\": \"white\", \"minorgridcolor\": \"white\", \"startlinecolor\": \"#2a3f5f\"}, \"type\": \"carpet\"}], \"choropleth\": [{\"colorbar\": {\"outlinewidth\": 0, \"ticks\": \"\"}, \"type\": \"choropleth\"}], \"contour\": [{\"colorbar\": {\"outlinewidth\": 0, \"ticks\": \"\"}, \"colorscale\": [[0.0, \"#0d0887\"], [0.1111111111111111, \"#46039f\"], [0.2222222222222222, \"#7201a8\"], [0.3333333333333333, \"#9c179e\"], [0.4444444444444444, \"#bd3786\"], [0.5555555555555556, \"#d8576b\"], [0.6666666666666666, \"#ed7953\"], [0.7777777777777778, \"#fb9f3a\"], [0.8888888888888888, \"#fdca26\"], [1.0, \"#f0f921\"]], \"type\": \"contour\"}], \"contourcarpet\": [{\"colorbar\": {\"outlinewidth\": 0, \"ticks\": \"\"}, \"type\": \"contourcarpet\"}], \"heatmap\": [{\"colorbar\": {\"outlinewidth\": 0, \"ticks\": \"\"}, \"colorscale\": [[0.0, \"#0d0887\"], [0.1111111111111111, \"#46039f\"], [0.2222222222222222, \"#7201a8\"], [0.3333333333333333, \"#9c179e\"], [0.4444444444444444, \"#bd3786\"], [0.5555555555555556, \"#d8576b\"], [0.6666666666666666, \"#ed7953\"], [0.7777777777777778, \"#fb9f3a\"], [0.8888888888888888, \"#fdca26\"], [1.0, \"#f0f921\"]], \"type\": \"heatmap\"}], \"heatmapgl\": [{\"colorbar\": {\"outlinewidth\": 0, \"ticks\": \"\"}, \"colorscale\": [[0.0, \"#0d0887\"], [0.1111111111111111, \"#46039f\"], [0.2222222222222222, \"#7201a8\"], [0.3333333333333333, \"#9c179e\"], [0.4444444444444444, \"#bd3786\"], [0.5555555555555556, \"#d8576b\"], [0.6666666666666666, \"#ed7953\"], [0.7777777777777778, \"#fb9f3a\"], [0.8888888888888888, \"#fdca26\"], [1.0, \"#f0f921\"]], \"type\": \"heatmapgl\"}], \"histogram\": [{\"marker\": {\"colorbar\": {\"outlinewidth\": 0, \"ticks\": \"\"}}, \"type\": \"histogram\"}], \"histogram2d\": [{\"colorbar\": {\"outlinewidth\": 0, \"ticks\": \"\"}, \"colorscale\": [[0.0, \"#0d0887\"], [0.1111111111111111, \"#46039f\"], [0.2222222222222222, \"#7201a8\"], [0.3333333333333333, \"#9c179e\"], [0.4444444444444444, \"#bd3786\"], [0.5555555555555556, \"#d8576b\"], [0.6666666666666666, \"#ed7953\"], [0.7777777777777778, \"#fb9f3a\"], [0.8888888888888888, \"#fdca26\"], [1.0, \"#f0f921\"]], \"type\": \"histogram2d\"}], \"histogram2dcontour\": [{\"colorbar\": {\"outlinewidth\": 0, \"ticks\": \"\"}, \"colorscale\": [[0.0, \"#0d0887\"], [0.1111111111111111, \"#46039f\"], [0.2222222222222222, \"#7201a8\"], [0.3333333333333333, \"#9c179e\"], [0.4444444444444444, \"#bd3786\"], [0.5555555555555556, \"#d8576b\"], [0.6666666666666666, \"#ed7953\"], [0.7777777777777778, \"#fb9f3a\"], [0.8888888888888888, \"#fdca26\"], [1.0, \"#f0f921\"]], \"type\": \"histogram2dcontour\"}], \"mesh3d\": [{\"colorbar\": {\"outlinewidth\": 0, \"ticks\": \"\"}, \"type\": \"mesh3d\"}], \"parcoords\": [{\"line\": {\"colorbar\": {\"outlinewidth\": 0, \"ticks\": \"\"}}, \"type\": \"parcoords\"}], \"pie\": [{\"automargin\": true, \"type\": \"pie\"}], \"scatter\": [{\"marker\": {\"colorbar\": {\"outlinewidth\": 0, \"ticks\": \"\"}}, \"type\": \"scatter\"}], \"scatter3d\": [{\"line\": {\"colorbar\": {\"outlinewidth\": 0, \"ticks\": \"\"}}, \"marker\": {\"colorbar\": {\"outlinewidth\": 0, \"ticks\": \"\"}}, \"type\": \"scatter3d\"}], \"scattercarpet\": [{\"marker\": {\"colorbar\": {\"outlinewidth\": 0, \"ticks\": \"\"}}, \"type\": \"scattercarpet\"}], \"scattergeo\": [{\"marker\": {\"colorbar\": {\"outlinewidth\": 0, \"ticks\": \"\"}}, \"type\": \"scattergeo\"}], \"scattergl\": [{\"marker\": {\"colorbar\": {\"outlinewidth\": 0, \"ticks\": \"\"}}, \"type\": \"scattergl\"}], \"scattermapbox\": [{\"marker\": {\"colorbar\": {\"outlinewidth\": 0, \"ticks\": \"\"}}, \"type\": \"scattermapbox\"}], \"scatterpolar\": [{\"marker\": {\"colorbar\": {\"outlinewidth\": 0, \"ticks\": \"\"}}, \"type\": \"scatterpolar\"}], \"scatterpolargl\": [{\"marker\": {\"colorbar\": {\"outlinewidth\": 0, \"ticks\": \"\"}}, \"type\": \"scatterpolargl\"}], \"scatterternary\": [{\"marker\": {\"colorbar\": {\"outlinewidth\": 0, \"ticks\": \"\"}}, \"type\": \"scatterternary\"}], \"surface\": [{\"colorbar\": {\"outlinewidth\": 0, \"ticks\": \"\"}, \"colorscale\": [[0.0, \"#0d0887\"], [0.1111111111111111, \"#46039f\"], [0.2222222222222222, \"#7201a8\"], [0.3333333333333333, \"#9c179e\"], [0.4444444444444444, \"#bd3786\"], [0.5555555555555556, \"#d8576b\"], [0.6666666666666666, \"#ed7953\"], [0.7777777777777778, \"#fb9f3a\"], [0.8888888888888888, \"#fdca26\"], [1.0, \"#f0f921\"]], \"type\": \"surface\"}], \"table\": [{\"cells\": {\"fill\": {\"color\": \"#EBF0F8\"}, \"line\": {\"color\": \"white\"}}, \"header\": {\"fill\": {\"color\": \"#C8D4E3\"}, \"line\": {\"color\": \"white\"}}, \"type\": \"table\"}]}, \"layout\": {\"annotationdefaults\": {\"arrowcolor\": \"#2a3f5f\", \"arrowhead\": 0, \"arrowwidth\": 1}, \"coloraxis\": {\"colorbar\": {\"outlinewidth\": 0, \"ticks\": \"\"}}, \"colorscale\": {\"diverging\": [[0, \"#8e0152\"], [0.1, \"#c51b7d\"], [0.2, \"#de77ae\"], [0.3, \"#f1b6da\"], [0.4, \"#fde0ef\"], [0.5, \"#f7f7f7\"], [0.6, \"#e6f5d0\"], [0.7, \"#b8e186\"], [0.8, \"#7fbc41\"], [0.9, \"#4d9221\"], [1, \"#276419\"]], \"sequential\": [[0.0, \"#0d0887\"], [0.1111111111111111, \"#46039f\"], [0.2222222222222222, \"#7201a8\"], [0.3333333333333333, \"#9c179e\"], [0.4444444444444444, \"#bd3786\"], [0.5555555555555556, \"#d8576b\"], [0.6666666666666666, \"#ed7953\"], [0.7777777777777778, \"#fb9f3a\"], [0.8888888888888888, \"#fdca26\"], [1.0, \"#f0f921\"]], \"sequentialminus\": [[0.0, \"#0d0887\"], [0.1111111111111111, \"#46039f\"], [0.2222222222222222, \"#7201a8\"], [0.3333333333333333, \"#9c179e\"], [0.4444444444444444, \"#bd3786\"], [0.5555555555555556, \"#d8576b\"], [0.6666666666666666, \"#ed7953\"], [0.7777777777777778, \"#fb9f3a\"], [0.8888888888888888, \"#fdca26\"], [1.0, \"#f0f921\"]]}, \"colorway\": [\"#636efa\", \"#EF553B\", \"#00cc96\", \"#ab63fa\", \"#FFA15A\", \"#19d3f3\", \"#FF6692\", \"#B6E880\", \"#FF97FF\", \"#FECB52\"], \"font\": {\"color\": \"#2a3f5f\"}, \"geo\": {\"bgcolor\": \"white\", \"lakecolor\": \"white\", \"landcolor\": \"#E5ECF6\", \"showlakes\": true, \"showland\": true, \"subunitcolor\": \"white\"}, \"hoverlabel\": {\"align\": \"left\"}, \"hovermode\": \"closest\", \"mapbox\": {\"style\": \"light\"}, \"paper_bgcolor\": \"white\", \"plot_bgcolor\": \"#E5ECF6\", \"polar\": {\"angularaxis\": {\"gridcolor\": \"white\", \"linecolor\": \"white\", \"ticks\": \"\"}, \"bgcolor\": \"#E5ECF6\", \"radialaxis\": {\"gridcolor\": \"white\", \"linecolor\": \"white\", \"ticks\": \"\"}}, \"scene\": {\"xaxis\": {\"backgroundcolor\": \"#E5ECF6\", \"gridcolor\": \"white\", \"gridwidth\": 2, \"linecolor\": \"white\", \"showbackground\": true, \"ticks\": \"\", \"zerolinecolor\": \"white\"}, \"yaxis\": {\"backgroundcolor\": \"#E5ECF6\", \"gridcolor\": \"white\", \"gridwidth\": 2, \"linecolor\": \"white\", \"showbackground\": true, \"ticks\": \"\", \"zerolinecolor\": \"white\"}, \"zaxis\": {\"backgroundcolor\": \"#E5ECF6\", \"gridcolor\": \"white\", \"gridwidth\": 2, \"linecolor\": \"white\", \"showbackground\": true, \"ticks\": \"\", \"zerolinecolor\": \"white\"}}, \"shapedefaults\": {\"line\": {\"color\": \"#2a3f5f\"}}, \"ternary\": {\"aaxis\": {\"gridcolor\": \"white\", \"linecolor\": \"white\", \"ticks\": \"\"}, \"baxis\": {\"gridcolor\": \"white\", \"linecolor\": \"white\", \"ticks\": \"\"}, \"bgcolor\": \"#E5ECF6\", \"caxis\": {\"gridcolor\": \"white\", \"linecolor\": \"white\", \"ticks\": \"\"}}, \"title\": {\"x\": 0.05}, \"xaxis\": {\"automargin\": true, \"gridcolor\": \"white\", \"linecolor\": \"white\", \"ticks\": \"\", \"title\": {\"standoff\": 15}, \"zerolinecolor\": \"white\", \"zerolinewidth\": 2}, \"yaxis\": {\"automargin\": true, \"gridcolor\": \"white\", \"linecolor\": \"white\", \"ticks\": \"\", \"title\": {\"standoff\": 15}, \"zerolinecolor\": \"white\", \"zerolinewidth\": 2}}}, \"title\": {\"text\": \"Average number of upvotes in time\"}, \"xaxis\": {\"anchor\": \"y\", \"domain\": [0.0, 1.0], \"title\": {\"text\": \"x\"}}, \"yaxis\": {\"anchor\": \"x\", \"domain\": [0.0, 1.0], \"title\": {\"text\": \"y\"}}},\n",
       "                        {\"responsive\": true}\n",
       "                    ).then(function(){\n",
       "                            \n",
       "var gd = document.getElementById('d4a4f44c-d6d3-4aff-9c00-965c3db25278');\n",
       "var x = new MutationObserver(function (mutations, observer) {{\n",
       "        var display = window.getComputedStyle(gd).display;\n",
       "        if (!display || display === 'none') {{\n",
       "            console.log([gd, 'removed!']);\n",
       "            Plotly.purge(gd);\n",
       "            observer.disconnect();\n",
       "        }}\n",
       "}});\n",
       "\n",
       "// Listen for the removal of the full notebook cells\n",
       "var notebookContainer = gd.closest('#notebook-container');\n",
       "if (notebookContainer) {{\n",
       "    x.observe(notebookContainer, {childList: true});\n",
       "}}\n",
       "\n",
       "// Listen for the clearing of the current output cell\n",
       "var outputEl = gd.closest('.output');\n",
       "if (outputEl) {{\n",
       "    x.observe(outputEl, {childList: true});\n",
       "}}\n",
       "\n",
       "                        })\n",
       "                };\n",
       "                });\n",
       "            </script>\n",
       "        </div>"
      ]
     },
     "metadata": {},
     "output_type": "display_data"
    }
   ],
   "source": [
    "plot_data = df.groupby([pd.Grouper(key = 'time', freq = 'M'), 'topic'])['score'].mean().reset_index()\n",
    "\n",
    "fig = px.line(\n",
    "    x = plot_data['time'],\n",
    "    y = plot_data['score'],\n",
    "    color = plot_data['topic'],\n",
    "    title = 'Average number of upvotes in time'\n",
    ")\n",
    "\n",
    "fig.show()"
   ]
  },
  {
   "cell_type": "code",
   "execution_count": null,
   "metadata": {},
   "outputs": [],
   "source": []
  }
 ],
 "metadata": {
  "kernelspec": {
   "display_name": "Python 3",
   "language": "python",
   "name": "python3"
  },
  "language_info": {
   "codemirror_mode": {
    "name": "ipython",
    "version": 3
   },
   "file_extension": ".py",
   "mimetype": "text/x-python",
   "name": "python",
   "nbconvert_exporter": "python",
   "pygments_lexer": "ipython3",
   "version": "3.7.4"
  }
 },
 "nbformat": 4,
 "nbformat_minor": 2
}
