{
 "cells": [
  {
   "cell_type": "code",
   "execution_count": 254,
   "metadata": {},
   "outputs": [],
   "source": [
    "import warnings\n",
    "warnings.filterwarnings('ignore')\n",
    "\n",
    "from itertools import combinations\n",
    "\n",
    "import numpy as np\n",
    "import matplotlib.pyplot as plt\n",
    "import pandas as pd\n",
    "import plotly.express as px\n",
    "import plotly.graph_objects as go"
   ]
  },
  {
   "cell_type": "code",
   "execution_count": 2,
   "metadata": {},
   "outputs": [],
   "source": [
    "articles = pd.read_csv('../data/articles.csv')\n",
    "df = pd.read_csv('../data/articles-with-topics.csv')"
   ]
  },
  {
   "cell_type": "code",
   "execution_count": 3,
   "metadata": {},
   "outputs": [],
   "source": [
    "articles['time'] = pd.to_datetime(articles['time'])\n",
    "df['time'] = pd.to_datetime(df['time'])"
   ]
  },
  {
   "cell_type": "code",
   "execution_count": 4,
   "metadata": {},
   "outputs": [
    {
     "data": {
      "text/html": [
       "<div>\n",
       "<style scoped>\n",
       "    .dataframe tbody tr th:only-of-type {\n",
       "        vertical-align: middle;\n",
       "    }\n",
       "\n",
       "    .dataframe tbody tr th {\n",
       "        vertical-align: top;\n",
       "    }\n",
       "\n",
       "    .dataframe thead th {\n",
       "        text-align: right;\n",
       "    }\n",
       "</style>\n",
       "<table border=\"1\" class=\"dataframe\">\n",
       "  <thead>\n",
       "    <tr style=\"text-align: right;\">\n",
       "      <th></th>\n",
       "      <th>by</th>\n",
       "      <th>descendants</th>\n",
       "      <th>id</th>\n",
       "      <th>kids</th>\n",
       "      <th>score</th>\n",
       "      <th>time</th>\n",
       "      <th>title</th>\n",
       "      <th>type</th>\n",
       "      <th>url</th>\n",
       "      <th>topic</th>\n",
       "    </tr>\n",
       "  </thead>\n",
       "  <tbody>\n",
       "    <tr>\n",
       "      <td>0</td>\n",
       "      <td>todsacerdoti</td>\n",
       "      <td>607</td>\n",
       "      <td>24563698</td>\n",
       "      <td>24563821 24563987 24565829 24564488 24563843 2...</td>\n",
       "      <td>711</td>\n",
       "      <td>2020-09-23 08:38:33</td>\n",
       "      <td>Firefox usage is down 85% despite Mozilla's to...</td>\n",
       "      <td>story</td>\n",
       "      <td>http://calpaterson.com/mozilla.html</td>\n",
       "      <td>People words</td>\n",
       "    </tr>\n",
       "    <tr>\n",
       "      <td>1</td>\n",
       "      <td>themodelplumber</td>\n",
       "      <td>126</td>\n",
       "      <td>24562850</td>\n",
       "      <td>24563705 24563838 24563276 24563478 24565992 2...</td>\n",
       "      <td>310</td>\n",
       "      <td>2020-09-23 06:04:45</td>\n",
       "      <td>How to say no, for the people pleaser who alwa...</td>\n",
       "      <td>story</td>\n",
       "      <td>https://www.npr.org/2020/09/15/913207918/how-t...</td>\n",
       "      <td>Linux</td>\n",
       "    </tr>\n",
       "    <tr>\n",
       "      <td>2</td>\n",
       "      <td>luu</td>\n",
       "      <td>27</td>\n",
       "      <td>24553085</td>\n",
       "      <td>24563230 24562887 24562049 24564895 24562235 2...</td>\n",
       "      <td>227</td>\n",
       "      <td>2020-09-22 13:04:22</td>\n",
       "      <td>Small Tech</td>\n",
       "      <td>story</td>\n",
       "      <td>https://scattered-thoughts.net/writing/small-t...</td>\n",
       "      <td>People and ideas</td>\n",
       "    </tr>\n",
       "    <tr>\n",
       "      <td>3</td>\n",
       "      <td>pseudolus</td>\n",
       "      <td>56</td>\n",
       "      <td>24553369</td>\n",
       "      <td>24563122 24565813 24562283 24562375 24563752 2...</td>\n",
       "      <td>94</td>\n",
       "      <td>2020-09-22 13:47:02</td>\n",
       "      <td>You Talkin’ to Me? The Unruly History of New Y...</td>\n",
       "      <td>story</td>\n",
       "      <td>https://literaryreview.co.uk/tawk-of-the-town</td>\n",
       "      <td>Literature, culture, philosophy</td>\n",
       "    </tr>\n",
       "    <tr>\n",
       "      <td>4</td>\n",
       "      <td>jeanyang</td>\n",
       "      <td>24</td>\n",
       "      <td>24561119</td>\n",
       "      <td>24561495 24562538 24565366 24564334 24561573 2...</td>\n",
       "      <td>87</td>\n",
       "      <td>2020-09-23 01:13:58</td>\n",
       "      <td>Catch Breaking Changes by Diffing API Traffic</td>\n",
       "      <td>story</td>\n",
       "      <td>https://www.akitasoftware.com/blog/2020/9/22/f...</td>\n",
       "      <td>People and ideas</td>\n",
       "    </tr>\n",
       "  </tbody>\n",
       "</table>\n",
       "</div>"
      ],
      "text/plain": [
       "                by  descendants        id  \\\n",
       "0     todsacerdoti          607  24563698   \n",
       "1  themodelplumber          126  24562850   \n",
       "2              luu           27  24553085   \n",
       "3        pseudolus           56  24553369   \n",
       "4         jeanyang           24  24561119   \n",
       "\n",
       "                                                kids  score  \\\n",
       "0  24563821 24563987 24565829 24564488 24563843 2...    711   \n",
       "1  24563705 24563838 24563276 24563478 24565992 2...    310   \n",
       "2  24563230 24562887 24562049 24564895 24562235 2...    227   \n",
       "3  24563122 24565813 24562283 24562375 24563752 2...     94   \n",
       "4  24561495 24562538 24565366 24564334 24561573 2...     87   \n",
       "\n",
       "                 time                                              title  \\\n",
       "0 2020-09-23 08:38:33  Firefox usage is down 85% despite Mozilla's to...   \n",
       "1 2020-09-23 06:04:45  How to say no, for the people pleaser who alwa...   \n",
       "2 2020-09-22 13:04:22                                         Small Tech   \n",
       "3 2020-09-22 13:47:02  You Talkin’ to Me? The Unruly History of New Y...   \n",
       "4 2020-09-23 01:13:58      Catch Breaking Changes by Diffing API Traffic   \n",
       "\n",
       "    type                                                url  \\\n",
       "0  story                http://calpaterson.com/mozilla.html   \n",
       "1  story  https://www.npr.org/2020/09/15/913207918/how-t...   \n",
       "2  story  https://scattered-thoughts.net/writing/small-t...   \n",
       "3  story      https://literaryreview.co.uk/tawk-of-the-town   \n",
       "4  story  https://www.akitasoftware.com/blog/2020/9/22/f...   \n",
       "\n",
       "                             topic  \n",
       "0                     People words  \n",
       "1                            Linux  \n",
       "2                 People and ideas  \n",
       "3  Literature, culture, philosophy  \n",
       "4                 People and ideas  "
      ]
     },
     "execution_count": 4,
     "metadata": {},
     "output_type": "execute_result"
    }
   ],
   "source": [
    "df.head()"
   ]
  },
  {
   "cell_type": "markdown",
   "metadata": {},
   "source": [
    "# Number of articles in time"
   ]
  },
  {
   "cell_type": "code",
   "execution_count": 57,
   "metadata": {},
   "outputs": [],
   "source": [
    "plot_data_articles = articles.groupby([pd.Grouper(key = 'time', freq = 'M')])['score'].count().reset_index()\n",
    "plot_data_articles_topic = df.groupby([pd.Grouper(key = 'time', freq = 'M')])['score'].count().reset_index()\n",
    "\n",
    "fig = go.Figure()\n",
    "\n",
    "fig.add_trace(\n",
    "    go.Scatter(\n",
    "        x = plot_data_articles['time'],\n",
    "        y = plot_data_articles['score'],\n",
    "        name = 'Articles'\n",
    "    )\n",
    ")\n",
    "\n",
    "fig.add_trace(\n",
    "    go.Scatter(\n",
    "        x = plot_data_articles_topic['time'],\n",
    "        y = plot_data_articles_topic['score'],\n",
    "        name = 'Articles with content'\n",
    "    )\n",
    ")\n",
    "\n",
    "fig.update_layout(\n",
    "    title = 'Number of articles in time'\n",
    ")\n",
    "\n",
    "fig.write_image('results/plots-articles-with-topics/articles-in-time.png')"
   ]
  },
  {
   "cell_type": "markdown",
   "metadata": {},
   "source": [
    "# Number of articles per topic"
   ]
  },
  {
   "cell_type": "code",
   "execution_count": 56,
   "metadata": {},
   "outputs": [],
   "source": [
    "plot_data = df['topic'].value_counts().reset_index()\n",
    "\n",
    "fig = px.bar(\n",
    "    plot_data,\n",
    "    x = 'index',\n",
    "    y = 'topic',\n",
    "    title = 'Number of articles per topic'\n",
    ")\n",
    "\n",
    "fig.update_layout(\n",
    "    xaxis = {\n",
    "        'title': 'Topic',\n",
    "        'categoryorder': 'total descending'\n",
    "    },\n",
    "    yaxis = {\n",
    "        'title': 'Number of articles'\n",
    "    }\n",
    ")\n",
    "\n",
    "fig.write_image('results/plots-articles-with-topics/article-number-topic.png')"
   ]
  },
  {
   "cell_type": "markdown",
   "metadata": {},
   "source": [
    "# Avg. number of upvotes by topic"
   ]
  },
  {
   "cell_type": "code",
   "execution_count": 37,
   "metadata": {},
   "outputs": [],
   "source": [
    "plot_data = df.groupby(['topic'])['score'].mean().reset_index()\n",
    "\n",
    "fig = px.bar(\n",
    "    plot_data,\n",
    "    x = 'topic',\n",
    "    y = 'score',\n",
    "    title = 'Average number of upvotes by topic'\n",
    ")\n",
    "\n",
    "fig.update_layout(\n",
    "    xaxis = {\n",
    "        'title': 'Topic',\n",
    "        'categoryorder': 'total descending'\n",
    "    },\n",
    "    yaxis = {\n",
    "        'title': 'Average number of upvotes'\n",
    "    }\n",
    ")\n",
    "\n",
    "fig.write_image('results/plots-articles-with-topics/avg-upvotes.png')"
   ]
  },
  {
   "cell_type": "markdown",
   "metadata": {},
   "source": [
    "# Avg. number of comments by topic"
   ]
  },
  {
   "cell_type": "code",
   "execution_count": 263,
   "metadata": {},
   "outputs": [],
   "source": [
    "plot_data = df.groupby(['topic'])['descendants'].mean().reset_index()\n",
    "\n",
    "fig = px.bar(\n",
    "    plot_data,\n",
    "    x = 'topic',\n",
    "    y = 'descendants',\n",
    "    title = 'Average number of comments by topic'\n",
    ")\n",
    "\n",
    "fig.update_layout(\n",
    "    xaxis = {\n",
    "        'title': 'Topic',\n",
    "        'categoryorder': 'total descending'\n",
    "    },\n",
    "    yaxis = {\n",
    "        'title': 'Average number of comments'\n",
    "    }\n",
    ")\n",
    "\n",
    "fig.write_image('results/plots-articles-with-topics/avg-comments.png')"
   ]
  },
  {
   "cell_type": "markdown",
   "metadata": {},
   "source": [
    "# Number of people with one / one + topics"
   ]
  },
  {
   "cell_type": "code",
   "execution_count": 147,
   "metadata": {},
   "outputs": [],
   "source": [
    "unique_authors_topics = df[['by', 'topic']].drop_duplicates()"
   ]
  },
  {
   "cell_type": "code",
   "execution_count": 148,
   "metadata": {},
   "outputs": [
    {
     "data": {
      "text/html": [
       "<div>\n",
       "<style scoped>\n",
       "    .dataframe tbody tr th:only-of-type {\n",
       "        vertical-align: middle;\n",
       "    }\n",
       "\n",
       "    .dataframe tbody tr th {\n",
       "        vertical-align: top;\n",
       "    }\n",
       "\n",
       "    .dataframe thead th {\n",
       "        text-align: right;\n",
       "    }\n",
       "</style>\n",
       "<table border=\"1\" class=\"dataframe\">\n",
       "  <thead>\n",
       "    <tr style=\"text-align: right;\">\n",
       "      <th></th>\n",
       "      <th>by</th>\n",
       "      <th>topic</th>\n",
       "    </tr>\n",
       "  </thead>\n",
       "  <tbody>\n",
       "    <tr>\n",
       "      <td>0</td>\n",
       "      <td>todsacerdoti</td>\n",
       "      <td>People words</td>\n",
       "    </tr>\n",
       "    <tr>\n",
       "      <td>1</td>\n",
       "      <td>themodelplumber</td>\n",
       "      <td>Linux</td>\n",
       "    </tr>\n",
       "    <tr>\n",
       "      <td>2</td>\n",
       "      <td>luu</td>\n",
       "      <td>People and ideas</td>\n",
       "    </tr>\n",
       "    <tr>\n",
       "      <td>3</td>\n",
       "      <td>pseudolus</td>\n",
       "      <td>Literature, culture, philosophy</td>\n",
       "    </tr>\n",
       "    <tr>\n",
       "      <td>4</td>\n",
       "      <td>jeanyang</td>\n",
       "      <td>People and ideas</td>\n",
       "    </tr>\n",
       "    <tr>\n",
       "      <td>...</td>\n",
       "      <td>...</td>\n",
       "      <td>...</td>\n",
       "    </tr>\n",
       "    <tr>\n",
       "      <td>5904</td>\n",
       "      <td>palo3</td>\n",
       "      <td>Linux</td>\n",
       "    </tr>\n",
       "    <tr>\n",
       "      <td>5905</td>\n",
       "      <td>cube00</td>\n",
       "      <td>Compilers</td>\n",
       "    </tr>\n",
       "    <tr>\n",
       "      <td>5907</td>\n",
       "      <td>laurex</td>\n",
       "      <td>Software</td>\n",
       "    </tr>\n",
       "    <tr>\n",
       "      <td>5909</td>\n",
       "      <td>herval</td>\n",
       "      <td>JavaScript</td>\n",
       "    </tr>\n",
       "    <tr>\n",
       "      <td>5911</td>\n",
       "      <td>sheharyarn</td>\n",
       "      <td>Literature, culture, philosophy</td>\n",
       "    </tr>\n",
       "  </tbody>\n",
       "</table>\n",
       "<p>4649 rows × 2 columns</p>\n",
       "</div>"
      ],
      "text/plain": [
       "                   by                            topic\n",
       "0        todsacerdoti                     People words\n",
       "1     themodelplumber                            Linux\n",
       "2                 luu                 People and ideas\n",
       "3           pseudolus  Literature, culture, philosophy\n",
       "4            jeanyang                 People and ideas\n",
       "...               ...                              ...\n",
       "5904            palo3                            Linux\n",
       "5905           cube00                        Compilers\n",
       "5907           laurex                         Software\n",
       "5909           herval                       JavaScript\n",
       "5911       sheharyarn  Literature, culture, philosophy\n",
       "\n",
       "[4649 rows x 2 columns]"
      ]
     },
     "execution_count": 148,
     "metadata": {},
     "output_type": "execute_result"
    }
   ],
   "source": [
    "unique_authors_topics"
   ]
  },
  {
   "cell_type": "code",
   "execution_count": 151,
   "metadata": {},
   "outputs": [],
   "source": [
    "authors_number_different_topics = unique_authors_topics.groupby(['by'])['topic'].nunique().reset_index()"
   ]
  },
  {
   "cell_type": "code",
   "execution_count": 155,
   "metadata": {},
   "outputs": [],
   "source": [
    "authors_with_one_topic = authors_number_different_topics[authors_number_different_topics['topic'] == 1]['by']\n",
    "authors_with_more_topics = authors_number_different_topics[authors_number_different_topics['topic'] > 1]['by']"
   ]
  },
  {
   "cell_type": "code",
   "execution_count": 167,
   "metadata": {},
   "outputs": [
    {
     "data": {
      "text/plain": [
       "(2619,)"
      ]
     },
     "execution_count": 167,
     "metadata": {},
     "output_type": "execute_result"
    }
   ],
   "source": [
    "authors_with_one_topic.shape"
   ]
  },
  {
   "cell_type": "code",
   "execution_count": 168,
   "metadata": {},
   "outputs": [
    {
     "data": {
      "text/plain": [
       "(610,)"
      ]
     },
     "execution_count": 168,
     "metadata": {},
     "output_type": "execute_result"
    }
   ],
   "source": [
    "authors_with_more_topics.shape"
   ]
  },
  {
   "cell_type": "markdown",
   "metadata": {},
   "source": [
    "# Most popular single topic"
   ]
  },
  {
   "cell_type": "code",
   "execution_count": 164,
   "metadata": {},
   "outputs": [
    {
     "data": {
      "text/plain": [
       "People and ideas                   282\n",
       "Github repositories                230\n",
       "Deployments and databases          207\n",
       "Compilers                          202\n",
       "US Politics and administration     149\n",
       "Wordpress                          147\n",
       "Weird letters                      143\n",
       "Literature, culture, philosophy    143\n",
       "Linux                              127\n",
       "Software                           125\n",
       "JavaScript                         122\n",
       "People words                       112\n",
       "Machine Learning                   102\n",
       "Weird words                         98\n",
       "Hardware                            89\n",
       "Medicine                            81\n",
       "Government committees               70\n",
       "Renewable energy                    69\n",
       "Texts with codes                    66\n",
       "Programming words                   55\n",
       "Name: topic, dtype: int64"
      ]
     },
     "execution_count": 164,
     "metadata": {},
     "output_type": "execute_result"
    }
   ],
   "source": [
    "unique_authors_topics[unique_authors_topics['by'].isin(authors_with_one_topic)]['topic'].value_counts()"
   ]
  },
  {
   "cell_type": "markdown",
   "metadata": {},
   "source": [
    "# Most popular combination topic"
   ]
  },
  {
   "cell_type": "code",
   "execution_count": 242,
   "metadata": {},
   "outputs": [],
   "source": [
    "a = pd.crosstab(unique_authors_topics['by'], unique_authors_topics['topic'])"
   ]
  },
  {
   "cell_type": "code",
   "execution_count": 243,
   "metadata": {},
   "outputs": [],
   "source": [
    "results = [(col_1, col_2, np.logical_and(a[col_1] == 1, a[col_2] == 1).sum()) \n",
    "           for col_1, col_2 in combinations(a.columns, 2)]\n",
    "\n",
    "results = pd.DataFrame(results, columns=['Topic 1 ', 'Topic 2', 'Users'])"
   ]
  },
  {
   "cell_type": "code",
   "execution_count": 244,
   "metadata": {},
   "outputs": [
    {
     "data": {
      "text/html": [
       "<div>\n",
       "<style scoped>\n",
       "    .dataframe tbody tr th:only-of-type {\n",
       "        vertical-align: middle;\n",
       "    }\n",
       "\n",
       "    .dataframe tbody tr th {\n",
       "        vertical-align: top;\n",
       "    }\n",
       "\n",
       "    .dataframe thead th {\n",
       "        text-align: right;\n",
       "    }\n",
       "</style>\n",
       "<table border=\"1\" class=\"dataframe\">\n",
       "  <thead>\n",
       "    <tr style=\"text-align: right;\">\n",
       "      <th></th>\n",
       "      <th>Topic 1</th>\n",
       "      <th>Topic 2</th>\n",
       "      <th>Users</th>\n",
       "    </tr>\n",
       "  </thead>\n",
       "  <tbody>\n",
       "    <tr>\n",
       "      <td>153</td>\n",
       "      <td>People and ideas</td>\n",
       "      <td>Wordpress</td>\n",
       "      <td>43</td>\n",
       "    </tr>\n",
       "    <tr>\n",
       "      <td>120</td>\n",
       "      <td>Literature, culture, philosophy</td>\n",
       "      <td>US Politics and administration</td>\n",
       "      <td>47</td>\n",
       "    </tr>\n",
       "    <tr>\n",
       "      <td>9</td>\n",
       "      <td>Compilers</td>\n",
       "      <td>People and ideas</td>\n",
       "      <td>48</td>\n",
       "    </tr>\n",
       "  </tbody>\n",
       "</table>\n",
       "</div>"
      ],
      "text/plain": [
       "                            Topic 1                          Topic 2  Users\n",
       "153                 People and ideas                       Wordpress     43\n",
       "120  Literature, culture, philosophy  US Politics and administration     47\n",
       "9                          Compilers                People and ideas     48"
      ]
     },
     "execution_count": 244,
     "metadata": {},
     "output_type": "execute_result"
    }
   ],
   "source": [
    "results.sort_values('Users').tail(3)"
   ]
  },
  {
   "cell_type": "markdown",
   "metadata": {},
   "source": [
    "# Recommendations"
   ]
  },
  {
   "cell_type": "code",
   "execution_count": 209,
   "metadata": {},
   "outputs": [
    {
     "name": "stdout",
     "output_type": "stream",
     "text": [
      "Compilers - People and ideas\n",
      "Deployments and databases - People and ideas\n",
      "Github repositories - People and ideas\n",
      "Government committees - Wordpress\n",
      "Hardware - Compilers\n",
      "JavaScript - Wordpress\n",
      "Linux - Wordpress\n",
      "Literature, culture, philosophy - US Politics and administration\n",
      "Machine Learning - People and ideas\n",
      "Medicine - Literature, culture, philosophy\n",
      "People and ideas - Compilers\n",
      "People words - People and ideas\n",
      "Programming words - US Politics and administration\n",
      "Renewable energy - US Politics and administration\n",
      "Software - US Politics and administration\n",
      "Texts with codes - US Politics and administration\n",
      "US Politics and administration - Literature, culture, philosophy\n",
      "Weird letters - US Politics and administration\n",
      "Weird words - US Politics and administration\n",
      "Wordpress - People and ideas\n"
     ]
    }
   ],
   "source": [
    "for column in a.columns:\n",
    "    res = a[a[column] == 1].drop([column], axis = 1).sum().sort_values().index[-1]\n",
    "    print(f'{column} - {res}')"
   ]
  },
  {
   "cell_type": "markdown",
   "metadata": {},
   "source": [
    "# Average length of article"
   ]
  },
  {
   "cell_type": "code",
   "execution_count": 247,
   "metadata": {},
   "outputs": [],
   "source": [
    "content = pd.read_csv('../data/content-clean.csv')\n",
    "\n",
    "content_with_articles = pd.merge(content, df, on='url', how='inner')\n",
    "content_with_articles['article_length'] = content_with_articles.text.str.len()"
   ]
  },
  {
   "cell_type": "code",
   "execution_count": 251,
   "metadata": {},
   "outputs": [],
   "source": [
    "data_plot = content_with_articles.groupby('topic').article_length.mean().round(2).reset_index().sort_values(by='article_length')"
   ]
  },
  {
   "cell_type": "code",
   "execution_count": 261,
   "metadata": {},
   "outputs": [],
   "source": [
    "fig = px.bar(\n",
    "    data_plot,\n",
    "    x = 'article_length',\n",
    "    y = 'topic',\n",
    "    orientation = 'h',\n",
    "    title = 'Average length of article'\n",
    ")\n",
    "\n",
    "fig.update_layout(\n",
    "    xaxis = {\n",
    "        'title': 'Average length of article (char)',\n",
    "        'categoryorder': 'total descending'\n",
    "    },\n",
    "    yaxis = {\n",
    "        'title': 'Topic'\n",
    "    }\n",
    ")\n",
    "\n",
    "fig.write_image('results/plots-articles-with-topics/avg-length.png')"
   ]
  }
 ],
 "metadata": {
  "kernelspec": {
   "display_name": "Python 3",
   "language": "python",
   "name": "python3"
  },
  "language_info": {
   "codemirror_mode": {
    "name": "ipython",
    "version": 3
   },
   "file_extension": ".py",
   "mimetype": "text/x-python",
   "name": "python",
   "nbconvert_exporter": "python",
   "pygments_lexer": "ipython3",
   "version": "3.7.4"
  }
 },
 "nbformat": 4,
 "nbformat_minor": 2
}
