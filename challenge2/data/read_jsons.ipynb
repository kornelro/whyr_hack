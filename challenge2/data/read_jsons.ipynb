{
 "metadata": {
  "language_info": {
   "codemirror_mode": {
    "name": "ipython",
    "version": 3
   },
   "file_extension": ".py",
   "mimetype": "text/x-python",
   "name": "python",
   "nbconvert_exporter": "python",
   "pygments_lexer": "ipython3",
   "version": "3.8.2-final"
  },
  "orig_nbformat": 2,
  "kernelspec": {
   "name": "python38264bitvenvvenv264e38a50e914e4d98d8313cb56df4dd",
   "display_name": "Python 3.8.2 64-bit ('venv': venv)"
  }
 },
 "nbformat": 4,
 "nbformat_minor": 2,
 "cells": [
  {
   "cell_type": "code",
   "execution_count": 1,
   "metadata": {},
   "outputs": [],
   "source": [
    "import json\n",
    "import pandas as pd"
   ]
  },
  {
   "cell_type": "code",
   "execution_count": 2,
   "metadata": {},
   "outputs": [],
   "source": [
    "files = ['comments'+str(i)+'.json' for i in range(1,79)]"
   ]
  },
  {
   "cell_type": "code",
   "execution_count": 3,
   "metadata": {
    "tags": []
   },
   "outputs": [],
   "source": [
    "df = None\n",
    "\n",
    "for file_name in files:\n",
    "    if df is not None:\n",
    "        try:\n",
    "            next_df = pd.read_json('../../data/'+file_name, encoding=\"ISO-8859-1\")\n",
    "            df = pd.concat([df, next_df])\n",
    "        except Exception as e:\n",
    "            print('Cannot load json '+file_name)\n",
    "            print(e)\n",
    "\n",
    "    else:\n",
    "        try:\n",
    "            df = pd.read_json('../../data/'+file_name, encoding=\"ISO-8859-1\")\n",
    "        except Exception as e:\n",
    "            print('Cannot load json '+file_name)\n",
    "            print(e)"
   ]
  },
  {
   "cell_type": "code",
   "execution_count": 4,
   "metadata": {
    "tags": []
   },
   "outputs": [
    {
     "output_type": "stream",
     "name": "stdout",
     "text": "<class 'pandas.core.frame.DataFrame'>\nInt64Index: 77728 entries, 0 to 650\nData columns (total 9 columns):\n #   Column   Non-Null Count  Dtype \n---  ------   --------------  ----- \n 0   by       77728 non-null  object\n 1   id       77728 non-null  object\n 2   kids     77728 non-null  object\n 3   parent   77728 non-null  object\n 4   text     77728 non-null  object\n 5   time     77728 non-null  object\n 6   type     77728 non-null  object\n 7   deleted  77728 non-null  object\n 8   dead     77728 non-null  object\ndtypes: object(9)\nmemory usage: 5.9+ MB\n"
    }
   ],
   "source": [
    "df.info()"
   ]
  },
  {
   "cell_type": "code",
   "execution_count": 5,
   "metadata": {},
   "outputs": [
    {
     "output_type": "execute_result",
     "data": {
      "text/plain": "           by          id                                               kids  \\\n0    [Jonnax]  [24563821]  [24564014, 24563951, 24565071, 24563883, 24564...   \n1  [pkphilip]  [24563987]                     [24564606, 24564531, 24564249]   \n2   [rattray]  [24565829]                                         [24565871]   \n3    [bambax]  [24564488]           [24564530, 24565153, 24564755, 24565320]   \n4  [shp0ngle]  [24563843]  [24564784, 24563894, 24563980, 24563875, 24564...   \n\n       parent                                               text  \\\n0  [24563698]  [There&#x27;s a quote from the CEO saying that...   \n1  [24563698]  [It is interesting to note that Brendan Eich&#...   \n2  [24563698]  [This is a pretty unfair article.<p>The author...   \n3  [24563698]  [&gt; <i>Mobile browsing numbers are bleak: Fi...   \n4  [24563698]  [I&#x27;m two fences on Firefox doing &quot;to...   \n\n                    time       type deleted dead  \n0  [2020-09-23 08:58:07]  [comment]      {}   {}  \n1  [2020-09-23 09:20:14]  [comment]      {}   {}  \n2  [2020-09-23 13:45:24]  [comment]      {}   {}  \n3  [2020-09-23 10:30:43]  [comment]      {}   {}  \n4  [2020-09-23 09:01:00]  [comment]      {}   {}  ",
      "text/html": "<div>\n<style scoped>\n    .dataframe tbody tr th:only-of-type {\n        vertical-align: middle;\n    }\n\n    .dataframe tbody tr th {\n        vertical-align: top;\n    }\n\n    .dataframe thead th {\n        text-align: right;\n    }\n</style>\n<table border=\"1\" class=\"dataframe\">\n  <thead>\n    <tr style=\"text-align: right;\">\n      <th></th>\n      <th>by</th>\n      <th>id</th>\n      <th>kids</th>\n      <th>parent</th>\n      <th>text</th>\n      <th>time</th>\n      <th>type</th>\n      <th>deleted</th>\n      <th>dead</th>\n    </tr>\n  </thead>\n  <tbody>\n    <tr>\n      <th>0</th>\n      <td>[Jonnax]</td>\n      <td>[24563821]</td>\n      <td>[24564014, 24563951, 24565071, 24563883, 24564...</td>\n      <td>[24563698]</td>\n      <td>[There&amp;#x27;s a quote from the CEO saying that...</td>\n      <td>[2020-09-23 08:58:07]</td>\n      <td>[comment]</td>\n      <td>{}</td>\n      <td>{}</td>\n    </tr>\n    <tr>\n      <th>1</th>\n      <td>[pkphilip]</td>\n      <td>[24563987]</td>\n      <td>[24564606, 24564531, 24564249]</td>\n      <td>[24563698]</td>\n      <td>[It is interesting to note that Brendan Eich&amp;#...</td>\n      <td>[2020-09-23 09:20:14]</td>\n      <td>[comment]</td>\n      <td>{}</td>\n      <td>{}</td>\n    </tr>\n    <tr>\n      <th>2</th>\n      <td>[rattray]</td>\n      <td>[24565829]</td>\n      <td>[24565871]</td>\n      <td>[24563698]</td>\n      <td>[This is a pretty unfair article.&lt;p&gt;The author...</td>\n      <td>[2020-09-23 13:45:24]</td>\n      <td>[comment]</td>\n      <td>{}</td>\n      <td>{}</td>\n    </tr>\n    <tr>\n      <th>3</th>\n      <td>[bambax]</td>\n      <td>[24564488]</td>\n      <td>[24564530, 24565153, 24564755, 24565320]</td>\n      <td>[24563698]</td>\n      <td>[&amp;gt; &lt;i&gt;Mobile browsing numbers are bleak: Fi...</td>\n      <td>[2020-09-23 10:30:43]</td>\n      <td>[comment]</td>\n      <td>{}</td>\n      <td>{}</td>\n    </tr>\n    <tr>\n      <th>4</th>\n      <td>[shp0ngle]</td>\n      <td>[24563843]</td>\n      <td>[24564784, 24563894, 24563980, 24563875, 24564...</td>\n      <td>[24563698]</td>\n      <td>[I&amp;#x27;m two fences on Firefox doing &amp;quot;to...</td>\n      <td>[2020-09-23 09:01:00]</td>\n      <td>[comment]</td>\n      <td>{}</td>\n      <td>{}</td>\n    </tr>\n  </tbody>\n</table>\n</div>"
     },
     "metadata": {},
     "execution_count": 5
    }
   ],
   "source": [
    "df.head()"
   ]
  },
  {
   "cell_type": "code",
   "execution_count": 7,
   "metadata": {},
   "outputs": [],
   "source": [
    "df.to_csv('../data/comments.csv')"
   ]
  }
 ]
}