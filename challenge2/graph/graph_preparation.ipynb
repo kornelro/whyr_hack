{
 "metadata": {
  "language_info": {
   "codemirror_mode": {
    "name": "ipython",
    "version": 3
   },
   "file_extension": ".py",
   "mimetype": "text/x-python",
   "name": "python",
   "nbconvert_exporter": "python",
   "pygments_lexer": "ipython3",
   "version": "3.8.2-final"
  },
  "orig_nbformat": 2,
  "kernelspec": {
   "name": "python38264bitvenva79d21a9213241d8beb24830b3cfb054",
   "display_name": "Python 3.8.2 64-bit ('venv')"
  }
 },
 "nbformat": 4,
 "nbformat_minor": 2,
 "cells": [
  {
   "cell_type": "code",
   "execution_count": 178,
   "metadata": {},
   "outputs": [],
   "source": [
    "import pandas as pd\n",
    "from model.comment import Comment\n",
    "from model.user import User\n",
    "from datetime import datetime\n",
    "from tqdm import tqdm\n",
    "from copy import deepcopy"
   ]
  },
  {
   "cell_type": "code",
   "execution_count": 179,
   "metadata": {},
   "outputs": [],
   "source": [
    "df = pd.read_csv('../data/comments.csv')"
   ]
  },
  {
   "cell_type": "code",
   "execution_count": 180,
   "metadata": {},
   "outputs": [
    {
     "output_type": "execute_result",
     "data": {
      "text/plain": "   Unnamed: 0            by          id  \\\n0           0    ['Jonnax']  [24563821]   \n1           1  ['pkphilip']  [24563987]   \n2           2   ['rattray']  [24565829]   \n3           3    ['bambax']  [24564488]   \n4           4  ['shp0ngle']  [24563843]   \n\n                                                kids      parent  \\\n0  [24564014, 24563951, 24565071, 24563883, 24564...  [24563698]   \n1                     [24564606, 24564531, 24564249]  [24563698]   \n2                                         [24565871]  [24563698]   \n3           [24564530, 24565153, 24564755, 24565320]  [24563698]   \n4  [24564784, 24563894, 24563980, 24563875, 24564...  [24563698]   \n\n                                                text                     time  \\\n0  ['There&#x27;s a quote from the CEO saying tha...  ['2020-09-23 08:58:07']   \n1  ['It is interesting to note that Brendan Eich&...  ['2020-09-23 09:20:14']   \n2  ['This is a pretty unfair article.<p>The autho...  ['2020-09-23 13:45:24']   \n3  ['&gt; <i>Mobile browsing numbers are bleak: F...  ['2020-09-23 10:30:43']   \n4  ['I&#x27;m two fences on Firefox doing &quot;t...  ['2020-09-23 09:01:00']   \n\n          type  \n0  ['comment']  \n1  ['comment']  \n2  ['comment']  \n3  ['comment']  \n4  ['comment']  ",
      "text/html": "<div>\n<style scoped>\n    .dataframe tbody tr th:only-of-type {\n        vertical-align: middle;\n    }\n\n    .dataframe tbody tr th {\n        vertical-align: top;\n    }\n\n    .dataframe thead th {\n        text-align: right;\n    }\n</style>\n<table border=\"1\" class=\"dataframe\">\n  <thead>\n    <tr style=\"text-align: right;\">\n      <th></th>\n      <th>Unnamed: 0</th>\n      <th>by</th>\n      <th>id</th>\n      <th>kids</th>\n      <th>parent</th>\n      <th>text</th>\n      <th>time</th>\n      <th>type</th>\n    </tr>\n  </thead>\n  <tbody>\n    <tr>\n      <th>0</th>\n      <td>0</td>\n      <td>['Jonnax']</td>\n      <td>[24563821]</td>\n      <td>[24564014, 24563951, 24565071, 24563883, 24564...</td>\n      <td>[24563698]</td>\n      <td>['There&amp;#x27;s a quote from the CEO saying tha...</td>\n      <td>['2020-09-23 08:58:07']</td>\n      <td>['comment']</td>\n    </tr>\n    <tr>\n      <th>1</th>\n      <td>1</td>\n      <td>['pkphilip']</td>\n      <td>[24563987]</td>\n      <td>[24564606, 24564531, 24564249]</td>\n      <td>[24563698]</td>\n      <td>['It is interesting to note that Brendan Eich&amp;...</td>\n      <td>['2020-09-23 09:20:14']</td>\n      <td>['comment']</td>\n    </tr>\n    <tr>\n      <th>2</th>\n      <td>2</td>\n      <td>['rattray']</td>\n      <td>[24565829]</td>\n      <td>[24565871]</td>\n      <td>[24563698]</td>\n      <td>['This is a pretty unfair article.&lt;p&gt;The autho...</td>\n      <td>['2020-09-23 13:45:24']</td>\n      <td>['comment']</td>\n    </tr>\n    <tr>\n      <th>3</th>\n      <td>3</td>\n      <td>['bambax']</td>\n      <td>[24564488]</td>\n      <td>[24564530, 24565153, 24564755, 24565320]</td>\n      <td>[24563698]</td>\n      <td>['&amp;gt; &lt;i&gt;Mobile browsing numbers are bleak: F...</td>\n      <td>['2020-09-23 10:30:43']</td>\n      <td>['comment']</td>\n    </tr>\n    <tr>\n      <th>4</th>\n      <td>4</td>\n      <td>['shp0ngle']</td>\n      <td>[24563843]</td>\n      <td>[24564784, 24563894, 24563980, 24563875, 24564...</td>\n      <td>[24563698]</td>\n      <td>['I&amp;#x27;m two fences on Firefox doing &amp;quot;t...</td>\n      <td>['2020-09-23 09:01:00']</td>\n      <td>['comment']</td>\n    </tr>\n  </tbody>\n</table>\n</div>"
     },
     "metadata": {},
     "execution_count": 180
    }
   ],
   "source": [
    "df.head()"
   ]
  },
  {
   "cell_type": "code",
   "execution_count": 181,
   "metadata": {
    "tags": []
   },
   "outputs": [
    {
     "output_type": "stream",
     "name": "stdout",
     "text": "<class 'pandas.core.frame.DataFrame'>\nRangeIndex: 12012 entries, 0 to 12011\nData columns (total 8 columns):\n #   Column      Non-Null Count  Dtype \n---  ------      --------------  ----- \n 0   Unnamed: 0  12012 non-null  int64 \n 1   by          12012 non-null  object\n 2   id          12012 non-null  object\n 3   kids        12012 non-null  object\n 4   parent      12012 non-null  object\n 5   text        12012 non-null  object\n 6   time        12012 non-null  object\n 7   type        12012 non-null  object\ndtypes: int64(1), object(7)\nmemory usage: 750.9+ KB\n"
    }
   ],
   "source": [
    "df.info()"
   ]
  },
  {
   "cell_type": "code",
   "execution_count": 182,
   "metadata": {},
   "outputs": [
    {
     "output_type": "execute_result",
     "data": {
      "text/plain": "7140"
     },
     "metadata": {},
     "execution_count": 182
    }
   ],
   "source": [
    "len(df['by'].unique())"
   ]
  },
  {
   "cell_type": "code",
   "execution_count": 183,
   "metadata": {},
   "outputs": [
    {
     "output_type": "execute_result",
     "data": {
      "text/plain": "12001"
     },
     "metadata": {},
     "execution_count": 183
    }
   ],
   "source": [
    "len(df['id'].unique())"
   ]
  },
  {
   "cell_type": "code",
   "execution_count": 184,
   "metadata": {},
   "outputs": [],
   "source": [
    "def row_to_comment(row):\n",
    "\n",
    "    kids = []\n",
    "    if row['kids'] != '{}':\n",
    "        kids = list(map(int, row['kids'][1:-1].split(', ')))[0],\n",
    "\n",
    "    return Comment(\n",
    "        by_id=row['by'][2:-2],\n",
    "        id=int(row['id'][1:-1]),\n",
    "        parent_id=int(row['parent'][1:-1]),\n",
    "        kids_ids=kids,\n",
    "        text=row['text'][2:-2],\n",
    "        time=datetime.strptime(row['time'][2:-2], '%Y-%m-%d %H:%M:%S'),\n",
    "        type=row['type'][2:-2],\n",
    "        by=None,\n",
    "        parent=None,\n",
    "        kids=None\n",
    "    )"
   ]
  },
  {
   "cell_type": "code",
   "execution_count": 185,
   "metadata": {},
   "outputs": [],
   "source": [
    "def row_to_user(row):\n",
    "\n",
    "    return User(\n",
    "        name=row['by'][2:-2],\n",
    "        comments_ids=[],\n",
    "        comments=[]\n",
    "    )"
   ]
  },
  {
   "cell_type": "code",
   "execution_count": 186,
   "metadata": {
    "tags": []
   },
   "outputs": [
    {
     "output_type": "stream",
     "name": "stderr",
     "text": "100%|██████████| 12012/12012 [00:02<00:00, 4743.79it/s]\n"
    }
   ],
   "source": [
    "users = {}\n",
    "comments = {}\n",
    "\n",
    "for row_id in tqdm(range(len(df))):\n",
    "    row = df.iloc[row_id]\n",
    "\n",
    "    try:\n",
    "\n",
    "        #add comment\n",
    "        next_comment = row_to_comment(row)\n",
    "        if next_comment.id in comments:\n",
    "            # print(row)\n",
    "            pass\n",
    "        else:\n",
    "            comments[next_comment.id] = next_comment\n",
    "\n",
    "        #add user and comment to user\n",
    "        next_user = row_to_user(row)\n",
    "        if next_user.name not in users:\n",
    "            users[next_user.name] = next_user\n",
    "        users[next_user.name].comments_ids.append(next_comment.id)\n",
    "        users[next_user.name].comments.append(next_comment)\n",
    "\n",
    "    except Exception as e:\n",
    "        print(e)\n",
    "        print(row)"
   ]
  },
  {
   "cell_type": "code",
   "execution_count": 187,
   "metadata": {},
   "outputs": [
    {
     "output_type": "execute_result",
     "data": {
      "text/plain": "7140"
     },
     "metadata": {},
     "execution_count": 187
    }
   ],
   "source": [
    "len(users)"
   ]
  },
  {
   "cell_type": "code",
   "execution_count": 188,
   "metadata": {},
   "outputs": [
    {
     "output_type": "execute_result",
     "data": {
      "text/plain": "12001"
     },
     "metadata": {},
     "execution_count": 188
    }
   ],
   "source": [
    "len(comments)"
   ]
  },
  {
   "cell_type": "code",
   "execution_count": 189,
   "metadata": {},
   "outputs": [],
   "source": [
    "def create_empty_comment(id):\n",
    "    return Comment(\n",
    "        id=id,\n",
    "        by_id=None,\n",
    "        parent_id=None,\n",
    "        kids_ids=None,\n",
    "        text=None,\n",
    "        time=None,\n",
    "        type=None,\n",
    "        by=None,\n",
    "        parent=None,\n",
    "        kids=None\n",
    "    )"
   ]
  },
  {
   "cell_type": "code",
   "execution_count": 190,
   "metadata": {
    "tags": []
   },
   "outputs": [
    {
     "output_type": "stream",
     "name": "stderr",
     "text": "100%|██████████| 12001/12001 [00:00<00:00, 418391.48it/s]\n"
    }
   ],
   "source": [
    "# fill by, parent, kids fields in comments\n",
    "# if comment not found in comments create that object\n",
    "current_comments_list = deepcopy(list(comments.values()))\n",
    "\n",
    "for comment in tqdm(current_comments_list):\n",
    "\n",
    "    comment.by = users[comment.by_id]\n",
    "\n",
    "    if comment.parent_id not in comments:\n",
    "        comments[comment.parent_id] = create_empty_comment(comment.parent_id)\n",
    "    comment.parent = comments[comment.parent_id]\n",
    "\n",
    "    comment.kids = []\n",
    "    for subcomment_id in comment.kids_ids:\n",
    "        if subcomment_id not in comments:\n",
    "            comments[subcomment_id] = create_empty_comment(subcomment_id)\n",
    "        comment.kids.append(comments[subcomment_id])"
   ]
  },
  {
   "cell_type": "code",
   "execution_count": 191,
   "metadata": {},
   "outputs": [
    {
     "output_type": "execute_result",
     "data": {
      "text/plain": "18987"
     },
     "metadata": {},
     "execution_count": 191
    }
   ],
   "source": [
    "len(comments)"
   ]
  },
  {
   "cell_type": "code",
   "execution_count": 194,
   "metadata": {},
   "outputs": [
    {
     "output_type": "execute_result",
     "data": {
      "text/plain": "True"
     },
     "metadata": {},
     "execution_count": 194
    }
   ],
   "source": [
    "len(set(map(lambda x: x.id, list(comments.values())))) == len(comments)"
   ]
  }
 ]
}