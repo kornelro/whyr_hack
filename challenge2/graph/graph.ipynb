{
 "cells": [
  {
   "cell_type": "code",
   "execution_count": 1,
   "metadata": {},
   "outputs": [],
   "source": [
    "import pandas as pd\n",
    "from model.comment import Comment\n",
    "from model.user import User\n",
    "from datetime import datetime\n",
    "from tqdm import tqdm\n",
    "from copy import deepcopy\n",
    "import networkx as nx\n",
    "import json\n",
    "import matplotlib.pyplot as plt\n",
    "import numpy as np\n",
    "import math\n",
    "import joblib\n",
    "import matplotlib"
   ]
  },
  {
   "cell_type": "code",
   "execution_count": 2,
   "metadata": {},
   "outputs": [],
   "source": [
    "font = {'size'   : 18}\n",
    "\n",
    "matplotlib.rc('font', **font)"
   ]
  },
  {
   "cell_type": "code",
   "execution_count": 3,
   "metadata": {},
   "outputs": [],
   "source": [
    "df = pd.read_csv('../data/comments.csv')"
   ]
  },
  {
   "cell_type": "code",
   "execution_count": 4,
   "metadata": {},
   "outputs": [
    {
     "output_type": "execute_result",
     "data": {
      "text/plain": "              by          id                  kids      parent  \\\n0       brenden2  22719825.0                    {}  22719170.0   \n1  aussieguy1234  22724106.0                    {}  22719170.0   \n2        nyolfen  22719715.0  [22720774, 22719866]  22719170.0   \n3       flerchin  22724311.0                    {}  22719170.0   \n4         chirau  22723796.0            [22724399]  22719170.0   \n\n                                                text                 time  \\\n0  Get in line Saudis, there are a lot of people ...  2020-03-29 17:36:34   \n1  Looks like as long as the victims stop using t...  2020-03-30 02:31:48   \n2  how granular is ss7 psl data? if it's decades ...  2020-03-29 17:23:20   \n3  Oddly specific use-case. This only tracks the ...  2020-03-30 03:08:13   \n4  What is the issue here? Does the US not spy on...  2020-03-30 01:43:47   \n\n      type deleted dead  \n0  comment     NaN  NaN  \n1  comment     NaN  NaN  \n2  comment     NaN  NaN  \n3  comment     NaN  NaN  \n4  comment     NaN  NaN  ",
      "text/html": "<div>\n<style scoped>\n    .dataframe tbody tr th:only-of-type {\n        vertical-align: middle;\n    }\n\n    .dataframe tbody tr th {\n        vertical-align: top;\n    }\n\n    .dataframe thead th {\n        text-align: right;\n    }\n</style>\n<table border=\"1\" class=\"dataframe\">\n  <thead>\n    <tr style=\"text-align: right;\">\n      <th></th>\n      <th>by</th>\n      <th>id</th>\n      <th>kids</th>\n      <th>parent</th>\n      <th>text</th>\n      <th>time</th>\n      <th>type</th>\n      <th>deleted</th>\n      <th>dead</th>\n    </tr>\n  </thead>\n  <tbody>\n    <tr>\n      <th>0</th>\n      <td>brenden2</td>\n      <td>22719825.0</td>\n      <td>{}</td>\n      <td>22719170.0</td>\n      <td>Get in line Saudis, there are a lot of people ...</td>\n      <td>2020-03-29 17:36:34</td>\n      <td>comment</td>\n      <td>NaN</td>\n      <td>NaN</td>\n    </tr>\n    <tr>\n      <th>1</th>\n      <td>aussieguy1234</td>\n      <td>22724106.0</td>\n      <td>{}</td>\n      <td>22719170.0</td>\n      <td>Looks like as long as the victims stop using t...</td>\n      <td>2020-03-30 02:31:48</td>\n      <td>comment</td>\n      <td>NaN</td>\n      <td>NaN</td>\n    </tr>\n    <tr>\n      <th>2</th>\n      <td>nyolfen</td>\n      <td>22719715.0</td>\n      <td>[22720774, 22719866]</td>\n      <td>22719170.0</td>\n      <td>how granular is ss7 psl data? if it's decades ...</td>\n      <td>2020-03-29 17:23:20</td>\n      <td>comment</td>\n      <td>NaN</td>\n      <td>NaN</td>\n    </tr>\n    <tr>\n      <th>3</th>\n      <td>flerchin</td>\n      <td>22724311.0</td>\n      <td>{}</td>\n      <td>22719170.0</td>\n      <td>Oddly specific use-case. This only tracks the ...</td>\n      <td>2020-03-30 03:08:13</td>\n      <td>comment</td>\n      <td>NaN</td>\n      <td>NaN</td>\n    </tr>\n    <tr>\n      <th>4</th>\n      <td>chirau</td>\n      <td>22723796.0</td>\n      <td>[22724399]</td>\n      <td>22719170.0</td>\n      <td>What is the issue here? Does the US not spy on...</td>\n      <td>2020-03-30 01:43:47</td>\n      <td>comment</td>\n      <td>NaN</td>\n      <td>NaN</td>\n    </tr>\n  </tbody>\n</table>\n</div>"
     },
     "metadata": {},
     "execution_count": 4
    }
   ],
   "source": [
    "df.head()"
   ]
  },
  {
   "cell_type": "code",
   "execution_count": 5,
   "metadata": {
    "tags": []
   },
   "outputs": [
    {
     "output_type": "stream",
     "name": "stdout",
     "text": "<class 'pandas.core.frame.DataFrame'>\nRangeIndex: 361930 entries, 0 to 361929\nData columns (total 9 columns):\n #   Column   Non-Null Count   Dtype  \n---  ------   --------------   -----  \n 0   by       353099 non-null  object \n 1   id       361929 non-null  float64\n 2   kids     302779 non-null  object \n 3   parent   361929 non-null  float64\n 4   text     353085 non-null  object \n 5   time     361929 non-null  object \n 6   type     361929 non-null  object \n 7   deleted  8830 non-null    object \n 8   dead     9705 non-null    object \ndtypes: float64(2), object(7)\nmemory usage: 24.9+ MB\n"
    }
   ],
   "source": [
    "df.info()"
   ]
  },
  {
   "cell_type": "code",
   "execution_count": 6,
   "metadata": {},
   "outputs": [
    {
     "output_type": "execute_result",
     "data": {
      "text/plain": "60053"
     },
     "metadata": {},
     "execution_count": 6
    }
   ],
   "source": [
    "len(df['by'].unique())"
   ]
  },
  {
   "cell_type": "code",
   "execution_count": 7,
   "metadata": {},
   "outputs": [
    {
     "output_type": "execute_result",
     "data": {
      "text/plain": "356142"
     },
     "metadata": {},
     "execution_count": 7
    }
   ],
   "source": [
    "len(df['id'].unique())"
   ]
  },
  {
   "cell_type": "code",
   "execution_count": 8,
   "metadata": {},
   "outputs": [],
   "source": [
    "def row_to_comment(row):\n",
    "\n",
    "    kids = []\n",
    "    if row['kids'] != '{}' and type(row['kids']) == str:\n",
    "        kids = list(map(int, row['kids'][1:-1].split(', ')))\n",
    "\n",
    "    return Comment(\n",
    "        by_id=row['by'],\n",
    "        id=int(row['id']),\n",
    "        parent_id=int(row['parent']),\n",
    "        kids_ids=kids,\n",
    "        text=row['text'],\n",
    "        time=datetime.strptime(row['time'], '%Y-%m-%d %H:%M:%S'),\n",
    "        type=row['type'],\n",
    "        by=None,\n",
    "        parent=None,\n",
    "        kids=[]\n",
    "    )"
   ]
  },
  {
   "cell_type": "code",
   "execution_count": 9,
   "metadata": {},
   "outputs": [],
   "source": [
    "def row_to_user(row):\n",
    "\n",
    "    return User(\n",
    "        name=row['by'],\n",
    "        comments_ids=[],\n",
    "        comments=[]\n",
    "    )"
   ]
  },
  {
   "cell_type": "code",
   "execution_count": 10,
   "metadata": {
    "tags": []
   },
   "outputs": [
    {
     "name": "stderr",
     "output_type": "stream",
     "text": [
      " 84%|████████▎ | 302564/361930 [00:49<00:09, 6047.51it/s]"
     ]
    },
    {
     "name": "stdout",
     "output_type": "stream",
     "text": [
      "time data '2020-01-11' does not match format '%Y-%m-%d %H:%M:%S'\n",
      "by                                                   pledess\n",
      "id                                               2.20165e+07\n",
      "kids                          [22016789, 22017555, 22016569]\n",
      "parent                                           2.20151e+07\n",
      "text       > Epstein was joined by one or two female assi...\n",
      "time                                              2020-01-11\n",
      "type                                                 comment\n",
      "deleted                                                  NaN\n",
      "dead                                                     NaN\n",
      "Name: 301900, dtype: object\n"
     ]
    },
    {
     "name": "stderr",
     "output_type": "stream",
     "text": [
      " 97%|█████████▋| 349837/361930 [00:57<00:01, 6047.83it/s]"
     ]
    },
    {
     "name": "stdout",
     "output_type": "stream",
     "text": [
      "time data '2020-01-05' does not match format '%Y-%m-%d %H:%M:%S'\n",
      "by                                                    jayd16\n",
      "id                                               2.19582e+07\n",
      "kids                                              [21958372]\n",
      "parent                                           2.19533e+07\n",
      "text       Can you train a white box solution with only a...\n",
      "time                                              2020-01-05\n",
      "type                                                 comment\n",
      "deleted                                                  NaN\n",
      "dead                                                     NaN\n",
      "Name: 349026, dtype: object\n"
     ]
    },
    {
     "name": "stderr",
     "output_type": "stream",
     "text": [
      "100%|██████████| 361930/361930 [00:59<00:00, 6055.62it/s]\n"
     ]
    }
   ],
   "source": [
    "users = {}\n",
    "comments = {}\n",
    "\n",
    "for row_id in tqdm(range(len(df))):\n",
    "    row = df.iloc[row_id]\n",
    "\n",
    "    try:\n",
    "        if row['by'] != '' and type(row['by']) == str:\n",
    "\n",
    "            #add comment\n",
    "            next_comment = row_to_comment(row)\n",
    "            if next_comment.id in comments:\n",
    "                # print(row)\n",
    "                pass\n",
    "            else:\n",
    "                comments[next_comment.id] = next_comment\n",
    "\n",
    "            #add user and comment to user\n",
    "            next_user = row_to_user(row)\n",
    "            if next_user.name not in users:\n",
    "                users[next_user.name] = next_user\n",
    "            users[next_user.name].comments_ids.append(next_comment.id)\n",
    "            users[next_user.name].comments.append(next_comment)\n",
    "\n",
    "    except Exception as e:\n",
    "        print(e)\n",
    "        print(row)"
   ]
  },
  {
   "cell_type": "code",
   "execution_count": 11,
   "metadata": {},
   "outputs": [
    {
     "data": {
      "text/plain": [
       "60052"
      ]
     },
     "execution_count": 11,
     "metadata": {},
     "output_type": "execute_result"
    }
   ],
   "source": [
    "len(users)"
   ]
  },
  {
   "cell_type": "code",
   "execution_count": 12,
   "metadata": {},
   "outputs": [
    {
     "data": {
      "text/plain": [
       "347318"
      ]
     },
     "execution_count": 12,
     "metadata": {},
     "output_type": "execute_result"
    }
   ],
   "source": [
    "len(comments)"
   ]
  },
  {
   "cell_type": "code",
   "execution_count": 13,
   "metadata": {},
   "outputs": [],
   "source": [
    "def create_empty_comment(id):\n",
    "    return Comment(\n",
    "        id=id,\n",
    "        by_id=None,\n",
    "        parent_id=None,\n",
    "        kids_ids=None,\n",
    "        text=None,\n",
    "        time=None,\n",
    "        type=None,\n",
    "        by=None,\n",
    "        parent=None,\n",
    "        kids=None\n",
    "    )"
   ]
  },
  {
   "cell_type": "code",
   "execution_count": 14,
   "metadata": {
    "tags": []
   },
   "outputs": [
    {
     "name": "stderr",
     "output_type": "stream",
     "text": [
      "100%|██████████| 347318/347318 [00:03<00:00, 114070.93it/s]\n"
     ]
    }
   ],
   "source": [
    "# fill by, parent, kids fields in comments\n",
    "# if comment not found in comments create that object\n",
    "current_comments_list = deepcopy(list(comments.values()))\n",
    "\n",
    "for comment in tqdm(current_comments_list):\n",
    "\n",
    "    try:\n",
    "\n",
    "        comments[comment.id].by = users[comment.by_id]\n",
    "\n",
    "        if comment.parent_id not in comments:\n",
    "            # comments[comment.parent_id] = create_empty_comment(comment.parent_id)\n",
    "            comments[comment.parent_id] = Comment(\n",
    "                id=comment.parent_id,\n",
    "                by_id=None,\n",
    "                parent_id=None,\n",
    "                kids_ids=[comment.id],\n",
    "                text=None,\n",
    "                time=None,\n",
    "                type=None,\n",
    "                by=None,\n",
    "                parent=None,\n",
    "                kids=[comment]\n",
    "            )\n",
    "        elif comment.id not in comments[comment.parent_id].kids_ids:\n",
    "            comments[comment.parent_id].kids_ids.append(comment.id)\n",
    "            comments[comment.parent_id].kids.append(comment)\n",
    "        comments[comment.id].parent = comments[comment.parent_id]\n",
    "\n",
    "        comments[comment.id].kids = []\n",
    "        for subcomment_id in comment.kids_ids:\n",
    "            if subcomment_id not in comments:\n",
    "                # comments[subcomment_id] = create_empty_comment(subcomment_id)\n",
    "                comments[subcomment_id] = Comment(\n",
    "                    id=subcomment_id,\n",
    "                    by_id=None,\n",
    "                    parent_id=comment.id,\n",
    "                    kids_ids=[],\n",
    "                    text=None,\n",
    "                    time=None,\n",
    "                    type=None,\n",
    "                    by=None,\n",
    "                    parent=comment,\n",
    "                    kids=[]\n",
    "                )\n",
    "            comments[comment.id].kids.append(comments[subcomment_id])\n",
    "\n",
    "    except Exception as e:\n",
    "        print(e)\n",
    "        print(comments[comment.parent_id])"
   ]
  },
  {
   "cell_type": "code",
   "execution_count": 15,
   "metadata": {},
   "outputs": [
    {
     "data": {
      "text/plain": [
       "760793"
      ]
     },
     "execution_count": 15,
     "metadata": {},
     "output_type": "execute_result"
    }
   ],
   "source": [
    "len(comments)"
   ]
  },
  {
   "cell_type": "code",
   "execution_count": 16,
   "metadata": {},
   "outputs": [
    {
     "data": {
      "text/plain": [
       "True"
      ]
     },
     "execution_count": 16,
     "metadata": {},
     "output_type": "execute_result"
    }
   ],
   "source": [
    "len(set(map(lambda x: x.id, list(comments.values())))) == len(comments)"
   ]
  },
  {
   "cell_type": "markdown",
   "metadata": {},
   "source": [
    "## CREATE GRAPH"
   ]
  },
  {
   "cell_type": "markdown",
   "metadata": {},
   "source": [
    "## Waga - zliczanie wystąpień"
   ]
  },
  {
   "cell_type": "code",
   "execution_count": 17,
   "metadata": {},
   "outputs": [],
   "source": [
    "roots = list(filter(lambda x: x.parent==None, list(comments.values())))"
   ]
  },
  {
   "cell_type": "code",
   "execution_count": 18,
   "metadata": {},
   "outputs": [
    {
     "data": {
      "text/plain": [
       "22164"
      ]
     },
     "execution_count": 18,
     "metadata": {},
     "output_type": "execute_result"
    }
   ],
   "source": [
    "len(roots)"
   ]
  },
  {
   "cell_type": "code",
   "execution_count": 19,
   "metadata": {},
   "outputs": [],
   "source": [
    "groups = []\n",
    "\n",
    "for root in roots:\n",
    "\n",
    "    group = []\n",
    "    if root.by_id is not None:\n",
    "        group.append(root.by_id)\n",
    "    kids = root.kids\n",
    "\n",
    "    while len(kids) > 0:\n",
    "        kid = kids.pop()\n",
    "        # group.append(kid)\n",
    "        if kid.by_id is not None and kid.by_id not in group:\n",
    "            group.append(kid.by_id)\n",
    "        if kid.kids is not None:\n",
    "            for k in kid.kids:   \n",
    "                kids.append(k)\n",
    "\n",
    "    groups.append(group)"
   ]
  },
  {
   "cell_type": "code",
   "execution_count": 20,
   "metadata": {},
   "outputs": [
    {
     "data": {
      "text/plain": [
       "22164"
      ]
     },
     "execution_count": 20,
     "metadata": {},
     "output_type": "execute_result"
    }
   ],
   "source": [
    "len(groups)"
   ]
  },
  {
   "cell_type": "code",
   "execution_count": 21,
   "metadata": {},
   "outputs": [
    {
     "data": {
      "text/plain": [
       "1"
      ]
     },
     "execution_count": 21,
     "metadata": {},
     "output_type": "execute_result"
    }
   ],
   "source": [
    "min(list(map(len, groups)))"
   ]
  },
  {
   "cell_type": "code",
   "execution_count": 22,
   "metadata": {},
   "outputs": [
    {
     "data": {
      "text/plain": [
       "1062"
      ]
     },
     "execution_count": 22,
     "metadata": {},
     "output_type": "execute_result"
    }
   ],
   "source": [
    "max(list(map(len, groups)))"
   ]
  },
  {
   "cell_type": "code",
   "execution_count": 23,
   "metadata": {},
   "outputs": [],
   "source": [
    "G = nx.Graph()"
   ]
  },
  {
   "cell_type": "code",
   "execution_count": 24,
   "metadata": {},
   "outputs": [],
   "source": [
    "for group in groups:\n",
    "    group = list(set(group))\n",
    "    while len(group) > 0:\n",
    "        user_id = group.pop()\n",
    "        for other_user_id in group:\n",
    "            if G.has_edge(user_id, other_user_id):\n",
    "                G[user_id][other_user_id]['w'] += 1\n",
    "            else:\n",
    "                G.add_edge(user_id, other_user_id, w=1)"
   ]
  },
  {
   "cell_type": "code",
   "execution_count": 25,
   "metadata": {},
   "outputs": [
    {
     "data": {
      "text/plain": [
       "57365"
      ]
     },
     "execution_count": 25,
     "metadata": {},
     "output_type": "execute_result"
    }
   ],
   "source": [
    "len(G.nodes)"
   ]
  },
  {
   "cell_type": "code",
   "execution_count": 26,
   "metadata": {},
   "outputs": [
    {
     "data": {
      "text/plain": [
       "7213702"
      ]
     },
     "execution_count": 26,
     "metadata": {},
     "output_type": "execute_result"
    }
   ],
   "source": [
    "len(G.edges)"
   ]
  },
  {
   "cell_type": "code",
   "execution_count": 27,
   "metadata": {},
   "outputs": [
    {
     "data": {
      "text/plain": [
       "0.004384315189539241"
      ]
     },
     "execution_count": 27,
     "metadata": {},
     "output_type": "execute_result"
    }
   ],
   "source": [
    "nx.density(G)"
   ]
  },
  {
   "cell_type": "markdown",
   "metadata": {},
   "source": [
    "## Topics based groups"
   ]
  },
  {
   "cell_type": "code",
   "execution_count": 28,
   "metadata": {},
   "outputs": [],
   "source": [
    "TOPIC_GROUP = 1"
   ]
  },
  {
   "cell_type": "code",
   "execution_count": 29,
   "metadata": {},
   "outputs": [],
   "source": [
    "with open('../data/topic_user_mapping.json', 'r') as json_file:\n",
    "    topics = json.load(json_file)"
   ]
  },
  {
   "cell_type": "code",
   "execution_count": 30,
   "metadata": {},
   "outputs": [],
   "source": [
    "group_users = topics[str(TOPIC_GROUP)]"
   ]
  },
  {
   "cell_type": "code",
   "execution_count": 31,
   "metadata": {},
   "outputs": [
    {
     "data": {
      "text/plain": [
       "4166"
      ]
     },
     "execution_count": 31,
     "metadata": {},
     "output_type": "execute_result"
    }
   ],
   "source": [
    "len(group_users)"
   ]
  },
  {
   "cell_type": "code",
   "execution_count": 32,
   "metadata": {},
   "outputs": [],
   "source": [
    "G = G.subgraph(group_users)"
   ]
  },
  {
   "cell_type": "code",
   "execution_count": 33,
   "metadata": {
    "tags": []
   },
   "outputs": [
    {
     "name": "stdout",
     "output_type": "stream",
     "text": [
      "13\n"
     ]
    }
   ],
   "source": [
    "components = list(nx.connected_components(G))\n",
    "print(len(components))"
   ]
  },
  {
   "cell_type": "code",
   "execution_count": 34,
   "metadata": {},
   "outputs": [
    {
     "data": {
      "text/plain": [
       "[2904, 1, 1, 1, 1, 1, 1, 1, 1, 1, 1, 1, 1]"
      ]
     },
     "execution_count": 34,
     "metadata": {},
     "output_type": "execute_result"
    }
   ],
   "source": [
    "list(map(len, components))"
   ]
  },
  {
   "cell_type": "code",
   "execution_count": 35,
   "metadata": {},
   "outputs": [],
   "source": [
    "G = G.subgraph(components[0])"
   ]
  },
  {
   "cell_type": "markdown",
   "metadata": {},
   "source": [
    "## Degrees distribution"
   ]
  },
  {
   "cell_type": "code",
   "execution_count": 36,
   "metadata": {
    "tags": []
   },
   "outputs": [
    {
     "data": {
      "image/png": "[encoded data removed]",
      "text/plain": [
       "<Figure size 720x720 with 1 Axes>"
      ]
     },
     "metadata": {
      "needs_background": "light"
     },
     "output_type": "display_data"
    }
   ],
   "source": [
    "degrees = [G.degree(n) for n in G.nodes()]\n",
    "plt.figure(figsize=(10,10)) \n",
    "plt.hist(degrees)\n",
    "plt.title('Unweighted degrees distribution')\n",
    "plt.xlabel('Degree')\n",
    "plt.ylabel('Count')\n",
    "plt.show()"
   ]
  },
  {
   "cell_type": "code",
   "execution_count": 37,
   "metadata": {},
   "outputs": [
    {
     "data": {
      "text/plain": [
       "1289"
      ]
     },
     "execution_count": 37,
     "metadata": {},
     "output_type": "execute_result"
    }
   ],
   "source": [
    "max(degrees)"
   ]
  },
  {
   "cell_type": "code",
   "execution_count": 38,
   "metadata": {},
   "outputs": [
    {
     "data": {
      "text/plain": [
       "[('Animats', 1289),\n",
       " ('exabrial', 1088),\n",
       " ('amelius', 1085),\n",
       " ('crazygringo', 1066),\n",
       " ('fortran77', 1051),\n",
       " ('jedberg', 1031),\n",
       " ('Havoc', 1024),\n",
       " ('m0zg', 1023),\n",
       " ('m3kw9', 1016),\n",
       " ('carapace', 1011)]"
      ]
     },
     "execution_count": 38,
     "metadata": {},
     "output_type": "execute_result"
    }
   ],
   "source": [
    "sorted(G.degree, key=lambda x: x[1], reverse=True)[0:10]"
   ]
  },
  {
   "cell_type": "code",
   "execution_count": 39,
   "metadata": {},
   "outputs": [],
   "source": [
    "degrees = list(filter(lambda x: x < 1000, degrees))"
   ]
  },
  {
   "cell_type": "code",
   "execution_count": 40,
   "metadata": {
    "tags": []
   },
   "outputs": [
    {
     "data": {
      "image/png": "[encoded data removed]",
      "text/plain": [
       "<Figure size 720x720 with 1 Axes>"
      ]
     },
     "metadata": {
      "needs_background": "light"
     },
     "output_type": "display_data"
    }
   ],
   "source": [
    "plt.figure(figsize=(10,10)) \n",
    "plt.hist(degrees)\n",
    "plt.title('Unweighted degrees distribution')\n",
    "plt.xlabel('Degree')\n",
    "plt.ylabel('Count')\n",
    "plt.show()"
   ]
  },
  {
   "cell_type": "markdown",
   "metadata": {},
   "source": [
    "## Comments count distribution"
   ]
  },
  {
   "cell_type": "code",
   "execution_count": 41,
   "metadata": {},
   "outputs": [
    {
     "data": {
      "image/png": "[encoded data removed]",
      "text/plain": [
       "<Figure size 720x720 with 1 Axes>"
      ]
     },
     "metadata": {
      "needs_background": "light"
     },
     "output_type": "display_data"
    }
   ],
   "source": [
    "degrees = [G.degree(n, weight='w') for n in G.nodes()]\n",
    "plt.figure(figsize=(10,10)) \n",
    "plt.hist(degrees)\n",
    "plt.title('Comments number distribution')\n",
    "plt.xlabel('Comments number')\n",
    "plt.ylabel('Count')\n",
    "plt.show()"
   ]
  },
  {
   "cell_type": "code",
   "execution_count": 42,
   "metadata": {},
   "outputs": [
    {
     "data": {
      "text/plain": [
       "3322"
      ]
     },
     "execution_count": 42,
     "metadata": {},
     "output_type": "execute_result"
    }
   ],
   "source": [
    "max(degrees)"
   ]
  },
  {
   "cell_type": "code",
   "execution_count": 43,
   "metadata": {
    "scrolled": true
   },
   "outputs": [
    {
     "data": {
      "text/plain": [
       "[('Animats', 3322),\n",
       " ('m0zg', 2276),\n",
       " ('buboard', 2185),\n",
       " ('crazygringo', 2175),\n",
       " ('amelius', 2135),\n",
       " ('carapace', 2099),\n",
       " ('jedberg', 2017),\n",
       " ('Havoc', 2011),\n",
       " ('exabrial', 1984),\n",
       " ('m3kw9', 1946)]"
      ]
     },
     "execution_count": 43,
     "metadata": {},
     "output_type": "execute_result"
    }
   ],
   "source": [
    "sorted(G.degree(weight='w'), key=lambda x: x[1], reverse=True)[0:10]"
   ]
  },
  {
   "cell_type": "markdown",
   "metadata": {},
   "source": [
    "## Graph density"
   ]
  },
  {
   "cell_type": "code",
   "execution_count": 44,
   "metadata": {},
   "outputs": [
    {
     "data": {
      "text/plain": [
       "0.05309245968595231"
      ]
     },
     "execution_count": 44,
     "metadata": {},
     "output_type": "execute_result"
    }
   ],
   "source": [
    "nx.density(G)"
   ]
  },
  {
   "cell_type": "markdown",
   "metadata": {},
   "source": [
    "## Hours histogram"
   ]
  },
  {
   "cell_type": "code",
   "execution_count": 45,
   "metadata": {},
   "outputs": [],
   "source": [
    "most_active_users = sorted(G.degree(weight='w'), key=lambda x: x[1], reverse=True)[0:10]\n",
    "most_active_users = list(map(lambda x: x[0], most_active_users))\n",
    "most_active_users = list(map(lambda x: users[x], most_active_users))"
   ]
  },
  {
   "cell_type": "code",
   "execution_count": 46,
   "metadata": {},
   "outputs": [],
   "source": [
    "hours = list(map(lambda x: list(map(lambda y: y.time.hour, x.comments)), most_active_users))\n",
    "hours = [item for sublist in hours for item in sublist]\n",
    "# hours = list(map(lambda x: x.time.hour, most_active_user.comments))"
   ]
  },
  {
   "cell_type": "code",
   "execution_count": 47,
   "metadata": {},
   "outputs": [
    {
     "data": {
      "text/plain": [
       "3159"
      ]
     },
     "execution_count": 47,
     "metadata": {},
     "output_type": "execute_result"
    }
   ],
   "source": [
    "len(hours)"
   ]
  },
  {
   "cell_type": "code",
   "execution_count": 48,
   "metadata": {},
   "outputs": [
    {
     "data": {
      "image/png": "[encoded data removed]",
      "text/plain": [
       "<Figure size 720x720 with 1 Axes>"
      ]
     },
     "metadata": {
      "needs_background": "light"
     },
     "output_type": "display_data"
    }
   ],
   "source": [
    "plt.figure(figsize=(10,10)) \n",
    "plt.hist(hours)\n",
    "plt.title('10 most active users\\' comments over day')\n",
    "plt.xlabel('Hour')\n",
    "plt.ylabel('Count')\n",
    "plt.show()"
   ]
  },
  {
   "cell_type": "markdown",
   "metadata": {},
   "source": [
    "## PageRank"
   ]
  },
  {
   "cell_type": "code",
   "execution_count": 49,
   "metadata": {},
   "outputs": [
    {
     "data": {
      "text/plain": [
       "['ijcd',\n",
       " 'enkid',\n",
       " 'aj2',\n",
       " 'hejdirk',\n",
       " 'tearex',\n",
       " 'petertodd',\n",
       " 'Majestic121',\n",
       " 'frankie88chen',\n",
       " 'mlk',\n",
       " 'mborg']"
      ]
     },
     "execution_count": 49,
     "metadata": {},
     "output_type": "execute_result"
    }
   ],
   "source": [
    "list({k: v for k, v in sorted(nx.pagerank(G).items(), key=lambda item: item[1])}.keys())[0:10]"
   ]
  },
  {
   "source": [
    "## Vis"
   ],
   "cell_type": "markdown",
   "metadata": {}
  },
  {
   "cell_type": "code",
   "execution_count": null,
   "metadata": {},
   "outputs": [],
   "source": []
  }
 ],
 "metadata": {
  "kernelspec": {
   "display_name": "Python 3.8.2 64-bit ('venv')",
   "language": "python",
   "name": "python38264bitvenva79d21a9213241d8beb24830b3cfb054"
  },
  "language_info": {
   "codemirror_mode": {
    "name": "ipython",
    "version": 3
   },
   "file_extension": ".py",
   "mimetype": "text/x-python",
   "name": "python",
   "nbconvert_exporter": "python",
   "pygments_lexer": "ipython3",
   "version": "3.8.2-final"
  }
 },
 "nbformat": 4,
 "nbformat_minor": 2
}