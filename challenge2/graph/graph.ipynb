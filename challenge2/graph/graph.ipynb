{
 "metadata": {
  "language_info": {
   "codemirror_mode": {
    "name": "ipython",
    "version": 3
   },
   "file_extension": ".py",
   "mimetype": "text/x-python",
   "name": "python",
   "nbconvert_exporter": "python",
   "pygments_lexer": "ipython3",
   "version": "3.8.2-final"
  },
  "orig_nbformat": 2,
  "kernelspec": {
   "name": "python38264bitvenva79d21a9213241d8beb24830b3cfb054",
   "display_name": "Python 3.8.2 64-bit ('venv')"
  }
 },
 "nbformat": 4,
 "nbformat_minor": 2,
 "cells": [
  {
   "cell_type": "code",
   "execution_count": 45,
   "metadata": {},
   "outputs": [],
   "source": [
    "import pandas as pd\n",
    "from model.comment import Comment\n",
    "from model.user import User\n",
    "from datetime import datetime\n",
    "from tqdm import tqdm\n",
    "from copy import deepcopy\n",
    "import networkx as nx\n",
    "import json\n",
    "import matplotlib.pyplot as plt\n",
    "import numpy as np\n",
    "import math\n",
    "import joblib"
   ]
  },
  {
   "cell_type": "code",
   "execution_count": 46,
   "metadata": {},
   "outputs": [],
   "source": [
    "df = pd.read_csv('../data/comments.csv')"
   ]
  },
  {
   "cell_type": "code",
   "execution_count": 47,
   "metadata": {},
   "outputs": [
    {
     "output_type": "execute_result",
     "data": {
      "text/plain": "              by          id                  kids      parent  \\\n0       brenden2  22719825.0                    {}  22719170.0   \n1  aussieguy1234  22724106.0                    {}  22719170.0   \n2        nyolfen  22719715.0  [22720774, 22719866]  22719170.0   \n3       flerchin  22724311.0                    {}  22719170.0   \n4         chirau  22723796.0            [22724399]  22719170.0   \n\n                                                text                 time  \\\n0  Get in line Saudis, there are a lot of people ...  2020-03-29 17:36:34   \n1  Looks like as long as the victims stop using t...  2020-03-30 02:31:48   \n2  how granular is ss7 psl data? if it's decades ...  2020-03-29 17:23:20   \n3  Oddly specific use-case. This only tracks the ...  2020-03-30 03:08:13   \n4  What is the issue here? Does the US not spy on...  2020-03-30 01:43:47   \n\n      type deleted dead  \n0  comment     NaN  NaN  \n1  comment     NaN  NaN  \n2  comment     NaN  NaN  \n3  comment     NaN  NaN  \n4  comment     NaN  NaN  ",
      "text/html": "<div>\n<style scoped>\n    .dataframe tbody tr th:only-of-type {\n        vertical-align: middle;\n    }\n\n    .dataframe tbody tr th {\n        vertical-align: top;\n    }\n\n    .dataframe thead th {\n        text-align: right;\n    }\n</style>\n<table border=\"1\" class=\"dataframe\">\n  <thead>\n    <tr style=\"text-align: right;\">\n      <th></th>\n      <th>by</th>\n      <th>id</th>\n      <th>kids</th>\n      <th>parent</th>\n      <th>text</th>\n      <th>time</th>\n      <th>type</th>\n      <th>deleted</th>\n      <th>dead</th>\n    </tr>\n  </thead>\n  <tbody>\n    <tr>\n      <th>0</th>\n      <td>brenden2</td>\n      <td>22719825.0</td>\n      <td>{}</td>\n      <td>22719170.0</td>\n      <td>Get in line Saudis, there are a lot of people ...</td>\n      <td>2020-03-29 17:36:34</td>\n      <td>comment</td>\n      <td>NaN</td>\n      <td>NaN</td>\n    </tr>\n    <tr>\n      <th>1</th>\n      <td>aussieguy1234</td>\n      <td>22724106.0</td>\n      <td>{}</td>\n      <td>22719170.0</td>\n      <td>Looks like as long as the victims stop using t...</td>\n      <td>2020-03-30 02:31:48</td>\n      <td>comment</td>\n      <td>NaN</td>\n      <td>NaN</td>\n    </tr>\n    <tr>\n      <th>2</th>\n      <td>nyolfen</td>\n      <td>22719715.0</td>\n      <td>[22720774, 22719866]</td>\n      <td>22719170.0</td>\n      <td>how granular is ss7 psl data? if it's decades ...</td>\n      <td>2020-03-29 17:23:20</td>\n      <td>comment</td>\n      <td>NaN</td>\n      <td>NaN</td>\n    </tr>\n    <tr>\n      <th>3</th>\n      <td>flerchin</td>\n      <td>22724311.0</td>\n      <td>{}</td>\n      <td>22719170.0</td>\n      <td>Oddly specific use-case. This only tracks the ...</td>\n      <td>2020-03-30 03:08:13</td>\n      <td>comment</td>\n      <td>NaN</td>\n      <td>NaN</td>\n    </tr>\n    <tr>\n      <th>4</th>\n      <td>chirau</td>\n      <td>22723796.0</td>\n      <td>[22724399]</td>\n      <td>22719170.0</td>\n      <td>What is the issue here? Does the US not spy on...</td>\n      <td>2020-03-30 01:43:47</td>\n      <td>comment</td>\n      <td>NaN</td>\n      <td>NaN</td>\n    </tr>\n  </tbody>\n</table>\n</div>"
     },
     "metadata": {},
     "execution_count": 47
    }
   ],
   "source": [
    "df.head()"
   ]
  },
  {
   "cell_type": "code",
   "execution_count": 48,
   "metadata": {
    "tags": []
   },
   "outputs": [
    {
     "output_type": "stream",
     "name": "stdout",
     "text": "<class 'pandas.core.frame.DataFrame'>\nRangeIndex: 361930 entries, 0 to 361929\nData columns (total 9 columns):\n #   Column   Non-Null Count   Dtype  \n---  ------   --------------   -----  \n 0   by       353099 non-null  object \n 1   id       361929 non-null  float64\n 2   kids     302779 non-null  object \n 3   parent   361929 non-null  float64\n 4   text     353085 non-null  object \n 5   time     361929 non-null  object \n 6   type     361929 non-null  object \n 7   deleted  8830 non-null    object \n 8   dead     9705 non-null    object \ndtypes: float64(2), object(7)\nmemory usage: 24.9+ MB\n"
    }
   ],
   "source": [
    "df.info()"
   ]
  },
  {
   "cell_type": "code",
   "execution_count": 49,
   "metadata": {},
   "outputs": [
    {
     "output_type": "execute_result",
     "data": {
      "text/plain": "60053"
     },
     "metadata": {},
     "execution_count": 49
    }
   ],
   "source": [
    "len(df['by'].unique())"
   ]
  },
  {
   "cell_type": "code",
   "execution_count": 50,
   "metadata": {},
   "outputs": [
    {
     "output_type": "execute_result",
     "data": {
      "text/plain": "356142"
     },
     "metadata": {},
     "execution_count": 50
    }
   ],
   "source": [
    "len(df['id'].unique())"
   ]
  },
  {
   "cell_type": "code",
   "execution_count": 51,
   "metadata": {},
   "outputs": [],
   "source": [
    "def row_to_comment(row):\n",
    "\n",
    "    kids = []\n",
    "    if row['kids'] != '{}' and type(row['kids']) == str:\n",
    "        kids = list(map(int, row['kids'][1:-1].split(', ')))\n",
    "\n",
    "    return Comment(\n",
    "        by_id=row['by'],\n",
    "        id=int(row['id']),\n",
    "        parent_id=int(row['parent']),\n",
    "        kids_ids=kids,\n",
    "        text=row['text'],\n",
    "        time=datetime.strptime(row['time'], '%Y-%m-%d %H:%M:%S'),\n",
    "        type=row['type'],\n",
    "        by=None,\n",
    "        parent=None,\n",
    "        kids=[]\n",
    "    )"
   ]
  },
  {
   "cell_type": "code",
   "execution_count": 52,
   "metadata": {},
   "outputs": [],
   "source": [
    "def row_to_user(row):\n",
    "\n",
    "    return User(\n",
    "        name=row['by'],\n",
    "        comments_ids=[],\n",
    "        comments=[]\n",
    "    )"
   ]
  },
  {
   "cell_type": "code",
   "execution_count": 53,
   "metadata": {
    "tags": []
   },
   "outputs": [
    {
     "output_type": "stream",
     "name": "stderr",
     "text": " 84%|████████▎ | 302506/361930 [01:04<00:15, 3898.14it/s]time data '2020-01-11' does not match format '%Y-%m-%d %H:%M:%S'\nby                                                   pledess\nid                                               2.20165e+07\nkids                          [22016789, 22017555, 22016569]\nparent                                           2.20151e+07\ntext       > Epstein was joined by one or two female assi...\ntime                                              2020-01-11\ntype                                                 comment\ndeleted                                                  NaN\ndead                                                     NaN\nName: 301900, dtype: object\n 97%|█████████▋| 349624/361930 [01:12<00:02, 5320.06it/s]time data '2020-01-05' does not match format '%Y-%m-%d %H:%M:%S'\nby                                                    jayd16\nid                                               2.19582e+07\nkids                                              [21958372]\nparent                                           2.19533e+07\ntext       Can you train a white box solution with only a...\ntime                                              2020-01-05\ntype                                                 comment\ndeleted                                                  NaN\ndead                                                     NaN\nName: 349026, dtype: object\n100%|██████████| 361930/361930 [01:15<00:00, 4810.05it/s]\n"
    }
   ],
   "source": [
    "users = {}\n",
    "comments = {}\n",
    "\n",
    "for row_id in tqdm(range(len(df))):\n",
    "    row = df.iloc[row_id]\n",
    "\n",
    "    try:\n",
    "        if row['by'] != '' and type(row['by']) == str:\n",
    "\n",
    "            #add comment\n",
    "            next_comment = row_to_comment(row)\n",
    "            if next_comment.id in comments:\n",
    "                # print(row)\n",
    "                pass\n",
    "            else:\n",
    "                comments[next_comment.id] = next_comment\n",
    "\n",
    "            #add user and comment to user\n",
    "            next_user = row_to_user(row)\n",
    "            if next_user.name not in users:\n",
    "                users[next_user.name] = next_user\n",
    "            users[next_user.name].comments_ids.append(next_comment.id)\n",
    "            users[next_user.name].comments.append(next_comment)\n",
    "\n",
    "    except Exception as e:\n",
    "        print(e)\n",
    "        print(row)"
   ]
  },
  {
   "cell_type": "code",
   "execution_count": 54,
   "metadata": {},
   "outputs": [
    {
     "output_type": "execute_result",
     "data": {
      "text/plain": "60052"
     },
     "metadata": {},
     "execution_count": 54
    }
   ],
   "source": [
    "len(users)"
   ]
  },
  {
   "cell_type": "code",
   "execution_count": 55,
   "metadata": {},
   "outputs": [
    {
     "output_type": "execute_result",
     "data": {
      "text/plain": "347318"
     },
     "metadata": {},
     "execution_count": 55
    }
   ],
   "source": [
    "len(comments)"
   ]
  },
  {
   "cell_type": "code",
   "execution_count": 56,
   "metadata": {},
   "outputs": [],
   "source": [
    "def create_empty_comment(id):\n",
    "    return Comment(\n",
    "        id=id,\n",
    "        by_id=None,\n",
    "        parent_id=None,\n",
    "        kids_ids=None,\n",
    "        text=None,\n",
    "        time=None,\n",
    "        type=None,\n",
    "        by=None,\n",
    "        parent=None,\n",
    "        kids=None\n",
    "    )"
   ]
  },
  {
   "cell_type": "code",
   "execution_count": 57,
   "metadata": {
    "tags": []
   },
   "outputs": [
    {
     "output_type": "stream",
     "name": "stderr",
     "text": "100%|██████████| 347318/347318 [00:04<00:00, 69979.81it/s] \n"
    }
   ],
   "source": [
    "# fill by, parent, kids fields in comments\n",
    "# if comment not found in comments create that object\n",
    "current_comments_list = deepcopy(list(comments.values()))\n",
    "\n",
    "for comment in tqdm(current_comments_list):\n",
    "\n",
    "    try:\n",
    "\n",
    "        comments[comment.id].by = users[comment.by_id]\n",
    "\n",
    "        if comment.parent_id not in comments:\n",
    "            # comments[comment.parent_id] = create_empty_comment(comment.parent_id)\n",
    "            comments[comment.parent_id] = Comment(\n",
    "                id=comment.parent_id,\n",
    "                by_id=None,\n",
    "                parent_id=None,\n",
    "                kids_ids=[comment.id],\n",
    "                text=None,\n",
    "                time=None,\n",
    "                type=None,\n",
    "                by=None,\n",
    "                parent=None,\n",
    "                kids=[comment]\n",
    "            )\n",
    "        elif comment.id not in comments[comment.parent_id].kids_ids:\n",
    "            comments[comment.parent_id].kids_ids.append(comment.id)\n",
    "            comments[comment.parent_id].kids.append(comment)\n",
    "        comments[comment.id].parent = comments[comment.parent_id]\n",
    "\n",
    "        comments[comment.id].kids = []\n",
    "        for subcomment_id in comment.kids_ids:\n",
    "            if subcomment_id not in comments:\n",
    "                # comments[subcomment_id] = create_empty_comment(subcomment_id)\n",
    "                comments[subcomment_id] = Comment(\n",
    "                    id=subcomment_id,\n",
    "                    by_id=None,\n",
    "                    parent_id=comment.id,\n",
    "                    kids_ids=[],\n",
    "                    text=None,\n",
    "                    time=None,\n",
    "                    type=None,\n",
    "                    by=None,\n",
    "                    parent=comment,\n",
    "                    kids=[]\n",
    "                )\n",
    "            comments[comment.id].kids.append(comments[subcomment_id])\n",
    "\n",
    "    except Exception as e:\n",
    "        print(e)\n",
    "        print(comments[comment.parent_id])"
   ]
  },
  {
   "cell_type": "code",
   "execution_count": 58,
   "metadata": {},
   "outputs": [
    {
     "output_type": "execute_result",
     "data": {
      "text/plain": "760793"
     },
     "metadata": {},
     "execution_count": 58
    }
   ],
   "source": [
    "len(comments)"
   ]
  },
  {
   "cell_type": "code",
   "execution_count": 59,
   "metadata": {},
   "outputs": [
    {
     "output_type": "execute_result",
     "data": {
      "text/plain": "True"
     },
     "metadata": {},
     "execution_count": 59
    }
   ],
   "source": [
    "len(set(map(lambda x: x.id, list(comments.values())))) == len(comments)"
   ]
  },
  {
   "source": [
    "## CREATE GRAPH"
   ],
   "cell_type": "markdown",
   "metadata": {}
  },
  {
   "source": [
    "## Waga - zliczanie wystąpień"
   ],
   "cell_type": "markdown",
   "metadata": {}
  },
  {
   "cell_type": "code",
   "execution_count": 60,
   "metadata": {},
   "outputs": [],
   "source": [
    "roots = list(filter(lambda x: x.parent==None, list(comments.values())))"
   ]
  },
  {
   "cell_type": "code",
   "execution_count": 61,
   "metadata": {},
   "outputs": [
    {
     "output_type": "execute_result",
     "data": {
      "text/plain": "22164"
     },
     "metadata": {},
     "execution_count": 61
    }
   ],
   "source": [
    "len(roots)"
   ]
  },
  {
   "cell_type": "code",
   "execution_count": 62,
   "metadata": {},
   "outputs": [],
   "source": [
    "groups = []\n",
    "\n",
    "for root in roots:\n",
    "\n",
    "    group = []\n",
    "    if root.by_id is not None:\n",
    "        group.append(root.by_id)\n",
    "    kids = root.kids\n",
    "\n",
    "    while len(kids) > 0:\n",
    "        kid = kids.pop()\n",
    "        # group.append(kid)\n",
    "        if kid.by_id is not None and kid.by_id not in group:\n",
    "            group.append(kid.by_id)\n",
    "        if kid.kids is not None:\n",
    "            for k in kid.kids:   \n",
    "                kids.append(k)\n",
    "\n",
    "    groups.append(group)"
   ]
  },
  {
   "cell_type": "code",
   "execution_count": 63,
   "metadata": {},
   "outputs": [
    {
     "output_type": "execute_result",
     "data": {
      "text/plain": "22164"
     },
     "metadata": {},
     "execution_count": 63
    }
   ],
   "source": [
    "len(groups)"
   ]
  },
  {
   "cell_type": "code",
   "execution_count": 64,
   "metadata": {},
   "outputs": [
    {
     "output_type": "execute_result",
     "data": {
      "text/plain": "1"
     },
     "metadata": {},
     "execution_count": 64
    }
   ],
   "source": [
    "min(list(map(len, groups)))"
   ]
  },
  {
   "cell_type": "code",
   "execution_count": 65,
   "metadata": {},
   "outputs": [
    {
     "output_type": "execute_result",
     "data": {
      "text/plain": "1062"
     },
     "metadata": {},
     "execution_count": 65
    }
   ],
   "source": [
    "max(list(map(len, groups)))"
   ]
  },
  {
   "cell_type": "code",
   "execution_count": 66,
   "metadata": {},
   "outputs": [],
   "source": [
    "G = nx.Graph()"
   ]
  },
  {
   "cell_type": "code",
   "execution_count": 67,
   "metadata": {},
   "outputs": [],
   "source": [
    "for group in groups:\n",
    "    group = list(set(group))\n",
    "    while len(group) > 0:\n",
    "        user_id = group.pop()\n",
    "        for other_user_id in group:\n",
    "            if G.has_edge(user_id, other_user_id):\n",
    "                G[user_id][other_user_id]['w'] += 1\n",
    "            else:\n",
    "                G.add_edge(user_id, other_user_id, w=1)"
   ]
  },
  {
   "cell_type": "code",
   "execution_count": 68,
   "metadata": {},
   "outputs": [
    {
     "output_type": "execute_result",
     "data": {
      "text/plain": "57365"
     },
     "metadata": {},
     "execution_count": 68
    }
   ],
   "source": [
    "len(G.nodes)"
   ]
  },
  {
   "cell_type": "code",
   "execution_count": 69,
   "metadata": {},
   "outputs": [
    {
     "output_type": "execute_result",
     "data": {
      "text/plain": "7213702"
     },
     "metadata": {},
     "execution_count": 69
    }
   ],
   "source": [
    "len(G.edges)"
   ]
  },
  {
   "cell_type": "code",
   "execution_count": 70,
   "metadata": {},
   "outputs": [
    {
     "output_type": "execute_result",
     "data": {
      "text/plain": "0.004384315189539241"
     },
     "metadata": {},
     "execution_count": 70
    }
   ],
   "source": [
    "nx.density(G)"
   ]
  },
  {
   "cell_type": "code",
   "execution_count": 28,
   "metadata": {},
   "outputs": [
    {
     "output_type": "execute_result",
     "data": {
      "text/plain": "[57294,\n 2,\n 3,\n 3,\n 4,\n 2,\n 2,\n 2,\n 2,\n 2,\n 3,\n 2,\n 2,\n 4,\n 2,\n 2,\n 2,\n 2,\n 2,\n 2,\n 3,\n 2,\n 4,\n 2,\n 2,\n 2,\n 2,\n 2,\n 2,\n 2,\n 3]"
     },
     "metadata": {},
     "execution_count": 28
    }
   ],
   "source": []
  },
  {
   "source": [
    "## Topics based groups"
   ],
   "cell_type": "markdown",
   "metadata": {}
  },
  {
   "cell_type": "code",
   "execution_count": 71,
   "metadata": {},
   "outputs": [],
   "source": [
    "TOPIC_GROUP = 1"
   ]
  },
  {
   "cell_type": "code",
   "execution_count": 72,
   "metadata": {},
   "outputs": [],
   "source": [
    "with open('../data/topic_user_mapping.json', 'r') as json_file:\n",
    "    topics = json.load(json_file)"
   ]
  },
  {
   "cell_type": "code",
   "execution_count": 73,
   "metadata": {},
   "outputs": [],
   "source": [
    "group_users = topics[str(TOPIC_GROUP)]"
   ]
  },
  {
   "cell_type": "code",
   "execution_count": 74,
   "metadata": {},
   "outputs": [],
   "source": [
    "G = G.subgraph(group_users)"
   ]
  },
  {
   "cell_type": "code",
   "execution_count": 75,
   "metadata": {
    "tags": []
   },
   "outputs": [
    {
     "output_type": "stream",
     "name": "stdout",
     "text": "27\n"
    }
   ],
   "source": [
    "components = list(nx.connected_components(G))\n",
    "print(len(components))"
   ]
  },
  {
   "cell_type": "code",
   "execution_count": 76,
   "metadata": {},
   "outputs": [
    {
     "output_type": "execute_result",
     "data": {
      "text/plain": "[3352,\n 1,\n 1,\n 1,\n 1,\n 1,\n 1,\n 1,\n 1,\n 2,\n 1,\n 1,\n 1,\n 1,\n 1,\n 1,\n 1,\n 1,\n 1,\n 1,\n 2,\n 1,\n 1,\n 1,\n 1,\n 1,\n 1]"
     },
     "metadata": {},
     "execution_count": 76
    }
   ],
   "source": [
    "list(map(len, components))"
   ]
  },
  {
   "cell_type": "code",
   "execution_count": 77,
   "metadata": {},
   "outputs": [],
   "source": [
    "G = G.subgraph(components[0])"
   ]
  },
  {
   "source": [
    "## Degrees distribution"
   ],
   "cell_type": "markdown",
   "metadata": {}
  },
  {
   "cell_type": "code",
   "execution_count": 78,
   "metadata": {},
   "outputs": [
    {
     "output_type": "display_data",
     "data": {
      "text/plain": "<Figure size 432x288 with 1 Axes>",
      "image/svg+xml": "<?xml version=\"1.0\" encoding=\"utf-8\" standalone=\"no\"?>\n<!DOCTYPE svg PUBLIC \"-//W3C//DTD SVG 1.1//EN\"\n  \"http://www.w3.org/Graphics/SVG/1.1/DTD/svg11.dtd\">\n<!-- Created with matplotlib (https://matplotlib.org/) -->\n<svg height=\"248.518125pt\" version=\"1.1\" viewBox=\"0 0 384.107833 248.518125\" width=\"384.107833pt\" xmlns=\"http://www.w3.org/2000/svg\" xmlns:xlink=\"http://www.w3.org/1999/xlink\">\n <metadata>\n  <rdf:RDF xmlns:cc=\"http://creativecommons.org/ns#\" xmlns:dc=\"http://purl.org/dc/elements/1.1/\" xmlns:rdf=\"http://www.w3.org/1999/02/22-rdf-syntax-ns#\">\n   <cc:Work>\n    <dc:type rdf:resource=\"http://purl.org/dc/dcmitype/StillImage\"/>\n    <dc:date>2020-09-24T13:51:52.565040</dc:date>\n    <dc:format>image/svg+xml</dc:format>\n    <dc:creator>\n     <cc:Agent>\n      <dc:title>Matplotlib v3.3.2, https://matplotlib.org/</dc:title>\n     </cc:Agent>\n    </dc:creator>\n   </cc:Work>\n  </rdf:RDF>\n </metadata>\n <defs>\n  <style type=\"text/css\">*{stroke-linecap:butt;stroke-linejoin:round;}</style>\n </defs>\n <g id=\"figure_1\">\n  <g id=\"patch_1\">\n   <path d=\"M -0 248.518125 \nL 384.107833 248.518125 \nL 384.107833 0 \nL -0 0 \nz\n\" style=\"fill:none;\"/>\n  </g>\n  <g id=\"axes_1\">\n   <g id=\"patch_2\">\n    <path d=\"M 39.65 224.64 \nL 374.45 224.64 \nL 374.45 7.2 \nL 39.65 7.2 \nz\n\" style=\"fill:#ffffff;\"/>\n   </g>\n   <g id=\"patch_3\">\n    <path clip-path=\"url(#p0ee038119f)\" d=\"M 54.868182 224.64 \nL 85.304545 224.64 \nL 85.304545 61.132005 \nL 54.868182 61.132005 \nz\n\" style=\"fill:#1f77b4;\"/>\n   </g>\n   <g id=\"patch_4\">\n    <path clip-path=\"url(#p0ee038119f)\" d=\"M 85.304545 224.64 \nL 115.740909 224.64 \nL 115.740909 137.301463 \nL 85.304545 137.301463 \nz\n\" style=\"fill:#1f77b4;\"/>\n   </g>\n   <g id=\"patch_5\">\n    <path clip-path=\"url(#p0ee038119f)\" d=\"M 115.740909 224.64 \nL 146.177273 224.64 \nL 146.177273 17.554286 \nL 115.740909 17.554286 \nz\n\" style=\"fill:#1f77b4;\"/>\n   </g>\n   <g id=\"patch_6\">\n    <path clip-path=\"url(#p0ee038119f)\" d=\"M 146.177273 224.64 \nL 176.613636 224.64 \nL 176.613636 162.386116 \nL 146.177273 162.386116 \nz\n\" style=\"fill:#1f77b4;\"/>\n   </g>\n   <g id=\"patch_7\">\n    <path clip-path=\"url(#p0ee038119f)\" d=\"M 176.613636 224.64 \nL 207.05 224.64 \nL 207.05 191.315862 \nL 176.613636 191.315862 \nz\n\" style=\"fill:#1f77b4;\"/>\n   </g>\n   <g id=\"patch_8\">\n    <path clip-path=\"url(#p0ee038119f)\" d=\"M 207.05 224.64 \nL 237.486364 224.64 \nL 237.486364 202.851141 \nL 207.05 202.851141 \nz\n\" style=\"fill:#1f77b4;\"/>\n   </g>\n   <g id=\"patch_9\">\n    <path clip-path=\"url(#p0ee038119f)\" d=\"M 237.486364 224.64 \nL 267.922727 224.64 \nL 267.922727 208.71033 \nL 237.486364 208.71033 \nz\n\" style=\"fill:#1f77b4;\"/>\n   </g>\n   <g id=\"patch_10\">\n    <path clip-path=\"url(#p0ee038119f)\" d=\"M 267.922727 224.64 \nL 298.359091 224.64 \nL 298.359091 214.935718 \nL 267.922727 214.935718 \nz\n\" style=\"fill:#1f77b4;\"/>\n   </g>\n   <g id=\"patch_11\">\n    <path clip-path=\"url(#p0ee038119f)\" d=\"M 298.359091 224.64 \nL 328.795455 224.64 \nL 328.795455 218.231512 \nL 298.359091 218.231512 \nz\n\" style=\"fill:#1f77b4;\"/>\n   </g>\n   <g id=\"patch_12\">\n    <path clip-path=\"url(#p0ee038119f)\" d=\"M 328.795455 224.64 \nL 359.231818 224.64 \nL 359.231818 218.231512 \nL 328.795455 218.231512 \nz\n\" style=\"fill:#1f77b4;\"/>\n   </g>\n   <g id=\"matplotlib.axis_1\">\n    <g id=\"xtick_1\">\n     <g id=\"line2d_1\">\n      <defs>\n       <path d=\"M 0 0 \nL 0 3.5 \n\" id=\"m51753d72a6\" style=\"stroke:#000000;stroke-width:0.8;\"/>\n      </defs>\n      <g>\n       <use style=\"stroke:#000000;stroke-width:0.8;\" x=\"54.744406\" xlink:href=\"#m51753d72a6\" y=\"224.64\"/>\n      </g>\n     </g>\n     <g id=\"text_1\">\n      <!-- 0 -->\n      <g transform=\"translate(51.563156 239.238437)scale(0.1 -0.1)\">\n       <defs>\n        <path d=\"M 31.78125 66.40625 \nQ 24.171875 66.40625 20.328125 58.90625 \nQ 16.5 51.421875 16.5 36.375 \nQ 16.5 21.390625 20.328125 13.890625 \nQ 24.171875 6.390625 31.78125 6.390625 \nQ 39.453125 6.390625 43.28125 13.890625 \nQ 47.125 21.390625 47.125 36.375 \nQ 47.125 51.421875 43.28125 58.90625 \nQ 39.453125 66.40625 31.78125 66.40625 \nz\nM 31.78125 74.21875 \nQ 44.046875 74.21875 50.515625 64.515625 \nQ 56.984375 54.828125 56.984375 36.375 \nQ 56.984375 17.96875 50.515625 8.265625 \nQ 44.046875 -1.421875 31.78125 -1.421875 \nQ 19.53125 -1.421875 13.0625 8.265625 \nQ 6.59375 17.96875 6.59375 36.375 \nQ 6.59375 54.828125 13.0625 64.515625 \nQ 19.53125 74.21875 31.78125 74.21875 \nz\n\" id=\"DejaVuSans-48\"/>\n       </defs>\n       <use xlink:href=\"#DejaVuSans-48\"/>\n      </g>\n     </g>\n    </g>\n    <g id=\"xtick_2\">\n     <g id=\"line2d_2\">\n      <g>\n       <use style=\"stroke:#000000;stroke-width:0.8;\" x=\"116.632092\" xlink:href=\"#m51753d72a6\" y=\"224.64\"/>\n      </g>\n     </g>\n     <g id=\"text_2\">\n      <!-- 500 -->\n      <g transform=\"translate(107.088342 239.238437)scale(0.1 -0.1)\">\n       <defs>\n        <path d=\"M 10.796875 72.90625 \nL 49.515625 72.90625 \nL 49.515625 64.59375 \nL 19.828125 64.59375 \nL 19.828125 46.734375 \nQ 21.96875 47.46875 24.109375 47.828125 \nQ 26.265625 48.1875 28.421875 48.1875 \nQ 40.625 48.1875 47.75 41.5 \nQ 54.890625 34.8125 54.890625 23.390625 \nQ 54.890625 11.625 47.5625 5.09375 \nQ 40.234375 -1.421875 26.90625 -1.421875 \nQ 22.3125 -1.421875 17.546875 -0.640625 \nQ 12.796875 0.140625 7.71875 1.703125 \nL 7.71875 11.625 \nQ 12.109375 9.234375 16.796875 8.0625 \nQ 21.484375 6.890625 26.703125 6.890625 \nQ 35.15625 6.890625 40.078125 11.328125 \nQ 45.015625 15.765625 45.015625 23.390625 \nQ 45.015625 31 40.078125 35.4375 \nQ 35.15625 39.890625 26.703125 39.890625 \nQ 22.75 39.890625 18.8125 39.015625 \nQ 14.890625 38.140625 10.796875 36.28125 \nz\n\" id=\"DejaVuSans-53\"/>\n       </defs>\n       <use xlink:href=\"#DejaVuSans-53\"/>\n       <use x=\"63.623047\" xlink:href=\"#DejaVuSans-48\"/>\n       <use x=\"127.246094\" xlink:href=\"#DejaVuSans-48\"/>\n      </g>\n     </g>\n    </g>\n    <g id=\"xtick_3\">\n     <g id=\"line2d_3\">\n      <g>\n       <use style=\"stroke:#000000;stroke-width:0.8;\" x=\"178.519777\" xlink:href=\"#m51753d72a6\" y=\"224.64\"/>\n      </g>\n     </g>\n     <g id=\"text_3\">\n      <!-- 1000 -->\n      <g transform=\"translate(165.794777 239.238437)scale(0.1 -0.1)\">\n       <defs>\n        <path d=\"M 12.40625 8.296875 \nL 28.515625 8.296875 \nL 28.515625 63.921875 \nL 10.984375 60.40625 \nL 10.984375 69.390625 \nL 28.421875 72.90625 \nL 38.28125 72.90625 \nL 38.28125 8.296875 \nL 54.390625 8.296875 \nL 54.390625 0 \nL 12.40625 0 \nz\n\" id=\"DejaVuSans-49\"/>\n       </defs>\n       <use xlink:href=\"#DejaVuSans-49\"/>\n       <use x=\"63.623047\" xlink:href=\"#DejaVuSans-48\"/>\n       <use x=\"127.246094\" xlink:href=\"#DejaVuSans-48\"/>\n       <use x=\"190.869141\" xlink:href=\"#DejaVuSans-48\"/>\n      </g>\n     </g>\n    </g>\n    <g id=\"xtick_4\">\n     <g id=\"line2d_4\">\n      <g>\n       <use style=\"stroke:#000000;stroke-width:0.8;\" x=\"240.407462\" xlink:href=\"#m51753d72a6\" y=\"224.64\"/>\n      </g>\n     </g>\n     <g id=\"text_4\">\n      <!-- 1500 -->\n      <g transform=\"translate(227.682462 239.238437)scale(0.1 -0.1)\">\n       <use xlink:href=\"#DejaVuSans-49\"/>\n       <use x=\"63.623047\" xlink:href=\"#DejaVuSans-53\"/>\n       <use x=\"127.246094\" xlink:href=\"#DejaVuSans-48\"/>\n       <use x=\"190.869141\" xlink:href=\"#DejaVuSans-48\"/>\n      </g>\n     </g>\n    </g>\n    <g id=\"xtick_5\">\n     <g id=\"line2d_5\">\n      <g>\n       <use style=\"stroke:#000000;stroke-width:0.8;\" x=\"302.295148\" xlink:href=\"#m51753d72a6\" y=\"224.64\"/>\n      </g>\n     </g>\n     <g id=\"text_5\">\n      <!-- 2000 -->\n      <g transform=\"translate(289.570148 239.238437)scale(0.1 -0.1)\">\n       <defs>\n        <path d=\"M 19.1875 8.296875 \nL 53.609375 8.296875 \nL 53.609375 0 \nL 7.328125 0 \nL 7.328125 8.296875 \nQ 12.9375 14.109375 22.625 23.890625 \nQ 32.328125 33.6875 34.8125 36.53125 \nQ 39.546875 41.84375 41.421875 45.53125 \nQ 43.3125 49.21875 43.3125 52.78125 \nQ 43.3125 58.59375 39.234375 62.25 \nQ 35.15625 65.921875 28.609375 65.921875 \nQ 23.96875 65.921875 18.8125 64.3125 \nQ 13.671875 62.703125 7.8125 59.421875 \nL 7.8125 69.390625 \nQ 13.765625 71.78125 18.9375 73 \nQ 24.125 74.21875 28.421875 74.21875 \nQ 39.75 74.21875 46.484375 68.546875 \nQ 53.21875 62.890625 53.21875 53.421875 \nQ 53.21875 48.921875 51.53125 44.890625 \nQ 49.859375 40.875 45.40625 35.40625 \nQ 44.1875 33.984375 37.640625 27.21875 \nQ 31.109375 20.453125 19.1875 8.296875 \nz\n\" id=\"DejaVuSans-50\"/>\n       </defs>\n       <use xlink:href=\"#DejaVuSans-50\"/>\n       <use x=\"63.623047\" xlink:href=\"#DejaVuSans-48\"/>\n       <use x=\"127.246094\" xlink:href=\"#DejaVuSans-48\"/>\n       <use x=\"190.869141\" xlink:href=\"#DejaVuSans-48\"/>\n      </g>\n     </g>\n    </g>\n    <g id=\"xtick_6\">\n     <g id=\"line2d_6\">\n      <g>\n       <use style=\"stroke:#000000;stroke-width:0.8;\" x=\"364.182833\" xlink:href=\"#m51753d72a6\" y=\"224.64\"/>\n      </g>\n     </g>\n     <g id=\"text_6\">\n      <!-- 2500 -->\n      <g transform=\"translate(351.457833 239.238437)scale(0.1 -0.1)\">\n       <use xlink:href=\"#DejaVuSans-50\"/>\n       <use x=\"63.623047\" xlink:href=\"#DejaVuSans-53\"/>\n       <use x=\"127.246094\" xlink:href=\"#DejaVuSans-48\"/>\n       <use x=\"190.869141\" xlink:href=\"#DejaVuSans-48\"/>\n      </g>\n     </g>\n    </g>\n   </g>\n   <g id=\"matplotlib.axis_2\">\n    <g id=\"ytick_1\">\n     <g id=\"line2d_7\">\n      <defs>\n       <path d=\"M 0 0 \nL -3.5 0 \n\" id=\"m363e2d3a8d\" style=\"stroke:#000000;stroke-width:0.8;\"/>\n      </defs>\n      <g>\n       <use style=\"stroke:#000000;stroke-width:0.8;\" x=\"39.65\" xlink:href=\"#m363e2d3a8d\" y=\"224.64\"/>\n      </g>\n     </g>\n     <g id=\"text_7\">\n      <!-- 0 -->\n      <g transform=\"translate(26.2875 228.439219)scale(0.1 -0.1)\">\n       <use xlink:href=\"#DejaVuSans-48\"/>\n      </g>\n     </g>\n    </g>\n    <g id=\"ytick_2\">\n     <g id=\"line2d_8\">\n      <g>\n       <use style=\"stroke:#000000;stroke-width:0.8;\" x=\"39.65\" xlink:href=\"#m363e2d3a8d\" y=\"188.020068\"/>\n      </g>\n     </g>\n     <g id=\"text_8\">\n      <!-- 200 -->\n      <g transform=\"translate(13.5625 191.819287)scale(0.1 -0.1)\">\n       <use xlink:href=\"#DejaVuSans-50\"/>\n       <use x=\"63.623047\" xlink:href=\"#DejaVuSans-48\"/>\n       <use x=\"127.246094\" xlink:href=\"#DejaVuSans-48\"/>\n      </g>\n     </g>\n    </g>\n    <g id=\"ytick_3\">\n     <g id=\"line2d_9\">\n      <g>\n       <use style=\"stroke:#000000;stroke-width:0.8;\" x=\"39.65\" xlink:href=\"#m363e2d3a8d\" y=\"151.400136\"/>\n      </g>\n     </g>\n     <g id=\"text_9\">\n      <!-- 400 -->\n      <g transform=\"translate(13.5625 155.199355)scale(0.1 -0.1)\">\n       <defs>\n        <path d=\"M 37.796875 64.3125 \nL 12.890625 25.390625 \nL 37.796875 25.390625 \nz\nM 35.203125 72.90625 \nL 47.609375 72.90625 \nL 47.609375 25.390625 \nL 58.015625 25.390625 \nL 58.015625 17.1875 \nL 47.609375 17.1875 \nL 47.609375 0 \nL 37.796875 0 \nL 37.796875 17.1875 \nL 4.890625 17.1875 \nL 4.890625 26.703125 \nz\n\" id=\"DejaVuSans-52\"/>\n       </defs>\n       <use xlink:href=\"#DejaVuSans-52\"/>\n       <use x=\"63.623047\" xlink:href=\"#DejaVuSans-48\"/>\n       <use x=\"127.246094\" xlink:href=\"#DejaVuSans-48\"/>\n      </g>\n     </g>\n    </g>\n    <g id=\"ytick_4\">\n     <g id=\"line2d_10\">\n      <g>\n       <use style=\"stroke:#000000;stroke-width:0.8;\" x=\"39.65\" xlink:href=\"#m363e2d3a8d\" y=\"114.780205\"/>\n      </g>\n     </g>\n     <g id=\"text_10\">\n      <!-- 600 -->\n      <g transform=\"translate(13.5625 118.579423)scale(0.1 -0.1)\">\n       <defs>\n        <path d=\"M 33.015625 40.375 \nQ 26.375 40.375 22.484375 35.828125 \nQ 18.609375 31.296875 18.609375 23.390625 \nQ 18.609375 15.53125 22.484375 10.953125 \nQ 26.375 6.390625 33.015625 6.390625 \nQ 39.65625 6.390625 43.53125 10.953125 \nQ 47.40625 15.53125 47.40625 23.390625 \nQ 47.40625 31.296875 43.53125 35.828125 \nQ 39.65625 40.375 33.015625 40.375 \nz\nM 52.59375 71.296875 \nL 52.59375 62.3125 \nQ 48.875 64.0625 45.09375 64.984375 \nQ 41.3125 65.921875 37.59375 65.921875 \nQ 27.828125 65.921875 22.671875 59.328125 \nQ 17.53125 52.734375 16.796875 39.40625 \nQ 19.671875 43.65625 24.015625 45.921875 \nQ 28.375 48.1875 33.59375 48.1875 \nQ 44.578125 48.1875 50.953125 41.515625 \nQ 57.328125 34.859375 57.328125 23.390625 \nQ 57.328125 12.15625 50.6875 5.359375 \nQ 44.046875 -1.421875 33.015625 -1.421875 \nQ 20.359375 -1.421875 13.671875 8.265625 \nQ 6.984375 17.96875 6.984375 36.375 \nQ 6.984375 53.65625 15.1875 63.9375 \nQ 23.390625 74.21875 37.203125 74.21875 \nQ 40.921875 74.21875 44.703125 73.484375 \nQ 48.484375 72.75 52.59375 71.296875 \nz\n\" id=\"DejaVuSans-54\"/>\n       </defs>\n       <use xlink:href=\"#DejaVuSans-54\"/>\n       <use x=\"63.623047\" xlink:href=\"#DejaVuSans-48\"/>\n       <use x=\"127.246094\" xlink:href=\"#DejaVuSans-48\"/>\n      </g>\n     </g>\n    </g>\n    <g id=\"ytick_5\">\n     <g id=\"line2d_11\">\n      <g>\n       <use style=\"stroke:#000000;stroke-width:0.8;\" x=\"39.65\" xlink:href=\"#m363e2d3a8d\" y=\"78.160273\"/>\n      </g>\n     </g>\n     <g id=\"text_11\">\n      <!-- 800 -->\n      <g transform=\"translate(13.5625 81.959492)scale(0.1 -0.1)\">\n       <defs>\n        <path d=\"M 31.78125 34.625 \nQ 24.75 34.625 20.71875 30.859375 \nQ 16.703125 27.09375 16.703125 20.515625 \nQ 16.703125 13.921875 20.71875 10.15625 \nQ 24.75 6.390625 31.78125 6.390625 \nQ 38.8125 6.390625 42.859375 10.171875 \nQ 46.921875 13.96875 46.921875 20.515625 \nQ 46.921875 27.09375 42.890625 30.859375 \nQ 38.875 34.625 31.78125 34.625 \nz\nM 21.921875 38.8125 \nQ 15.578125 40.375 12.03125 44.71875 \nQ 8.5 49.078125 8.5 55.328125 \nQ 8.5 64.0625 14.71875 69.140625 \nQ 20.953125 74.21875 31.78125 74.21875 \nQ 42.671875 74.21875 48.875 69.140625 \nQ 55.078125 64.0625 55.078125 55.328125 \nQ 55.078125 49.078125 51.53125 44.71875 \nQ 48 40.375 41.703125 38.8125 \nQ 48.828125 37.15625 52.796875 32.3125 \nQ 56.78125 27.484375 56.78125 20.515625 \nQ 56.78125 9.90625 50.3125 4.234375 \nQ 43.84375 -1.421875 31.78125 -1.421875 \nQ 19.734375 -1.421875 13.25 4.234375 \nQ 6.78125 9.90625 6.78125 20.515625 \nQ 6.78125 27.484375 10.78125 32.3125 \nQ 14.796875 37.15625 21.921875 38.8125 \nz\nM 18.3125 54.390625 \nQ 18.3125 48.734375 21.84375 45.5625 \nQ 25.390625 42.390625 31.78125 42.390625 \nQ 38.140625 42.390625 41.71875 45.5625 \nQ 45.3125 48.734375 45.3125 54.390625 \nQ 45.3125 60.0625 41.71875 63.234375 \nQ 38.140625 66.40625 31.78125 66.40625 \nQ 25.390625 66.40625 21.84375 63.234375 \nQ 18.3125 60.0625 18.3125 54.390625 \nz\n\" id=\"DejaVuSans-56\"/>\n       </defs>\n       <use xlink:href=\"#DejaVuSans-56\"/>\n       <use x=\"63.623047\" xlink:href=\"#DejaVuSans-48\"/>\n       <use x=\"127.246094\" xlink:href=\"#DejaVuSans-48\"/>\n      </g>\n     </g>\n    </g>\n    <g id=\"ytick_6\">\n     <g id=\"line2d_12\">\n      <g>\n       <use style=\"stroke:#000000;stroke-width:0.8;\" x=\"39.65\" xlink:href=\"#m363e2d3a8d\" y=\"41.540341\"/>\n      </g>\n     </g>\n     <g id=\"text_12\">\n      <!-- 1000 -->\n      <g transform=\"translate(7.2 45.33956)scale(0.1 -0.1)\">\n       <use xlink:href=\"#DejaVuSans-49\"/>\n       <use x=\"63.623047\" xlink:href=\"#DejaVuSans-48\"/>\n       <use x=\"127.246094\" xlink:href=\"#DejaVuSans-48\"/>\n       <use x=\"190.869141\" xlink:href=\"#DejaVuSans-48\"/>\n      </g>\n     </g>\n    </g>\n   </g>\n   <g id=\"patch_13\">\n    <path d=\"M 39.65 224.64 \nL 39.65 7.2 \n\" style=\"fill:none;stroke:#000000;stroke-linecap:square;stroke-linejoin:miter;stroke-width:0.8;\"/>\n   </g>\n   <g id=\"patch_14\">\n    <path d=\"M 374.45 224.64 \nL 374.45 7.2 \n\" style=\"fill:none;stroke:#000000;stroke-linecap:square;stroke-linejoin:miter;stroke-width:0.8;\"/>\n   </g>\n   <g id=\"patch_15\">\n    <path d=\"M 39.65 224.64 \nL 374.45 224.64 \n\" style=\"fill:none;stroke:#000000;stroke-linecap:square;stroke-linejoin:miter;stroke-width:0.8;\"/>\n   </g>\n   <g id=\"patch_16\">\n    <path d=\"M 39.65 7.2 \nL 374.45 7.2 \n\" style=\"fill:none;stroke:#000000;stroke-linecap:square;stroke-linejoin:miter;stroke-width:0.8;\"/>\n   </g>\n  </g>\n </g>\n <defs>\n  <clipPath id=\"p0ee038119f\">\n   <rect height=\"217.44\" width=\"334.8\" x=\"39.65\" y=\"7.2\"/>\n  </clipPath>\n </defs>\n</svg>\n",
      "image/png": "[encoded data removed]"
     },
     "metadata": {
      "needs_background": "light"
     }
    }
   ],
   "source": [
    "degrees = [G.degree(n) for n in G.nodes()]\n",
    "plt.hist(degrees)\n",
    "plt.show()"
   ]
  },
  {
   "cell_type": "code",
   "execution_count": 79,
   "metadata": {},
   "outputs": [
    {
     "output_type": "execute_result",
     "data": {
      "text/plain": "2460"
     },
     "metadata": {},
     "execution_count": 79
    }
   ],
   "source": [
    "max(degrees)"
   ]
  },
  {
   "cell_type": "code",
   "execution_count": 80,
   "metadata": {},
   "outputs": [
    {
     "output_type": "execute_result",
     "data": {
      "text/plain": "[('salt-licker', 2460),\n ('hartator', 2449),\n ('pgodzin', 2434),\n ('victorkab', 2429),\n ('chriskanan', 2425),\n ('brianr', 2420),\n ('dford10', 2420),\n ('dlngdn', 2420),\n ('schneidmaster', 2420),\n ('ac-fd', 2420)]"
     },
     "metadata": {},
     "execution_count": 80
    }
   ],
   "source": [
    "sorted(G.degree, key=lambda x: x[1], reverse=True)[0:10]"
   ]
  },
  {
   "cell_type": "code",
   "execution_count": 81,
   "metadata": {},
   "outputs": [],
   "source": [
    "degrees = list(filter(lambda x: x < 1000, degrees))"
   ]
  },
  {
   "cell_type": "code",
   "execution_count": 82,
   "metadata": {},
   "outputs": [
    {
     "output_type": "display_data",
     "data": {
      "text/plain": "<Figure size 432x288 with 1 Axes>",
      "image/svg+xml": "<?xml version=\"1.0\" encoding=\"utf-8\" standalone=\"no\"?>\n<!DOCTYPE svg PUBLIC \"-//W3C//DTD SVG 1.1//EN\"\n  \"http://www.w3.org/Graphics/SVG/1.1/DTD/svg11.dtd\">\n<!-- Created with matplotlib (https://matplotlib.org/) -->\n<svg height=\"248.518125pt\" version=\"1.1\" viewBox=\"0 0 375.2875 248.518125\" width=\"375.2875pt\" xmlns=\"http://www.w3.org/2000/svg\" xmlns:xlink=\"http://www.w3.org/1999/xlink\">\n <metadata>\n  <rdf:RDF xmlns:cc=\"http://creativecommons.org/ns#\" xmlns:dc=\"http://purl.org/dc/elements/1.1/\" xmlns:rdf=\"http://www.w3.org/1999/02/22-rdf-syntax-ns#\">\n   <cc:Work>\n    <dc:type rdf:resource=\"http://purl.org/dc/dcmitype/StillImage\"/>\n    <dc:date>2020-09-24T13:51:54.197773</dc:date>\n    <dc:format>image/svg+xml</dc:format>\n    <dc:creator>\n     <cc:Agent>\n      <dc:title>Matplotlib v3.3.2, https://matplotlib.org/</dc:title>\n     </cc:Agent>\n    </dc:creator>\n   </cc:Work>\n  </rdf:RDF>\n </metadata>\n <defs>\n  <style type=\"text/css\">*{stroke-linecap:butt;stroke-linejoin:round;}</style>\n </defs>\n <g id=\"figure_1\">\n  <g id=\"patch_1\">\n   <path d=\"M 0 248.518125 \nL 375.2875 248.518125 \nL 375.2875 0 \nL 0 0 \nz\n\" style=\"fill:none;\"/>\n  </g>\n  <g id=\"axes_1\">\n   <g id=\"patch_2\">\n    <path d=\"M 33.2875 224.64 \nL 368.0875 224.64 \nL 368.0875 7.2 \nL 33.2875 7.2 \nz\n\" style=\"fill:#ffffff;\"/>\n   </g>\n   <g id=\"patch_3\">\n    <path clip-path=\"url(#p4af466de51)\" d=\"M 48.505682 224.64 \nL 78.942045 224.64 \nL 78.942045 17.554286 \nL 48.505682 17.554286 \nz\n\" style=\"fill:#1f77b4;\"/>\n   </g>\n   <g id=\"patch_4\">\n    <path clip-path=\"url(#p4af466de51)\" d=\"M 78.942045 224.64 \nL 109.378409 224.64 \nL 109.378409 186.730867 \nL 78.942045 186.730867 \nz\n\" style=\"fill:#1f77b4;\"/>\n   </g>\n   <g id=\"patch_5\">\n    <path clip-path=\"url(#p4af466de51)\" d=\"M 109.378409 224.64 \nL 139.814773 224.64 \nL 139.814773 210.494801 \nL 109.378409 210.494801 \nz\n\" style=\"fill:#1f77b4;\"/>\n   </g>\n   <g id=\"patch_6\">\n    <path clip-path=\"url(#p4af466de51)\" d=\"M 139.814773 224.64 \nL 170.251136 224.64 \nL 170.251136 220.962248 \nL 139.814773 220.962248 \nz\n\" style=\"fill:#1f77b4;\"/>\n   </g>\n   <g id=\"patch_7\">\n    <path clip-path=\"url(#p4af466de51)\" d=\"M 170.251136 224.64 \nL 200.6875 224.64 \nL 200.6875 51.785667 \nL 170.251136 51.785667 \nz\n\" style=\"fill:#1f77b4;\"/>\n   </g>\n   <g id=\"patch_8\">\n    <path clip-path=\"url(#p4af466de51)\" d=\"M 200.6875 224.64 \nL 231.123864 224.64 \nL 231.123864 18.968806 \nL 200.6875 18.968806 \nz\n\" style=\"fill:#1f77b4;\"/>\n   </g>\n   <g id=\"patch_9\">\n    <path clip-path=\"url(#p4af466de51)\" d=\"M 231.123864 224.64 \nL 261.560227 224.64 \nL 261.560227 160.7037 \nL 231.123864 160.7037 \nz\n\" style=\"fill:#1f77b4;\"/>\n   </g>\n   <g id=\"patch_10\">\n    <path clip-path=\"url(#p4af466de51)\" d=\"M 261.560227 224.64 \nL 291.996591 224.64 \nL 291.996591 198.047026 \nL 261.560227 198.047026 \nz\n\" style=\"fill:#1f77b4;\"/>\n   </g>\n   <g id=\"patch_11\">\n    <path clip-path=\"url(#p4af466de51)\" d=\"M 291.996591 224.64 \nL 322.432955 224.64 \nL 322.432955 217.284496 \nL 291.996591 217.284496 \nz\n\" style=\"fill:#1f77b4;\"/>\n   </g>\n   <g id=\"patch_12\">\n    <path clip-path=\"url(#p4af466de51)\" d=\"M 322.432955 224.64 \nL 352.869318 224.64 \nL 352.869318 157.591756 \nL 322.432955 157.591756 \nz\n\" style=\"fill:#1f77b4;\"/>\n   </g>\n   <g id=\"matplotlib.axis_1\">\n    <g id=\"xtick_1\">\n     <g id=\"line2d_1\">\n      <defs>\n       <path d=\"M 0 0 \nL 0 3.5 \n\" id=\"m4b3565a0c8\" style=\"stroke:#000000;stroke-width:0.8;\"/>\n      </defs>\n      <g>\n       <use style=\"stroke:#000000;stroke-width:0.8;\" x=\"48.200402\" xlink:href=\"#m4b3565a0c8\" y=\"224.64\"/>\n      </g>\n     </g>\n     <g id=\"text_1\">\n      <!-- 0 -->\n      <g transform=\"translate(45.019152 239.238437)scale(0.1 -0.1)\">\n       <defs>\n        <path d=\"M 31.78125 66.40625 \nQ 24.171875 66.40625 20.328125 58.90625 \nQ 16.5 51.421875 16.5 36.375 \nQ 16.5 21.390625 20.328125 13.890625 \nQ 24.171875 6.390625 31.78125 6.390625 \nQ 39.453125 6.390625 43.28125 13.890625 \nQ 47.125 21.390625 47.125 36.375 \nQ 47.125 51.421875 43.28125 58.90625 \nQ 39.453125 66.40625 31.78125 66.40625 \nz\nM 31.78125 74.21875 \nQ 44.046875 74.21875 50.515625 64.515625 \nQ 56.984375 54.828125 56.984375 36.375 \nQ 56.984375 17.96875 50.515625 8.265625 \nQ 44.046875 -1.421875 31.78125 -1.421875 \nQ 19.53125 -1.421875 13.0625 8.265625 \nQ 6.59375 17.96875 6.59375 36.375 \nQ 6.59375 54.828125 13.0625 64.515625 \nQ 19.53125 74.21875 31.78125 74.21875 \nz\n\" id=\"DejaVuSans-48\"/>\n       </defs>\n       <use xlink:href=\"#DejaVuSans-48\"/>\n      </g>\n     </g>\n    </g>\n    <g id=\"xtick_2\">\n     <g id=\"line2d_2\">\n      <g>\n       <use style=\"stroke:#000000;stroke-width:0.8;\" x=\"109.256297\" xlink:href=\"#m4b3565a0c8\" y=\"224.64\"/>\n      </g>\n     </g>\n     <g id=\"text_2\">\n      <!-- 200 -->\n      <g transform=\"translate(99.712547 239.238437)scale(0.1 -0.1)\">\n       <defs>\n        <path d=\"M 19.1875 8.296875 \nL 53.609375 8.296875 \nL 53.609375 0 \nL 7.328125 0 \nL 7.328125 8.296875 \nQ 12.9375 14.109375 22.625 23.890625 \nQ 32.328125 33.6875 34.8125 36.53125 \nQ 39.546875 41.84375 41.421875 45.53125 \nQ 43.3125 49.21875 43.3125 52.78125 \nQ 43.3125 58.59375 39.234375 62.25 \nQ 35.15625 65.921875 28.609375 65.921875 \nQ 23.96875 65.921875 18.8125 64.3125 \nQ 13.671875 62.703125 7.8125 59.421875 \nL 7.8125 69.390625 \nQ 13.765625 71.78125 18.9375 73 \nQ 24.125 74.21875 28.421875 74.21875 \nQ 39.75 74.21875 46.484375 68.546875 \nQ 53.21875 62.890625 53.21875 53.421875 \nQ 53.21875 48.921875 51.53125 44.890625 \nQ 49.859375 40.875 45.40625 35.40625 \nQ 44.1875 33.984375 37.640625 27.21875 \nQ 31.109375 20.453125 19.1875 8.296875 \nz\n\" id=\"DejaVuSans-50\"/>\n       </defs>\n       <use xlink:href=\"#DejaVuSans-50\"/>\n       <use x=\"63.623047\" xlink:href=\"#DejaVuSans-48\"/>\n       <use x=\"127.246094\" xlink:href=\"#DejaVuSans-48\"/>\n      </g>\n     </g>\n    </g>\n    <g id=\"xtick_3\">\n     <g id=\"line2d_3\">\n      <g>\n       <use style=\"stroke:#000000;stroke-width:0.8;\" x=\"170.312192\" xlink:href=\"#m4b3565a0c8\" y=\"224.64\"/>\n      </g>\n     </g>\n     <g id=\"text_3\">\n      <!-- 400 -->\n      <g transform=\"translate(160.768442 239.238437)scale(0.1 -0.1)\">\n       <defs>\n        <path d=\"M 37.796875 64.3125 \nL 12.890625 25.390625 \nL 37.796875 25.390625 \nz\nM 35.203125 72.90625 \nL 47.609375 72.90625 \nL 47.609375 25.390625 \nL 58.015625 25.390625 \nL 58.015625 17.1875 \nL 47.609375 17.1875 \nL 47.609375 0 \nL 37.796875 0 \nL 37.796875 17.1875 \nL 4.890625 17.1875 \nL 4.890625 26.703125 \nz\n\" id=\"DejaVuSans-52\"/>\n       </defs>\n       <use xlink:href=\"#DejaVuSans-52\"/>\n       <use x=\"63.623047\" xlink:href=\"#DejaVuSans-48\"/>\n       <use x=\"127.246094\" xlink:href=\"#DejaVuSans-48\"/>\n      </g>\n     </g>\n    </g>\n    <g id=\"xtick_4\">\n     <g id=\"line2d_4\">\n      <g>\n       <use style=\"stroke:#000000;stroke-width:0.8;\" x=\"231.368087\" xlink:href=\"#m4b3565a0c8\" y=\"224.64\"/>\n      </g>\n     </g>\n     <g id=\"text_4\">\n      <!-- 600 -->\n      <g transform=\"translate(221.824337 239.238437)scale(0.1 -0.1)\">\n       <defs>\n        <path d=\"M 33.015625 40.375 \nQ 26.375 40.375 22.484375 35.828125 \nQ 18.609375 31.296875 18.609375 23.390625 \nQ 18.609375 15.53125 22.484375 10.953125 \nQ 26.375 6.390625 33.015625 6.390625 \nQ 39.65625 6.390625 43.53125 10.953125 \nQ 47.40625 15.53125 47.40625 23.390625 \nQ 47.40625 31.296875 43.53125 35.828125 \nQ 39.65625 40.375 33.015625 40.375 \nz\nM 52.59375 71.296875 \nL 52.59375 62.3125 \nQ 48.875 64.0625 45.09375 64.984375 \nQ 41.3125 65.921875 37.59375 65.921875 \nQ 27.828125 65.921875 22.671875 59.328125 \nQ 17.53125 52.734375 16.796875 39.40625 \nQ 19.671875 43.65625 24.015625 45.921875 \nQ 28.375 48.1875 33.59375 48.1875 \nQ 44.578125 48.1875 50.953125 41.515625 \nQ 57.328125 34.859375 57.328125 23.390625 \nQ 57.328125 12.15625 50.6875 5.359375 \nQ 44.046875 -1.421875 33.015625 -1.421875 \nQ 20.359375 -1.421875 13.671875 8.265625 \nQ 6.984375 17.96875 6.984375 36.375 \nQ 6.984375 53.65625 15.1875 63.9375 \nQ 23.390625 74.21875 37.203125 74.21875 \nQ 40.921875 74.21875 44.703125 73.484375 \nQ 48.484375 72.75 52.59375 71.296875 \nz\n\" id=\"DejaVuSans-54\"/>\n       </defs>\n       <use xlink:href=\"#DejaVuSans-54\"/>\n       <use x=\"63.623047\" xlink:href=\"#DejaVuSans-48\"/>\n       <use x=\"127.246094\" xlink:href=\"#DejaVuSans-48\"/>\n      </g>\n     </g>\n    </g>\n    <g id=\"xtick_5\">\n     <g id=\"line2d_5\">\n      <g>\n       <use style=\"stroke:#000000;stroke-width:0.8;\" x=\"292.423982\" xlink:href=\"#m4b3565a0c8\" y=\"224.64\"/>\n      </g>\n     </g>\n     <g id=\"text_5\">\n      <!-- 800 -->\n      <g transform=\"translate(282.880232 239.238437)scale(0.1 -0.1)\">\n       <defs>\n        <path d=\"M 31.78125 34.625 \nQ 24.75 34.625 20.71875 30.859375 \nQ 16.703125 27.09375 16.703125 20.515625 \nQ 16.703125 13.921875 20.71875 10.15625 \nQ 24.75 6.390625 31.78125 6.390625 \nQ 38.8125 6.390625 42.859375 10.171875 \nQ 46.921875 13.96875 46.921875 20.515625 \nQ 46.921875 27.09375 42.890625 30.859375 \nQ 38.875 34.625 31.78125 34.625 \nz\nM 21.921875 38.8125 \nQ 15.578125 40.375 12.03125 44.71875 \nQ 8.5 49.078125 8.5 55.328125 \nQ 8.5 64.0625 14.71875 69.140625 \nQ 20.953125 74.21875 31.78125 74.21875 \nQ 42.671875 74.21875 48.875 69.140625 \nQ 55.078125 64.0625 55.078125 55.328125 \nQ 55.078125 49.078125 51.53125 44.71875 \nQ 48 40.375 41.703125 38.8125 \nQ 48.828125 37.15625 52.796875 32.3125 \nQ 56.78125 27.484375 56.78125 20.515625 \nQ 56.78125 9.90625 50.3125 4.234375 \nQ 43.84375 -1.421875 31.78125 -1.421875 \nQ 19.734375 -1.421875 13.25 4.234375 \nQ 6.78125 9.90625 6.78125 20.515625 \nQ 6.78125 27.484375 10.78125 32.3125 \nQ 14.796875 37.15625 21.921875 38.8125 \nz\nM 18.3125 54.390625 \nQ 18.3125 48.734375 21.84375 45.5625 \nQ 25.390625 42.390625 31.78125 42.390625 \nQ 38.140625 42.390625 41.71875 45.5625 \nQ 45.3125 48.734375 45.3125 54.390625 \nQ 45.3125 60.0625 41.71875 63.234375 \nQ 38.140625 66.40625 31.78125 66.40625 \nQ 25.390625 66.40625 21.84375 63.234375 \nQ 18.3125 60.0625 18.3125 54.390625 \nz\n\" id=\"DejaVuSans-56\"/>\n       </defs>\n       <use xlink:href=\"#DejaVuSans-56\"/>\n       <use x=\"63.623047\" xlink:href=\"#DejaVuSans-48\"/>\n       <use x=\"127.246094\" xlink:href=\"#DejaVuSans-48\"/>\n      </g>\n     </g>\n    </g>\n    <g id=\"xtick_6\">\n     <g id=\"line2d_6\">\n      <g>\n       <use style=\"stroke:#000000;stroke-width:0.8;\" x=\"353.479877\" xlink:href=\"#m4b3565a0c8\" y=\"224.64\"/>\n      </g>\n     </g>\n     <g id=\"text_6\">\n      <!-- 1000 -->\n      <g transform=\"translate(340.754877 239.238437)scale(0.1 -0.1)\">\n       <defs>\n        <path d=\"M 12.40625 8.296875 \nL 28.515625 8.296875 \nL 28.515625 63.921875 \nL 10.984375 60.40625 \nL 10.984375 69.390625 \nL 28.421875 72.90625 \nL 38.28125 72.90625 \nL 38.28125 8.296875 \nL 54.390625 8.296875 \nL 54.390625 0 \nL 12.40625 0 \nz\n\" id=\"DejaVuSans-49\"/>\n       </defs>\n       <use xlink:href=\"#DejaVuSans-49\"/>\n       <use x=\"63.623047\" xlink:href=\"#DejaVuSans-48\"/>\n       <use x=\"127.246094\" xlink:href=\"#DejaVuSans-48\"/>\n       <use x=\"190.869141\" xlink:href=\"#DejaVuSans-48\"/>\n      </g>\n     </g>\n    </g>\n   </g>\n   <g id=\"matplotlib.axis_2\">\n    <g id=\"ytick_1\">\n     <g id=\"line2d_7\">\n      <defs>\n       <path d=\"M 0 0 \nL -3.5 0 \n\" id=\"m0712ae4e73\" style=\"stroke:#000000;stroke-width:0.8;\"/>\n      </defs>\n      <g>\n       <use style=\"stroke:#000000;stroke-width:0.8;\" x=\"33.2875\" xlink:href=\"#m0712ae4e73\" y=\"224.64\"/>\n      </g>\n     </g>\n     <g id=\"text_7\">\n      <!-- 0 -->\n      <g transform=\"translate(19.925 228.439219)scale(0.1 -0.1)\">\n       <use xlink:href=\"#DejaVuSans-48\"/>\n      </g>\n     </g>\n    </g>\n    <g id=\"ytick_2\">\n     <g id=\"line2d_8\">\n      <g>\n       <use style=\"stroke:#000000;stroke-width:0.8;\" x=\"33.2875\" xlink:href=\"#m0712ae4e73\" y=\"196.349602\"/>\n      </g>\n     </g>\n     <g id=\"text_8\">\n      <!-- 100 -->\n      <g transform=\"translate(7.2 200.148821)scale(0.1 -0.1)\">\n       <use xlink:href=\"#DejaVuSans-49\"/>\n       <use x=\"63.623047\" xlink:href=\"#DejaVuSans-48\"/>\n       <use x=\"127.246094\" xlink:href=\"#DejaVuSans-48\"/>\n      </g>\n     </g>\n    </g>\n    <g id=\"ytick_3\">\n     <g id=\"line2d_9\">\n      <g>\n       <use style=\"stroke:#000000;stroke-width:0.8;\" x=\"33.2875\" xlink:href=\"#m0712ae4e73\" y=\"168.059204\"/>\n      </g>\n     </g>\n     <g id=\"text_9\">\n      <!-- 200 -->\n      <g transform=\"translate(7.2 171.858422)scale(0.1 -0.1)\">\n       <use xlink:href=\"#DejaVuSans-50\"/>\n       <use x=\"63.623047\" xlink:href=\"#DejaVuSans-48\"/>\n       <use x=\"127.246094\" xlink:href=\"#DejaVuSans-48\"/>\n      </g>\n     </g>\n    </g>\n    <g id=\"ytick_4\">\n     <g id=\"line2d_10\">\n      <g>\n       <use style=\"stroke:#000000;stroke-width:0.8;\" x=\"33.2875\" xlink:href=\"#m0712ae4e73\" y=\"139.768806\"/>\n      </g>\n     </g>\n     <g id=\"text_10\">\n      <!-- 300 -->\n      <g transform=\"translate(7.2 143.568024)scale(0.1 -0.1)\">\n       <defs>\n        <path d=\"M 40.578125 39.3125 \nQ 47.65625 37.796875 51.625 33 \nQ 55.609375 28.21875 55.609375 21.1875 \nQ 55.609375 10.40625 48.1875 4.484375 \nQ 40.765625 -1.421875 27.09375 -1.421875 \nQ 22.515625 -1.421875 17.65625 -0.515625 \nQ 12.796875 0.390625 7.625 2.203125 \nL 7.625 11.71875 \nQ 11.71875 9.328125 16.59375 8.109375 \nQ 21.484375 6.890625 26.8125 6.890625 \nQ 36.078125 6.890625 40.9375 10.546875 \nQ 45.796875 14.203125 45.796875 21.1875 \nQ 45.796875 27.640625 41.28125 31.265625 \nQ 36.765625 34.90625 28.71875 34.90625 \nL 20.21875 34.90625 \nL 20.21875 43.015625 \nL 29.109375 43.015625 \nQ 36.375 43.015625 40.234375 45.921875 \nQ 44.09375 48.828125 44.09375 54.296875 \nQ 44.09375 59.90625 40.109375 62.90625 \nQ 36.140625 65.921875 28.71875 65.921875 \nQ 24.65625 65.921875 20.015625 65.03125 \nQ 15.375 64.15625 9.8125 62.3125 \nL 9.8125 71.09375 \nQ 15.4375 72.65625 20.34375 73.4375 \nQ 25.25 74.21875 29.59375 74.21875 \nQ 40.828125 74.21875 47.359375 69.109375 \nQ 53.90625 64.015625 53.90625 55.328125 \nQ 53.90625 49.265625 50.4375 45.09375 \nQ 46.96875 40.921875 40.578125 39.3125 \nz\n\" id=\"DejaVuSans-51\"/>\n       </defs>\n       <use xlink:href=\"#DejaVuSans-51\"/>\n       <use x=\"63.623047\" xlink:href=\"#DejaVuSans-48\"/>\n       <use x=\"127.246094\" xlink:href=\"#DejaVuSans-48\"/>\n      </g>\n     </g>\n    </g>\n    <g id=\"ytick_5\">\n     <g id=\"line2d_11\">\n      <g>\n       <use style=\"stroke:#000000;stroke-width:0.8;\" x=\"33.2875\" xlink:href=\"#m0712ae4e73\" y=\"111.478407\"/>\n      </g>\n     </g>\n     <g id=\"text_11\">\n      <!-- 400 -->\n      <g transform=\"translate(7.2 115.277626)scale(0.1 -0.1)\">\n       <use xlink:href=\"#DejaVuSans-52\"/>\n       <use x=\"63.623047\" xlink:href=\"#DejaVuSans-48\"/>\n       <use x=\"127.246094\" xlink:href=\"#DejaVuSans-48\"/>\n      </g>\n     </g>\n    </g>\n    <g id=\"ytick_6\">\n     <g id=\"line2d_12\">\n      <g>\n       <use style=\"stroke:#000000;stroke-width:0.8;\" x=\"33.2875\" xlink:href=\"#m0712ae4e73\" y=\"83.188009\"/>\n      </g>\n     </g>\n     <g id=\"text_12\">\n      <!-- 500 -->\n      <g transform=\"translate(7.2 86.987228)scale(0.1 -0.1)\">\n       <defs>\n        <path d=\"M 10.796875 72.90625 \nL 49.515625 72.90625 \nL 49.515625 64.59375 \nL 19.828125 64.59375 \nL 19.828125 46.734375 \nQ 21.96875 47.46875 24.109375 47.828125 \nQ 26.265625 48.1875 28.421875 48.1875 \nQ 40.625 48.1875 47.75 41.5 \nQ 54.890625 34.8125 54.890625 23.390625 \nQ 54.890625 11.625 47.5625 5.09375 \nQ 40.234375 -1.421875 26.90625 -1.421875 \nQ 22.3125 -1.421875 17.546875 -0.640625 \nQ 12.796875 0.140625 7.71875 1.703125 \nL 7.71875 11.625 \nQ 12.109375 9.234375 16.796875 8.0625 \nQ 21.484375 6.890625 26.703125 6.890625 \nQ 35.15625 6.890625 40.078125 11.328125 \nQ 45.015625 15.765625 45.015625 23.390625 \nQ 45.015625 31 40.078125 35.4375 \nQ 35.15625 39.890625 26.703125 39.890625 \nQ 22.75 39.890625 18.8125 39.015625 \nQ 14.890625 38.140625 10.796875 36.28125 \nz\n\" id=\"DejaVuSans-53\"/>\n       </defs>\n       <use xlink:href=\"#DejaVuSans-53\"/>\n       <use x=\"63.623047\" xlink:href=\"#DejaVuSans-48\"/>\n       <use x=\"127.246094\" xlink:href=\"#DejaVuSans-48\"/>\n      </g>\n     </g>\n    </g>\n    <g id=\"ytick_7\">\n     <g id=\"line2d_13\">\n      <g>\n       <use style=\"stroke:#000000;stroke-width:0.8;\" x=\"33.2875\" xlink:href=\"#m0712ae4e73\" y=\"54.897611\"/>\n      </g>\n     </g>\n     <g id=\"text_13\">\n      <!-- 600 -->\n      <g transform=\"translate(7.2 58.69683)scale(0.1 -0.1)\">\n       <use xlink:href=\"#DejaVuSans-54\"/>\n       <use x=\"63.623047\" xlink:href=\"#DejaVuSans-48\"/>\n       <use x=\"127.246094\" xlink:href=\"#DejaVuSans-48\"/>\n      </g>\n     </g>\n    </g>\n    <g id=\"ytick_8\">\n     <g id=\"line2d_14\">\n      <g>\n       <use style=\"stroke:#000000;stroke-width:0.8;\" x=\"33.2875\" xlink:href=\"#m0712ae4e73\" y=\"26.607213\"/>\n      </g>\n     </g>\n     <g id=\"text_14\">\n      <!-- 700 -->\n      <g transform=\"translate(7.2 30.406432)scale(0.1 -0.1)\">\n       <defs>\n        <path d=\"M 8.203125 72.90625 \nL 55.078125 72.90625 \nL 55.078125 68.703125 \nL 28.609375 0 \nL 18.3125 0 \nL 43.21875 64.59375 \nL 8.203125 64.59375 \nz\n\" id=\"DejaVuSans-55\"/>\n       </defs>\n       <use xlink:href=\"#DejaVuSans-55\"/>\n       <use x=\"63.623047\" xlink:href=\"#DejaVuSans-48\"/>\n       <use x=\"127.246094\" xlink:href=\"#DejaVuSans-48\"/>\n      </g>\n     </g>\n    </g>\n   </g>\n   <g id=\"patch_13\">\n    <path d=\"M 33.2875 224.64 \nL 33.2875 7.2 \n\" style=\"fill:none;stroke:#000000;stroke-linecap:square;stroke-linejoin:miter;stroke-width:0.8;\"/>\n   </g>\n   <g id=\"patch_14\">\n    <path d=\"M 368.0875 224.64 \nL 368.0875 7.2 \n\" style=\"fill:none;stroke:#000000;stroke-linecap:square;stroke-linejoin:miter;stroke-width:0.8;\"/>\n   </g>\n   <g id=\"patch_15\">\n    <path d=\"M 33.2875 224.64 \nL 368.0875 224.64 \n\" style=\"fill:none;stroke:#000000;stroke-linecap:square;stroke-linejoin:miter;stroke-width:0.8;\"/>\n   </g>\n   <g id=\"patch_16\">\n    <path d=\"M 33.2875 7.2 \nL 368.0875 7.2 \n\" style=\"fill:none;stroke:#000000;stroke-linecap:square;stroke-linejoin:miter;stroke-width:0.8;\"/>\n   </g>\n  </g>\n </g>\n <defs>\n  <clipPath id=\"p4af466de51\">\n   <rect height=\"217.44\" width=\"334.8\" x=\"33.2875\" y=\"7.2\"/>\n  </clipPath>\n </defs>\n</svg>\n",
      "image/png": "[encoded data removed]"
     },
     "metadata": {
      "needs_background": "light"
     }
    }
   ],
   "source": [
    "plt.hist(degrees)\n",
    "plt.show()"
   ]
  },
  {
   "source": [
    "## Comments count distribution"
   ],
   "cell_type": "markdown",
   "metadata": {}
  },
  {
   "cell_type": "code",
   "execution_count": 83,
   "metadata": {},
   "outputs": [
    {
     "output_type": "display_data",
     "data": {
      "text/plain": "<Figure size 432x288 with 1 Axes>",
      "image/svg+xml": "<?xml version=\"1.0\" encoding=\"utf-8\" standalone=\"no\"?>\n<!DOCTYPE svg PUBLIC \"-//W3C//DTD SVG 1.1//EN\"\n  \"http://www.w3.org/Graphics/SVG/1.1/DTD/svg11.dtd\">\n<!-- Created with matplotlib (https://matplotlib.org/) -->\n<svg height=\"248.518125pt\" version=\"1.1\" viewBox=\"0 0 381.65 248.518125\" width=\"381.65pt\" xmlns=\"http://www.w3.org/2000/svg\" xmlns:xlink=\"http://www.w3.org/1999/xlink\">\n <metadata>\n  <rdf:RDF xmlns:cc=\"http://creativecommons.org/ns#\" xmlns:dc=\"http://purl.org/dc/elements/1.1/\" xmlns:rdf=\"http://www.w3.org/1999/02/22-rdf-syntax-ns#\">\n   <cc:Work>\n    <dc:type rdf:resource=\"http://purl.org/dc/dcmitype/StillImage\"/>\n    <dc:date>2020-09-24T13:51:57.635251</dc:date>\n    <dc:format>image/svg+xml</dc:format>\n    <dc:creator>\n     <cc:Agent>\n      <dc:title>Matplotlib v3.3.2, https://matplotlib.org/</dc:title>\n     </cc:Agent>\n    </dc:creator>\n   </cc:Work>\n  </rdf:RDF>\n </metadata>\n <defs>\n  <style type=\"text/css\">*{stroke-linecap:butt;stroke-linejoin:round;}</style>\n </defs>\n <g id=\"figure_1\">\n  <g id=\"patch_1\">\n   <path d=\"M -0 248.518125 \nL 381.65 248.518125 \nL 381.65 0 \nL -0 0 \nz\n\" style=\"fill:none;\"/>\n  </g>\n  <g id=\"axes_1\">\n   <g id=\"patch_2\">\n    <path d=\"M 39.65 224.64 \nL 374.45 224.64 \nL 374.45 7.2 \nL 39.65 7.2 \nz\n\" style=\"fill:#ffffff;\"/>\n   </g>\n   <g id=\"patch_3\">\n    <path clip-path=\"url(#p1c97b7fcc3)\" d=\"M 54.868182 224.64 \nL 85.304545 224.64 \nL 85.304545 107.822418 \nL 54.868182 107.822418 \nz\n\" style=\"fill:#1f77b4;\"/>\n   </g>\n   <g id=\"patch_4\">\n    <path clip-path=\"url(#p1c97b7fcc3)\" d=\"M 85.304545 224.64 \nL 115.740909 224.64 \nL 115.740909 17.554286 \nL 85.304545 17.554286 \nz\n\" style=\"fill:#1f77b4;\"/>\n   </g>\n   <g id=\"patch_5\">\n    <path clip-path=\"url(#p1c97b7fcc3)\" d=\"M 115.740909 224.64 \nL 146.177273 224.64 \nL 146.177273 171.800118 \nL 115.740909 171.800118 \nz\n\" style=\"fill:#1f77b4;\"/>\n   </g>\n   <g id=\"patch_6\">\n    <path clip-path=\"url(#p1c97b7fcc3)\" d=\"M 146.177273 224.64 \nL 176.613636 224.64 \nL 176.613636 206.508668 \nL 146.177273 206.508668 \nz\n\" style=\"fill:#1f77b4;\"/>\n   </g>\n   <g id=\"patch_7\">\n    <path clip-path=\"url(#p1c97b7fcc3)\" d=\"M 176.613636 224.64 \nL 207.05 224.64 \nL 207.05 210.782482 \nL 176.613636 210.782482 \nz\n\" style=\"fill:#1f77b4;\"/>\n   </g>\n   <g id=\"patch_8\">\n    <path clip-path=\"url(#p1c97b7fcc3)\" d=\"M 207.05 224.64 \nL 237.486364 224.64 \nL 237.486364 217.257958 \nL 207.05 217.257958 \nz\n\" style=\"fill:#1f77b4;\"/>\n   </g>\n   <g id=\"patch_9\">\n    <path clip-path=\"url(#p1c97b7fcc3)\" d=\"M 237.486364 224.64 \nL 267.922727 224.64 \nL 267.922727 217.775996 \nL 237.486364 217.775996 \nz\n\" style=\"fill:#1f77b4;\"/>\n   </g>\n   <g id=\"patch_10\">\n    <path clip-path=\"url(#p1c97b7fcc3)\" d=\"M 267.922727 224.64 \nL 298.359091 224.64 \nL 298.359091 219.2006 \nL 267.922727 219.2006 \nz\n\" style=\"fill:#1f77b4;\"/>\n   </g>\n   <g id=\"patch_11\">\n    <path clip-path=\"url(#p1c97b7fcc3)\" d=\"M 298.359091 224.64 \nL 328.795455 224.64 \nL 328.795455 221.790791 \nL 298.359091 221.790791 \nz\n\" style=\"fill:#1f77b4;\"/>\n   </g>\n   <g id=\"patch_12\">\n    <path clip-path=\"url(#p1c97b7fcc3)\" d=\"M 328.795455 224.64 \nL 359.231818 224.64 \nL 359.231818 221.790791 \nL 328.795455 221.790791 \nz\n\" style=\"fill:#1f77b4;\"/>\n   </g>\n   <g id=\"matplotlib.axis_1\">\n    <g id=\"xtick_1\">\n     <g id=\"line2d_1\">\n      <defs>\n       <path d=\"M 0 0 \nL 0 3.5 \n\" id=\"m6c1206f19c\" style=\"stroke:#000000;stroke-width:0.8;\"/>\n      </defs>\n      <g>\n       <use style=\"stroke:#000000;stroke-width:0.8;\" x=\"54.797301\" xlink:href=\"#m6c1206f19c\" y=\"224.64\"/>\n      </g>\n     </g>\n     <g id=\"text_1\">\n      <!-- 0 -->\n      <g transform=\"translate(51.616051 239.238437)scale(0.1 -0.1)\">\n       <defs>\n        <path d=\"M 31.78125 66.40625 \nQ 24.171875 66.40625 20.328125 58.90625 \nQ 16.5 51.421875 16.5 36.375 \nQ 16.5 21.390625 20.328125 13.890625 \nQ 24.171875 6.390625 31.78125 6.390625 \nQ 39.453125 6.390625 43.28125 13.890625 \nQ 47.125 21.390625 47.125 36.375 \nQ 47.125 51.421875 43.28125 58.90625 \nQ 39.453125 66.40625 31.78125 66.40625 \nz\nM 31.78125 74.21875 \nQ 44.046875 74.21875 50.515625 64.515625 \nQ 56.984375 54.828125 56.984375 36.375 \nQ 56.984375 17.96875 50.515625 8.265625 \nQ 44.046875 -1.421875 31.78125 -1.421875 \nQ 19.53125 -1.421875 13.0625 8.265625 \nQ 6.59375 17.96875 6.59375 36.375 \nQ 6.59375 54.828125 13.0625 64.515625 \nQ 19.53125 74.21875 31.78125 74.21875 \nz\n\" id=\"DejaVuSans-48\"/>\n       </defs>\n       <use xlink:href=\"#DejaVuSans-48\"/>\n      </g>\n     </g>\n    </g>\n    <g id=\"xtick_2\">\n     <g id=\"line2d_2\">\n      <g>\n       <use style=\"stroke:#000000;stroke-width:0.8;\" x=\"125.678446\" xlink:href=\"#m6c1206f19c\" y=\"224.64\"/>\n      </g>\n     </g>\n     <g id=\"text_2\">\n      <!-- 1000 -->\n      <g transform=\"translate(112.953446 239.238437)scale(0.1 -0.1)\">\n       <defs>\n        <path d=\"M 12.40625 8.296875 \nL 28.515625 8.296875 \nL 28.515625 63.921875 \nL 10.984375 60.40625 \nL 10.984375 69.390625 \nL 28.421875 72.90625 \nL 38.28125 72.90625 \nL 38.28125 8.296875 \nL 54.390625 8.296875 \nL 54.390625 0 \nL 12.40625 0 \nz\n\" id=\"DejaVuSans-49\"/>\n       </defs>\n       <use xlink:href=\"#DejaVuSans-49\"/>\n       <use x=\"63.623047\" xlink:href=\"#DejaVuSans-48\"/>\n       <use x=\"127.246094\" xlink:href=\"#DejaVuSans-48\"/>\n       <use x=\"190.869141\" xlink:href=\"#DejaVuSans-48\"/>\n      </g>\n     </g>\n    </g>\n    <g id=\"xtick_3\">\n     <g id=\"line2d_3\">\n      <g>\n       <use style=\"stroke:#000000;stroke-width:0.8;\" x=\"196.559591\" xlink:href=\"#m6c1206f19c\" y=\"224.64\"/>\n      </g>\n     </g>\n     <g id=\"text_3\">\n      <!-- 2000 -->\n      <g transform=\"translate(183.834591 239.238437)scale(0.1 -0.1)\">\n       <defs>\n        <path d=\"M 19.1875 8.296875 \nL 53.609375 8.296875 \nL 53.609375 0 \nL 7.328125 0 \nL 7.328125 8.296875 \nQ 12.9375 14.109375 22.625 23.890625 \nQ 32.328125 33.6875 34.8125 36.53125 \nQ 39.546875 41.84375 41.421875 45.53125 \nQ 43.3125 49.21875 43.3125 52.78125 \nQ 43.3125 58.59375 39.234375 62.25 \nQ 35.15625 65.921875 28.609375 65.921875 \nQ 23.96875 65.921875 18.8125 64.3125 \nQ 13.671875 62.703125 7.8125 59.421875 \nL 7.8125 69.390625 \nQ 13.765625 71.78125 18.9375 73 \nQ 24.125 74.21875 28.421875 74.21875 \nQ 39.75 74.21875 46.484375 68.546875 \nQ 53.21875 62.890625 53.21875 53.421875 \nQ 53.21875 48.921875 51.53125 44.890625 \nQ 49.859375 40.875 45.40625 35.40625 \nQ 44.1875 33.984375 37.640625 27.21875 \nQ 31.109375 20.453125 19.1875 8.296875 \nz\n\" id=\"DejaVuSans-50\"/>\n       </defs>\n       <use xlink:href=\"#DejaVuSans-50\"/>\n       <use x=\"63.623047\" xlink:href=\"#DejaVuSans-48\"/>\n       <use x=\"127.246094\" xlink:href=\"#DejaVuSans-48\"/>\n       <use x=\"190.869141\" xlink:href=\"#DejaVuSans-48\"/>\n      </g>\n     </g>\n    </g>\n    <g id=\"xtick_4\">\n     <g id=\"line2d_4\">\n      <g>\n       <use style=\"stroke:#000000;stroke-width:0.8;\" x=\"267.440735\" xlink:href=\"#m6c1206f19c\" y=\"224.64\"/>\n      </g>\n     </g>\n     <g id=\"text_4\">\n      <!-- 3000 -->\n      <g transform=\"translate(254.715735 239.238437)scale(0.1 -0.1)\">\n       <defs>\n        <path d=\"M 40.578125 39.3125 \nQ 47.65625 37.796875 51.625 33 \nQ 55.609375 28.21875 55.609375 21.1875 \nQ 55.609375 10.40625 48.1875 4.484375 \nQ 40.765625 -1.421875 27.09375 -1.421875 \nQ 22.515625 -1.421875 17.65625 -0.515625 \nQ 12.796875 0.390625 7.625 2.203125 \nL 7.625 11.71875 \nQ 11.71875 9.328125 16.59375 8.109375 \nQ 21.484375 6.890625 26.8125 6.890625 \nQ 36.078125 6.890625 40.9375 10.546875 \nQ 45.796875 14.203125 45.796875 21.1875 \nQ 45.796875 27.640625 41.28125 31.265625 \nQ 36.765625 34.90625 28.71875 34.90625 \nL 20.21875 34.90625 \nL 20.21875 43.015625 \nL 29.109375 43.015625 \nQ 36.375 43.015625 40.234375 45.921875 \nQ 44.09375 48.828125 44.09375 54.296875 \nQ 44.09375 59.90625 40.109375 62.90625 \nQ 36.140625 65.921875 28.71875 65.921875 \nQ 24.65625 65.921875 20.015625 65.03125 \nQ 15.375 64.15625 9.8125 62.3125 \nL 9.8125 71.09375 \nQ 15.4375 72.65625 20.34375 73.4375 \nQ 25.25 74.21875 29.59375 74.21875 \nQ 40.828125 74.21875 47.359375 69.109375 \nQ 53.90625 64.015625 53.90625 55.328125 \nQ 53.90625 49.265625 50.4375 45.09375 \nQ 46.96875 40.921875 40.578125 39.3125 \nz\n\" id=\"DejaVuSans-51\"/>\n       </defs>\n       <use xlink:href=\"#DejaVuSans-51\"/>\n       <use x=\"63.623047\" xlink:href=\"#DejaVuSans-48\"/>\n       <use x=\"127.246094\" xlink:href=\"#DejaVuSans-48\"/>\n       <use x=\"190.869141\" xlink:href=\"#DejaVuSans-48\"/>\n      </g>\n     </g>\n    </g>\n    <g id=\"xtick_5\">\n     <g id=\"line2d_5\">\n      <g>\n       <use style=\"stroke:#000000;stroke-width:0.8;\" x=\"338.32188\" xlink:href=\"#m6c1206f19c\" y=\"224.64\"/>\n      </g>\n     </g>\n     <g id=\"text_5\">\n      <!-- 4000 -->\n      <g transform=\"translate(325.59688 239.238437)scale(0.1 -0.1)\">\n       <defs>\n        <path d=\"M 37.796875 64.3125 \nL 12.890625 25.390625 \nL 37.796875 25.390625 \nz\nM 35.203125 72.90625 \nL 47.609375 72.90625 \nL 47.609375 25.390625 \nL 58.015625 25.390625 \nL 58.015625 17.1875 \nL 47.609375 17.1875 \nL 47.609375 0 \nL 37.796875 0 \nL 37.796875 17.1875 \nL 4.890625 17.1875 \nL 4.890625 26.703125 \nz\n\" id=\"DejaVuSans-52\"/>\n       </defs>\n       <use xlink:href=\"#DejaVuSans-52\"/>\n       <use x=\"63.623047\" xlink:href=\"#DejaVuSans-48\"/>\n       <use x=\"127.246094\" xlink:href=\"#DejaVuSans-48\"/>\n       <use x=\"190.869141\" xlink:href=\"#DejaVuSans-48\"/>\n      </g>\n     </g>\n    </g>\n   </g>\n   <g id=\"matplotlib.axis_2\">\n    <g id=\"ytick_1\">\n     <g id=\"line2d_6\">\n      <defs>\n       <path d=\"M 0 0 \nL -3.5 0 \n\" id=\"m05427e1c1f\" style=\"stroke:#000000;stroke-width:0.8;\"/>\n      </defs>\n      <g>\n       <use style=\"stroke:#000000;stroke-width:0.8;\" x=\"39.65\" xlink:href=\"#m05427e1c1f\" y=\"224.64\"/>\n      </g>\n     </g>\n     <g id=\"text_6\">\n      <!-- 0 -->\n      <g transform=\"translate(26.2875 228.439219)scale(0.1 -0.1)\">\n       <use xlink:href=\"#DejaVuSans-48\"/>\n      </g>\n     </g>\n    </g>\n    <g id=\"ytick_2\">\n     <g id=\"line2d_7\">\n      <g>\n       <use style=\"stroke:#000000;stroke-width:0.8;\" x=\"39.65\" xlink:href=\"#m05427e1c1f\" y=\"198.738097\"/>\n      </g>\n     </g>\n     <g id=\"text_7\">\n      <!-- 200 -->\n      <g transform=\"translate(13.5625 202.537316)scale(0.1 -0.1)\">\n       <use xlink:href=\"#DejaVuSans-50\"/>\n       <use x=\"63.623047\" xlink:href=\"#DejaVuSans-48\"/>\n       <use x=\"127.246094\" xlink:href=\"#DejaVuSans-48\"/>\n      </g>\n     </g>\n    </g>\n    <g id=\"ytick_3\">\n     <g id=\"line2d_8\">\n      <g>\n       <use style=\"stroke:#000000;stroke-width:0.8;\" x=\"39.65\" xlink:href=\"#m05427e1c1f\" y=\"172.836194\"/>\n      </g>\n     </g>\n     <g id=\"text_8\">\n      <!-- 400 -->\n      <g transform=\"translate(13.5625 176.635413)scale(0.1 -0.1)\">\n       <use xlink:href=\"#DejaVuSans-52\"/>\n       <use x=\"63.623047\" xlink:href=\"#DejaVuSans-48\"/>\n       <use x=\"127.246094\" xlink:href=\"#DejaVuSans-48\"/>\n      </g>\n     </g>\n    </g>\n    <g id=\"ytick_4\">\n     <g id=\"line2d_9\">\n      <g>\n       <use style=\"stroke:#000000;stroke-width:0.8;\" x=\"39.65\" xlink:href=\"#m05427e1c1f\" y=\"146.934291\"/>\n      </g>\n     </g>\n     <g id=\"text_9\">\n      <!-- 600 -->\n      <g transform=\"translate(13.5625 150.73351)scale(0.1 -0.1)\">\n       <defs>\n        <path d=\"M 33.015625 40.375 \nQ 26.375 40.375 22.484375 35.828125 \nQ 18.609375 31.296875 18.609375 23.390625 \nQ 18.609375 15.53125 22.484375 10.953125 \nQ 26.375 6.390625 33.015625 6.390625 \nQ 39.65625 6.390625 43.53125 10.953125 \nQ 47.40625 15.53125 47.40625 23.390625 \nQ 47.40625 31.296875 43.53125 35.828125 \nQ 39.65625 40.375 33.015625 40.375 \nz\nM 52.59375 71.296875 \nL 52.59375 62.3125 \nQ 48.875 64.0625 45.09375 64.984375 \nQ 41.3125 65.921875 37.59375 65.921875 \nQ 27.828125 65.921875 22.671875 59.328125 \nQ 17.53125 52.734375 16.796875 39.40625 \nQ 19.671875 43.65625 24.015625 45.921875 \nQ 28.375 48.1875 33.59375 48.1875 \nQ 44.578125 48.1875 50.953125 41.515625 \nQ 57.328125 34.859375 57.328125 23.390625 \nQ 57.328125 12.15625 50.6875 5.359375 \nQ 44.046875 -1.421875 33.015625 -1.421875 \nQ 20.359375 -1.421875 13.671875 8.265625 \nQ 6.984375 17.96875 6.984375 36.375 \nQ 6.984375 53.65625 15.1875 63.9375 \nQ 23.390625 74.21875 37.203125 74.21875 \nQ 40.921875 74.21875 44.703125 73.484375 \nQ 48.484375 72.75 52.59375 71.296875 \nz\n\" id=\"DejaVuSans-54\"/>\n       </defs>\n       <use xlink:href=\"#DejaVuSans-54\"/>\n       <use x=\"63.623047\" xlink:href=\"#DejaVuSans-48\"/>\n       <use x=\"127.246094\" xlink:href=\"#DejaVuSans-48\"/>\n      </g>\n     </g>\n    </g>\n    <g id=\"ytick_5\">\n     <g id=\"line2d_10\">\n      <g>\n       <use style=\"stroke:#000000;stroke-width:0.8;\" x=\"39.65\" xlink:href=\"#m05427e1c1f\" y=\"121.032388\"/>\n      </g>\n     </g>\n     <g id=\"text_10\">\n      <!-- 800 -->\n      <g transform=\"translate(13.5625 124.831607)scale(0.1 -0.1)\">\n       <defs>\n        <path d=\"M 31.78125 34.625 \nQ 24.75 34.625 20.71875 30.859375 \nQ 16.703125 27.09375 16.703125 20.515625 \nQ 16.703125 13.921875 20.71875 10.15625 \nQ 24.75 6.390625 31.78125 6.390625 \nQ 38.8125 6.390625 42.859375 10.171875 \nQ 46.921875 13.96875 46.921875 20.515625 \nQ 46.921875 27.09375 42.890625 30.859375 \nQ 38.875 34.625 31.78125 34.625 \nz\nM 21.921875 38.8125 \nQ 15.578125 40.375 12.03125 44.71875 \nQ 8.5 49.078125 8.5 55.328125 \nQ 8.5 64.0625 14.71875 69.140625 \nQ 20.953125 74.21875 31.78125 74.21875 \nQ 42.671875 74.21875 48.875 69.140625 \nQ 55.078125 64.0625 55.078125 55.328125 \nQ 55.078125 49.078125 51.53125 44.71875 \nQ 48 40.375 41.703125 38.8125 \nQ 48.828125 37.15625 52.796875 32.3125 \nQ 56.78125 27.484375 56.78125 20.515625 \nQ 56.78125 9.90625 50.3125 4.234375 \nQ 43.84375 -1.421875 31.78125 -1.421875 \nQ 19.734375 -1.421875 13.25 4.234375 \nQ 6.78125 9.90625 6.78125 20.515625 \nQ 6.78125 27.484375 10.78125 32.3125 \nQ 14.796875 37.15625 21.921875 38.8125 \nz\nM 18.3125 54.390625 \nQ 18.3125 48.734375 21.84375 45.5625 \nQ 25.390625 42.390625 31.78125 42.390625 \nQ 38.140625 42.390625 41.71875 45.5625 \nQ 45.3125 48.734375 45.3125 54.390625 \nQ 45.3125 60.0625 41.71875 63.234375 \nQ 38.140625 66.40625 31.78125 66.40625 \nQ 25.390625 66.40625 21.84375 63.234375 \nQ 18.3125 60.0625 18.3125 54.390625 \nz\n\" id=\"DejaVuSans-56\"/>\n       </defs>\n       <use xlink:href=\"#DejaVuSans-56\"/>\n       <use x=\"63.623047\" xlink:href=\"#DejaVuSans-48\"/>\n       <use x=\"127.246094\" xlink:href=\"#DejaVuSans-48\"/>\n      </g>\n     </g>\n    </g>\n    <g id=\"ytick_6\">\n     <g id=\"line2d_11\">\n      <g>\n       <use style=\"stroke:#000000;stroke-width:0.8;\" x=\"39.65\" xlink:href=\"#m05427e1c1f\" y=\"95.130485\"/>\n      </g>\n     </g>\n     <g id=\"text_11\">\n      <!-- 1000 -->\n      <g transform=\"translate(7.2 98.929704)scale(0.1 -0.1)\">\n       <use xlink:href=\"#DejaVuSans-49\"/>\n       <use x=\"63.623047\" xlink:href=\"#DejaVuSans-48\"/>\n       <use x=\"127.246094\" xlink:href=\"#DejaVuSans-48\"/>\n       <use x=\"190.869141\" xlink:href=\"#DejaVuSans-48\"/>\n      </g>\n     </g>\n    </g>\n    <g id=\"ytick_7\">\n     <g id=\"line2d_12\">\n      <g>\n       <use style=\"stroke:#000000;stroke-width:0.8;\" x=\"39.65\" xlink:href=\"#m05427e1c1f\" y=\"69.228582\"/>\n      </g>\n     </g>\n     <g id=\"text_12\">\n      <!-- 1200 -->\n      <g transform=\"translate(7.2 73.027801)scale(0.1 -0.1)\">\n       <use xlink:href=\"#DejaVuSans-49\"/>\n       <use x=\"63.623047\" xlink:href=\"#DejaVuSans-50\"/>\n       <use x=\"127.246094\" xlink:href=\"#DejaVuSans-48\"/>\n       <use x=\"190.869141\" xlink:href=\"#DejaVuSans-48\"/>\n      </g>\n     </g>\n    </g>\n    <g id=\"ytick_8\">\n     <g id=\"line2d_13\">\n      <g>\n       <use style=\"stroke:#000000;stroke-width:0.8;\" x=\"39.65\" xlink:href=\"#m05427e1c1f\" y=\"43.326679\"/>\n      </g>\n     </g>\n     <g id=\"text_13\">\n      <!-- 1400 -->\n      <g transform=\"translate(7.2 47.125898)scale(0.1 -0.1)\">\n       <use xlink:href=\"#DejaVuSans-49\"/>\n       <use x=\"63.623047\" xlink:href=\"#DejaVuSans-52\"/>\n       <use x=\"127.246094\" xlink:href=\"#DejaVuSans-48\"/>\n       <use x=\"190.869141\" xlink:href=\"#DejaVuSans-48\"/>\n      </g>\n     </g>\n    </g>\n    <g id=\"ytick_9\">\n     <g id=\"line2d_14\">\n      <g>\n       <use style=\"stroke:#000000;stroke-width:0.8;\" x=\"39.65\" xlink:href=\"#m05427e1c1f\" y=\"17.424776\"/>\n      </g>\n     </g>\n     <g id=\"text_14\">\n      <!-- 1600 -->\n      <g transform=\"translate(7.2 21.223995)scale(0.1 -0.1)\">\n       <use xlink:href=\"#DejaVuSans-49\"/>\n       <use x=\"63.623047\" xlink:href=\"#DejaVuSans-54\"/>\n       <use x=\"127.246094\" xlink:href=\"#DejaVuSans-48\"/>\n       <use x=\"190.869141\" xlink:href=\"#DejaVuSans-48\"/>\n      </g>\n     </g>\n    </g>\n   </g>\n   <g id=\"patch_13\">\n    <path d=\"M 39.65 224.64 \nL 39.65 7.2 \n\" style=\"fill:none;stroke:#000000;stroke-linecap:square;stroke-linejoin:miter;stroke-width:0.8;\"/>\n   </g>\n   <g id=\"patch_14\">\n    <path d=\"M 374.45 224.64 \nL 374.45 7.2 \n\" style=\"fill:none;stroke:#000000;stroke-linecap:square;stroke-linejoin:miter;stroke-width:0.8;\"/>\n   </g>\n   <g id=\"patch_15\">\n    <path d=\"M 39.65 224.64 \nL 374.45 224.64 \n\" style=\"fill:none;stroke:#000000;stroke-linecap:square;stroke-linejoin:miter;stroke-width:0.8;\"/>\n   </g>\n   <g id=\"patch_16\">\n    <path d=\"M 39.65 7.2 \nL 374.45 7.2 \n\" style=\"fill:none;stroke:#000000;stroke-linecap:square;stroke-linejoin:miter;stroke-width:0.8;\"/>\n   </g>\n  </g>\n </g>\n <defs>\n  <clipPath id=\"p1c97b7fcc3\">\n   <rect height=\"217.44\" width=\"334.8\" x=\"39.65\" y=\"7.2\"/>\n  </clipPath>\n </defs>\n</svg>\n",
      "image/png": "[encoded data removed]"
     },
     "metadata": {
      "needs_background": "light"
     }
    }
   ],
   "source": [
    "degrees = [G.degree(n, weight='w') for n in G.nodes()]\n",
    "plt.hist(degrees)\n",
    "plt.show()"
   ]
  },
  {
   "cell_type": "code",
   "execution_count": 84,
   "metadata": {},
   "outputs": [
    {
     "output_type": "execute_result",
     "data": {
      "text/plain": "4295"
     },
     "metadata": {},
     "execution_count": 84
    }
   ],
   "source": [
    "max(degrees)"
   ]
  },
  {
   "cell_type": "code",
   "execution_count": 85,
   "metadata": {},
   "outputs": [
    {
     "output_type": "execute_result",
     "data": {
      "text/plain": "[('salt-licker', 4295),\n ('pgodzin', 4253),\n ('victorkab', 4248),\n ('chriskanan', 4242),\n ('brianr', 4236),\n ('dford10', 4236),\n ('dlngdn', 4236),\n ('schneidmaster', 4236),\n ('ac-fd', 4236),\n ('kevinwuhoo', 4236)]"
     },
     "metadata": {},
     "execution_count": 85
    }
   ],
   "source": [
    "sorted(G.degree(weight='w'), key=lambda x: x[1], reverse=True)[0:10]"
   ]
  },
  {
   "source": [
    "## Graph density"
   ],
   "cell_type": "markdown",
   "metadata": {}
  },
  {
   "cell_type": "code",
   "execution_count": 86,
   "metadata": {},
   "outputs": [
    {
     "output_type": "execute_result",
     "data": {
      "text/plain": "0.17499780993669115"
     },
     "metadata": {},
     "execution_count": 86
    }
   ],
   "source": [
    "nx.density(G)"
   ]
  },
  {
   "source": [
    "## Hours histogram"
   ],
   "cell_type": "markdown",
   "metadata": {}
  },
  {
   "cell_type": "code",
   "execution_count": 114,
   "metadata": {},
   "outputs": [],
   "source": [
    "most_active_users = sorted(G.degree(weight='w'), key=lambda x: x[1], reverse=True)[0:10]\n",
    "most_active_users = list(map(lambda x: x[0], most_active_users))\n",
    "most_active_users = list(map(lambda x: users[x], most_active_users))"
   ]
  },
  {
   "cell_type": "code",
   "execution_count": 118,
   "metadata": {},
   "outputs": [],
   "source": [
    "hours = list(map(lambda x: list(map(lambda y: y.time.hour, x.comments)), most_active_users))\n",
    "hours = [item for sublist in hours for item in sublist]\n",
    "# hours = list(map(lambda x: x.time.hour, most_active_user.comments))"
   ]
  },
  {
   "cell_type": "code",
   "execution_count": 119,
   "metadata": {},
   "outputs": [
    {
     "output_type": "execute_result",
     "data": {
      "text/plain": "98"
     },
     "metadata": {},
     "execution_count": 119
    }
   ],
   "source": [
    "len(hours)"
   ]
  },
  {
   "cell_type": "code",
   "execution_count": 120,
   "metadata": {},
   "outputs": [
    {
     "output_type": "display_data",
     "data": {
      "text/plain": "<Figure size 432x288 with 1 Axes>",
      "image/svg+xml": "<?xml version=\"1.0\" encoding=\"utf-8\" standalone=\"no\"?>\n<!DOCTYPE svg PUBLIC \"-//W3C//DTD SVG 1.1//EN\"\n  \"http://www.w3.org/Graphics/SVG/1.1/DTD/svg11.dtd\">\n<!-- Created with matplotlib (https://matplotlib.org/) -->\n<svg height=\"248.518125pt\" version=\"1.1\" viewBox=\"0 0 368.925 248.518125\" width=\"368.925pt\" xmlns=\"http://www.w3.org/2000/svg\" xmlns:xlink=\"http://www.w3.org/1999/xlink\">\n <metadata>\n  <rdf:RDF xmlns:cc=\"http://creativecommons.org/ns#\" xmlns:dc=\"http://purl.org/dc/elements/1.1/\" xmlns:rdf=\"http://www.w3.org/1999/02/22-rdf-syntax-ns#\">\n   <cc:Work>\n    <dc:type rdf:resource=\"http://purl.org/dc/dcmitype/StillImage\"/>\n    <dc:date>2020-09-24T14:01:44.462337</dc:date>\n    <dc:format>image/svg+xml</dc:format>\n    <dc:creator>\n     <cc:Agent>\n      <dc:title>Matplotlib v3.3.2, https://matplotlib.org/</dc:title>\n     </cc:Agent>\n    </dc:creator>\n   </cc:Work>\n  </rdf:RDF>\n </metadata>\n <defs>\n  <style type=\"text/css\">*{stroke-linecap:butt;stroke-linejoin:round;}</style>\n </defs>\n <g id=\"figure_1\">\n  <g id=\"patch_1\">\n   <path d=\"M -0 248.518125 \nL 368.925 248.518125 \nL 368.925 0 \nL -0 0 \nz\n\" style=\"fill:none;\"/>\n  </g>\n  <g id=\"axes_1\">\n   <g id=\"patch_2\">\n    <path d=\"M 26.925 224.64 \nL 361.725 224.64 \nL 361.725 7.2 \nL 26.925 7.2 \nz\n\" style=\"fill:#ffffff;\"/>\n   </g>\n   <g id=\"patch_3\">\n    <path clip-path=\"url(#p82ab8f324d)\" d=\"M 42.143182 224.64 \nL 72.579545 224.64 \nL 72.579545 169.417143 \nL 42.143182 169.417143 \nz\n\" style=\"fill:#1f77b4;\"/>\n   </g>\n   <g id=\"patch_4\">\n    <path clip-path=\"url(#p82ab8f324d)\" d=\"M 72.579545 224.64 \nL 103.015909 224.64 \nL 103.015909 203.931429 \nL 72.579545 203.931429 \nz\n\" style=\"fill:#1f77b4;\"/>\n   </g>\n   <g id=\"patch_5\">\n    <path clip-path=\"url(#p82ab8f324d)\" d=\"M 103.015909 224.64 \nL 133.452273 224.64 \nL 133.452273 224.64 \nL 103.015909 224.64 \nz\n\" style=\"fill:#1f77b4;\"/>\n   </g>\n   <g id=\"patch_6\">\n    <path clip-path=\"url(#p82ab8f324d)\" d=\"M 133.452273 224.64 \nL 163.888636 224.64 \nL 163.888636 197.028571 \nL 133.452273 197.028571 \nz\n\" style=\"fill:#1f77b4;\"/>\n   </g>\n   <g id=\"patch_7\">\n    <path clip-path=\"url(#p82ab8f324d)\" d=\"M 163.888636 224.64 \nL 194.325 224.64 \nL 194.325 217.737143 \nL 163.888636 217.737143 \nz\n\" style=\"fill:#1f77b4;\"/>\n   </g>\n   <g id=\"patch_8\">\n    <path clip-path=\"url(#p82ab8f324d)\" d=\"M 194.325 224.64 \nL 224.761364 224.64 \nL 224.761364 203.931429 \nL 194.325 203.931429 \nz\n\" style=\"fill:#1f77b4;\"/>\n   </g>\n   <g id=\"patch_9\">\n    <path clip-path=\"url(#p82ab8f324d)\" d=\"M 224.761364 224.64 \nL 255.197727 224.64 \nL 255.197727 190.125714 \nL 224.761364 190.125714 \nz\n\" style=\"fill:#1f77b4;\"/>\n   </g>\n   <g id=\"patch_10\">\n    <path clip-path=\"url(#p82ab8f324d)\" d=\"M 255.197727 224.64 \nL 285.634091 224.64 \nL 285.634091 17.554286 \nL 255.197727 17.554286 \nz\n\" style=\"fill:#1f77b4;\"/>\n   </g>\n   <g id=\"patch_11\">\n    <path clip-path=\"url(#p82ab8f324d)\" d=\"M 285.634091 224.64 \nL 316.070455 224.64 \nL 316.070455 93.485714 \nL 285.634091 93.485714 \nz\n\" style=\"fill:#1f77b4;\"/>\n   </g>\n   <g id=\"patch_12\">\n    <path clip-path=\"url(#p82ab8f324d)\" d=\"M 316.070455 224.64 \nL 346.506818 224.64 \nL 346.506818 52.068571 \nL 316.070455 52.068571 \nz\n\" style=\"fill:#1f77b4;\"/>\n   </g>\n   <g id=\"matplotlib.axis_1\">\n    <g id=\"xtick_1\">\n     <g id=\"line2d_1\">\n      <defs>\n       <path d=\"M 0 0 \nL 0 3.5 \n\" id=\"m7eaec7e762\" style=\"stroke:#000000;stroke-width:0.8;\"/>\n      </defs>\n      <g>\n       <use style=\"stroke:#000000;stroke-width:0.8;\" x=\"42.143182\" xlink:href=\"#m7eaec7e762\" y=\"224.64\"/>\n      </g>\n     </g>\n     <g id=\"text_1\">\n      <!-- 0 -->\n      <g transform=\"translate(38.961932 239.238437)scale(0.1 -0.1)\">\n       <defs>\n        <path d=\"M 31.78125 66.40625 \nQ 24.171875 66.40625 20.328125 58.90625 \nQ 16.5 51.421875 16.5 36.375 \nQ 16.5 21.390625 20.328125 13.890625 \nQ 24.171875 6.390625 31.78125 6.390625 \nQ 39.453125 6.390625 43.28125 13.890625 \nQ 47.125 21.390625 47.125 36.375 \nQ 47.125 51.421875 43.28125 58.90625 \nQ 39.453125 66.40625 31.78125 66.40625 \nz\nM 31.78125 74.21875 \nQ 44.046875 74.21875 50.515625 64.515625 \nQ 56.984375 54.828125 56.984375 36.375 \nQ 56.984375 17.96875 50.515625 8.265625 \nQ 44.046875 -1.421875 31.78125 -1.421875 \nQ 19.53125 -1.421875 13.0625 8.265625 \nQ 6.59375 17.96875 6.59375 36.375 \nQ 6.59375 54.828125 13.0625 64.515625 \nQ 19.53125 74.21875 31.78125 74.21875 \nz\n\" id=\"DejaVuSans-48\"/>\n       </defs>\n       <use xlink:href=\"#DejaVuSans-48\"/>\n      </g>\n     </g>\n    </g>\n    <g id=\"xtick_2\">\n     <g id=\"line2d_2\">\n      <g>\n       <use style=\"stroke:#000000;stroke-width:0.8;\" x=\"108.30919\" xlink:href=\"#m7eaec7e762\" y=\"224.64\"/>\n      </g>\n     </g>\n     <g id=\"text_2\">\n      <!-- 5 -->\n      <g transform=\"translate(105.12794 239.238437)scale(0.1 -0.1)\">\n       <defs>\n        <path d=\"M 10.796875 72.90625 \nL 49.515625 72.90625 \nL 49.515625 64.59375 \nL 19.828125 64.59375 \nL 19.828125 46.734375 \nQ 21.96875 47.46875 24.109375 47.828125 \nQ 26.265625 48.1875 28.421875 48.1875 \nQ 40.625 48.1875 47.75 41.5 \nQ 54.890625 34.8125 54.890625 23.390625 \nQ 54.890625 11.625 47.5625 5.09375 \nQ 40.234375 -1.421875 26.90625 -1.421875 \nQ 22.3125 -1.421875 17.546875 -0.640625 \nQ 12.796875 0.140625 7.71875 1.703125 \nL 7.71875 11.625 \nQ 12.109375 9.234375 16.796875 8.0625 \nQ 21.484375 6.890625 26.703125 6.890625 \nQ 35.15625 6.890625 40.078125 11.328125 \nQ 45.015625 15.765625 45.015625 23.390625 \nQ 45.015625 31 40.078125 35.4375 \nQ 35.15625 39.890625 26.703125 39.890625 \nQ 22.75 39.890625 18.8125 39.015625 \nQ 14.890625 38.140625 10.796875 36.28125 \nz\n\" id=\"DejaVuSans-53\"/>\n       </defs>\n       <use xlink:href=\"#DejaVuSans-53\"/>\n      </g>\n     </g>\n    </g>\n    <g id=\"xtick_3\">\n     <g id=\"line2d_3\">\n      <g>\n       <use style=\"stroke:#000000;stroke-width:0.8;\" x=\"174.475198\" xlink:href=\"#m7eaec7e762\" y=\"224.64\"/>\n      </g>\n     </g>\n     <g id=\"text_3\">\n      <!-- 10 -->\n      <g transform=\"translate(168.112698 239.238437)scale(0.1 -0.1)\">\n       <defs>\n        <path d=\"M 12.40625 8.296875 \nL 28.515625 8.296875 \nL 28.515625 63.921875 \nL 10.984375 60.40625 \nL 10.984375 69.390625 \nL 28.421875 72.90625 \nL 38.28125 72.90625 \nL 38.28125 8.296875 \nL 54.390625 8.296875 \nL 54.390625 0 \nL 12.40625 0 \nz\n\" id=\"DejaVuSans-49\"/>\n       </defs>\n       <use xlink:href=\"#DejaVuSans-49\"/>\n       <use x=\"63.623047\" xlink:href=\"#DejaVuSans-48\"/>\n      </g>\n     </g>\n    </g>\n    <g id=\"xtick_4\">\n     <g id=\"line2d_4\">\n      <g>\n       <use style=\"stroke:#000000;stroke-width:0.8;\" x=\"240.641206\" xlink:href=\"#m7eaec7e762\" y=\"224.64\"/>\n      </g>\n     </g>\n     <g id=\"text_4\">\n      <!-- 15 -->\n      <g transform=\"translate(234.278706 239.238437)scale(0.1 -0.1)\">\n       <use xlink:href=\"#DejaVuSans-49\"/>\n       <use x=\"63.623047\" xlink:href=\"#DejaVuSans-53\"/>\n      </g>\n     </g>\n    </g>\n    <g id=\"xtick_5\">\n     <g id=\"line2d_5\">\n      <g>\n       <use style=\"stroke:#000000;stroke-width:0.8;\" x=\"306.807213\" xlink:href=\"#m7eaec7e762\" y=\"224.64\"/>\n      </g>\n     </g>\n     <g id=\"text_5\">\n      <!-- 20 -->\n      <g transform=\"translate(300.444713 239.238437)scale(0.1 -0.1)\">\n       <defs>\n        <path d=\"M 19.1875 8.296875 \nL 53.609375 8.296875 \nL 53.609375 0 \nL 7.328125 0 \nL 7.328125 8.296875 \nQ 12.9375 14.109375 22.625 23.890625 \nQ 32.328125 33.6875 34.8125 36.53125 \nQ 39.546875 41.84375 41.421875 45.53125 \nQ 43.3125 49.21875 43.3125 52.78125 \nQ 43.3125 58.59375 39.234375 62.25 \nQ 35.15625 65.921875 28.609375 65.921875 \nQ 23.96875 65.921875 18.8125 64.3125 \nQ 13.671875 62.703125 7.8125 59.421875 \nL 7.8125 69.390625 \nQ 13.765625 71.78125 18.9375 73 \nQ 24.125 74.21875 28.421875 74.21875 \nQ 39.75 74.21875 46.484375 68.546875 \nQ 53.21875 62.890625 53.21875 53.421875 \nQ 53.21875 48.921875 51.53125 44.890625 \nQ 49.859375 40.875 45.40625 35.40625 \nQ 44.1875 33.984375 37.640625 27.21875 \nQ 31.109375 20.453125 19.1875 8.296875 \nz\n\" id=\"DejaVuSans-50\"/>\n       </defs>\n       <use xlink:href=\"#DejaVuSans-50\"/>\n       <use x=\"63.623047\" xlink:href=\"#DejaVuSans-48\"/>\n      </g>\n     </g>\n    </g>\n   </g>\n   <g id=\"matplotlib.axis_2\">\n    <g id=\"ytick_1\">\n     <g id=\"line2d_6\">\n      <defs>\n       <path d=\"M 0 0 \nL -3.5 0 \n\" id=\"m1116992d98\" style=\"stroke:#000000;stroke-width:0.8;\"/>\n      </defs>\n      <g>\n       <use style=\"stroke:#000000;stroke-width:0.8;\" x=\"26.925\" xlink:href=\"#m1116992d98\" y=\"224.64\"/>\n      </g>\n     </g>\n     <g id=\"text_6\">\n      <!-- 0 -->\n      <g transform=\"translate(13.5625 228.439219)scale(0.1 -0.1)\">\n       <use xlink:href=\"#DejaVuSans-48\"/>\n      </g>\n     </g>\n    </g>\n    <g id=\"ytick_2\">\n     <g id=\"line2d_7\">\n      <g>\n       <use style=\"stroke:#000000;stroke-width:0.8;\" x=\"26.925\" xlink:href=\"#m1116992d98\" y=\"190.125714\"/>\n      </g>\n     </g>\n     <g id=\"text_7\">\n      <!-- 5 -->\n      <g transform=\"translate(13.5625 193.924933)scale(0.1 -0.1)\">\n       <use xlink:href=\"#DejaVuSans-53\"/>\n      </g>\n     </g>\n    </g>\n    <g id=\"ytick_3\">\n     <g id=\"line2d_8\">\n      <g>\n       <use style=\"stroke:#000000;stroke-width:0.8;\" x=\"26.925\" xlink:href=\"#m1116992d98\" y=\"155.611429\"/>\n      </g>\n     </g>\n     <g id=\"text_8\">\n      <!-- 10 -->\n      <g transform=\"translate(7.2 159.410647)scale(0.1 -0.1)\">\n       <use xlink:href=\"#DejaVuSans-49\"/>\n       <use x=\"63.623047\" xlink:href=\"#DejaVuSans-48\"/>\n      </g>\n     </g>\n    </g>\n    <g id=\"ytick_4\">\n     <g id=\"line2d_9\">\n      <g>\n       <use style=\"stroke:#000000;stroke-width:0.8;\" x=\"26.925\" xlink:href=\"#m1116992d98\" y=\"121.097143\"/>\n      </g>\n     </g>\n     <g id=\"text_9\">\n      <!-- 15 -->\n      <g transform=\"translate(7.2 124.896362)scale(0.1 -0.1)\">\n       <use xlink:href=\"#DejaVuSans-49\"/>\n       <use x=\"63.623047\" xlink:href=\"#DejaVuSans-53\"/>\n      </g>\n     </g>\n    </g>\n    <g id=\"ytick_5\">\n     <g id=\"line2d_10\">\n      <g>\n       <use style=\"stroke:#000000;stroke-width:0.8;\" x=\"26.925\" xlink:href=\"#m1116992d98\" y=\"86.582857\"/>\n      </g>\n     </g>\n     <g id=\"text_10\">\n      <!-- 20 -->\n      <g transform=\"translate(7.2 90.382076)scale(0.1 -0.1)\">\n       <use xlink:href=\"#DejaVuSans-50\"/>\n       <use x=\"63.623047\" xlink:href=\"#DejaVuSans-48\"/>\n      </g>\n     </g>\n    </g>\n    <g id=\"ytick_6\">\n     <g id=\"line2d_11\">\n      <g>\n       <use style=\"stroke:#000000;stroke-width:0.8;\" x=\"26.925\" xlink:href=\"#m1116992d98\" y=\"52.068571\"/>\n      </g>\n     </g>\n     <g id=\"text_11\">\n      <!-- 25 -->\n      <g transform=\"translate(7.2 55.86779)scale(0.1 -0.1)\">\n       <use xlink:href=\"#DejaVuSans-50\"/>\n       <use x=\"63.623047\" xlink:href=\"#DejaVuSans-53\"/>\n      </g>\n     </g>\n    </g>\n    <g id=\"ytick_7\">\n     <g id=\"line2d_12\">\n      <g>\n       <use style=\"stroke:#000000;stroke-width:0.8;\" x=\"26.925\" xlink:href=\"#m1116992d98\" y=\"17.554286\"/>\n      </g>\n     </g>\n     <g id=\"text_12\">\n      <!-- 30 -->\n      <g transform=\"translate(7.2 21.353504)scale(0.1 -0.1)\">\n       <defs>\n        <path d=\"M 40.578125 39.3125 \nQ 47.65625 37.796875 51.625 33 \nQ 55.609375 28.21875 55.609375 21.1875 \nQ 55.609375 10.40625 48.1875 4.484375 \nQ 40.765625 -1.421875 27.09375 -1.421875 \nQ 22.515625 -1.421875 17.65625 -0.515625 \nQ 12.796875 0.390625 7.625 2.203125 \nL 7.625 11.71875 \nQ 11.71875 9.328125 16.59375 8.109375 \nQ 21.484375 6.890625 26.8125 6.890625 \nQ 36.078125 6.890625 40.9375 10.546875 \nQ 45.796875 14.203125 45.796875 21.1875 \nQ 45.796875 27.640625 41.28125 31.265625 \nQ 36.765625 34.90625 28.71875 34.90625 \nL 20.21875 34.90625 \nL 20.21875 43.015625 \nL 29.109375 43.015625 \nQ 36.375 43.015625 40.234375 45.921875 \nQ 44.09375 48.828125 44.09375 54.296875 \nQ 44.09375 59.90625 40.109375 62.90625 \nQ 36.140625 65.921875 28.71875 65.921875 \nQ 24.65625 65.921875 20.015625 65.03125 \nQ 15.375 64.15625 9.8125 62.3125 \nL 9.8125 71.09375 \nQ 15.4375 72.65625 20.34375 73.4375 \nQ 25.25 74.21875 29.59375 74.21875 \nQ 40.828125 74.21875 47.359375 69.109375 \nQ 53.90625 64.015625 53.90625 55.328125 \nQ 53.90625 49.265625 50.4375 45.09375 \nQ 46.96875 40.921875 40.578125 39.3125 \nz\n\" id=\"DejaVuSans-51\"/>\n       </defs>\n       <use xlink:href=\"#DejaVuSans-51\"/>\n       <use x=\"63.623047\" xlink:href=\"#DejaVuSans-48\"/>\n      </g>\n     </g>\n    </g>\n   </g>\n   <g id=\"patch_13\">\n    <path d=\"M 26.925 224.64 \nL 26.925 7.2 \n\" style=\"fill:none;stroke:#000000;stroke-linecap:square;stroke-linejoin:miter;stroke-width:0.8;\"/>\n   </g>\n   <g id=\"patch_14\">\n    <path d=\"M 361.725 224.64 \nL 361.725 7.2 \n\" style=\"fill:none;stroke:#000000;stroke-linecap:square;stroke-linejoin:miter;stroke-width:0.8;\"/>\n   </g>\n   <g id=\"patch_15\">\n    <path d=\"M 26.925 224.64 \nL 361.725 224.64 \n\" style=\"fill:none;stroke:#000000;stroke-linecap:square;stroke-linejoin:miter;stroke-width:0.8;\"/>\n   </g>\n   <g id=\"patch_16\">\n    <path d=\"M 26.925 7.2 \nL 361.725 7.2 \n\" style=\"fill:none;stroke:#000000;stroke-linecap:square;stroke-linejoin:miter;stroke-width:0.8;\"/>\n   </g>\n  </g>\n </g>\n <defs>\n  <clipPath id=\"p82ab8f324d\">\n   <rect height=\"217.44\" width=\"334.8\" x=\"26.925\" y=\"7.2\"/>\n  </clipPath>\n </defs>\n</svg>\n",
      "image/png": "[encoded data removed]"
     },
     "metadata": {
      "needs_background": "light"
     }
    }
   ],
   "source": [
    "plt.hist(hours)\n",
    "plt.show()"
   ]
  },
  {
   "cell_type": "code",
   "execution_count": 122,
   "metadata": {},
   "outputs": [
    {
     "output_type": "execute_result",
     "data": {
      "text/plain": "1,\n 'pcrivella': 0.0002573793001645862,\n 'jmarks1992': 0.00026226674483775656,\n 'mickael_mas': 0.00026226674483775656,\n 'asarkar': 0.0004101767354993739,\n 'carlreid': 0.0002714534984348532,\n 'tlrobinson': 0.000569023013971213,\n 'thorprichard': 0.00023091286619038372,\n 'chrisquinnr': 0.00023133078847186034,\n 'iopeak': 0.0005581363546624308,\n 'witwiwaldo': 0.0002765863088606358,\n 'nationalrobotic': 0.0009222577826342585,\n 'framer': 0.00025264257450173755,\n 'zwieback': 0.0002267209146581838,\n 'carlsborg': 0.00014584709688995523,\n 'SanderMak': 0.0002634998863912823,\n 'ecjob': 0.0003425900787632055,\n 'tyscorp': 0.0005479866569355038,\n 'luminaobscura': 7.349431617725714e-05,\n 'mcgin': 0.00025264257450173755,\n 'dugjason': 0.0005593348815528468,\n 'autarch': 0.00042646226472420844,\n 'digitalcrafts': 0.0002336055876939931,\n 'aiCeivi9': 5.170002994850085e-05,\n 'gfiorav': 0.00011899276393012305,\n 'longtermd': 0.00022448452742184803,\n 'runemadsen': 5.980047451635648e-05,\n 'mertens': 0.0002300446007970322,\n 'kords': 5.43359422162207e-05,\n 'osamet67': 0.0002300446007970322,\n 'epkatz': 0.00025264257450173755,\n 'ejmck55': 0.0002336055876939931,\n 'heyitsguay': 0.0002886164200583999,\n 'HavenLife': 0.00023091286619038372,\n 'jennylee68': 6.639155405687886e-05,\n 'LatteLazy': 0.0005917500224159261,\n 'sam_lowry_': 0.00013921647784889175,\n 'martinbeta1': 0.00042738454427706786,\n 'HIP_HOP': 0.00011557752220536518,\n 'tyson-hudl': 0.00025264257450173755,\n 'maxbreaker': 0.0002300446007970322,\n 'jkthompson09': 0.0002765863088606358,\n 'dlngdn': 0.0009895502788371355,\n 'Inversechi': 0.0003613846368976814,\n '1st1': 9.837533433882379e-05,\n 'cnaughton': 0.00026226674483775656,\n 'wdas': 0.0004197668333157343,\n 'jscalisi': 0.0008305095140278748,\n 'mchr3k': 0.0002336055876939931,\n 'bluedevil2k': 0.00018172634494044798,\n 'Mattasher': 0.00025229164991183477,\n 'santoshalper': 9.199203672412423e-05,\n 'jmgray': 0.00023091286619038372,\n 'Merad': 0.0002831685017208206,\n 'realistcake': 6.407551025369849e-05,\n 'ryankicks': 0.0006415833764602058,\n 'wehriam': 0.0004283559595171854,\n 'giorgioz': 0.0001689922682373666,\n 'garysahota93': 9.849497629529542e-05,\n 'aviviano_nmr': 0.0003514558696592524,\n 'ian0': 0.00026008192638005915,\n 'tduchemin1': 0.0002300446007970322,\n 'ev0xmusic': 0.0003509547772427606,\n 'schneidmaster': 0.0009895502788371355,\n 'leighmcculloch': 0.00023091286619038372,\n 'flyinglizard': 0.00013663056544578026,\n 'sndigital': 0.0004669239104892581,\n 'mbown': 0.00025264257450173755,\n 'mattdennewitz': 0.0006514472592519339,\n 'chuckdnguyen': 0.0002300446007970322,\n 'gffbss': 0.0005022357717019832,\n 'agentile': 0.0008272845373691917,\n 'hckr_news': 7.523884187245536e-05,\n 'shubrich': 0.00023091286619038372,\n 'pozotron': 0.00026226674483775656,\n 'westoque': 0.00043105758776683714,\n 'karim': 0.0002765863088606358,\n 'stuckinaloop': 0.00023091286619038372,\n 'ctres': 0.0003942397415063414,\n 'rasikjain': 0.0003656346599628232,\n 'slics': 7.686854657534898e-05,\n 'alexbw': 0.00023004460079703216,\n 'llamataboot': 0.00019296492414216034,\n 'sandover': 0.0003821356185396204,\n 'buckatwork': 0.00010636809316535494,\n 'brendanmcd': 0.0003954473865889867,\n 'prithvi24': 9.837533433882379e-05,\n 'heinrichhartman': 0.0001716957463963273,\n 'robertk': 0.0002592605258431261,\n 'mmcdole': 0.00023091286619038372,\n 'n333': 0.0004046224997977577,\n 'qwilrleo': 0.0005022357717019832,\n 'rand-name-here': 7.548791568739203e-05,\n 'pgodzin': 0.001020733275127062,\n 'fancyremarker': 0.0004022063187247872,\n 'iStreamPlanet': 0.0005593348815528469,\n 'onebot': 5.8099568622352824e-05,\n 'smscott': 0.00023004460079703216,\n 'ajschumacher': 0.0004101767354993739,\n 'costarastrology': 0.0007455567555266326,\n 'blendergeek': 8.285949428513798e-05,\n 'Fleetio': 0.0005022357717019832,\n 'StriverGuy': 0.00026276618801804373,\n 'eries': 0.00011136919794556274,\n 'crimsonalucard': 0.00036152806958451487,\n 'matt_mb': 0.00038915635382513427,\n 'tryauuum': 7.303965669573576e-05,\n 'renbef': 0.0002765863088606358,\n 'ST_recruiting': 0.00026226674483775656,\n 'RocketSyntax': 0.00031133197833025874,\n 'shashankjain16': 0.00023004460079703216,\n 'xtracto': 0.000529189091810666,\n 'harshgupta': 7.818797079844297e-05,\n 'alri5': 0.00034478041487533297,\n 'jpopesculian': 0.00023326763035947515,\n 'knwang': 0.0002132941775462467,\n 'screensticky': 0.0002573793001645862,\n 'WorldPeas': 9.666845787455604e-05,\n 'misadamjanic': 0.0004101767354993739,\n 'jdoliner': 7.594122979271639e-05,\n 'bbhughes': 0.00044764655339319304,\n 'joshandrews': 0.00023091286619038377,\n 'fuzzythinker': 0.00038915635382513427,\n 'm0ther': 8.758056760750073e-05,\n 'danjm': 0.0005131692042133376,\n 'sahilamanu': 0.0002336055876939931,\n 'princehonest': 0.0008122916794627589,\n 'kasrak': 0.0008010099825155294,\n 'al_james': 0.0002573793001645862,\n 'alesdotio': 0.0004101767354993739,\n 'Areading314': 0.00017921129161633463,\n 'RedwoodPerf': 0.00038915635382513427,\n 'giantg2': 0.00026263634845207005,\n 'rpenchina': 0.0006986985496721278,\n 'djd20': 0.0003464958742162706,\n 'jairajs89': 0.000814808583827029,\n 'osprojects': 0.00013357937002177048,\n 'Michael_McLean': 0.0002765863088606358,\n 'lokimedes': 5.699083496416327e-05,\n 'toptaltalentacq': 9.065553687738419e-05,\n 'radikalus': 0.0002765863088606358,\n 'darkhorn': 0.00010930782448590983,\n 'jstrasner': 0.0006252950154318354,\n 'wgyn': 0.00022317849637362174,\n 'skool_': 0.0005593348815528468,\n 'EmielMols': 0.0002573793001645862,\n 'aneesh': 0.0002765863088606358,\n 'maroonblazer': 9.26933176097605e-05,\n 'NikolaeVarius': 0.0002058719397356533,\n 'slvrspoon': 0.0008261420310252386,\n 'nastya_geller': 0.0002622667448377565,\n 'andrei': 0.00023091286619038372,\n 'saadalem': 0.00033626193241385633,\n 'strateos': 0.000568650336422327,\n 'regus': 0.0002336055876939931,\n 'angelanson': 0.0002132941775462467,\n 'AIStealthmode': 0.0003821356185396204,\n 'ibains': 0.0002678770121112565,\n 'jasonhoyt': 0.00023091286619038377,\n 'aledalgrande': 9.908741659507432e-05,\n 'johnnymonster': 0.0004445313092885769,\n 'ieldev': 0.0002526425745017375,\n 'pouta': 5.8089970031018115e-05,\n 'sgarg26': 0.00023337224795360226,\n 'aaronkaplan': 0.0002765863088606358,\n 'nickreffitt': 0.0002132941775462467,\n 'DE_Shaw': 0.0002765863088606358,\n 'wizzwizz4': 7.057471681974446e-05,\n 'ep103': 5.589129999971138e-05,\n 'qaq': 0.0001818505114009568,\n 'domenp': 0.0002622667448377565,\n 'andkenneth': 0.0002573793001645862,\n 'ruairidhwm': 0.00014660733722853206,\n 'gdeglin': 0.0007764439766545982,\n 'AdamRecruit': 0.00023091286619038377,\n 'spankalee': 0.000129871597998054,\n 'e8gy3': 0.0002622667448377565,\n 'alexzoltano': 0.00012872628649432838,\n 'devNoise': 5.1674412178414914e-05,\n 'SigmaHiring': 0.0002622667448377565,\n 'jl2718': 0.00032476673043423863,\n 'sagebird': 9.45866334715648e-05,\n 'WaxOnWaxOff': 0.0002573793001645862,\n 'sho': 7.793064105180644e-05,\n 'cpmurphy1980': 0.00023360558769399312,\n 'jgable': 5.6900250599165226e-05,\n 'databus': 4.6568751378284426e-05,\n 'nevon': 0.0005172677665790442,\n 'comrumino': 0.00023360558769399312,\n 'mobsquad': 0.0002765863088606358,\n 'otobrglez': 0.00021945699413996697,\n 'marceloabsousa': 0.0002698702660431244,\n 'Olivia_Bravado': 0.00025264257450173755,\n 'paullseaman': 0.00023004460079703216,\n 'cj': 0.00047413872459650745,\n 'monkey_slap': 0.0002622667448377565,\n 'hibbins': 0.0002573793001645862,\n 'cnj': 0.0004089316983910025,\n 'lancefisher': 0.00027014660045497684,\n 'Grainite': 0.00023360558769399312,\n 'Feedonomics': 0.00023091286619038377,\n 'ncTech': 0.00023091286619038377,\n 'worldlycitizen': 0.00038915635382513427,\n 'navbaker': 5.9204409011746155e-05,\n 'asfarley': 0.00010759526372670724,\n 'ac-fd': 0.0009895502788371355,\n 'nightvoomer': 0.0002622667448377565,\n 'alienhard': 0.0005172677665790441,\n 'kjajodia': 0.0004351233799397706,\n 'wallacemlu': 0.0004066218910456901,\n 'Thorbassen': 5.664712720826876e-05,\n 'machinelearning': 0.0002247387269165343,\n 'chrisseaton': 0.00027263666309183403,\n 'namrata13': 0.00023004460079703216,\n 'niphtio': 0.000392827585945036,\n 'ponker': 0.00030402818142329774,\n 'vindia': 0.0005479255963801618,\n 'danielpirciu': 0.00023004460079703216,\n 'jpoloney': 0.0004022063187247872,\n 'jbrunch': 0.00038213561853962043,\n 'alexk': 0.0003942397415063413,\n 'viziorec': 0.0002622667448377565,\n 'AmauryAer': 0.00021329417754624671,\n 'dazbradbury': 0.0005041029900778384,\n 'neeve': 0.0002622667448377565,\n 'vj44': 0.00042946976091765834,\n 'thrwn_frthr_awy': 8.190242123627473e-05,\n 'arkades': 0.00016152620709485006,\n 'greywolve': 0.0004905102820611792,\n 'trueaccjobs': 0.00035145586965925246,\n 'timanglade': 0.0006909816848821325,\n 'AlliePInfor': 0.0002573793001645862,\n 'jennifer-chan': 0.00026226674483775645,\n 'ajanuary': 0.00048761824693111184,\n 'rarrrrrr': 0.00023360558769399312,\n '_jayhack_': 0.00023176549164471405,\n 'freels': 0.00021329417754624671,\n 'Sezzle_Careers': 0.0002765863088606358,\n 'opdahl': 0.00023622829573482557,\n 'umarniz': 0.0007217486309416462,\n 'Naac': 0.00010095504030922163,\n 'sbrady12345': 0.00026226674483775645,\n 'audrinasablan21': 0.0004101767354993739,\n 'nsm': 0.00010150446647897502,\n 'ekanes': 0.0001347655542264514,\n 'samuelrozenberg': 0.00023004460079703216,\n 'robteix': 5.273989592576006e-05,\n 'romwil': 0.00026226674483775645,\n 'nubs': 0.0002765863088606358,\n 'lilfermat': 4.981897046267531e-05,\n 'scaryclam': 5.243470160741567e-05,\n 'songc': 0.0005311423894462955,\n 'theyCallMeSwift': 0.00026226674483775645,\n 'bruth': 0.0003970643040369009,\n 'cabreraustwo': 0.0002765863088606358,\n 'amrrs': 0.00012267373589818607,\n 'exnet': 0.0002573793001645862,\n 'jonathanbull': 0.0004214431564819619,\n 'ai2160': 0.00034259007876320547,\n 'jjazwiecki': 0.0002573793001645862,\n 'dangoor': 0.0006956806590323885,\n 'luciayhuang': 0.0002300446007970321,\n 'michellelychan': 9.827480360308756e-05,\n 'ingojoseph': 0.000544916304173759,\n 'jesalg': 0.0002351579149208187,\n 'TPAndy': 0.00025264257450173755,\n 'xero_recruit_to': 0.0002573793001645862,\n 'yanyinchoy': 0.0002573793001645862,\n 'thomasdowling': 0.00026226674483775645,\n 'axs221': 0.00026226674483775645,\n 'aantix': 0.0002389880073043388,\n 'spwestwood': 0.0002132941775462467,\n 'skampolon': 0.0004351233799397707,\n 'jtdev': 0.0002463646414771529,\n 'mitjam': 8.585026892963446e-05,\n 'mattlutze': 0.00025535377649722903,\n 'jasonrchaves': 0.00023091286619038382,\n 'StylightGmbH': 0.0003753515663421941,\n 'goatherders': 0.0006608794211623947,\n 'ublaze': 0.0004826894607622522,\n 'bob33212': 0.00013700746453408324,\n 'kishansudu': 0.00025264257450173755,\n 'kyledtc': 9.827480360308756e-05,\n 'notananthem': 0.0001099264454991762,\n 'brianwawok': 0.00028864438672368504,\n 'egypturnash': 0.0004393186509142828,\n 'datanerd': 5.23448901576878e-05,\n 'mvellandi': 5.239011107968381e-05,\n 'PraetorianSec': 0.0002765863088606358,\n 'aretec_ny': 0.0005022357717019831,\n 'qrt': 0.00041095056391369773,\n 'usctrojan415': 4.640396312888023e-05,\n 'm_ke': 0.00014048754157863262,\n 'kacy': 0.0002573793001645862,\n 'shangbang': 0.0006252950154318353,\n 'mailbackwards': 0.0002765863088606358,\n 'danji-us': 0.00021329417754624671,\n 'hiringatbravado': 0.00021329417754624671,\n 'shields-fn': 0.0002300446007970321,\n 'drodgers': 0.0002300446007970321,\n 'daltonrenaldo': 0.0002573793001645862,\n 'erichurkman': 0.0002649843234305456,\n 'Glench': 0.00010446468657435396,\n 'arobbins': 0.0005022357717019831,\n 'pruneii': 9.065553687738419e-05,\n 'jpalomaki': 0.00010158867800122801,\n 'sam_lucas': 0.00026226674483775645,\n 'fullstackmd': 6.117674489242606e-05,\n 'james-back': 0.0008122916794627589,\n 'elliotec': 0.00036131033321580157,\n 'paulmendoza': 0.00010203785019332076,\n 'bzmwillemsen': 0.00021329417754624671,\n 'arciini': 0.0002540123642121673,\n 'tomersabo': 0.0005593348815528469,\n '3dbrows': 0.0003549649529508971,\n 'kennu': 7.420601031537102e-05,\n 'justinmark869': 5.36542755708315e-05,\n 'TixoraCareers': 0.0002573793001645862,\n 'x110dc': 0.0006049693004769067,\n 'alexgodin': 0.0002573793001645862,\n 'holoduke': 0.0004664978199914245,\n 'Brophya77': 0.00023360558769399312,\n 'mnisjk2': 0.0002765863088606358,\n 'JoeAltmaier': 0.0006421960741702051,\n 'NotesandCoins': 0.00025264257450173755,\n 'dminor': 0.0005131692042133375,\n 'tonyha': 0.00026226674483775645,\n 'StealthSecurity': 0.00026226674483775645,\n 'mattnewport': 0.0002541737107628134,\n 'aketchum': 0.0005188848479418962,\n 'tkahnoski': 0.0002573793001645862,\n 'cuberick': 0.0003891563538251342,\n 'bruceleeable': 0.0003891563538251342,\n 'danecjensen': 0.00023360558769399312,\n 'abcofficial': 0.00021329417754624671,\n 'jhirshman': 0.0006514472592519339,\n 'ihti_': 0.00026226674483775645,\n 'type-2': 6.208889859297183e-05,\n 'pmart123': 7.036302875555638e-05,\n 'atrak': 0.0002573793001645862,\n 'konradbartecki': 9.126203957723057e-05,\n 'hmurraydavis': 0.0002622667448377564,\n 'tester34': 9.172768877843716e-05,\n 'kevinwuhoo': 0.0009895502788371353,\n 'swintegral': 0.00023091286619038382,\n 'frequent': 0.0002526425745017375,\n 'mikehauschild': 0.0002526425745017375,\n 'kait-truveris': 0.0002622667448377564,\n 'jingw222': 0.00010823444261003988,\n '4di': 0.00021329417754624671,\n 'canada_dry': 0.000221192624243089,\n 'Patski': 9.837533433882379e-05,\n 'Hpal2020': 5.030110688120341e-05,\n 'jph': 9.338999332179728e-05,\n 'adrianmonk': 0.00035108618029756536,\n 'wenbin': 9.097766944787476e-05,\n 'thill_joinroot': 0.0006514472592519339,\n 'haosdent': 0.0002573793001645862,\n 'petestaples': 0.0002573793001645862,\n 'ibz': 0.00023091286619038382,\n 'rocketux': 0.00023360558769399312,\n 'tn890': 5.0654265743645764e-05,\n 'data_ders': 9.625906598429432e-05,\n 'litcharts': 0.0002573793001645862,\n 'dalanmiller': 0.0002526425745017375,\n 'knottvicki': 0.0002622667448377564,\n 'melvinroest': 0.0003501218739869217,\n 'apoverton': 0.00021775070228896,\n 'volandovengo': 0.0002800897719123375,\n 'artur_makly': 0.00022489560117564255,\n 'avandenberg': 0.00021329417754624671,\n 'simonblack': 0.00019259136043493164,\n 'jackar': 0.0002573793001645862,\n 'evanwillms': 0.0002622667448377564,\n 'nicksnyder': 0.0009895502788371353,\n 'justinHustle': 0.00034259007876320547,\n 'ycombonator': 0.0002450347991623657,\n 'aloukissas': 0.00036343692914618644,\n 'epwschrock': 0.0003821356185396204,\n 'kanzure': 0.0005163620062711424,\n 'tdooner': 0.0002300446007970321,\n 'hef19898': 0.00021352732876767758,\n 'john1298': 4.6387944810893464e-05,\n 'caribousoup': 6.479133914068447e-05,\n 'chaserelock': 0.0002573793001645862,\n 'joshkrieger': 0.00025264257450173755,\n 'dcollien': 0.0002765863088606358,\n 'pnathan': 0.00026004364522940333,\n 'yoshyosh': 9.368601473501448e-05,\n 'aytanbenaderet': 0.00040462249979775764,\n 'mike-stewart': 0.0002622667448377564,\n 'mymmaster': 0.00025264257450173755,\n 'coverbuild': 0.0002622667448377564,\n 'adaly25': 0.0002300446007970321,\n 'sashavingardt2': 0.00021499343016311373,\n 'zenyc': 0.00023091286619038382,\n 'hackdna': 8.645772376814274e-05,\n 'clever123': 0.0003928275859450362,\n 'michaelschade': 5.793949055452983e-05,\n 'marius-s': 0.000553296121091188,\n 'antoncohen': 0.00017507772817661204,\n 'mattiasgunneras': 0.00025264257450173755,\n 'gregwebs': 0.00038372628283789284,\n 'CalChris': 0.0002585668484991259,\n 'knes': 9.793902760105318e-05,\n 'caseyrabiea': 0.00021329417754624671,\n 'vinniejames': 0.00034985701390805236,\n 'tersers': 0.00025720663245279495,\n 'Thomvis': 0.0003942397415063415,\n 'alexthornton': 0.000744907844642066,\n 'tristanperry': 6.744582938006276e-05,\n 'mildweed': 0.0002573793001645862,\n 'panoramas4good': 0.0002755194876668957,\n 'SteveAttentive': 0.0004476465533931931,\n 'paxys': 0.00039285778623936017,\n 'draw_down': 0.0004980986380536829,\n 'wil5for': 4.8330301650468425e-05,\n 'hgrice': 0.0002573793001645862,\n 'jordiborras': 0.00023091286619038382,\n '44Aman': 0.00021329417754624674,\n 'PES_2020': 0.00035145586965925246,\n 'andzwa': 9.192108755922763e-05,\n 'pmgrecruiting': 0.00023360558769399312,\n 'esilverberg2': 0.0007021947809889567,\n 'coziestSoup': 0.00023858401715497036,\n 'sabujp': 0.0003856692592773438,\n 'jxs822': 0.00026226674483775635,\n 'cangencer': 0.00023360558769399312,\n 'Renddslow': 0.0002765863088606358,\n 'andreygrehov': 0.00019892740439985575,\n 'bschrauth': 0.00023360558769399312,\n 'cvaidya1986': 0.00023492997488832457,\n 'stevecs': 0.0004936054714395945,\n 'moron4hire': 0.0003129572080521696,\n 'blargmaster33': 0.00020533391216684443,\n 'hendler': 0.00023091286619038382,\n 'diggan': 0.0002860012513732153,\n 'famousactress': 0.0007522064556316996,\n 'different_sort': 6.918175857670124e-05,\n 'flipp': 0.00014880350318208547,\n 'internalrec': 0.00026226674483775635,\n 'skellystudios': 0.0005775926378240357,\n 'vitruvian-form': 0.00026226674483775635,\n 'eugeneblue': 0.00035145586965925246,\n 'healsdata': 0.00026226674483775635,\n 'walterbell': 0.00023906230693770776,\n 'unholythree': 4.87573649475898e-05,\n 'swilson24': 0.00026226674483775635,\n 'cosuno': 0.0002765863088606358,\n 'tapad': 0.0007522064556316996,\n 'probinso': 0.00020417219618098107,\n 'izolate': 0.0001625384853440084,\n 'sharrington': 0.0005951474372817846,\n 'angelinedrc': 0.0003891563538251342,\n 'shiv-gettu': 0.00026226674483775635,\n 'adamhepner': 0.0003185039305276807,\n 'Sreyanth': 0.0002526425745017375,\n 'hatchIT': 0.00023360558769399312,\n 'bweisb': 0.0007008700042926402,\n 'blumomo': 0.00026992411005955153,\n 'loaneco_recruit': 0.0007618470612942308,\n 'simplezeal': 0.00023360558769399312,\n 'mvid': 9.508802026116946e-05,\n 'claireelizabeth': 0.0003891563538251342,\n 'rehashstudio': 0.00043512337993977093,\n 'DarkWiiPlayer': 0.00013579165195171705,\n '3fe9a03ccd14ca5': 0.0003547076862756581,\n 'eric0908': 0.00023360558769399312,\n 'elxavicio': 0.00041970137991767493,\n 'Pirate-of-SV': 5.1864102497827144e-05,\n 'mensetmanusman': 0.00048461167525119,\n 'pid_0': 0.00011546139567831864,\n 'dataking': 0.0002622667448377563,\n 'Schwolop': 0.0002789867579288978,\n 'benjaminf': 0.000344780414875333,\n 'Ingwersaft': 0.0002526425745017375,\n 'sytse': 0.0005871682818160887,\n 'benjaminnau': 0.0002622667448377563,\n 'VCrecruiting': 0.0002300446007970321,\n 'majewsky': 0.00018008203300947948,\n '72deluxe': 0.00012322540153921296,\n 'vinnymac': 0.0002573793001645862,\n 'heyshtor': 0.00015037684710999687,\n 'chriskanan': 0.0009990573919227837,\n 'monument_will': 0.000502235771701983,\n 'monihefele': 0.0002526425745017375,\n 'hellcow': 0.0002757697232016363,\n 'ri_hutch': 0.00039423974150634163,\n 'grumple': 0.0002817697837205794,\n 'erwincaco': 0.0001413509670022475,\n 'roshanj': 0.0002643859556386533,\n 'taf2': 0.0002487424082460353,\n 'kylixz': 0.00041095056391369773,\n 'dspearson': 0.00023091286619038382,\n 'baspland': 0.0002526425745017375,\n 'toomuchtodo': 0.00026468792103331195,\n 'dmak': 0.0004581917702360031,\n 'benvan': 0.0002573793001645862,\n 'CarePathsInc': 0.0003514558696592525,\n 'gremlinsinc': 0.00023409664529964517,\n 'jcashion': 0.0002573793001645862,\n 'rubyatsummer': 0.00035145586965925246,\n 'bgentry': 0.0004305334176332982,\n 'shutty': 0.0002622667448377563,\n 'DanFeldman': 0.0007129169899400754,\n 'hashemiabdullah': 0.0002622667448377563,\n 'bishi_c': 5.444892445834926e-05,\n 'falrach10': 0.0002526425745017375,\n 'edanm': 0.0001747181266943897,\n 'RoboTeddy': 0.00035921102617957247,\n 'thrownaway954': 0.0004945765790567933,\n 'alameda_hiring': 0.0002622667448377563,\n 'guido_usmc': 0.00041017673549937397,\n 'wyatt777': 4.526143929787787e-05,\n 'pudo': 0.0002526425745017375,\n 'mike_wz': 0.0002622667448377563,\n 'mkucia': 0.0004197668333157342,\n 'stephaniedeer': 0.0005037991027544801,\n 'a_ellis': 0.0002622667448377563,\n 'dmichulke': 0.00029724422311162797,\n 'sinac': 0.00023360558769399312,\n 'FpUser': 0.0004368026886622287,\n 'Nesze': 5.8430103559789665e-05,\n 'bkapoor': 0.0002526425745017375,\n 'rramsden': 0.000502235771701983,\n 'skillshare': 0.0003891563538251342,\n 'aroro': 0.0002526425745017375,\n 'sdalezman': 0.0002573793001645862,\n 'crucio': 0.0002435723288601619,\n 'jrdngonen': 0.0005974884572989564,\n 'zoomablemind': 0.00020861910631133596,\n 'themodelplumber': 0.00025293631063994274,\n 'jaxgeller': 0.0002526425745017375,\n 'emily_recruiter': 0.00023091286619038382,\n 'clavoie': 0.0003821356185396205,\n 'eqmvii': 0.000237090947017259,\n 'vaughnd': 0.0002622667448377563,\n ...}"
     },
     "metadata": {},
     "execution_count": 122
    }
   ],
   "source": [
    "nx.pagerank(G)"
   ]
  }
 ]
}